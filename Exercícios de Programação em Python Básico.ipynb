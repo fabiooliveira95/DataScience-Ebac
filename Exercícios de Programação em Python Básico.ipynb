{
 "cells": [
  {
   "cell_type": "markdown",
   "metadata": {
    "id": "SEE0vQsW83yB"
   },
   "source": [
    "### 01 - Teste de gravidez\n",
    "Escreva uma célula com controle de fluxos que tem como premissa a existência das seguintes variáveis:\n",
    "\n",
    "- ```sexo``` como ```str``` indicando os valores '**M**' para masculino e '**F**' para feminino  \n",
    "- ```beta_hcg``` que indica a quantidade do beta-HCG no sangue em mUI/mL.\n",
    "\n",
    "A sua tarefa é escrever um código que imprima como resultado \"indivíduo do sexo masculino\" quando sexo = 'M', caso sexo = 'F', se o valor de beta-HCG for maior que 5, retorne \"Positivo\" indicando que a paciente está grávida, e retorne \"Negativo\" caso contrário.\n",
    "\n",
    "Não mexa nos valores da variável ```sexo``` nem em ```beta_hcg```, e escreva um código que funcione para quaisquer valores possíveis de ambos: ```sexo``` = '**M**' ou '**F**' e ```beta_hcg``` assumindo valores inteiros positivos."
   ]
  },
  {
   "cell_type": "code",
   "execution_count": 3,
   "metadata": {
    "id": "cTOc4LG683yE"
   },
   "outputs": [
    {
     "name": "stdout",
     "output_type": "stream",
     "text": [
      "Você não está grávida\n"
     ]
    }
   ],
   "source": [
    "sexo = 'M'\n",
    "beta_hcg = 0\n",
    "\n",
    "# seu código vem abaixo desta linha\n",
    "if sexo == 'F' and beta_hcg > 5:\n",
    "    print(\"Você está grávida de um indivíduo do sexo feminino\")\n",
    "elif sexo == 'M' and beta_hcg > 5:\n",
    "    print(\"Você está grávida de um indivíduo do sexo masculino\")\n",
    "else:\n",
    "    print(\"Você não está grávida\")\n"
   ]
  },
  {
   "cell_type": "markdown",
   "metadata": {
    "id": "uCoIZDE383yF"
   },
   "source": [
    "### 02 - Renomeando variáveis\n",
    "\n",
    "Vamos ver adiante que uma forma de renomear variáveis de um conjunto de dados é através de dicionários - o dicionário deve conter como chave o nome original, associando a cada chave um único valor (tipo *str*) que contenha o nome novo.\n",
    "\n",
    "A sua tarefa é escrever um dicionário que possa ser utilizado para traduzir as variáveis ```name``` (nome), ```age``` (idade) e ```income``` (renda). Ou seja, esse dicionário deve relacionar as chaves *name, age* e *income* às suas respectivas traduções."
   ]
  },
  {
   "cell_type": "code",
   "execution_count": 6,
   "metadata": {
    "id": "Bh6ijpbu83yG",
    "outputId": "58fbd8da-ed1d-4e05-df85-041c821948f2"
   },
   "outputs": [
    {
     "data": {
      "text/plain": [
       "{'name': 'nome', 'age': 'idade', 'income': 'renda'}"
      ]
     },
     "execution_count": 6,
     "metadata": {},
     "output_type": "execute_result"
    }
   ],
   "source": [
    "dic_renomeacao = {'name': 'nome', 'age': 'idade', 'income': 'renda'}\n",
    "dic_renomeacao"
   ]
  },
  {
   "cell_type": "markdown",
   "metadata": {
    "id": "95zumO5g83yH"
   },
   "source": [
    "### 03 - É divisível?\n",
    "A sua tarefa é escrever um código que indique se um número ```N``` é divisível por um número P. Escreva um programa que faça essa verificação para quaisquer combinações de ```N``` e ```M``` e devolva uma mensagem indicativa no output."
   ]
  },
  {
   "cell_type": "code",
   "execution_count": 9,
   "metadata": {
    "id": "BR2zOhmN83yI"
   },
   "outputs": [
    {
     "name": "stdout",
     "output_type": "stream",
     "text": [
      "42 é divisível por 7\n"
     ]
    }
   ],
   "source": [
    "N = 42\n",
    "M = 7\n",
    "\n",
    "#Seu código\n",
    "if N % M == 0:\n",
    "    print(N, 'é divisível por', M)\n",
    "else:\n",
    "    print(N, 'não é divisível por', M)"
   ]
  },
  {
   "cell_type": "markdown",
   "metadata": {
    "id": "0d5Kdrz283yJ"
   },
   "source": [
    "### 04 - Números primos\n",
    "> Um número **N** é primo se e somente se é divisível por 1, -1, por **N** e por -**N**.  \n",
    "\n",
    "Escreva um script que verifica se ```N``` é um número primo, verificando se ```N``` é divisível por todos os números de ```1``` a ```N-1```. Você vai precisar usar alguma ferramenta de *loop* que você aprendeu para isto. No final, devolva uma mensagem no output indicando se o número é primo ou não."
   ]
  },
  {
   "cell_type": "code",
   "execution_count": 12,
   "metadata": {
    "id": "h_lFO-EO83yJ"
   },
   "outputs": [
    {
     "name": "stdout",
     "output_type": "stream",
     "text": [
      "47 é número primo\n"
     ]
    }
   ],
   "source": [
    "N = 47\n",
    "\n",
    "# seu código abaixo\n",
    "for i in range(2, N):\n",
    "    if N % i == 0:\n",
    "        print(N, \"não é número primo\")\n",
    "        break\n",
    "    else:\n",
    "        print(N, \"é número primo\")\n",
    "        break\n"
   ]
  },
  {
   "cell_type": "markdown",
   "metadata": {
    "id": "zHwDnURO83yK"
   },
   "source": [
    "### 05 - Desafio\n",
    "O algorítmo do exercício anterior não é o mais eficiente. O que você pode fazer para deixá-lo mais eficiente? Ou seja, executar menos comparações, portanto consumir menos tempo.\n",
    "1. Será que precisamos correr o loop até o final sempre?\n",
    "2. Será que precisamos mesmo verificar **todos** os números?\n",
    "3. Será que precisamos ir até N-1?\n",
    "\n",
    "Essas perguntas levam ao tipo de pensamento voltado a deixar um algoritmo mais eficiente. Veja se você consegue melhorar o seu."
   ]
  },
  {
   "cell_type": "code",
   "execution_count": 15,
   "metadata": {
    "id": "DDdwfZOL83yM"
   },
   "outputs": [
    {
     "name": "stdout",
     "output_type": "stream",
     "text": [
      "True\n",
      "49.0\n"
     ]
    }
   ],
   "source": [
    "N = 98\n",
    "divisivel = N % 2 == 0\n",
    "print(divisivel)\n",
    "if divisivel:\n",
    "    N = N / 2\n",
    "    print(N)"
   ]
  },
  {
   "cell_type": "markdown",
   "metadata": {
    "id": "4zhVSQan83yN"
   },
   "source": [
    "### 06 - Peso ideal 1\n",
    "O IMC (índice de massa corpórea) é um indicador de saúde mais bem aceito que o peso. Ele é calculado como:\n",
    "\n",
    "$$ IMC = \\dfrac{peso}{altura^2}$$\n",
    "\n",
    "Segundo a OMS, valores *normais* são entre 18.5 e 24.9.\n",
    "\n",
    "Sua tarefa é encontrar o ponto médio dessa faixa."
   ]
  },
  {
   "cell_type": "code",
   "execution_count": 18,
   "metadata": {
    "id": "3DzxicN983yO",
    "outputId": "6a947e58-88b2-4764-a9ca-717b971adb3d"
   },
   "outputs": [
    {
     "name": "stdout",
     "output_type": "stream",
     "text": [
      "O ponto médio da faixa normal do IMC é 21.7\n"
     ]
    }
   ],
   "source": [
    "imc_ideal1 = 18.5\n",
    "imc_ideal0 = 24.9\n",
    "\n",
    "ponto_medio = (imc_ideal0 + imc_ideal1) / 2\n",
    "print(f\"O ponto médio da faixa normal do IMC é {ponto_medio}\")\n"
   ]
  },
  {
   "cell_type": "markdown",
   "metadata": {
    "id": "Z8uBOym483yP"
   },
   "source": [
    "### 07 - Peso ideal 2\n",
    "Recebendo um valor de altura, encontre o peso '*ideal*' dessa pessoa, que fornece o IMC encontrado acima"
   ]
  },
  {
   "cell_type": "code",
   "execution_count": 21,
   "metadata": {
    "id": "rrNwycte83yP",
    "outputId": "0e63b2ff-3743-48c7-a472-b48a450a0867"
   },
   "outputs": [
    {
     "name": "stdout",
     "output_type": "stream",
     "text": [
      "1.7\n",
      "21.7\n"
     ]
    }
   ],
   "source": [
    "altura = 1.70\n",
    "\n",
    "peso_ideal1 = 18.5\n",
    "peso_ideal0 = 24.9\n",
    "\n",
    "ponto_medio = (peso_ideal1 + peso_ideal0) / 2\n",
    "print(altura)\n",
    "print(ponto_medio)"
   ]
  },
  {
   "cell_type": "markdown",
   "metadata": {
    "id": "zEdM6J_i83yP"
   },
   "source": [
    "### 08 - Peso ideal 3\n",
    "Dada uma lista contendo as alturas de pacientes, crie uma nova lista que contenha o peso '*ideal*' (que fornece o IMC calculado em **Peso ideal 1**) desses pacientes."
   ]
  },
  {
   "cell_type": "code",
   "execution_count": 24,
   "metadata": {
    "id": "KN1mB_My83yQ",
    "outputId": "f070d54d-c156-4546-e3c7-b5bc500059d9"
   },
   "outputs": [
    {
     "name": "stdout",
     "output_type": "stream",
     "text": [
      "[82.51424999999999, 91.19425, 62.712999999999994, 59.07824999999999]\n"
     ]
    }
   ],
   "source": [
    "lista_alturas = [1.95, 2.05, 1.70, 1.65]\n",
    "lista_peso_ideal = []\n",
    "\n",
    "imc_ideal = 21.7\n",
    "\n",
    "for altura in lista_alturas:\n",
    "    peso_ideal = imc_ideal * (altura ** 2)\n",
    "    lista_peso_ideal.append(peso_ideal)\n",
    "\n",
    "print(lista_peso_ideal)"
   ]
  },
  {
   "cell_type": "markdown",
   "metadata": {
    "id": "8OKAtYQM83yQ"
   },
   "source": [
    "### 09 - Peso ideal 4\n",
    "Dada uma lista de tuplas - cada elemento da lista é uma tupla contendo altura e peso de um paciente - crie uma nova lista com o IMC desses pacientes."
   ]
  },
  {
   "cell_type": "code",
   "execution_count": 27,
   "metadata": {
    "id": "FaXgkjzI83yQ",
    "outputId": "8adc5e59-8a72-42db-db6b-6895587e875e"
   },
   "outputs": [
    {
     "name": "stdout",
     "output_type": "stream",
     "text": [
      "[91.8]\n",
      "[91.8, 76.8]\n",
      "[91.8, 76.8, 71.8]\n",
      "[91.8, 76.8, 71.8, 91.65]\n",
      "[91.8, 76.8, 71.8, 91.65, 76.65]\n",
      "[91.8, 76.8, 71.8, 91.65, 76.65, 71.65]\n",
      "[91.8, 76.8, 71.8, 91.65, 76.65, 71.65, 91.91]\n",
      "[91.8, 76.8, 71.8, 91.65, 76.65, 71.65, 91.91, 76.91]\n",
      "[91.8, 76.8, 71.8, 91.65, 76.65, 71.65, 91.91, 76.91, 71.91]\n"
     ]
    }
   ],
   "source": [
    "altura_peso = [(1.80, 90), (1.65, 75), (1.91, 70)]\n",
    "\n",
    "imc = []\n",
    "imc_altura = [1.80, 1.65, 1.91]\n",
    "imc_peso = [90, 75, 70]\n",
    "for altura0 in imc_altura:\n",
    "    for altura1 in imc_peso:\n",
    "        imc.append(altura0 + altura1)\n",
    "        print(imc)\n"
   ]
  },
  {
   "cell_type": "markdown",
   "metadata": {
    "id": "kZdSJqJq83yR"
   },
   "source": [
    "### 10 - Peso ideal 5\n",
    "Dada uma lista de **listas** - cada elemento da lista é uma **lista** contendo altura e peso de um paciente, adicione mais um elemento à lista de cada paciente contendo o IMC do paciente. Verifique também se é 'baixo', 'normal' ou 'alto' segundo os padrões da OMS em que normal é entre 18.5 e 24.9.\n",
    "\n",
    "Reflexão: por que no problema anterior temos que criar uma nova lista, e não podemos adicionar os dados de cada indivíduo à tupla?"
   ]
  },
  {
   "cell_type": "code",
   "execution_count": 30,
   "metadata": {
    "id": "EwszojP283yR"
   },
   "outputs": [
    {
     "name": "stdout",
     "output_type": "stream",
     "text": [
      "Ponto médio do IMC: 21.7\n",
      "Pesos Ideais calculados: [70.308, 59.07824999999999, 79.16377]\n"
     ]
    }
   ],
   "source": [
    "altura_peso = [[1.80, 90], [1.65, 75], [1.91, 70]]\n",
    "\n",
    "imc_ideal0 = 18.5\n",
    "imc_ideal1 = 24.9\n",
    "\n",
    "ponto_medio = (imc_ideal0 + imc_ideal1) / 2\n",
    "print(\"Ponto médio do IMC:\", ponto_medio)\n",
    "\n",
    "pesos_ideais = []\n",
    "\n",
    "for altura, peso in altura_peso:\n",
    "    peso_ideal = ponto_medio * (altura ** 2)\n",
    "    pesos_ideais.append(peso_ideal)\n",
    "\n",
    "print(\"Pesos Ideais calculados:\", pesos_ideais)"
   ]
  },
  {
   "cell_type": "code",
   "execution_count": null,
   "metadata": {},
   "outputs": [],
   "source": []
  }
 ],
 "metadata": {
  "colab": {
   "collapsed_sections": [],
   "provenance": []
  },
  "kernelspec": {
   "display_name": "Python 3 (ipykernel)",
   "language": "python",
   "name": "python3"
  },
  "language_info": {
   "codemirror_mode": {
    "name": "ipython",
    "version": 3
   },
   "file_extension": ".py",
   "mimetype": "text/x-python",
   "name": "python",
   "nbconvert_exporter": "python",
   "pygments_lexer": "ipython3",
   "version": "3.12.7"
  }
 },
 "nbformat": 4,
 "nbformat_minor": 4
}
