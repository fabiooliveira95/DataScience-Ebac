{
 "cells": [
  {
   "cell_type": "markdown",
   "metadata": {
    "id": "eYvCczy6lTt7"
   },
   "source": [
    "# Livro para consulta:\n",
    "- https://jakevdp.github.io/PythonDataScienceHandbook/03.08-aggregation-and-grouping.html\n",
    "- https://jakevdp.github.io/PythonDataScienceHandbook/03.09-pivot-tables.html\n",
    "    "
   ]
  },
  {
   "cell_type": "markdown",
   "metadata": {
    "id": "oeWprAfnlTt-"
   },
   "source": [
    "# 1. Importando bibliotecas <a name=\"import\"></a>\n",
    "\n",
    "<div style=\"text-align: right\"\n",
    "     \n",
    "[Voltar ao índice](#Contents)"
   ]
  },
  {
   "cell_type": "code",
   "metadata": {
    "id": "y_9gYudilTt_",
    "ExecuteTime": {
     "end_time": "2024-12-19T22:17:49.724927Z",
     "start_time": "2024-12-19T22:17:49.714698Z"
    }
   },
   "source": [
    "import numpy as np\n",
    "import pandas as pd\n",
    "import seaborn as sns\n",
    "import matplotlib.pyplot as plt\n",
    "from urllib3 import request\n",
    "\n",
    "%matplotlib inline"
   ],
   "outputs": [],
   "execution_count": 1
  },
  {
   "cell_type": "code",
   "execution_count": null,
   "metadata": {
    "id": "1yNG4iFTlTuA"
   },
   "outputs": [],
   "source": []
  },
  {
   "cell_type": "markdown",
   "metadata": {
    "id": "-cpxC-IBlTuA"
   },
   "source": [
    "# 2. Carregando o dataframe SINASC <a name=\"read\"></a>\n",
    "<div style=\"text-align: right\"\n",
    "     \n",
    "[Voltar ao índice](#Contents)"
   ]
  },
  {
   "cell_type": "code",
   "metadata": {
    "scrolled": true,
    "id": "nQZn7u4DlTuB",
    "outputId": "74b44036-69d9-4139-b291-621d77ed331b",
    "ExecuteTime": {
     "end_time": "2024-12-19T22:17:49.851728Z",
     "start_time": "2024-12-19T22:17:49.736790Z"
    }
   },
   "source": [
    "sinasc_raw = pd.read_csv('SINASC_RO_2019.csv')\n",
    "sinasc_raw.head()"
   ],
   "outputs": [
    {
     "data": {
      "text/plain": [
       "   ORIGEM   CODESTAB  CODMUNNASC  LOCNASC  IDADEMAE  ESTCIVMAE  \\\n",
       "0       1  2679477.0      110001        1        19        5.0   \n",
       "1       1  2679477.0      110001        1        29        2.0   \n",
       "2       1  2679477.0      110001        1        37        9.0   \n",
       "3       1  2516500.0      110001        1        30        5.0   \n",
       "4       1  2516500.0      110001        1        30        2.0   \n",
       "\n",
       "            ESCMAE  CODOCUPMAE  QTDFILVIVO  QTDFILMORT  ...  KOTELCHUCK  \\\n",
       "0      8 a 11 anos         NaN         0.0         0.0  ...           5   \n",
       "1      8 a 11 anos    999992.0         1.0         0.0  ...           5   \n",
       "2      8 a 11 anos    513205.0         2.0         0.0  ...           5   \n",
       "3  12 anos ou mais    231205.0         0.0         0.0  ...           4   \n",
       "4      8 a 11 anos    999992.0         1.0         0.0  ...           5   \n",
       "\n",
       "  CONTADOR munResStatus munResTipo               munResNome  munResUf  \\\n",
       "0        1        ATIVO      MUNIC    Alta Floresta D'Oeste  Rondônia   \n",
       "1        2        ATIVO      MUNIC    Alta Floresta D'Oeste  Rondônia   \n",
       "2        3        ATIVO      MUNIC    Alta Floresta D'Oeste  Rondônia   \n",
       "3        4        ATIVO      MUNIC  Alto Alegre dos Parecis  Rondônia   \n",
       "4        5        ATIVO      MUNIC    Alta Floresta D'Oeste  Rondônia   \n",
       "\n",
       "   munResLat munResLon  munResAlt  munResArea  \n",
       "0  -11.93554 -61.99982      338.0    7067.025  \n",
       "1  -11.93554 -61.99982      338.0    7067.025  \n",
       "2  -11.93554 -61.99982      338.0    7067.025  \n",
       "3  -12.13178 -61.85308      397.0    3958.273  \n",
       "4  -11.93554 -61.99982      338.0    7067.025  \n",
       "\n",
       "[5 rows x 69 columns]"
      ],
      "text/html": [
       "<div>\n",
       "<style scoped>\n",
       "    .dataframe tbody tr th:only-of-type {\n",
       "        vertical-align: middle;\n",
       "    }\n",
       "\n",
       "    .dataframe tbody tr th {\n",
       "        vertical-align: top;\n",
       "    }\n",
       "\n",
       "    .dataframe thead th {\n",
       "        text-align: right;\n",
       "    }\n",
       "</style>\n",
       "<table border=\"1\" class=\"dataframe\">\n",
       "  <thead>\n",
       "    <tr style=\"text-align: right;\">\n",
       "      <th></th>\n",
       "      <th>ORIGEM</th>\n",
       "      <th>CODESTAB</th>\n",
       "      <th>CODMUNNASC</th>\n",
       "      <th>LOCNASC</th>\n",
       "      <th>IDADEMAE</th>\n",
       "      <th>ESTCIVMAE</th>\n",
       "      <th>ESCMAE</th>\n",
       "      <th>CODOCUPMAE</th>\n",
       "      <th>QTDFILVIVO</th>\n",
       "      <th>QTDFILMORT</th>\n",
       "      <th>...</th>\n",
       "      <th>KOTELCHUCK</th>\n",
       "      <th>CONTADOR</th>\n",
       "      <th>munResStatus</th>\n",
       "      <th>munResTipo</th>\n",
       "      <th>munResNome</th>\n",
       "      <th>munResUf</th>\n",
       "      <th>munResLat</th>\n",
       "      <th>munResLon</th>\n",
       "      <th>munResAlt</th>\n",
       "      <th>munResArea</th>\n",
       "    </tr>\n",
       "  </thead>\n",
       "  <tbody>\n",
       "    <tr>\n",
       "      <th>0</th>\n",
       "      <td>1</td>\n",
       "      <td>2679477.0</td>\n",
       "      <td>110001</td>\n",
       "      <td>1</td>\n",
       "      <td>19</td>\n",
       "      <td>5.0</td>\n",
       "      <td>8 a 11 anos</td>\n",
       "      <td>NaN</td>\n",
       "      <td>0.0</td>\n",
       "      <td>0.0</td>\n",
       "      <td>...</td>\n",
       "      <td>5</td>\n",
       "      <td>1</td>\n",
       "      <td>ATIVO</td>\n",
       "      <td>MUNIC</td>\n",
       "      <td>Alta Floresta D'Oeste</td>\n",
       "      <td>Rondônia</td>\n",
       "      <td>-11.93554</td>\n",
       "      <td>-61.99982</td>\n",
       "      <td>338.0</td>\n",
       "      <td>7067.025</td>\n",
       "    </tr>\n",
       "    <tr>\n",
       "      <th>1</th>\n",
       "      <td>1</td>\n",
       "      <td>2679477.0</td>\n",
       "      <td>110001</td>\n",
       "      <td>1</td>\n",
       "      <td>29</td>\n",
       "      <td>2.0</td>\n",
       "      <td>8 a 11 anos</td>\n",
       "      <td>999992.0</td>\n",
       "      <td>1.0</td>\n",
       "      <td>0.0</td>\n",
       "      <td>...</td>\n",
       "      <td>5</td>\n",
       "      <td>2</td>\n",
       "      <td>ATIVO</td>\n",
       "      <td>MUNIC</td>\n",
       "      <td>Alta Floresta D'Oeste</td>\n",
       "      <td>Rondônia</td>\n",
       "      <td>-11.93554</td>\n",
       "      <td>-61.99982</td>\n",
       "      <td>338.0</td>\n",
       "      <td>7067.025</td>\n",
       "    </tr>\n",
       "    <tr>\n",
       "      <th>2</th>\n",
       "      <td>1</td>\n",
       "      <td>2679477.0</td>\n",
       "      <td>110001</td>\n",
       "      <td>1</td>\n",
       "      <td>37</td>\n",
       "      <td>9.0</td>\n",
       "      <td>8 a 11 anos</td>\n",
       "      <td>513205.0</td>\n",
       "      <td>2.0</td>\n",
       "      <td>0.0</td>\n",
       "      <td>...</td>\n",
       "      <td>5</td>\n",
       "      <td>3</td>\n",
       "      <td>ATIVO</td>\n",
       "      <td>MUNIC</td>\n",
       "      <td>Alta Floresta D'Oeste</td>\n",
       "      <td>Rondônia</td>\n",
       "      <td>-11.93554</td>\n",
       "      <td>-61.99982</td>\n",
       "      <td>338.0</td>\n",
       "      <td>7067.025</td>\n",
       "    </tr>\n",
       "    <tr>\n",
       "      <th>3</th>\n",
       "      <td>1</td>\n",
       "      <td>2516500.0</td>\n",
       "      <td>110001</td>\n",
       "      <td>1</td>\n",
       "      <td>30</td>\n",
       "      <td>5.0</td>\n",
       "      <td>12 anos ou mais</td>\n",
       "      <td>231205.0</td>\n",
       "      <td>0.0</td>\n",
       "      <td>0.0</td>\n",
       "      <td>...</td>\n",
       "      <td>4</td>\n",
       "      <td>4</td>\n",
       "      <td>ATIVO</td>\n",
       "      <td>MUNIC</td>\n",
       "      <td>Alto Alegre dos Parecis</td>\n",
       "      <td>Rondônia</td>\n",
       "      <td>-12.13178</td>\n",
       "      <td>-61.85308</td>\n",
       "      <td>397.0</td>\n",
       "      <td>3958.273</td>\n",
       "    </tr>\n",
       "    <tr>\n",
       "      <th>4</th>\n",
       "      <td>1</td>\n",
       "      <td>2516500.0</td>\n",
       "      <td>110001</td>\n",
       "      <td>1</td>\n",
       "      <td>30</td>\n",
       "      <td>2.0</td>\n",
       "      <td>8 a 11 anos</td>\n",
       "      <td>999992.0</td>\n",
       "      <td>1.0</td>\n",
       "      <td>0.0</td>\n",
       "      <td>...</td>\n",
       "      <td>5</td>\n",
       "      <td>5</td>\n",
       "      <td>ATIVO</td>\n",
       "      <td>MUNIC</td>\n",
       "      <td>Alta Floresta D'Oeste</td>\n",
       "      <td>Rondônia</td>\n",
       "      <td>-11.93554</td>\n",
       "      <td>-61.99982</td>\n",
       "      <td>338.0</td>\n",
       "      <td>7067.025</td>\n",
       "    </tr>\n",
       "  </tbody>\n",
       "</table>\n",
       "<p>5 rows × 69 columns</p>\n",
       "</div>"
      ]
     },
     "execution_count": 2,
     "metadata": {},
     "output_type": "execute_result"
    }
   ],
   "execution_count": 2
  },
  {
   "metadata": {
    "ExecuteTime": {
     "end_time": "2024-12-19T22:17:52.749956Z",
     "start_time": "2024-12-19T22:17:52.731456Z"
    }
   },
   "cell_type": "code",
   "source": "sinasc_raw.info()",
   "outputs": [
    {
     "name": "stdout",
     "output_type": "stream",
     "text": [
      "<class 'pandas.core.frame.DataFrame'>\n",
      "RangeIndex: 27028 entries, 0 to 27027\n",
      "Data columns (total 69 columns):\n",
      " #   Column        Non-Null Count  Dtype  \n",
      "---  ------        --------------  -----  \n",
      " 0   ORIGEM        27028 non-null  int64  \n",
      " 1   CODESTAB      26913 non-null  float64\n",
      " 2   CODMUNNASC    27028 non-null  int64  \n",
      " 3   LOCNASC       27028 non-null  int64  \n",
      " 4   IDADEMAE      27028 non-null  int64  \n",
      " 5   ESTCIVMAE     26711 non-null  float64\n",
      " 6   ESCMAE        26716 non-null  object \n",
      " 7   CODOCUPMAE    24121 non-null  float64\n",
      " 8   QTDFILVIVO    25455 non-null  float64\n",
      " 9   QTDFILMORT    24930 non-null  float64\n",
      " 10  CODMUNRES     27028 non-null  int64  \n",
      " 11  GESTACAO      25796 non-null  object \n",
      " 12  GRAVIDEZ      26949 non-null  object \n",
      " 13  PARTO         26979 non-null  object \n",
      " 14  CONSULTAS     27028 non-null  int64  \n",
      " 15  DTNASC        27028 non-null  object \n",
      " 16  HORANASC      27007 non-null  float64\n",
      " 17  SEXO          27024 non-null  object \n",
      " 18  APGAR1        26932 non-null  float64\n",
      " 19  APGAR5        26925 non-null  float64\n",
      " 20  RACACOR       26381 non-null  object \n",
      " 21  PESO          27028 non-null  int64  \n",
      " 22  IDANOMAL      26437 non-null  float64\n",
      " 23  DTCADASTRO    27028 non-null  object \n",
      " 24  CODANOMAL     214 non-null    object \n",
      " 25  NUMEROLOTE    27028 non-null  int64  \n",
      " 26  VERSAOSIST    27028 non-null  object \n",
      " 27  DTRECEBIM     27028 non-null  object \n",
      " 28  DIFDATA       27028 non-null  int64  \n",
      " 29  DTRECORIGA    0 non-null      float64\n",
      " 30  NATURALMAE    26730 non-null  float64\n",
      " 31  CODMUNNATU    26730 non-null  float64\n",
      " 32  CODUFNATU     26730 non-null  float64\n",
      " 33  ESCMAE2010    26779 non-null  float64\n",
      " 34  SERIESCMAE    14318 non-null  float64\n",
      " 35  DTNASCMAE     26988 non-null  float64\n",
      " 36  RACACORMAE    26367 non-null  float64\n",
      " 37  QTDGESTANT    25816 non-null  float64\n",
      " 38  QTDPARTNOR    25149 non-null  float64\n",
      " 39  QTDPARTCES    25237 non-null  float64\n",
      " 40  IDADEPAI      7607 non-null   float64\n",
      " 41  DTULTMENST    16956 non-null  float64\n",
      " 42  SEMAGESTAC    25790 non-null  float64\n",
      " 43  TPMETESTIM    25790 non-null  float64\n",
      " 44  CONSPRENAT    26098 non-null  float64\n",
      " 45  MESPRENAT     24161 non-null  float64\n",
      " 46  TPAPRESENT    26763 non-null  float64\n",
      " 47  STTRABPART    26081 non-null  float64\n",
      " 48  STCESPARTO    26281 non-null  float64\n",
      " 49  TPNASCASSI    26967 non-null  float64\n",
      " 50  TPFUNCRESP    26961 non-null  float64\n",
      " 51  TPDOCRESP     27014 non-null  float64\n",
      " 52  DTDECLARAC    26976 non-null  float64\n",
      " 53  ESCMAEAGR1    26779 non-null  float64\n",
      " 54  STDNEPIDEM    27028 non-null  int64  \n",
      " 55  STDNNOVA      27028 non-null  int64  \n",
      " 56  CODPAISRES    27028 non-null  int64  \n",
      " 57  TPROBSON      27028 non-null  int64  \n",
      " 58  PARIDADE      27028 non-null  int64  \n",
      " 59  KOTELCHUCK    27028 non-null  int64  \n",
      " 60  CONTADOR      27028 non-null  int64  \n",
      " 61  munResStatus  27028 non-null  object \n",
      " 62  munResTipo    27028 non-null  object \n",
      " 63  munResNome    27028 non-null  object \n",
      " 64  munResUf      27028 non-null  object \n",
      " 65  munResLat     27027 non-null  float64\n",
      " 66  munResLon     27027 non-null  float64\n",
      " 67  munResAlt     27027 non-null  float64\n",
      " 68  munResArea    27027 non-null  float64\n",
      "dtypes: float64(38), int64(16), object(15)\n",
      "memory usage: 14.2+ MB\n"
     ]
    }
   ],
   "execution_count": 3
  },
  {
   "metadata": {
    "ExecuteTime": {
     "end_time": "2024-12-19T22:17:54.387904Z",
     "start_time": "2024-12-19T22:17:54.384397Z"
    }
   },
   "cell_type": "code",
   "source": "sinasc_raw.columns",
   "outputs": [
    {
     "data": {
      "text/plain": [
       "Index(['ORIGEM', 'CODESTAB', 'CODMUNNASC', 'LOCNASC', 'IDADEMAE', 'ESTCIVMAE',\n",
       "       'ESCMAE', 'CODOCUPMAE', 'QTDFILVIVO', 'QTDFILMORT', 'CODMUNRES',\n",
       "       'GESTACAO', 'GRAVIDEZ', 'PARTO', 'CONSULTAS', 'DTNASC', 'HORANASC',\n",
       "       'SEXO', 'APGAR1', 'APGAR5', 'RACACOR', 'PESO', 'IDANOMAL', 'DTCADASTRO',\n",
       "       'CODANOMAL', 'NUMEROLOTE', 'VERSAOSIST', 'DTRECEBIM', 'DIFDATA',\n",
       "       'DTRECORIGA', 'NATURALMAE', 'CODMUNNATU', 'CODUFNATU', 'ESCMAE2010',\n",
       "       'SERIESCMAE', 'DTNASCMAE', 'RACACORMAE', 'QTDGESTANT', 'QTDPARTNOR',\n",
       "       'QTDPARTCES', 'IDADEPAI', 'DTULTMENST', 'SEMAGESTAC', 'TPMETESTIM',\n",
       "       'CONSPRENAT', 'MESPRENAT', 'TPAPRESENT', 'STTRABPART', 'STCESPARTO',\n",
       "       'TPNASCASSI', 'TPFUNCRESP', 'TPDOCRESP', 'DTDECLARAC', 'ESCMAEAGR1',\n",
       "       'STDNEPIDEM', 'STDNNOVA', 'CODPAISRES', 'TPROBSON', 'PARIDADE',\n",
       "       'KOTELCHUCK', 'CONTADOR', 'munResStatus', 'munResTipo', 'munResNome',\n",
       "       'munResUf', 'munResLat', 'munResLon', 'munResAlt', 'munResArea'],\n",
       "      dtype='object')"
      ]
     },
     "execution_count": 4,
     "metadata": {},
     "output_type": "execute_result"
    }
   ],
   "execution_count": 4
  },
  {
   "cell_type": "markdown",
   "metadata": {
    "id": "9GOoel3-lTuD"
   },
   "source": [
    "# Tarefa 2"
   ]
  },
  {
   "cell_type": "markdown",
   "metadata": {
    "id": "iNNeWswTlTuD"
   },
   "source": [
    "### 1. Crie 2 faixas de Latitude do município (munResLat) sendo uma acima e outra abaixo de -10.5 e aplique o groupby usando essas faixas como chave e realize operações de soma, media, minimo, maximo, mediana, desvio padrao, variancia pra pelo menos 2 variáveis numéricas ainda não utilizadas"
   ]
  },
  {
   "metadata": {
    "ExecuteTime": {
     "end_time": "2024-12-19T22:17:57.031550Z",
     "start_time": "2024-12-19T22:17:57.010650Z"
    }
   },
   "cell_type": "code",
   "source": [
    "sinasc_raw['Latitude Group'] = pd.cut(sinasc_raw['munResLat'], bins=[-float('inf'), -10.5, float('inf')], labels=['Below -10.5', 'Above or Equal -10.5'])\n",
    "\n",
    "aggregated_results = sinasc_raw.groupby('Latitude Group').agg({\n",
    "    'PESO': ['sum', 'mean', 'min', 'max', 'median', 'std', 'var'],\n",
    "    'IDADEPAI': ['sum', 'mean', 'min', 'max', 'median', 'std', 'var']\n",
    "})\n",
    "aggregated_results"
   ],
   "outputs": [
    {
     "name": "stderr",
     "output_type": "stream",
     "text": [
      "/tmp/ipykernel_9048/3357233672.py:3: FutureWarning: The default of observed=False is deprecated and will be changed to True in a future version of pandas. Pass observed=False to retain current behavior or observed=True to adopt the future default and silence this warning.\n",
      "  aggregated_results = sinasc_raw.groupby('Latitude Group').agg({\n"
     ]
    },
    {
     "data": {
      "text/plain": [
       "                          PESO                                              \\\n",
       "                           sum         mean  min   max  median         std   \n",
       "Latitude Group                                                               \n",
       "Below -10.5           42098594  3240.098053  258  5985  3270.0  531.815114   \n",
       "Above or Equal -10.5  45555148  3246.055864  295  5190  3275.0  556.487709   \n",
       "\n",
       "                                     IDADEPAI                                \\\n",
       "                                var       sum       mean   min   max median   \n",
       "Latitude Group                                                                \n",
       "Below -10.5           282827.315354  198460.0  30.903145  15.0  86.0   30.0   \n",
       "Above or Equal -10.5  309678.570242   38038.0  32.126689  16.0  73.0   31.0   \n",
       "\n",
       "                                           \n",
       "                           std        var  \n",
       "Latitude Group                             \n",
       "Below -10.5           7.707002  59.397875  \n",
       "Above or Equal -10.5  8.034214  64.548602  "
      ],
      "text/html": [
       "<div>\n",
       "<style scoped>\n",
       "    .dataframe tbody tr th:only-of-type {\n",
       "        vertical-align: middle;\n",
       "    }\n",
       "\n",
       "    .dataframe tbody tr th {\n",
       "        vertical-align: top;\n",
       "    }\n",
       "\n",
       "    .dataframe thead tr th {\n",
       "        text-align: left;\n",
       "    }\n",
       "\n",
       "    .dataframe thead tr:last-of-type th {\n",
       "        text-align: right;\n",
       "    }\n",
       "</style>\n",
       "<table border=\"1\" class=\"dataframe\">\n",
       "  <thead>\n",
       "    <tr>\n",
       "      <th></th>\n",
       "      <th colspan=\"7\" halign=\"left\">PESO</th>\n",
       "      <th colspan=\"7\" halign=\"left\">IDADEPAI</th>\n",
       "    </tr>\n",
       "    <tr>\n",
       "      <th></th>\n",
       "      <th>sum</th>\n",
       "      <th>mean</th>\n",
       "      <th>min</th>\n",
       "      <th>max</th>\n",
       "      <th>median</th>\n",
       "      <th>std</th>\n",
       "      <th>var</th>\n",
       "      <th>sum</th>\n",
       "      <th>mean</th>\n",
       "      <th>min</th>\n",
       "      <th>max</th>\n",
       "      <th>median</th>\n",
       "      <th>std</th>\n",
       "      <th>var</th>\n",
       "    </tr>\n",
       "    <tr>\n",
       "      <th>Latitude Group</th>\n",
       "      <th></th>\n",
       "      <th></th>\n",
       "      <th></th>\n",
       "      <th></th>\n",
       "      <th></th>\n",
       "      <th></th>\n",
       "      <th></th>\n",
       "      <th></th>\n",
       "      <th></th>\n",
       "      <th></th>\n",
       "      <th></th>\n",
       "      <th></th>\n",
       "      <th></th>\n",
       "      <th></th>\n",
       "    </tr>\n",
       "  </thead>\n",
       "  <tbody>\n",
       "    <tr>\n",
       "      <th>Below -10.5</th>\n",
       "      <td>42098594</td>\n",
       "      <td>3240.098053</td>\n",
       "      <td>258</td>\n",
       "      <td>5985</td>\n",
       "      <td>3270.0</td>\n",
       "      <td>531.815114</td>\n",
       "      <td>282827.315354</td>\n",
       "      <td>198460.0</td>\n",
       "      <td>30.903145</td>\n",
       "      <td>15.0</td>\n",
       "      <td>86.0</td>\n",
       "      <td>30.0</td>\n",
       "      <td>7.707002</td>\n",
       "      <td>59.397875</td>\n",
       "    </tr>\n",
       "    <tr>\n",
       "      <th>Above or Equal -10.5</th>\n",
       "      <td>45555148</td>\n",
       "      <td>3246.055864</td>\n",
       "      <td>295</td>\n",
       "      <td>5190</td>\n",
       "      <td>3275.0</td>\n",
       "      <td>556.487709</td>\n",
       "      <td>309678.570242</td>\n",
       "      <td>38038.0</td>\n",
       "      <td>32.126689</td>\n",
       "      <td>16.0</td>\n",
       "      <td>73.0</td>\n",
       "      <td>31.0</td>\n",
       "      <td>8.034214</td>\n",
       "      <td>64.548602</td>\n",
       "    </tr>\n",
       "  </tbody>\n",
       "</table>\n",
       "</div>"
      ]
     },
     "execution_count": 5,
     "metadata": {},
     "output_type": "execute_result"
    }
   ],
   "execution_count": 5
  },
  {
   "metadata": {
    "ExecuteTime": {
     "end_time": "2024-12-19T22:17:59.159322Z",
     "start_time": "2024-12-19T22:17:59.142504Z"
    }
   },
   "cell_type": "code",
   "source": [
    "sinasc_raw['faixa_latitude'] = np.where(sinasc_raw['munResLat'] >= -10.5, '>= -10.5', '< -10.5')\n",
    "\n",
    "aggregated_results = sinasc_raw.groupby('faixa_latitude').agg({\n",
    "    'PESO': ['sum', 'mean', 'min', 'max', 'median', 'std', 'var'],\n",
    "    'APGAR1': ['sum', 'mean', 'min', 'max', 'median', 'std', 'var']\n",
    "})\n",
    "\n",
    "aggregated_results"
   ],
   "outputs": [
    {
     "data": {
      "text/plain": [
       "                    PESO                                              \\\n",
       "                     sum         mean  min   max  median         std   \n",
       "faixa_latitude                                                         \n",
       "< -10.5         42101809  3240.096121  258  5985  3270.0  531.794694   \n",
       ">= -10.5        45555148  3246.055864  295  5190  3275.0  556.487709   \n",
       "\n",
       "                                 APGAR1                                        \\\n",
       "                          var       sum      mean  min   max median       std   \n",
       "faixa_latitude                                                                  \n",
       "< -10.5         282805.596163  104599.0  8.070288  0.0  10.0    8.0  0.960765   \n",
       ">= -10.5        309678.570242  114559.0  8.199771  0.0  10.0    8.0  1.002839   \n",
       "\n",
       "                          \n",
       "                     var  \n",
       "faixa_latitude            \n",
       "< -10.5         0.923069  \n",
       ">= -10.5        1.005686  "
      ],
      "text/html": [
       "<div>\n",
       "<style scoped>\n",
       "    .dataframe tbody tr th:only-of-type {\n",
       "        vertical-align: middle;\n",
       "    }\n",
       "\n",
       "    .dataframe tbody tr th {\n",
       "        vertical-align: top;\n",
       "    }\n",
       "\n",
       "    .dataframe thead tr th {\n",
       "        text-align: left;\n",
       "    }\n",
       "\n",
       "    .dataframe thead tr:last-of-type th {\n",
       "        text-align: right;\n",
       "    }\n",
       "</style>\n",
       "<table border=\"1\" class=\"dataframe\">\n",
       "  <thead>\n",
       "    <tr>\n",
       "      <th></th>\n",
       "      <th colspan=\"7\" halign=\"left\">PESO</th>\n",
       "      <th colspan=\"7\" halign=\"left\">APGAR1</th>\n",
       "    </tr>\n",
       "    <tr>\n",
       "      <th></th>\n",
       "      <th>sum</th>\n",
       "      <th>mean</th>\n",
       "      <th>min</th>\n",
       "      <th>max</th>\n",
       "      <th>median</th>\n",
       "      <th>std</th>\n",
       "      <th>var</th>\n",
       "      <th>sum</th>\n",
       "      <th>mean</th>\n",
       "      <th>min</th>\n",
       "      <th>max</th>\n",
       "      <th>median</th>\n",
       "      <th>std</th>\n",
       "      <th>var</th>\n",
       "    </tr>\n",
       "    <tr>\n",
       "      <th>faixa_latitude</th>\n",
       "      <th></th>\n",
       "      <th></th>\n",
       "      <th></th>\n",
       "      <th></th>\n",
       "      <th></th>\n",
       "      <th></th>\n",
       "      <th></th>\n",
       "      <th></th>\n",
       "      <th></th>\n",
       "      <th></th>\n",
       "      <th></th>\n",
       "      <th></th>\n",
       "      <th></th>\n",
       "      <th></th>\n",
       "    </tr>\n",
       "  </thead>\n",
       "  <tbody>\n",
       "    <tr>\n",
       "      <th>&lt; -10.5</th>\n",
       "      <td>42101809</td>\n",
       "      <td>3240.096121</td>\n",
       "      <td>258</td>\n",
       "      <td>5985</td>\n",
       "      <td>3270.0</td>\n",
       "      <td>531.794694</td>\n",
       "      <td>282805.596163</td>\n",
       "      <td>104599.0</td>\n",
       "      <td>8.070288</td>\n",
       "      <td>0.0</td>\n",
       "      <td>10.0</td>\n",
       "      <td>8.0</td>\n",
       "      <td>0.960765</td>\n",
       "      <td>0.923069</td>\n",
       "    </tr>\n",
       "    <tr>\n",
       "      <th>&gt;= -10.5</th>\n",
       "      <td>45555148</td>\n",
       "      <td>3246.055864</td>\n",
       "      <td>295</td>\n",
       "      <td>5190</td>\n",
       "      <td>3275.0</td>\n",
       "      <td>556.487709</td>\n",
       "      <td>309678.570242</td>\n",
       "      <td>114559.0</td>\n",
       "      <td>8.199771</td>\n",
       "      <td>0.0</td>\n",
       "      <td>10.0</td>\n",
       "      <td>8.0</td>\n",
       "      <td>1.002839</td>\n",
       "      <td>1.005686</td>\n",
       "    </tr>\n",
       "  </tbody>\n",
       "</table>\n",
       "</div>"
      ]
     },
     "execution_count": 6,
     "metadata": {},
     "output_type": "execute_result"
    }
   ],
   "execution_count": 6
  },
  {
   "cell_type": "code",
   "execution_count": null,
   "metadata": {
    "id": "HXtelNbnlTuE"
   },
   "outputs": [],
   "source": []
  },
  {
   "cell_type": "markdown",
   "metadata": {
    "id": "AK33D0mdlTuE"
   },
   "source": [
    "### 2. Crie 2 faixas da área dos municípios (munResArea) sendo uma acima e outra abaixo de 3000 e aplique o groupby usando essas faixas como chave e realize operações de soma, media, minimo, maximo, mediana, desvio padrao, variancia pra pelo menos 2 variáveis numéricas ainda não utilizadas\n"
   ]
  },
  {
   "cell_type": "code",
   "metadata": {
    "id": "qqCXJtYIlTuE",
    "ExecuteTime": {
     "end_time": "2024-12-19T22:18:01.699366Z",
     "start_time": "2024-12-19T22:18:01.692901Z"
    }
   },
   "source": "tab2 = pd.cut(sinasc_raw['munResArea'],[sinasc_raw['munResArea'].min()-1,3000,sinasc_raw['munResArea'].max()+1])",
   "outputs": [],
   "execution_count": 7
  },
  {
   "metadata": {
    "ExecuteTime": {
     "end_time": "2024-12-19T22:18:03.303975Z",
     "start_time": "2024-12-19T22:18:03.283334Z"
    }
   },
   "cell_type": "code",
   "source": [
    "sinasc_raw.groupby(tab2)[['QTDFILVIVO', 'QTDFILMORT']].agg([('Soma','sum'),\n",
    "                                                            ('Média','mean'),\n",
    "                                                            ('Mínimo','min'),\n",
    "                                                            ('Máximo','max'),\n",
    "                                                            ('Mediana','median'),\n",
    "                                                            ('Desvio Padrão','std'),\n",
    "                                                            ('Variância','var')])\n"
   ],
   "outputs": [
    {
     "name": "stderr",
     "output_type": "stream",
     "text": [
      "/tmp/ipykernel_9048/114362923.py:1: FutureWarning: The default of observed=False is deprecated and will be changed to True in a future version of pandas. Pass observed=False to retain current behavior or observed=True to adopt the future default and silence this warning.\n",
      "  sinasc_raw.groupby(tab2)[['QTDFILVIVO', 'QTDFILMORT']].agg([('Soma','sum'),\n"
     ]
    },
    {
     "data": {
      "text/plain": [
       "                    QTDFILVIVO                                                \\\n",
       "                          Soma     Média Mínimo Máximo Mediana Desvio Padrão   \n",
       "munResArea                                                                     \n",
       "(458.978, 3000.0]       4773.0  0.924284    0.0   30.0     1.0      1.075442   \n",
       "(3000.0, 34097.394]    22053.0  1.086890    0.0   14.0     1.0      1.191750   \n",
       "\n",
       "                              QTDFILMORT                                  \\\n",
       "                    Variância       Soma     Média Mínimo Máximo Mediana   \n",
       "munResArea                                                                 \n",
       "(458.978, 3000.0]    1.156575     1260.0  0.244803    0.0    4.0     0.0   \n",
       "(3000.0, 34097.394]  1.420268     5383.0  0.272116    0.0   28.0     0.0   \n",
       "\n",
       "                                             \n",
       "                    Desvio Padrão Variância  \n",
       "munResArea                                   \n",
       "(458.978, 3000.0]        0.551215  0.303838  \n",
       "(3000.0, 34097.394]      0.629081  0.395743  "
      ],
      "text/html": [
       "<div>\n",
       "<style scoped>\n",
       "    .dataframe tbody tr th:only-of-type {\n",
       "        vertical-align: middle;\n",
       "    }\n",
       "\n",
       "    .dataframe tbody tr th {\n",
       "        vertical-align: top;\n",
       "    }\n",
       "\n",
       "    .dataframe thead tr th {\n",
       "        text-align: left;\n",
       "    }\n",
       "\n",
       "    .dataframe thead tr:last-of-type th {\n",
       "        text-align: right;\n",
       "    }\n",
       "</style>\n",
       "<table border=\"1\" class=\"dataframe\">\n",
       "  <thead>\n",
       "    <tr>\n",
       "      <th></th>\n",
       "      <th colspan=\"7\" halign=\"left\">QTDFILVIVO</th>\n",
       "      <th colspan=\"7\" halign=\"left\">QTDFILMORT</th>\n",
       "    </tr>\n",
       "    <tr>\n",
       "      <th></th>\n",
       "      <th>Soma</th>\n",
       "      <th>Média</th>\n",
       "      <th>Mínimo</th>\n",
       "      <th>Máximo</th>\n",
       "      <th>Mediana</th>\n",
       "      <th>Desvio Padrão</th>\n",
       "      <th>Variância</th>\n",
       "      <th>Soma</th>\n",
       "      <th>Média</th>\n",
       "      <th>Mínimo</th>\n",
       "      <th>Máximo</th>\n",
       "      <th>Mediana</th>\n",
       "      <th>Desvio Padrão</th>\n",
       "      <th>Variância</th>\n",
       "    </tr>\n",
       "    <tr>\n",
       "      <th>munResArea</th>\n",
       "      <th></th>\n",
       "      <th></th>\n",
       "      <th></th>\n",
       "      <th></th>\n",
       "      <th></th>\n",
       "      <th></th>\n",
       "      <th></th>\n",
       "      <th></th>\n",
       "      <th></th>\n",
       "      <th></th>\n",
       "      <th></th>\n",
       "      <th></th>\n",
       "      <th></th>\n",
       "      <th></th>\n",
       "    </tr>\n",
       "  </thead>\n",
       "  <tbody>\n",
       "    <tr>\n",
       "      <th>(458.978, 3000.0]</th>\n",
       "      <td>4773.0</td>\n",
       "      <td>0.924284</td>\n",
       "      <td>0.0</td>\n",
       "      <td>30.0</td>\n",
       "      <td>1.0</td>\n",
       "      <td>1.075442</td>\n",
       "      <td>1.156575</td>\n",
       "      <td>1260.0</td>\n",
       "      <td>0.244803</td>\n",
       "      <td>0.0</td>\n",
       "      <td>4.0</td>\n",
       "      <td>0.0</td>\n",
       "      <td>0.551215</td>\n",
       "      <td>0.303838</td>\n",
       "    </tr>\n",
       "    <tr>\n",
       "      <th>(3000.0, 34097.394]</th>\n",
       "      <td>22053.0</td>\n",
       "      <td>1.086890</td>\n",
       "      <td>0.0</td>\n",
       "      <td>14.0</td>\n",
       "      <td>1.0</td>\n",
       "      <td>1.191750</td>\n",
       "      <td>1.420268</td>\n",
       "      <td>5383.0</td>\n",
       "      <td>0.272116</td>\n",
       "      <td>0.0</td>\n",
       "      <td>28.0</td>\n",
       "      <td>0.0</td>\n",
       "      <td>0.629081</td>\n",
       "      <td>0.395743</td>\n",
       "    </tr>\n",
       "  </tbody>\n",
       "</table>\n",
       "</div>"
      ]
     },
     "execution_count": 8,
     "metadata": {},
     "output_type": "execute_result"
    }
   ],
   "execution_count": 8
  },
  {
   "metadata": {},
   "cell_type": "code",
   "outputs": [],
   "execution_count": null,
   "source": ""
  },
  {
   "cell_type": "markdown",
   "metadata": {
    "id": "aWaljnnxlTuE"
   },
   "source": [
    "### 3. Determine faixas na variável munResAlt e aplique o groupby usando essas faixas como chave e realize operações de soma, media, minimo, maximo, mediana, desvio padrao, variancia pra pelo menos 2 variáveis numéricas ainda não utilizadas"
   ]
  },
  {
   "metadata": {
    "ExecuteTime": {
     "end_time": "2024-12-19T22:18:07.567532Z",
     "start_time": "2024-12-19T22:18:07.546294Z"
    }
   },
   "cell_type": "code",
   "source": [
    "idade_mae = pd.cut(sinasc_raw['munResAlt'], 5)\n",
    "sinasc_raw.pivot_table(values=['PESO', 'IDADEPAI'],\n",
    "                       index=['ESCMAE', idade_mae],\n",
    "                       aggfunc={\n",
    "                           'PESO': ['mean', 'median'],\n",
    "                           'IDADEPAI': [('maximo',np.max), ('minimo', np.min)]\n",
    "                       },\n",
    "                       dropna=True)\n"
   ],
   "outputs": [
    {
     "name": "stderr",
     "output_type": "stream",
     "text": [
      "/tmp/ipykernel_9048/1554764931.py:2: FutureWarning: The default value of observed=False is deprecated and will change to observed=True in a future version of pandas. Specify observed=False to silence this warning and retain the current behavior\n",
      "  sinasc_raw.pivot_table(values=['PESO', 'IDADEPAI'],\n",
      "/tmp/ipykernel_9048/1554764931.py:2: FutureWarning: The provided callable <function max at 0x700b74193d80> is currently using SeriesGroupBy.max. In a future version of pandas, the provided callable will be used directly. To keep current behavior pass the string \"max\" instead.\n",
      "  sinasc_raw.pivot_table(values=['PESO', 'IDADEPAI'],\n",
      "/tmp/ipykernel_9048/1554764931.py:2: FutureWarning: The provided callable <function min at 0x700b74193ec0> is currently using SeriesGroupBy.min. In a future version of pandas, the provided callable will be used directly. To keep current behavior pass the string \"min\" instead.\n",
      "  sinasc_raw.pivot_table(values=['PESO', 'IDADEPAI'],\n"
     ]
    },
    {
     "data": {
      "text/plain": [
       "                               IDADEPAI                PESO        \n",
       "                                 maximo minimo         mean  median\n",
       "ESCMAE          munResAlt                                          \n",
       "1 a 3 anos      (84.49, 187.0]     60.0   18.0  3164.506944  3227.5\n",
       "                (187.0, 289.0]     55.0   21.0  3167.235294  3290.0\n",
       "                (289.0, 391.0]     41.0   17.0  3286.166667  3295.0\n",
       "                (391.0, 493.0]     38.0   23.0  3102.000000  3170.0\n",
       "                (493.0, 595.0]      NaN    NaN  2846.900000  3050.0\n",
       "12 anos ou mais (84.49, 187.0]     65.0   17.0  3260.066379  3285.0\n",
       "                (187.0, 289.0]     60.0   18.0  3208.946331  3230.0\n",
       "                (289.0, 391.0]     58.0   19.0  3237.820513  3292.0\n",
       "                (391.0, 493.0]     44.0   21.0  3278.344086  3300.0\n",
       "                (493.0, 595.0]     60.0   18.0  3207.607219  3270.0\n",
       "4 a 7 anos      (84.49, 187.0]     73.0   16.0  3238.246524  3275.0\n",
       "                (187.0, 289.0]     86.0   16.0  3173.756131  3232.5\n",
       "                (289.0, 391.0]     47.0   18.0  3286.981308  3384.0\n",
       "                (391.0, 493.0]     47.0   18.0  3212.245614  3195.0\n",
       "                (493.0, 595.0]     23.0   23.0  3137.688525  3240.0\n",
       "8 a 11 anos     (84.49, 187.0]     70.0   15.0  3256.105529  3275.0\n",
       "                (187.0, 289.0]     69.0   16.0  3225.353300  3255.0\n",
       "                (289.0, 391.0]     61.0   17.0  3244.339564  3260.0\n",
       "                (391.0, 493.0]     53.0   16.0  3244.593301  3310.0\n",
       "                (493.0, 595.0]     47.0   24.0  3256.625384  3280.0\n",
       "Nenhuma         (84.49, 187.0]     52.0   29.0  3209.166667  3135.0\n",
       "                (187.0, 289.0]     43.0   30.0  2577.428571  2905.0\n",
       "                (289.0, 391.0]      NaN    NaN  2255.000000  2255.0\n",
       "                (493.0, 595.0]      NaN    NaN  3425.000000  3425.0"
      ],
      "text/html": [
       "<div>\n",
       "<style scoped>\n",
       "    .dataframe tbody tr th:only-of-type {\n",
       "        vertical-align: middle;\n",
       "    }\n",
       "\n",
       "    .dataframe tbody tr th {\n",
       "        vertical-align: top;\n",
       "    }\n",
       "\n",
       "    .dataframe thead tr th {\n",
       "        text-align: left;\n",
       "    }\n",
       "\n",
       "    .dataframe thead tr:last-of-type th {\n",
       "        text-align: right;\n",
       "    }\n",
       "</style>\n",
       "<table border=\"1\" class=\"dataframe\">\n",
       "  <thead>\n",
       "    <tr>\n",
       "      <th></th>\n",
       "      <th></th>\n",
       "      <th colspan=\"2\" halign=\"left\">IDADEPAI</th>\n",
       "      <th colspan=\"2\" halign=\"left\">PESO</th>\n",
       "    </tr>\n",
       "    <tr>\n",
       "      <th></th>\n",
       "      <th></th>\n",
       "      <th>maximo</th>\n",
       "      <th>minimo</th>\n",
       "      <th>mean</th>\n",
       "      <th>median</th>\n",
       "    </tr>\n",
       "    <tr>\n",
       "      <th>ESCMAE</th>\n",
       "      <th>munResAlt</th>\n",
       "      <th></th>\n",
       "      <th></th>\n",
       "      <th></th>\n",
       "      <th></th>\n",
       "    </tr>\n",
       "  </thead>\n",
       "  <tbody>\n",
       "    <tr>\n",
       "      <th rowspan=\"5\" valign=\"top\">1 a 3 anos</th>\n",
       "      <th>(84.49, 187.0]</th>\n",
       "      <td>60.0</td>\n",
       "      <td>18.0</td>\n",
       "      <td>3164.506944</td>\n",
       "      <td>3227.5</td>\n",
       "    </tr>\n",
       "    <tr>\n",
       "      <th>(187.0, 289.0]</th>\n",
       "      <td>55.0</td>\n",
       "      <td>21.0</td>\n",
       "      <td>3167.235294</td>\n",
       "      <td>3290.0</td>\n",
       "    </tr>\n",
       "    <tr>\n",
       "      <th>(289.0, 391.0]</th>\n",
       "      <td>41.0</td>\n",
       "      <td>17.0</td>\n",
       "      <td>3286.166667</td>\n",
       "      <td>3295.0</td>\n",
       "    </tr>\n",
       "    <tr>\n",
       "      <th>(391.0, 493.0]</th>\n",
       "      <td>38.0</td>\n",
       "      <td>23.0</td>\n",
       "      <td>3102.000000</td>\n",
       "      <td>3170.0</td>\n",
       "    </tr>\n",
       "    <tr>\n",
       "      <th>(493.0, 595.0]</th>\n",
       "      <td>NaN</td>\n",
       "      <td>NaN</td>\n",
       "      <td>2846.900000</td>\n",
       "      <td>3050.0</td>\n",
       "    </tr>\n",
       "    <tr>\n",
       "      <th rowspan=\"5\" valign=\"top\">12 anos ou mais</th>\n",
       "      <th>(84.49, 187.0]</th>\n",
       "      <td>65.0</td>\n",
       "      <td>17.0</td>\n",
       "      <td>3260.066379</td>\n",
       "      <td>3285.0</td>\n",
       "    </tr>\n",
       "    <tr>\n",
       "      <th>(187.0, 289.0]</th>\n",
       "      <td>60.0</td>\n",
       "      <td>18.0</td>\n",
       "      <td>3208.946331</td>\n",
       "      <td>3230.0</td>\n",
       "    </tr>\n",
       "    <tr>\n",
       "      <th>(289.0, 391.0]</th>\n",
       "      <td>58.0</td>\n",
       "      <td>19.0</td>\n",
       "      <td>3237.820513</td>\n",
       "      <td>3292.0</td>\n",
       "    </tr>\n",
       "    <tr>\n",
       "      <th>(391.0, 493.0]</th>\n",
       "      <td>44.0</td>\n",
       "      <td>21.0</td>\n",
       "      <td>3278.344086</td>\n",
       "      <td>3300.0</td>\n",
       "    </tr>\n",
       "    <tr>\n",
       "      <th>(493.0, 595.0]</th>\n",
       "      <td>60.0</td>\n",
       "      <td>18.0</td>\n",
       "      <td>3207.607219</td>\n",
       "      <td>3270.0</td>\n",
       "    </tr>\n",
       "    <tr>\n",
       "      <th rowspan=\"5\" valign=\"top\">4 a 7 anos</th>\n",
       "      <th>(84.49, 187.0]</th>\n",
       "      <td>73.0</td>\n",
       "      <td>16.0</td>\n",
       "      <td>3238.246524</td>\n",
       "      <td>3275.0</td>\n",
       "    </tr>\n",
       "    <tr>\n",
       "      <th>(187.0, 289.0]</th>\n",
       "      <td>86.0</td>\n",
       "      <td>16.0</td>\n",
       "      <td>3173.756131</td>\n",
       "      <td>3232.5</td>\n",
       "    </tr>\n",
       "    <tr>\n",
       "      <th>(289.0, 391.0]</th>\n",
       "      <td>47.0</td>\n",
       "      <td>18.0</td>\n",
       "      <td>3286.981308</td>\n",
       "      <td>3384.0</td>\n",
       "    </tr>\n",
       "    <tr>\n",
       "      <th>(391.0, 493.0]</th>\n",
       "      <td>47.0</td>\n",
       "      <td>18.0</td>\n",
       "      <td>3212.245614</td>\n",
       "      <td>3195.0</td>\n",
       "    </tr>\n",
       "    <tr>\n",
       "      <th>(493.0, 595.0]</th>\n",
       "      <td>23.0</td>\n",
       "      <td>23.0</td>\n",
       "      <td>3137.688525</td>\n",
       "      <td>3240.0</td>\n",
       "    </tr>\n",
       "    <tr>\n",
       "      <th rowspan=\"5\" valign=\"top\">8 a 11 anos</th>\n",
       "      <th>(84.49, 187.0]</th>\n",
       "      <td>70.0</td>\n",
       "      <td>15.0</td>\n",
       "      <td>3256.105529</td>\n",
       "      <td>3275.0</td>\n",
       "    </tr>\n",
       "    <tr>\n",
       "      <th>(187.0, 289.0]</th>\n",
       "      <td>69.0</td>\n",
       "      <td>16.0</td>\n",
       "      <td>3225.353300</td>\n",
       "      <td>3255.0</td>\n",
       "    </tr>\n",
       "    <tr>\n",
       "      <th>(289.0, 391.0]</th>\n",
       "      <td>61.0</td>\n",
       "      <td>17.0</td>\n",
       "      <td>3244.339564</td>\n",
       "      <td>3260.0</td>\n",
       "    </tr>\n",
       "    <tr>\n",
       "      <th>(391.0, 493.0]</th>\n",
       "      <td>53.0</td>\n",
       "      <td>16.0</td>\n",
       "      <td>3244.593301</td>\n",
       "      <td>3310.0</td>\n",
       "    </tr>\n",
       "    <tr>\n",
       "      <th>(493.0, 595.0]</th>\n",
       "      <td>47.0</td>\n",
       "      <td>24.0</td>\n",
       "      <td>3256.625384</td>\n",
       "      <td>3280.0</td>\n",
       "    </tr>\n",
       "    <tr>\n",
       "      <th rowspan=\"4\" valign=\"top\">Nenhuma</th>\n",
       "      <th>(84.49, 187.0]</th>\n",
       "      <td>52.0</td>\n",
       "      <td>29.0</td>\n",
       "      <td>3209.166667</td>\n",
       "      <td>3135.0</td>\n",
       "    </tr>\n",
       "    <tr>\n",
       "      <th>(187.0, 289.0]</th>\n",
       "      <td>43.0</td>\n",
       "      <td>30.0</td>\n",
       "      <td>2577.428571</td>\n",
       "      <td>2905.0</td>\n",
       "    </tr>\n",
       "    <tr>\n",
       "      <th>(289.0, 391.0]</th>\n",
       "      <td>NaN</td>\n",
       "      <td>NaN</td>\n",
       "      <td>2255.000000</td>\n",
       "      <td>2255.0</td>\n",
       "    </tr>\n",
       "    <tr>\n",
       "      <th>(493.0, 595.0]</th>\n",
       "      <td>NaN</td>\n",
       "      <td>NaN</td>\n",
       "      <td>3425.000000</td>\n",
       "      <td>3425.0</td>\n",
       "    </tr>\n",
       "  </tbody>\n",
       "</table>\n",
       "</div>"
      ]
     },
     "execution_count": 9,
     "metadata": {},
     "output_type": "execute_result"
    }
   ],
   "execution_count": 9
  },
  {
   "metadata": {
    "ExecuteTime": {
     "end_time": "2024-12-19T22:18:10.683616Z",
     "start_time": "2024-12-19T22:18:10.682061Z"
    }
   },
   "cell_type": "code",
   "source": "",
   "outputs": [],
   "execution_count": null
  },
  {
   "cell_type": "markdown",
   "metadata": {
    "id": "aF1riawJlTuF"
   },
   "source": [
    "### 4. Plote no mesmo grafico ao longo do tempo a idade media das mulheres de cada regiao imediatas de rondonia\n"
   ]
  },
  {
   "cell_type": "code",
   "source": [
    "imediatas = {\n",
    "    \"Candeias do Jamari\": \"Porto Velho\",\n",
    "    \"Guajará-Mirim\": \"Porto Velho\",\n",
    "    \"Itapuã do Oeste\": \"Porto Velho\",\n",
    "    \"Nova Mamoré\": \"Porto Velho\",\n",
    "    \"Porto Velho\": \"Porto Velho\",\n",
    "    \"Ariquemes\": \"Ariquemes\",\n",
    "    \"Alto Paraíso\": \"Ariquemes\",\n",
    "    \"Buritis\": \"Ariquemes\",\n",
    "    \"Cacaulândia\": \"Ariquemes\",\n",
    "    \"Campo Novo de Rondônia\": \"Ariquemes\",\n",
    "    \"Cujubim\": \"Ariquemes\",\n",
    "    \"Monte Negro\": \"Ariquemes\",\n",
    "    \"Rio Crespo\": \"Ariquemes\",\n",
    "    \"Jaru\": \"Jaru\",\n",
    "    \"Governador Jorge Teixeira\": \"Jaru\",\n",
    "    \"Machadinho D'Oeste\": \"Jaru\",\n",
    "    \"Theobroma\": \"Jaru\",\n",
    "    \"Vale do Anari\": \"Jaru\",\n",
    "    \"Alvorada D'Oeste\": \"Ji-Paraná\",\n",
    "    \"Costa Marques\": \"Ji-Paraná\",\n",
    "    \"Ji-Paraná\": \"Ji-Paraná\",\n",
    "    \"Mirante da Serra\": \"Ji-Paraná\",\n",
    "    \"Nova União\": \"Ji-Paraná\",\n",
    "    \"Ouro Preto do Oeste\": \"Ji-Paraná\",\n",
    "    \"Presidente Médici\": \"Ji-Paraná\",\n",
    "    \"São Francisco do Guaporé\": \"Ji-Paraná\",\n",
    "    \"São Miguel do Guaporé\": \"Ji-Paraná\",\n",
    "    \"Seringueiras\": \"Ji-Paraná\",\n",
    "    \"Teixeirópolis\": \"Ji-Paraná\",\n",
    "    \"Urupá\": \"Ji-Paraná\",\n",
    "    \"Vale do Paraíso\": \"Ji-Paraná\",\n",
    "    \"Cacoal\": \"Cacoal\",\n",
    "    \"Alta Floresta D'Oeste\": \"Cacoal\",\n",
    "    \"Alto Alegre dos Parecis\": \"Cacoal\",\n",
    "    \"Castanheiras\": \"Cacoal\",\n",
    "    \"Espigão D'Oeste\": \"Cacoal\",\n",
    "    \"Ministro Andreazza\": \"Cacoal\",\n",
    "    \"Nova Brasilândia D'Oeste\": \"Cacoal\",\n",
    "    \"Novo Horizonte do Oeste\": \"Cacoal\",\n",
    "    \"Parecis\": \"Cacoal\",\n",
    "    \"Pimenta Bueno\": \"Cacoal\",\n",
    "    \"Primavera de Rondônia\": \"Cacoal\",\n",
    "    \"Rolim de Moura\": \"Cacoal\",\n",
    "    \"Santa Luzia D'Oeste\": \"Cacoal\",\n",
    "    \"São Felipe D'Oeste\": \"Cacoal\",\n",
    "    \"Vilhena\": \"Vilhena\",\n",
    "    \"Cabixi\": \"Vilhena\",\n",
    "    \"Cerejeiras\": \"Vilhena\",\n",
    "    \"Chupinguaia\": \"Vilhena\",\n",
    "    \"Colorado do Oeste\": \"Vilhena\",\n",
    "    \"Corumbiara\": \"Vilhena\",\n",
    "    \"Pimenteiras do Oeste\": \"Vilhena\"\n",
    "}\n",
    "imediatas"
   ],
   "metadata": {
    "id": "6aZM5xKale9c",
    "ExecuteTime": {
     "end_time": "2024-12-19T22:18:15.054736Z",
     "start_time": "2024-12-19T22:18:15.048859Z"
    }
   },
   "outputs": [
    {
     "data": {
      "text/plain": [
       "{'Candeias do Jamari': 'Porto Velho',\n",
       " 'Guajará-Mirim': 'Porto Velho',\n",
       " 'Itapuã do Oeste': 'Porto Velho',\n",
       " 'Nova Mamoré': 'Porto Velho',\n",
       " 'Porto Velho': 'Porto Velho',\n",
       " 'Ariquemes': 'Ariquemes',\n",
       " 'Alto Paraíso': 'Ariquemes',\n",
       " 'Buritis': 'Ariquemes',\n",
       " 'Cacaulândia': 'Ariquemes',\n",
       " 'Campo Novo de Rondônia': 'Ariquemes',\n",
       " 'Cujubim': 'Ariquemes',\n",
       " 'Monte Negro': 'Ariquemes',\n",
       " 'Rio Crespo': 'Ariquemes',\n",
       " 'Jaru': 'Jaru',\n",
       " 'Governador Jorge Teixeira': 'Jaru',\n",
       " \"Machadinho D'Oeste\": 'Jaru',\n",
       " 'Theobroma': 'Jaru',\n",
       " 'Vale do Anari': 'Jaru',\n",
       " \"Alvorada D'Oeste\": 'Ji-Paraná',\n",
       " 'Costa Marques': 'Ji-Paraná',\n",
       " 'Ji-Paraná': 'Ji-Paraná',\n",
       " 'Mirante da Serra': 'Ji-Paraná',\n",
       " 'Nova União': 'Ji-Paraná',\n",
       " 'Ouro Preto do Oeste': 'Ji-Paraná',\n",
       " 'Presidente Médici': 'Ji-Paraná',\n",
       " 'São Francisco do Guaporé': 'Ji-Paraná',\n",
       " 'São Miguel do Guaporé': 'Ji-Paraná',\n",
       " 'Seringueiras': 'Ji-Paraná',\n",
       " 'Teixeirópolis': 'Ji-Paraná',\n",
       " 'Urupá': 'Ji-Paraná',\n",
       " 'Vale do Paraíso': 'Ji-Paraná',\n",
       " 'Cacoal': 'Cacoal',\n",
       " \"Alta Floresta D'Oeste\": 'Cacoal',\n",
       " 'Alto Alegre dos Parecis': 'Cacoal',\n",
       " 'Castanheiras': 'Cacoal',\n",
       " \"Espigão D'Oeste\": 'Cacoal',\n",
       " 'Ministro Andreazza': 'Cacoal',\n",
       " \"Nova Brasilândia D'Oeste\": 'Cacoal',\n",
       " 'Novo Horizonte do Oeste': 'Cacoal',\n",
       " 'Parecis': 'Cacoal',\n",
       " 'Pimenta Bueno': 'Cacoal',\n",
       " 'Primavera de Rondônia': 'Cacoal',\n",
       " 'Rolim de Moura': 'Cacoal',\n",
       " \"Santa Luzia D'Oeste\": 'Cacoal',\n",
       " \"São Felipe D'Oeste\": 'Cacoal',\n",
       " 'Vilhena': 'Vilhena',\n",
       " 'Cabixi': 'Vilhena',\n",
       " 'Cerejeiras': 'Vilhena',\n",
       " 'Chupinguaia': 'Vilhena',\n",
       " 'Colorado do Oeste': 'Vilhena',\n",
       " 'Corumbiara': 'Vilhena',\n",
       " 'Pimenteiras do Oeste': 'Vilhena'}"
      ]
     },
     "execution_count": 10,
     "metadata": {},
     "output_type": "execute_result"
    }
   ],
   "execution_count": 10
  },
  {
   "metadata": {
    "ExecuteTime": {
     "end_time": "2024-12-19T22:19:06.623568Z",
     "start_time": "2024-12-19T22:19:06.619183Z"
    }
   },
   "cell_type": "code",
   "source": [
    "# Adicionando a coluna da região imediata\n",
    "sinasc_raw['regiao_imediata'] = sinasc_raw['munResNome'].map(imediatas)"
   ],
   "outputs": [],
   "execution_count": 12
  },
  {
   "metadata": {
    "ExecuteTime": {
     "end_time": "2024-12-19T22:20:03.279005Z",
     "start_time": "2024-12-19T22:20:03.273235Z"
    }
   },
   "cell_type": "code",
   "source": [
    "# Convertendo a data de nascimento para formato de data\n",
    "sinasc_raw['DTNASC'] = pd.to_datetime(sinasc_raw['DTNASC'])"
   ],
   "outputs": [],
   "execution_count": 13
  },
  {
   "metadata": {
    "ExecuteTime": {
     "end_time": "2024-12-19T22:20:18.490843Z",
     "start_time": "2024-12-19T22:20:18.485997Z"
    }
   },
   "cell_type": "code",
   "source": [
    "# Criando coluna do mês e ano para análise temporal\n",
    "sinasc_raw['ano_mes'] = sinasc_raw['DTNASC'].dt.to_period('M')"
   ],
   "outputs": [],
   "execution_count": 14
  },
  {
   "metadata": {
    "ExecuteTime": {
     "end_time": "2024-12-19T22:20:37.574219Z",
     "start_time": "2024-12-19T22:20:37.569431Z"
    }
   },
   "cell_type": "code",
   "source": [
    "# Calculando a idade média por região imediata e mês\n",
    "idade_media = sinasc_raw.groupby(['ano_mes', 'regiao_imediata'])['IDADEMAE'].mean().unstack()"
   ],
   "outputs": [],
   "execution_count": 15
  },
  {
   "metadata": {
    "ExecuteTime": {
     "end_time": "2024-12-19T22:21:21.632049Z",
     "start_time": "2024-12-19T22:21:21.498709Z"
    }
   },
   "cell_type": "code",
   "source": [
    "# Plotando o gráfico\n",
    "plt.figure(figsize=(12, 6))\n",
    "for regiao in idade_media.columns:\n",
    "    plt.plot(idade_media.index.to_timestamp(), idade_media[regiao], label=regiao)"
   ],
   "outputs": [
    {
     "data": {
      "text/plain": [
       "<Figure size 1200x600 with 1 Axes>"
      ],
      "image/png": "[encoded data removed]"
     },
     "metadata": {},
     "output_type": "display_data"
    }
   ],
   "execution_count": 16
  },
  {
   "metadata": {
    "ExecuteTime": {
     "end_time": "2024-12-19T22:21:49.533015Z",
     "start_time": "2024-12-19T22:21:49.448880Z"
    }
   },
   "cell_type": "code",
   "source": [
    "plt.title('Idade Média das Mães ao Longo do Tempo por Região Imediata - Rondônia (2019)')\n",
    "plt.xlabel('Tempo')\n",
    "plt.ylabel('Idade Média')\n",
    "plt.legend(title='Região Imediata')\n",
    "plt.grid(True)\n",
    "plt.tight_layout()\n",
    "plt.show()"
   ],
   "outputs": [
    {
     "name": "stderr",
     "output_type": "stream",
     "text": [
      "/tmp/ipykernel_9048/343834639.py:4: UserWarning: No artists with labels found to put in legend.  Note that artists whose label start with an underscore are ignored when legend() is called with no argument.\n",
      "  plt.legend(title='Região Imediata')\n"
     ]
    },
    {
     "data": {
      "text/plain": [
       "<Figure size 640x480 with 1 Axes>"
      ],
      "image/png": "[encoded data removed]"
     },
     "metadata": {},
     "output_type": "display_data"
    }
   ],
   "execution_count": 17
  },
  {
   "metadata": {},
   "cell_type": "code",
   "outputs": [],
   "execution_count": null,
   "source": ""
  },
  {
   "cell_type": "markdown",
   "metadata": {
    "id": "yt-LIWxblTuF"
   },
   "source": [
    "### 5. Utilize a tabela do link abaixo e crie faixas utilizando o mapping e gere agrupamentos utilizando essas faixas como chave\n"
   ]
  },
  {
   "cell_type": "markdown",
   "metadata": {
    "id": "moZakjgIlTuF"
   },
   "source": [
    "### 5.1 IDH\n",
    "A - https://pt.wikipedia.org/wiki/Lista_de_munic%C3%ADpios_de_Rond%C3%B4nia_por_IDH-M\n"
   ]
  },
  {
   "metadata": {
    "ExecuteTime": {
     "end_time": "2024-12-19T20:45:53.513394Z",
     "start_time": "2024-12-19T20:45:53.505706Z"
    }
   },
   "cell_type": "code",
   "source": [
    "IDH = {\n",
    "    \"Alta Floresta D'Oeste\" : 'IDH-médio',\n",
    "    'Alto Alegre dos Parecis': 'IDH-baixo',\n",
    "    'Novo Horizonte do Oeste': 'IDH-médio',\n",
    "    'Rolim de Moura': 'IDH-alto',\n",
    "    \"São Felipe D'Oeste\": 'IDH-médio',\n",
    "    'Ariquemes': 'IDH-alto',\n",
    "    'Cujubim': 'IDH-médio',\n",
    "    'Alto Paraíso': 'IDH-médio',\n",
    "    'Monte Negro': 'IDH-médio',\n",
    "    'Jaru': 'IDH-médio',\n",
    "    'Rio Crespo': 'IDH-médio',\n",
    "    'Porto Velho': 'IDH-alto',\n",
    "    'Cacaulândia': 'IDH-médio',\n",
    "    'Itapuã do Oeste': 'IDH-médio',\n",
    "    'Ji-Paraná': 'IDH-alto',\n",
    "    'Buritis': 'IDH-médio',\n",
    "    'Vilhena':'IDH-alto',\n",
    "    'Vale do Anari':'IDH-baixo',\n",
    "    'Candeias do Jamari':'IDH-médio',\n",
    "    'Costa Marques':'IDH-médio',\n",
    "    'Campo Novo de Rondônia':'IDH-baixo',\n",
    "    \"Machadinho D'Oeste\": 'IDH-baixo',\n",
    "    'Colorado do Oeste': 'IDH-médio',\n",
    "    'Nova Mamoré': 'IDH-baixo',\n",
    "    'Urupá': 'IDH-médio',\n",
    "    'Ouro Preto do Oeste': 'IDH-médio',\n",
    "    'Corumbiara':'IDH-médio',\n",
    "    'São Miguel do Guaporé':'IDH-médio',\n",
    "    'Governador Jorge Teixeira': 'IDH-baixo',\n",
    "    \"Santa Luzia D'Oeste\":'IDH-médio',\n",
    "    'Pimenta Bueno': 'IDH-alto',\n",
    "    'Mirante da Serra':'IDH-médio',\n",
    "    'Cerejeiras':'IDH-médio',\n",
    "    'Presidente Médici':'IDH-médio',\n",
    "    'Cacoal': 'IDH-alto',\n",
    "    'Parecis':'IDH-médio',\n",
    "    \"Espigão D'Oeste\":'IDH-médio',\n",
    "    'São Francisco do Guaporé':'IDH-médio',\n",
    "    'Ministro Andreazza':'IDH-médio',\n",
    "    \"Nova Brasilândia D'Oeste\":'IDH-médio',\n",
    "    \"Alvorada D'Oeste\":'IDH-médio',\n",
    "    'Primavera de Rondônia':'IDH-médio',\n",
    "    'Seringueiras':'IDH-baixo',\n",
    "    'Castanheiras':'IDH-médio',\n",
    "    'Chupinguaia':'IDH-médio',\n",
    "    'Guajará-Mirim':'IDH-médio',\n",
    "    'Theobroma':'IDH-baixo',\n",
    "    'Nova União':'IDH-baixo',\n",
    "    'Teixeirópolis':'IDH-médio',\n",
    "    'Vale do Paraíso':'IDH-médio',\n",
    "    'Pimenteiras do Oeste':'IDH-médio',\n",
    "    'Cabixi':'IDH-médio'\n",
    "}"
   ],
   "outputs": [],
   "execution_count": 20
  },
  {
   "metadata": {
    "ExecuteTime": {
     "end_time": "2024-12-19T20:45:56.400579Z",
     "start_time": "2024-12-19T20:45:56.377310Z"
    }
   },
   "cell_type": "code",
   "source": [
    "idh = sinasc_raw.set_index('munResNome')\n",
    "idh.groupby(IDH)[['IDADEMAE', 'IDADEPAI']].agg(['mean','median', 'std'])"
   ],
   "outputs": [
    {
     "data": {
      "text/plain": [
       "             IDADEMAE                    IDADEPAI                 \n",
       "                 mean median       std       mean median       std\n",
       "munResNome                                                        \n",
       "IDH-alto    26.280332   26.0  6.415374  31.074091   30.0  7.773149\n",
       "IDH-baixo   25.326944   25.0  6.194908  30.617450   30.0  7.417345\n",
       "IDH-médio   25.884855   25.0  6.353274  31.207092   30.0  7.824859"
      ],
      "text/html": [
       "<div>\n",
       "<style scoped>\n",
       "    .dataframe tbody tr th:only-of-type {\n",
       "        vertical-align: middle;\n",
       "    }\n",
       "\n",
       "    .dataframe tbody tr th {\n",
       "        vertical-align: top;\n",
       "    }\n",
       "\n",
       "    .dataframe thead tr th {\n",
       "        text-align: left;\n",
       "    }\n",
       "\n",
       "    .dataframe thead tr:last-of-type th {\n",
       "        text-align: right;\n",
       "    }\n",
       "</style>\n",
       "<table border=\"1\" class=\"dataframe\">\n",
       "  <thead>\n",
       "    <tr>\n",
       "      <th></th>\n",
       "      <th colspan=\"3\" halign=\"left\">IDADEMAE</th>\n",
       "      <th colspan=\"3\" halign=\"left\">IDADEPAI</th>\n",
       "    </tr>\n",
       "    <tr>\n",
       "      <th></th>\n",
       "      <th>mean</th>\n",
       "      <th>median</th>\n",
       "      <th>std</th>\n",
       "      <th>mean</th>\n",
       "      <th>median</th>\n",
       "      <th>std</th>\n",
       "    </tr>\n",
       "    <tr>\n",
       "      <th>munResNome</th>\n",
       "      <th></th>\n",
       "      <th></th>\n",
       "      <th></th>\n",
       "      <th></th>\n",
       "      <th></th>\n",
       "      <th></th>\n",
       "    </tr>\n",
       "  </thead>\n",
       "  <tbody>\n",
       "    <tr>\n",
       "      <th>IDH-alto</th>\n",
       "      <td>26.280332</td>\n",
       "      <td>26.0</td>\n",
       "      <td>6.415374</td>\n",
       "      <td>31.074091</td>\n",
       "      <td>30.0</td>\n",
       "      <td>7.773149</td>\n",
       "    </tr>\n",
       "    <tr>\n",
       "      <th>IDH-baixo</th>\n",
       "      <td>25.326944</td>\n",
       "      <td>25.0</td>\n",
       "      <td>6.194908</td>\n",
       "      <td>30.617450</td>\n",
       "      <td>30.0</td>\n",
       "      <td>7.417345</td>\n",
       "    </tr>\n",
       "    <tr>\n",
       "      <th>IDH-médio</th>\n",
       "      <td>25.884855</td>\n",
       "      <td>25.0</td>\n",
       "      <td>6.353274</td>\n",
       "      <td>31.207092</td>\n",
       "      <td>30.0</td>\n",
       "      <td>7.824859</td>\n",
       "    </tr>\n",
       "  </tbody>\n",
       "</table>\n",
       "</div>"
      ]
     },
     "execution_count": 21,
     "metadata": {},
     "output_type": "execute_result"
    }
   ],
   "execution_count": 21
  },
  {
   "cell_type": "code",
   "execution_count": null,
   "metadata": {
    "id": "DaJk66_BlTuF"
   },
   "outputs": [],
   "source": []
  },
  {
   "cell_type": "markdown",
   "metadata": {
    "id": "zhtI6CxtlTuH"
   },
   "source": [
    "### 5.2 IFDM\n",
    "B - https://pt.wikipedia.org/wiki/Lista_de_munic%C3%ADpios_de_Rond%C3%B4nia_por_IFDM\n"
   ]
  },
  {
   "metadata": {
    "ExecuteTime": {
     "end_time": "2024-12-19T20:46:51.253673Z",
     "start_time": "2024-12-19T20:46:51.249806Z"
    }
   },
   "cell_type": "code",
   "source": [
    "IFDM = {\n",
    "    \"Espigão d'Oeste\":'des_regular',\n",
    "    'Seringueiras':'des_regular',\n",
    "    \"Alvorada d'Oeste\":'des_regular',\n",
    "    'Itapuã do Oeste':'des_regular',\n",
    "    'Cabixi':'des_regular',\n",
    "    'Novo Horizonte do Oeste':'des_regular',\n",
    "    \"Nova Brasilândia d'Oeste\":'des_regular',\n",
    "    'Vale do Paraíso':'des_regular',\n",
    "    'Corumbiara':'des_regular',\n",
    "    'Alto Paraíso':'des_regular',\n",
    "    'Cacaulândia':'des_regular',\n",
    "    'Vale do Anari':'des_regular',\n",
    "    'Ministro Andreazza':'des_regular',\n",
    "    'Costa Marques':'des_regular',\n",
    "    'Nova União':'des_regular',\n",
    "    'Guajará-Mirim':'des_regular',\n",
    "    'Mirante da Serra':'des_regular',\n",
    "    'Parecis':'des_regular',\n",
    "    'Castanheiras':'des_regular',\n",
    "    'Theobroma':'des_regular',\n",
    "    \"Machadinho d'Oeste\":'des_regular',\n",
    "    'Campo Novo de Rondônia':'des_regular',\n",
    "    'Nova Mamoré':'des_regular',\n",
    "    'Cujubim':'des_regular',\n",
    "    'Alto Alegre dos Parecis':'des_regular',\n",
    "    'Governador Jorge Teixeira': 'des_regular',\n",
    "    \"Ariquemes\": 'des_moderado',\n",
    "    \"Vilhena\": 'des_moderado',\n",
    "    \"Pimenta Bueno\": 'des_moderado',\n",
    "    \"Porto Velho\": 'des_moderado',\n",
    "    \"Ji-Paraná\": 'des_moderado',\n",
    "    \"Cacoal\": 'des_moderado',\n",
    "    \"Santa Luzia d'Oeste\": 'des_moderado',\n",
    "    \"Rolim de Moura\": 'des_moderado',\n",
    "    \"Chupinguaia\": 'des_moderado',\n",
    "    \"São Miguel do Guaporé\": 'des_moderado',\n",
    "    \"Pimenteiras do Oeste\": 'des_moderado',\n",
    "    \"Teixeirópolis\": 'des_moderado',\n",
    "    \"Colorado do Oeste\": 'des_moderado',\n",
    "    \"Jaru\": 'des_moderado',\n",
    "    \"Rio Crespo\": 'des_moderado',\n",
    "    \"Primavera de Rondônia\": 'des_moderado',\n",
    "    \"Alta Floresta d'Oeste\": 'des_moderado',\n",
    "    \"Ouro Preto do Oeste\": 'des_moderado',\n",
    "    \"São Francisco do Guaporé\": 'des_moderado',\n",
    "    \"Candeias do Jamari\": 'des_moderado',\n",
    "    \"Buritis\": 'des_moderado',\n",
    "    \"São Felipe d'Oeste\": 'des_moderado',\n",
    "    \"Presidente Médici\": 'des_moderado',\n",
    "    \"Cerejeiras\": 'des_moderado',\n",
    "    \"Monte Negro\": 'des_moderado',\n",
    "    \"Urupá\": 'des_moderado',\n",
    "\n",
    "}"
   ],
   "outputs": [],
   "execution_count": 23
  },
  {
   "metadata": {
    "ExecuteTime": {
     "end_time": "2024-12-19T20:46:53.703466Z",
     "start_time": "2024-12-19T20:46:53.685554Z"
    }
   },
   "cell_type": "code",
   "source": "sinasc_raw.set_index('munResNome')['IDADEMAE'].groupby(IFDM).agg(['sum', 'mean', 'min', 'max', 'median', 'std', 'var'])",
   "outputs": [
    {
     "data": {
      "text/plain": [
       "                 sum       mean  min  max  median       std        var\n",
       "munResNome                                                            \n",
       "des_moderado  561938  26.226921   12   53    26.0  6.388564  40.813756\n",
       "des_regular    93135  25.412005   11   52    25.0  6.376854  40.664266"
      ],
      "text/html": [
       "<div>\n",
       "<style scoped>\n",
       "    .dataframe tbody tr th:only-of-type {\n",
       "        vertical-align: middle;\n",
       "    }\n",
       "\n",
       "    .dataframe tbody tr th {\n",
       "        vertical-align: top;\n",
       "    }\n",
       "\n",
       "    .dataframe thead th {\n",
       "        text-align: right;\n",
       "    }\n",
       "</style>\n",
       "<table border=\"1\" class=\"dataframe\">\n",
       "  <thead>\n",
       "    <tr style=\"text-align: right;\">\n",
       "      <th></th>\n",
       "      <th>sum</th>\n",
       "      <th>mean</th>\n",
       "      <th>min</th>\n",
       "      <th>max</th>\n",
       "      <th>median</th>\n",
       "      <th>std</th>\n",
       "      <th>var</th>\n",
       "    </tr>\n",
       "    <tr>\n",
       "      <th>munResNome</th>\n",
       "      <th></th>\n",
       "      <th></th>\n",
       "      <th></th>\n",
       "      <th></th>\n",
       "      <th></th>\n",
       "      <th></th>\n",
       "      <th></th>\n",
       "    </tr>\n",
       "  </thead>\n",
       "  <tbody>\n",
       "    <tr>\n",
       "      <th>des_moderado</th>\n",
       "      <td>561938</td>\n",
       "      <td>26.226921</td>\n",
       "      <td>12</td>\n",
       "      <td>53</td>\n",
       "      <td>26.0</td>\n",
       "      <td>6.388564</td>\n",
       "      <td>40.813756</td>\n",
       "    </tr>\n",
       "    <tr>\n",
       "      <th>des_regular</th>\n",
       "      <td>93135</td>\n",
       "      <td>25.412005</td>\n",
       "      <td>11</td>\n",
       "      <td>52</td>\n",
       "      <td>25.0</td>\n",
       "      <td>6.376854</td>\n",
       "      <td>40.664266</td>\n",
       "    </tr>\n",
       "  </tbody>\n",
       "</table>\n",
       "</div>"
      ]
     },
     "execution_count": 24,
     "metadata": {},
     "output_type": "execute_result"
    }
   ],
   "execution_count": 24
  },
  {
   "cell_type": "code",
   "metadata": {
    "id": "1AVkd1M3lTuI",
    "ExecuteTime": {
     "end_time": "2024-12-19T20:46:55.093184Z",
     "start_time": "2024-12-19T20:46:55.076604Z"
    }
   },
   "source": "sinasc_raw.set_index('munResNome')['IDADEPAI'].groupby(IFDM).agg(['sum', 'mean', 'min', 'max', 'median', 'std', 'var'])",
   "outputs": [
    {
     "data": {
      "text/plain": [
       "                   sum       mean   min   max  median       std        var\n",
       "munResNome                                                                \n",
       "des_moderado  179957.0  31.145206  15.0  70.0    30.0  7.741017  59.923346\n",
       "des_regular    25327.0  31.345297  16.0  73.0    30.0  7.975385  63.606768"
      ],
      "text/html": [
       "<div>\n",
       "<style scoped>\n",
       "    .dataframe tbody tr th:only-of-type {\n",
       "        vertical-align: middle;\n",
       "    }\n",
       "\n",
       "    .dataframe tbody tr th {\n",
       "        vertical-align: top;\n",
       "    }\n",
       "\n",
       "    .dataframe thead th {\n",
       "        text-align: right;\n",
       "    }\n",
       "</style>\n",
       "<table border=\"1\" class=\"dataframe\">\n",
       "  <thead>\n",
       "    <tr style=\"text-align: right;\">\n",
       "      <th></th>\n",
       "      <th>sum</th>\n",
       "      <th>mean</th>\n",
       "      <th>min</th>\n",
       "      <th>max</th>\n",
       "      <th>median</th>\n",
       "      <th>std</th>\n",
       "      <th>var</th>\n",
       "    </tr>\n",
       "    <tr>\n",
       "      <th>munResNome</th>\n",
       "      <th></th>\n",
       "      <th></th>\n",
       "      <th></th>\n",
       "      <th></th>\n",
       "      <th></th>\n",
       "      <th></th>\n",
       "      <th></th>\n",
       "    </tr>\n",
       "  </thead>\n",
       "  <tbody>\n",
       "    <tr>\n",
       "      <th>des_moderado</th>\n",
       "      <td>179957.0</td>\n",
       "      <td>31.145206</td>\n",
       "      <td>15.0</td>\n",
       "      <td>70.0</td>\n",
       "      <td>30.0</td>\n",
       "      <td>7.741017</td>\n",
       "      <td>59.923346</td>\n",
       "    </tr>\n",
       "    <tr>\n",
       "      <th>des_regular</th>\n",
       "      <td>25327.0</td>\n",
       "      <td>31.345297</td>\n",
       "      <td>16.0</td>\n",
       "      <td>73.0</td>\n",
       "      <td>30.0</td>\n",
       "      <td>7.975385</td>\n",
       "      <td>63.606768</td>\n",
       "    </tr>\n",
       "  </tbody>\n",
       "</table>\n",
       "</div>"
      ]
     },
     "execution_count": 25,
     "metadata": {},
     "output_type": "execute_result"
    }
   ],
   "execution_count": 25
  },
  {
   "cell_type": "markdown",
   "metadata": {
    "id": "BwdS46EWlTuI"
   },
   "source": [
    "### 5.3 PIB\n",
    "C - https://pt.wikipedia.org/wiki/Lista_de_munic%C3%ADpios_de_Rond%C3%B4nia_por_PIB\n"
   ]
  },
  {
   "cell_type": "markdown",
   "metadata": {
    "id": "bdWGW_xtlTuI"
   },
   "source": [
    "### Analise as respostas encontradas, tire algum insight delas, conte pra gente algo encontrado nos dados."
   ]
  },
  {
   "cell_type": "markdown",
   "metadata": {
    "id": "shZvokfBlTuI"
   },
   "source": [
    "Exemplo:\n",
    "- Ah, descobri que a idade mediana das mulheres que deram a luz no ano de 2019 dos municipios com o PIB mais alto é a maior dentre todas."
   ]
  },
  {
   "metadata": {
    "ExecuteTime": {
     "end_time": "2024-12-19T22:24:16.112161Z",
     "start_time": "2024-12-19T22:24:16.107656Z"
    }
   },
   "cell_type": "code",
   "source": [
    "PIB = {\n",
    "    \"Porto Velho\": \"Acima de 1 bilhão\",\n",
    "    \"Ji-Paraná\": \"Acima de 1 bilhão\",\n",
    "    \"Vilhena\": \"Acima de 1 bilhão\",\n",
    "    \"Ariquemes\": \"Acima de 1 bilhão\",\n",
    "    \"Cacoal\": \"Acima de 1 bilhão\",\n",
    "    \"Jaru\": \"Acima de 1 bilhão\",\n",
    "    \"Rolim de Moura\": \"Acima de 1 bilhão\",\n",
    "    \"Pimenta Bueno\": \"Acima de 1 bilhão\",\n",
    "    \"Guajará-Mirim\": \"Acima de 500 Milhões\",\n",
    "    \"Ouro Preto do Oeste\": \"Acima de 500 Milhões\",\n",
    "    \"Buritis\": \"Acima de 500 Milhões\",\n",
    "    \"Machadinho do Oeste\": \"Acima de 500 Milhões\",\n",
    "    \"Espigão d'Oeste\": \"Acima de 500 Milhões\",\n",
    "    \"São Miguel do Guaporé\": \"Acima de 500 Milhões\",\n",
    "    \"Candeias do Jamari\": \"Acima de 500 Milhões\",\n",
    "    \"Nova Mamoré\": \"Acima de 500 Milhões\",\n",
    "    \"Cerejeiras\": \"Acima de 500 Milhões\",\n",
    "    \"Alta Floresta do Oeste\": \"Acima de 300 Milhões\",\n",
    "    \"Presidente Médici\": \"Acima de 300 Milhões\",\n",
    "    \"Cujubim\": \"Acima de 300 Milhões\",\n",
    "    \"Nova Brasilândia do Oeste\": \"Acima de 300 Milhões\",\n",
    "    \"Alto Paraíso\": \"Acima de 300 Milhões\",\n",
    "    \"São Francisco do Guaporé\": \"Acima de 300 Milhões\",\n",
    "    \"Colorado do Oeste\": \"Acima de 300 Milhões\",\n",
    "    \"Monte Negro\": \"Acima de 200 Milhões\",\n",
    "    \"Alto Alegre dos Parecis\": \"Acima de 200 Milhões\",\n",
    "    \"Campo Novo de Rondônia\": \"Acima de 200 Milhões\",\n",
    "    \"Alvorada do Oeste\": \"Acima de 200 Milhões\",\n",
    "    \"Chupinguaia\": \"Acima de 100 Milhões\",\n",
    "    \"Corumbiara\": \"Acima de 100 Milhões\",\n",
    "    \"Ministro Andreazza\": \"Acima de 100 Milhões\",\n",
    "    \"Urupá\": \"Acima de 100 Milhões\",\n",
    "    \"Costa Marques\": \"Acima de 100 Milhões\",\n",
    "    \"Seringueiras\": \"Acima de 100 Milhões\",\n",
    "    \"Mirante da Serra\": \"Acima de 100 Milhões\",\n",
    "    \"Governador Jorge Teixeira\": \"Acima de 100 Milhões\",\n",
    "    \"Theobroma\": \"Acima de 100 Milhões\",\n",
    "    \"Santa Luzia do Oeste\": \"Acima de 100 Milhões\",\n",
    "    \"Novo Horizonte do Oeste\": \"Acima de 100 Milhões\",\n",
    "    \"Itapuã do Oeste\": \"Acima de 100 Milhões\",\n",
    "    \"Vale do Paraíso\": \"Acima de 100 Milhões\",\n",
    "    \"Cacaulândia\": \"Acima de 100 Milhões\",\n",
    "    \"Cabixi\": \"Acima de 100 Milhões\",\n",
    "    \"Vale do Anari\": \"Acima de 100 Milhões\",\n",
    "    \"Nova União\": \"Até 100 Milhões\",\n",
    "    \"Parecis\": \"Até 100 Milhões\",\n",
    "    \"Rio Crespo\": \"Até 100 Milhões\",\n",
    "    \"Pimenteiras do Oeste\": \"Até 100 Milhões\",\n",
    "    \"Teixeirópolis\": \"Até 100 Milhões\",\n",
    "    \"São Felipe do Oeste\": \"Até 100 Milhões\",\n",
    "    \"Castanheiras\": \"Até 100 Milhões\",\n",
    "    \"Primavera de Rondônia\": \"Até 100 Milhões\"\n",
    "}\n",
    "PIB"
   ],
   "outputs": [
    {
     "data": {
      "text/plain": [
       "{'Porto Velho': 'Acima de 1 bilhão',\n",
       " 'Ji-Paraná': 'Acima de 1 bilhão',\n",
       " 'Vilhena': 'Acima de 1 bilhão',\n",
       " 'Ariquemes': 'Acima de 1 bilhão',\n",
       " 'Cacoal': 'Acima de 1 bilhão',\n",
       " 'Jaru': 'Acima de 1 bilhão',\n",
       " 'Rolim de Moura': 'Acima de 1 bilhão',\n",
       " 'Pimenta Bueno': 'Acima de 1 bilhão',\n",
       " 'Guajará-Mirim': 'Acima de 500 Milhões',\n",
       " 'Ouro Preto do Oeste': 'Acima de 500 Milhões',\n",
       " 'Buritis': 'Acima de 500 Milhões',\n",
       " 'Machadinho do Oeste': 'Acima de 500 Milhões',\n",
       " \"Espigão d'Oeste\": 'Acima de 500 Milhões',\n",
       " 'São Miguel do Guaporé': 'Acima de 500 Milhões',\n",
       " 'Candeias do Jamari': 'Acima de 500 Milhões',\n",
       " 'Nova Mamoré': 'Acima de 500 Milhões',\n",
       " 'Cerejeiras': 'Acima de 500 Milhões',\n",
       " 'Alta Floresta do Oeste': 'Acima de 300 Milhões',\n",
       " 'Presidente Médici': 'Acima de 300 Milhões',\n",
       " 'Cujubim': 'Acima de 300 Milhões',\n",
       " 'Nova Brasilândia do Oeste': 'Acima de 300 Milhões',\n",
       " 'Alto Paraíso': 'Acima de 300 Milhões',\n",
       " 'São Francisco do Guaporé': 'Acima de 300 Milhões',\n",
       " 'Colorado do Oeste': 'Acima de 300 Milhões',\n",
       " 'Monte Negro': 'Acima de 200 Milhões',\n",
       " 'Alto Alegre dos Parecis': 'Acima de 200 Milhões',\n",
       " 'Campo Novo de Rondônia': 'Acima de 200 Milhões',\n",
       " 'Alvorada do Oeste': 'Acima de 200 Milhões',\n",
       " 'Chupinguaia': 'Acima de 100 Milhões',\n",
       " 'Corumbiara': 'Acima de 100 Milhões',\n",
       " 'Ministro Andreazza': 'Acima de 100 Milhões',\n",
       " 'Urupá': 'Acima de 100 Milhões',\n",
       " 'Costa Marques': 'Acima de 100 Milhões',\n",
       " 'Seringueiras': 'Acima de 100 Milhões',\n",
       " 'Mirante da Serra': 'Acima de 100 Milhões',\n",
       " 'Governador Jorge Teixeira': 'Acima de 100 Milhões',\n",
       " 'Theobroma': 'Acima de 100 Milhões',\n",
       " 'Santa Luzia do Oeste': 'Acima de 100 Milhões',\n",
       " 'Novo Horizonte do Oeste': 'Acima de 100 Milhões',\n",
       " 'Itapuã do Oeste': 'Acima de 100 Milhões',\n",
       " 'Vale do Paraíso': 'Acima de 100 Milhões',\n",
       " 'Cacaulândia': 'Acima de 100 Milhões',\n",
       " 'Cabixi': 'Acima de 100 Milhões',\n",
       " 'Vale do Anari': 'Acima de 100 Milhões',\n",
       " 'Nova União': 'Até 100 Milhões',\n",
       " 'Parecis': 'Até 100 Milhões',\n",
       " 'Rio Crespo': 'Até 100 Milhões',\n",
       " 'Pimenteiras do Oeste': 'Até 100 Milhões',\n",
       " 'Teixeirópolis': 'Até 100 Milhões',\n",
       " 'São Felipe do Oeste': 'Até 100 Milhões',\n",
       " 'Castanheiras': 'Até 100 Milhões',\n",
       " 'Primavera de Rondônia': 'Até 100 Milhões'}"
      ]
     },
     "execution_count": 18,
     "metadata": {},
     "output_type": "execute_result"
    }
   ],
   "execution_count": 18
  },
  {
   "metadata": {
    "ExecuteTime": {
     "end_time": "2024-12-19T22:59:50.147846Z",
     "start_time": "2024-12-19T22:59:45.543742Z"
    }
   },
   "cell_type": "code",
   "source": "pip install lxml",
   "outputs": [
    {
     "name": "stdout",
     "output_type": "stream",
     "text": [
      "Collecting lxml\r\n",
      "  Obtaining dependency information for lxml from https://files.pythonhosted.org/packages/0a/6e/94537acfb5b8f18235d13186d247bca478fea5e87d224644e0fe907df976/lxml-5.3.0-cp312-cp312-manylinux_2_28_x86_64.whl.metadata\r\n",
      "  Downloading lxml-5.3.0-cp312-cp312-manylinux_2_28_x86_64.whl.metadata (3.8 kB)\r\n",
      "Downloading lxml-5.3.0-cp312-cp312-manylinux_2_28_x86_64.whl (4.9 MB)\r\n",
      "\u001B[2K   \u001B[90m━━━━━━━━━━━━━━━━━━━━━━━━━━━━━━━━━━━━━━━━\u001B[0m \u001B[32m4.9/4.9 MB\u001B[0m \u001B[31m2.4 MB/s\u001B[0m eta \u001B[36m0:00:00\u001B[0m00:01\u001B[0m00:01\u001B[0m\r\n",
      "\u001B[?25hInstalling collected packages: lxml\r\n",
      "Successfully installed lxml-5.3.0\r\n",
      "\r\n",
      "\u001B[1m[\u001B[0m\u001B[34;49mnotice\u001B[0m\u001B[1;39;49m]\u001B[0m\u001B[39;49m A new release of pip is available: \u001B[0m\u001B[31;49m23.2.1\u001B[0m\u001B[39;49m -> \u001B[0m\u001B[32;49m24.3.1\u001B[0m\r\n",
      "\u001B[1m[\u001B[0m\u001B[34;49mnotice\u001B[0m\u001B[1;39;49m]\u001B[0m\u001B[39;49m To update, run: \u001B[0m\u001B[32;49mpip install --upgrade pip\u001B[0m\r\n",
      "Note: you may need to restart the kernel to use updated packages.\n"
     ]
    }
   ],
   "execution_count": 45
  },
  {
   "metadata": {
    "ExecuteTime": {
     "end_time": "2024-12-19T22:59:53.937261Z",
     "start_time": "2024-12-19T22:59:53.643868Z"
    }
   },
   "cell_type": "code",
   "source": [
    "import pandas as pd\n",
    "import requests\n",
    "from bs4 import BeautifulSoup\n",
    "\n",
    "# Define the target URL\n",
    "url_pib = 'https://pt.wikipedia.org/wiki/Lista_de_munic%C3%ADpios_de_Rond%C3%B4nia_por_PIB'\n",
    "\n",
    "# Fetch the webpage content using requests\n",
    "response = requests.get(url_pib)\n",
    "if response.status_code == 200:\n",
    "    # Parse the HTML content using BeautifulSoup\n",
    "    soup = BeautifulSoup(response.text, 'html.parser')\n",
    "\n",
    "    # Locate all tables on the webpage\n",
    "    tables = soup.find_all('table')\n",
    "\n",
    "    # Read the first table using pandas\n",
    "    if tables:\n",
    "        # Convert the HTML table to a DataFrame\n",
    "        df = pd.read_html(str(tables[0]))[0]\n",
    "        print(df.head())  # Display the first few rows of the extracted data\n",
    "    else:\n",
    "        print(\"No tables found on the webpage.\")\n",
    "else:\n",
    "    print(f\"Failed to fetch the webpage. Status code: {response.status_code}\")\n"
   ],
   "outputs": [
    {
     "name": "stdout",
     "output_type": "stream",
     "text": [
      "  Posição                   Município         PIB Alteração\n",
      "  Em 2019 Mudança (2014)    Município         PIB Alteração\n",
      "0       1            (0)  Porto Velho  17 912 070       NaN\n",
      "1       2            (0)    Ji-Paraná   3 783 972       NaN\n",
      "2       3            (0)      Vilhena   2 831 175       NaN\n",
      "3       4            (0)    Ariquemes   2 579 830       NaN\n",
      "4       5            (0)       Cacoal   2 261 644       NaN\n"
     ]
    },
    {
     "name": "stderr",
     "output_type": "stream",
     "text": [
      "/tmp/ipykernel_9048/2928156314.py:20: FutureWarning: Passing literal html to 'read_html' is deprecated and will be removed in a future version. To read from a literal string, wrap it in a 'StringIO' object.\n",
      "  df = pd.read_html(str(tables[0]))[0]\n"
     ]
    }
   ],
   "execution_count": 46
  },
  {
   "metadata": {},
   "cell_type": "code",
   "outputs": [],
   "execution_count": null,
   "source": ""
  },
  {
   "metadata": {},
   "cell_type": "code",
   "outputs": [],
   "execution_count": null,
   "source": ""
  },
  {
   "metadata": {},
   "cell_type": "code",
   "outputs": [],
   "execution_count": null,
   "source": ""
  },
  {
   "cell_type": "code",
   "execution_count": null,
   "metadata": {
    "id": "f8P7BYYglTuJ"
   },
   "outputs": [],
   "source": []
  },
  {
   "metadata": {},
   "cell_type": "code",
   "outputs": [],
   "execution_count": null,
   "source": ""
  },
  {
   "metadata": {},
   "cell_type": "code",
   "outputs": [],
   "execution_count": null,
   "source": ""
  },
  {
   "metadata": {},
   "cell_type": "code",
   "outputs": [],
   "execution_count": null,
   "source": [
    "# Import necessary libraries\n",
    "from bs4 import BeautifulSoup\n",
    "import pandas as pd\n",
    "# URL to fetch HTML content from\n",
    "url = 'https://pt.wikipedia.org/wiki/Lista_de_munic%C3%ADpios_de_Rond%C3%B4nia_por_PIB'\n",
    "# Example HTML content for demonstration (replace with your actual HTML)\n",
    "html_content = \"\"\"\n",
    "<html>\n",
    "    <body>\n",
    "        <table>\n",
    "            <thead>\n",
    "                <tr>\n",
    "                    <th>Year</th>\n",
    "                    <th>GDP</th>\n",
    "                </tr>\n",
    "            </thead>\n",
    "            <tbody>\n",
    "                <tr>\n",
    "                    <td>2021</td>\n",
    "                    <td>21.4</td>\n",
    "                </tr>\n",
    "                <tr>\n",
    "                    <td>2022</td>\n",
    "                    <td>22.8</td>\n",
    "                </tr>\n",
    "            </tbody>\n",
    "        </table>\n",
    "    </body>\n",
    "</html>\n",
    "\"\"\"\n",
    "# Parse the HTML content\n",
    "soup = BeautifulSoup(html_content, 'html.parser')\n",
    "\n",
    "# Find all table elements\n",
    "tables_html = soup.find_all('table')\n",
    "\n",
    "# Parse the tables manually into DataFrames\n",
    "tables_pib = []\n",
    "for table in tables_html:\n",
    "    headers = [header.text for header in table.find_all('th')]  # Extract table headers\n",
    "    rows = [\n",
    "        [cell.text for cell in row.find_all('td')]  # Extract each row's data\n",
    "        for row in table.find_all('tr')[1:]  # Skip header row\n",
    "    ]\n",
    "    # Create a DataFrame for the current table\n",
    "    df = pd.DataFrame(rows, columns=headers)\n",
    "    tables_pib.append(df)\n",
    "\n",
    "# Example process: Display the first table if it exists\n",
    "if tables_pib:  # Check if any tables were found\n",
    "    pib_data = tables_pib[0]  # Select the first table\n",
    "    print(pib_data)\n",
    "else:\n",
    "    print(\"No tables found.\")"
   ]
  }
 ],
 "metadata": {
  "kernelspec": {
   "display_name": "Python 3",
   "language": "python",
   "name": "python3"
  },
  "language_info": {
   "codemirror_mode": {
    "name": "ipython",
    "version": 3
   },
   "file_extension": ".py",
   "mimetype": "text/x-python",
   "name": "python",
   "nbconvert_exporter": "python",
   "pygments_lexer": "ipython3",
   "version": "3.8.5"
  },
  "varInspector": {
   "cols": {
    "lenName": 16,
    "lenType": 16,
    "lenVar": 40
   },
   "kernels_config": {
    "python": {
     "delete_cmd_postfix": "",
     "delete_cmd_prefix": "del ",
     "library": "var_list.py",
     "varRefreshCmd": "print(var_dic_list())"
    },
    "r": {
     "delete_cmd_postfix": ") ",
     "delete_cmd_prefix": "rm(",
     "library": "var_list.r",
     "varRefreshCmd": "cat(var_dic_list()) "
    }
   },
   "types_to_exclude": [
    "module",
    "function",
    "builtin_function_or_method",
    "instance",
    "_Feature"
   ],
   "window_display": false
  },
  "colab": {
   "provenance": []
  }
 },
 "nbformat": 4,
 "nbformat_minor": 0
}
