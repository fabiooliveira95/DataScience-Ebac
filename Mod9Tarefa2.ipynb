{
 "cells": [
  {
   "cell_type": "markdown",
   "metadata": {
    "id": "eYvCczy6lTt7"
   },
   "source": [
    "# Livro para consulta:\n",
    "- https://jakevdp.github.io/PythonDataScienceHandbook/03.08-aggregation-and-grouping.html\n",
    "- https://jakevdp.github.io/PythonDataScienceHandbook/03.09-pivot-tables.html\n"
   ]
  },
  {
   "cell_type": "markdown",
   "metadata": {
    "id": "oeWprAfnlTt-"
   },
   "source": [
    "# 1. Importando bibliotecas <a name=\"import\"></a>\n",
    "\n",
    "<div style=\"text-align: right\"\n",
    "     \n",
    "[Voltar ao índice](#Contents)"
   ]
  },
  {
   "cell_type": "code",
   "metadata": {
    "id": "y_9gYudilTt_",
    "ExecuteTime": {
     "end_time": "2024-12-19T14:11:33.754224Z",
     "start_time": "2024-12-19T14:11:33.744224Z"
    }
   },
   "source": [
    "import numpy as np\n",
    "import pandas as pd\n",
    "import seaborn as sns\n",
    "import matplotlib.pyplot as plt\n",
    "from jedi.plugins.django import mapping\n",
    "\n",
    "%matplotlib inline"
   ],
   "outputs": [],
   "execution_count": 2
  },
  {
   "cell_type": "markdown",
   "metadata": {
    "id": "-cpxC-IBlTuA"
   },
   "source": [
    "# 2. Carregando o dataframe SINASC <a name=\"read\"></a>\n",
    "<div style=\"text-align: right\"\n",
    "     \n",
    "[Voltar ao índice](#Contents)"
   ]
  },
  {
   "cell_type": "code",
   "metadata": {
    "scrolled": true,
    "id": "nQZn7u4DlTuB",
    "outputId": "74b44036-69d9-4139-b291-621d77ed331b",
    "ExecuteTime": {
     "end_time": "2024-12-19T14:11:35.897780Z",
     "start_time": "2024-12-19T14:11:35.772539Z"
    }
   },
   "source": [
    "sinasc_raw = pd.read_csv('SINASC_RO_2019.csv')\n",
    "sinasc_raw.head()"
   ],
   "outputs": [
    {
     "data": {
      "text/plain": [
       "   ORIGEM   CODESTAB  CODMUNNASC  LOCNASC  IDADEMAE  ESTCIVMAE  \\\n",
       "0       1  2679477.0      110001        1        19        5.0   \n",
       "1       1  2679477.0      110001        1        29        2.0   \n",
       "2       1  2679477.0      110001        1        37        9.0   \n",
       "3       1  2516500.0      110001        1        30        5.0   \n",
       "4       1  2516500.0      110001        1        30        2.0   \n",
       "\n",
       "            ESCMAE  CODOCUPMAE  QTDFILVIVO  QTDFILMORT  ...  KOTELCHUCK  \\\n",
       "0      8 a 11 anos         NaN         0.0         0.0  ...           5   \n",
       "1      8 a 11 anos    999992.0         1.0         0.0  ...           5   \n",
       "2      8 a 11 anos    513205.0         2.0         0.0  ...           5   \n",
       "3  12 anos ou mais    231205.0         0.0         0.0  ...           4   \n",
       "4      8 a 11 anos    999992.0         1.0         0.0  ...           5   \n",
       "\n",
       "  CONTADOR munResStatus munResTipo               munResNome  munResUf  \\\n",
       "0        1        ATIVO      MUNIC    Alta Floresta D'Oeste  Rondônia   \n",
       "1        2        ATIVO      MUNIC    Alta Floresta D'Oeste  Rondônia   \n",
       "2        3        ATIVO      MUNIC    Alta Floresta D'Oeste  Rondônia   \n",
       "3        4        ATIVO      MUNIC  Alto Alegre dos Parecis  Rondônia   \n",
       "4        5        ATIVO      MUNIC    Alta Floresta D'Oeste  Rondônia   \n",
       "\n",
       "   munResLat munResLon  munResAlt  munResArea  \n",
       "0  -11.93554 -61.99982      338.0    7067.025  \n",
       "1  -11.93554 -61.99982      338.0    7067.025  \n",
       "2  -11.93554 -61.99982      338.0    7067.025  \n",
       "3  -12.13178 -61.85308      397.0    3958.273  \n",
       "4  -11.93554 -61.99982      338.0    7067.025  \n",
       "\n",
       "[5 rows x 69 columns]"
      ],
      "text/html": [
       "<div>\n",
       "<style scoped>\n",
       "    .dataframe tbody tr th:only-of-type {\n",
       "        vertical-align: middle;\n",
       "    }\n",
       "\n",
       "    .dataframe tbody tr th {\n",
       "        vertical-align: top;\n",
       "    }\n",
       "\n",
       "    .dataframe thead th {\n",
       "        text-align: right;\n",
       "    }\n",
       "</style>\n",
       "<table border=\"1\" class=\"dataframe\">\n",
       "  <thead>\n",
       "    <tr style=\"text-align: right;\">\n",
       "      <th></th>\n",
       "      <th>ORIGEM</th>\n",
       "      <th>CODESTAB</th>\n",
       "      <th>CODMUNNASC</th>\n",
       "      <th>LOCNASC</th>\n",
       "      <th>IDADEMAE</th>\n",
       "      <th>ESTCIVMAE</th>\n",
       "      <th>ESCMAE</th>\n",
       "      <th>CODOCUPMAE</th>\n",
       "      <th>QTDFILVIVO</th>\n",
       "      <th>QTDFILMORT</th>\n",
       "      <th>...</th>\n",
       "      <th>KOTELCHUCK</th>\n",
       "      <th>CONTADOR</th>\n",
       "      <th>munResStatus</th>\n",
       "      <th>munResTipo</th>\n",
       "      <th>munResNome</th>\n",
       "      <th>munResUf</th>\n",
       "      <th>munResLat</th>\n",
       "      <th>munResLon</th>\n",
       "      <th>munResAlt</th>\n",
       "      <th>munResArea</th>\n",
       "    </tr>\n",
       "  </thead>\n",
       "  <tbody>\n",
       "    <tr>\n",
       "      <th>0</th>\n",
       "      <td>1</td>\n",
       "      <td>2679477.0</td>\n",
       "      <td>110001</td>\n",
       "      <td>1</td>\n",
       "      <td>19</td>\n",
       "      <td>5.0</td>\n",
       "      <td>8 a 11 anos</td>\n",
       "      <td>NaN</td>\n",
       "      <td>0.0</td>\n",
       "      <td>0.0</td>\n",
       "      <td>...</td>\n",
       "      <td>5</td>\n",
       "      <td>1</td>\n",
       "      <td>ATIVO</td>\n",
       "      <td>MUNIC</td>\n",
       "      <td>Alta Floresta D'Oeste</td>\n",
       "      <td>Rondônia</td>\n",
       "      <td>-11.93554</td>\n",
       "      <td>-61.99982</td>\n",
       "      <td>338.0</td>\n",
       "      <td>7067.025</td>\n",
       "    </tr>\n",
       "    <tr>\n",
       "      <th>1</th>\n",
       "      <td>1</td>\n",
       "      <td>2679477.0</td>\n",
       "      <td>110001</td>\n",
       "      <td>1</td>\n",
       "      <td>29</td>\n",
       "      <td>2.0</td>\n",
       "      <td>8 a 11 anos</td>\n",
       "      <td>999992.0</td>\n",
       "      <td>1.0</td>\n",
       "      <td>0.0</td>\n",
       "      <td>...</td>\n",
       "      <td>5</td>\n",
       "      <td>2</td>\n",
       "      <td>ATIVO</td>\n",
       "      <td>MUNIC</td>\n",
       "      <td>Alta Floresta D'Oeste</td>\n",
       "      <td>Rondônia</td>\n",
       "      <td>-11.93554</td>\n",
       "      <td>-61.99982</td>\n",
       "      <td>338.0</td>\n",
       "      <td>7067.025</td>\n",
       "    </tr>\n",
       "    <tr>\n",
       "      <th>2</th>\n",
       "      <td>1</td>\n",
       "      <td>2679477.0</td>\n",
       "      <td>110001</td>\n",
       "      <td>1</td>\n",
       "      <td>37</td>\n",
       "      <td>9.0</td>\n",
       "      <td>8 a 11 anos</td>\n",
       "      <td>513205.0</td>\n",
       "      <td>2.0</td>\n",
       "      <td>0.0</td>\n",
       "      <td>...</td>\n",
       "      <td>5</td>\n",
       "      <td>3</td>\n",
       "      <td>ATIVO</td>\n",
       "      <td>MUNIC</td>\n",
       "      <td>Alta Floresta D'Oeste</td>\n",
       "      <td>Rondônia</td>\n",
       "      <td>-11.93554</td>\n",
       "      <td>-61.99982</td>\n",
       "      <td>338.0</td>\n",
       "      <td>7067.025</td>\n",
       "    </tr>\n",
       "    <tr>\n",
       "      <th>3</th>\n",
       "      <td>1</td>\n",
       "      <td>2516500.0</td>\n",
       "      <td>110001</td>\n",
       "      <td>1</td>\n",
       "      <td>30</td>\n",
       "      <td>5.0</td>\n",
       "      <td>12 anos ou mais</td>\n",
       "      <td>231205.0</td>\n",
       "      <td>0.0</td>\n",
       "      <td>0.0</td>\n",
       "      <td>...</td>\n",
       "      <td>4</td>\n",
       "      <td>4</td>\n",
       "      <td>ATIVO</td>\n",
       "      <td>MUNIC</td>\n",
       "      <td>Alto Alegre dos Parecis</td>\n",
       "      <td>Rondônia</td>\n",
       "      <td>-12.13178</td>\n",
       "      <td>-61.85308</td>\n",
       "      <td>397.0</td>\n",
       "      <td>3958.273</td>\n",
       "    </tr>\n",
       "    <tr>\n",
       "      <th>4</th>\n",
       "      <td>1</td>\n",
       "      <td>2516500.0</td>\n",
       "      <td>110001</td>\n",
       "      <td>1</td>\n",
       "      <td>30</td>\n",
       "      <td>2.0</td>\n",
       "      <td>8 a 11 anos</td>\n",
       "      <td>999992.0</td>\n",
       "      <td>1.0</td>\n",
       "      <td>0.0</td>\n",
       "      <td>...</td>\n",
       "      <td>5</td>\n",
       "      <td>5</td>\n",
       "      <td>ATIVO</td>\n",
       "      <td>MUNIC</td>\n",
       "      <td>Alta Floresta D'Oeste</td>\n",
       "      <td>Rondônia</td>\n",
       "      <td>-11.93554</td>\n",
       "      <td>-61.99982</td>\n",
       "      <td>338.0</td>\n",
       "      <td>7067.025</td>\n",
       "    </tr>\n",
       "  </tbody>\n",
       "</table>\n",
       "<p>5 rows × 69 columns</p>\n",
       "</div>"
      ]
     },
     "execution_count": 3,
     "metadata": {},
     "output_type": "execute_result"
    }
   ],
   "execution_count": 3
  },
  {
   "cell_type": "code",
   "metadata": {
    "id": "Pz_6GorclTuC",
    "ExecuteTime": {
     "end_time": "2024-12-19T14:11:37.966535Z",
     "start_time": "2024-12-19T14:11:37.949531Z"
    }
   },
   "source": "sinasc_raw.info()",
   "outputs": [
    {
     "name": "stdout",
     "output_type": "stream",
     "text": [
      "<class 'pandas.core.frame.DataFrame'>\n",
      "RangeIndex: 27028 entries, 0 to 27027\n",
      "Data columns (total 69 columns):\n",
      " #   Column        Non-Null Count  Dtype  \n",
      "---  ------        --------------  -----  \n",
      " 0   ORIGEM        27028 non-null  int64  \n",
      " 1   CODESTAB      26913 non-null  float64\n",
      " 2   CODMUNNASC    27028 non-null  int64  \n",
      " 3   LOCNASC       27028 non-null  int64  \n",
      " 4   IDADEMAE      27028 non-null  int64  \n",
      " 5   ESTCIVMAE     26711 non-null  float64\n",
      " 6   ESCMAE        26716 non-null  object \n",
      " 7   CODOCUPMAE    24121 non-null  float64\n",
      " 8   QTDFILVIVO    25455 non-null  float64\n",
      " 9   QTDFILMORT    24930 non-null  float64\n",
      " 10  CODMUNRES     27028 non-null  int64  \n",
      " 11  GESTACAO      25796 non-null  object \n",
      " 12  GRAVIDEZ      26949 non-null  object \n",
      " 13  PARTO         26979 non-null  object \n",
      " 14  CONSULTAS     27028 non-null  int64  \n",
      " 15  DTNASC        27028 non-null  object \n",
      " 16  HORANASC      27007 non-null  float64\n",
      " 17  SEXO          27024 non-null  object \n",
      " 18  APGAR1        26932 non-null  float64\n",
      " 19  APGAR5        26925 non-null  float64\n",
      " 20  RACACOR       26381 non-null  object \n",
      " 21  PESO          27028 non-null  int64  \n",
      " 22  IDANOMAL      26437 non-null  float64\n",
      " 23  DTCADASTRO    27028 non-null  object \n",
      " 24  CODANOMAL     214 non-null    object \n",
      " 25  NUMEROLOTE    27028 non-null  int64  \n",
      " 26  VERSAOSIST    27028 non-null  object \n",
      " 27  DTRECEBIM     27028 non-null  object \n",
      " 28  DIFDATA       27028 non-null  int64  \n",
      " 29  DTRECORIGA    0 non-null      float64\n",
      " 30  NATURALMAE    26730 non-null  float64\n",
      " 31  CODMUNNATU    26730 non-null  float64\n",
      " 32  CODUFNATU     26730 non-null  float64\n",
      " 33  ESCMAE2010    26779 non-null  float64\n",
      " 34  SERIESCMAE    14318 non-null  float64\n",
      " 35  DTNASCMAE     26988 non-null  float64\n",
      " 36  RACACORMAE    26367 non-null  float64\n",
      " 37  QTDGESTANT    25816 non-null  float64\n",
      " 38  QTDPARTNOR    25149 non-null  float64\n",
      " 39  QTDPARTCES    25237 non-null  float64\n",
      " 40  IDADEPAI      7607 non-null   float64\n",
      " 41  DTULTMENST    16956 non-null  float64\n",
      " 42  SEMAGESTAC    25790 non-null  float64\n",
      " 43  TPMETESTIM    25790 non-null  float64\n",
      " 44  CONSPRENAT    26098 non-null  float64\n",
      " 45  MESPRENAT     24161 non-null  float64\n",
      " 46  TPAPRESENT    26763 non-null  float64\n",
      " 47  STTRABPART    26081 non-null  float64\n",
      " 48  STCESPARTO    26281 non-null  float64\n",
      " 49  TPNASCASSI    26967 non-null  float64\n",
      " 50  TPFUNCRESP    26961 non-null  float64\n",
      " 51  TPDOCRESP     27014 non-null  float64\n",
      " 52  DTDECLARAC    26976 non-null  float64\n",
      " 53  ESCMAEAGR1    26779 non-null  float64\n",
      " 54  STDNEPIDEM    27028 non-null  int64  \n",
      " 55  STDNNOVA      27028 non-null  int64  \n",
      " 56  CODPAISRES    27028 non-null  int64  \n",
      " 57  TPROBSON      27028 non-null  int64  \n",
      " 58  PARIDADE      27028 non-null  int64  \n",
      " 59  KOTELCHUCK    27028 non-null  int64  \n",
      " 60  CONTADOR      27028 non-null  int64  \n",
      " 61  munResStatus  27028 non-null  object \n",
      " 62  munResTipo    27028 non-null  object \n",
      " 63  munResNome    27028 non-null  object \n",
      " 64  munResUf      27028 non-null  object \n",
      " 65  munResLat     27027 non-null  float64\n",
      " 66  munResLon     27027 non-null  float64\n",
      " 67  munResAlt     27027 non-null  float64\n",
      " 68  munResArea    27027 non-null  float64\n",
      "dtypes: float64(38), int64(16), object(15)\n",
      "memory usage: 14.2+ MB\n"
     ]
    }
   ],
   "execution_count": 4
  },
  {
   "cell_type": "code",
   "metadata": {
    "id": "C7UKJm4slTuD",
    "ExecuteTime": {
     "end_time": "2024-12-19T14:11:39.421920Z",
     "start_time": "2024-12-19T14:11:39.418358Z"
    }
   },
   "source": "sinasc_raw.columns",
   "outputs": [
    {
     "data": {
      "text/plain": [
       "Index(['ORIGEM', 'CODESTAB', 'CODMUNNASC', 'LOCNASC', 'IDADEMAE', 'ESTCIVMAE',\n",
       "       'ESCMAE', 'CODOCUPMAE', 'QTDFILVIVO', 'QTDFILMORT', 'CODMUNRES',\n",
       "       'GESTACAO', 'GRAVIDEZ', 'PARTO', 'CONSULTAS', 'DTNASC', 'HORANASC',\n",
       "       'SEXO', 'APGAR1', 'APGAR5', 'RACACOR', 'PESO', 'IDANOMAL', 'DTCADASTRO',\n",
       "       'CODANOMAL', 'NUMEROLOTE', 'VERSAOSIST', 'DTRECEBIM', 'DIFDATA',\n",
       "       'DTRECORIGA', 'NATURALMAE', 'CODMUNNATU', 'CODUFNATU', 'ESCMAE2010',\n",
       "       'SERIESCMAE', 'DTNASCMAE', 'RACACORMAE', 'QTDGESTANT', 'QTDPARTNOR',\n",
       "       'QTDPARTCES', 'IDADEPAI', 'DTULTMENST', 'SEMAGESTAC', 'TPMETESTIM',\n",
       "       'CONSPRENAT', 'MESPRENAT', 'TPAPRESENT', 'STTRABPART', 'STCESPARTO',\n",
       "       'TPNASCASSI', 'TPFUNCRESP', 'TPDOCRESP', 'DTDECLARAC', 'ESCMAEAGR1',\n",
       "       'STDNEPIDEM', 'STDNNOVA', 'CODPAISRES', 'TPROBSON', 'PARIDADE',\n",
       "       'KOTELCHUCK', 'CONTADOR', 'munResStatus', 'munResTipo', 'munResNome',\n",
       "       'munResUf', 'munResLat', 'munResLon', 'munResAlt', 'munResArea'],\n",
       "      dtype='object')"
      ]
     },
     "execution_count": 5,
     "metadata": {},
     "output_type": "execute_result"
    }
   ],
   "execution_count": 5
  },
  {
   "cell_type": "code",
   "execution_count": null,
   "metadata": {
    "id": "X6JmtT08lTuD"
   },
   "outputs": [],
   "source": []
  },
  {
   "cell_type": "markdown",
   "metadata": {
    "id": "9GOoel3-lTuD"
   },
   "source": [
    "# Tarefa 2"
   ]
  },
  {
   "cell_type": "markdown",
   "metadata": {
    "id": "iNNeWswTlTuD"
   },
   "source": [
    "### 1. Crie 2 faixas de Latitude do município (munResLat) sendo uma acima e outra abaixo de -10.5 e aplique o groupby usando essas faixas como chave e realize operações de soma, media, minimo, maximo, mediana, desvio padrao, variancia pra pelo menos 2 variáveis numéricas ainda não utilizadas"
   ]
  },
  {
   "cell_type": "code",
   "metadata": {
    "id": "HXtelNbnlTuE",
    "ExecuteTime": {
     "end_time": "2024-12-19T14:11:41.675595Z",
     "start_time": "2024-12-19T14:11:41.649968Z"
    }
   },
   "source": [
    "sinasc_raw['Latitude Group'] = pd.cut(sinasc_raw['munResLat'], bins=[-float('inf'), -10.5, float('inf')], labels=['Below -10.5', 'Above or Equal -10.5'])\n",
    "\n",
    "aggregated_results = sinasc_raw.groupby('Latitude Group').agg({\n",
    "    'PESO': ['sum', 'mean', 'min', 'max', 'median', 'std', 'var'],\n",
    "    'IDADEPAI': ['sum', 'mean', 'min', 'max', 'median', 'std', 'var']\n",
    "})\n",
    "aggregated_results"
   ],
   "outputs": [
    {
     "name": "stderr",
     "output_type": "stream",
     "text": [
      "/tmp/ipykernel_17455/3357233672.py:3: FutureWarning: The default of observed=False is deprecated and will be changed to True in a future version of pandas. Pass observed=False to retain current behavior or observed=True to adopt the future default and silence this warning.\n",
      "  aggregated_results = sinasc_raw.groupby('Latitude Group').agg({\n"
     ]
    },
    {
     "data": {
      "text/plain": [
       "                          PESO                                              \\\n",
       "                           sum         mean  min   max  median         std   \n",
       "Latitude Group                                                               \n",
       "Below -10.5           42098594  3240.098053  258  5985  3270.0  531.815114   \n",
       "Above or Equal -10.5  45555148  3246.055864  295  5190  3275.0  556.487709   \n",
       "\n",
       "                                     IDADEPAI                                \\\n",
       "                                var       sum       mean   min   max median   \n",
       "Latitude Group                                                                \n",
       "Below -10.5           282827.315354  198460.0  30.903145  15.0  86.0   30.0   \n",
       "Above or Equal -10.5  309678.570242   38038.0  32.126689  16.0  73.0   31.0   \n",
       "\n",
       "                                           \n",
       "                           std        var  \n",
       "Latitude Group                             \n",
       "Below -10.5           7.707002  59.397875  \n",
       "Above or Equal -10.5  8.034214  64.548602  "
      ],
      "text/html": [
       "<div>\n",
       "<style scoped>\n",
       "    .dataframe tbody tr th:only-of-type {\n",
       "        vertical-align: middle;\n",
       "    }\n",
       "\n",
       "    .dataframe tbody tr th {\n",
       "        vertical-align: top;\n",
       "    }\n",
       "\n",
       "    .dataframe thead tr th {\n",
       "        text-align: left;\n",
       "    }\n",
       "\n",
       "    .dataframe thead tr:last-of-type th {\n",
       "        text-align: right;\n",
       "    }\n",
       "</style>\n",
       "<table border=\"1\" class=\"dataframe\">\n",
       "  <thead>\n",
       "    <tr>\n",
       "      <th></th>\n",
       "      <th colspan=\"7\" halign=\"left\">PESO</th>\n",
       "      <th colspan=\"7\" halign=\"left\">IDADEPAI</th>\n",
       "    </tr>\n",
       "    <tr>\n",
       "      <th></th>\n",
       "      <th>sum</th>\n",
       "      <th>mean</th>\n",
       "      <th>min</th>\n",
       "      <th>max</th>\n",
       "      <th>median</th>\n",
       "      <th>std</th>\n",
       "      <th>var</th>\n",
       "      <th>sum</th>\n",
       "      <th>mean</th>\n",
       "      <th>min</th>\n",
       "      <th>max</th>\n",
       "      <th>median</th>\n",
       "      <th>std</th>\n",
       "      <th>var</th>\n",
       "    </tr>\n",
       "    <tr>\n",
       "      <th>Latitude Group</th>\n",
       "      <th></th>\n",
       "      <th></th>\n",
       "      <th></th>\n",
       "      <th></th>\n",
       "      <th></th>\n",
       "      <th></th>\n",
       "      <th></th>\n",
       "      <th></th>\n",
       "      <th></th>\n",
       "      <th></th>\n",
       "      <th></th>\n",
       "      <th></th>\n",
       "      <th></th>\n",
       "      <th></th>\n",
       "    </tr>\n",
       "  </thead>\n",
       "  <tbody>\n",
       "    <tr>\n",
       "      <th>Below -10.5</th>\n",
       "      <td>42098594</td>\n",
       "      <td>3240.098053</td>\n",
       "      <td>258</td>\n",
       "      <td>5985</td>\n",
       "      <td>3270.0</td>\n",
       "      <td>531.815114</td>\n",
       "      <td>282827.315354</td>\n",
       "      <td>198460.0</td>\n",
       "      <td>30.903145</td>\n",
       "      <td>15.0</td>\n",
       "      <td>86.0</td>\n",
       "      <td>30.0</td>\n",
       "      <td>7.707002</td>\n",
       "      <td>59.397875</td>\n",
       "    </tr>\n",
       "    <tr>\n",
       "      <th>Above or Equal -10.5</th>\n",
       "      <td>45555148</td>\n",
       "      <td>3246.055864</td>\n",
       "      <td>295</td>\n",
       "      <td>5190</td>\n",
       "      <td>3275.0</td>\n",
       "      <td>556.487709</td>\n",
       "      <td>309678.570242</td>\n",
       "      <td>38038.0</td>\n",
       "      <td>32.126689</td>\n",
       "      <td>16.0</td>\n",
       "      <td>73.0</td>\n",
       "      <td>31.0</td>\n",
       "      <td>8.034214</td>\n",
       "      <td>64.548602</td>\n",
       "    </tr>\n",
       "  </tbody>\n",
       "</table>\n",
       "</div>"
      ]
     },
     "execution_count": 6,
     "metadata": {},
     "output_type": "execute_result"
    }
   ],
   "execution_count": 6
  },
  {
   "metadata": {
    "ExecuteTime": {
     "end_time": "2024-12-19T14:11:44.052119Z",
     "start_time": "2024-12-19T14:11:44.036893Z"
    }
   },
   "cell_type": "code",
   "source": [
    "sinasc_raw['faixa_latitude'] = np.where(sinasc_raw['munResLat'] >= -10.5, '>= -10.5', '< -10.5')\n",
    "\n",
    "aggregated_results = sinasc_raw.groupby('faixa_latitude').agg({\n",
    "    'PESO': ['sum', 'mean', 'min', 'max', 'median', 'std', 'var'],\n",
    "    'APGAR1': ['sum', 'mean', 'min', 'max', 'median', 'std', 'var']\n",
    "})\n",
    "\n",
    "aggregated_results"
   ],
   "outputs": [
    {
     "data": {
      "text/plain": [
       "                    PESO                                              \\\n",
       "                     sum         mean  min   max  median         std   \n",
       "faixa_latitude                                                         \n",
       "< -10.5         42101809  3240.096121  258  5985  3270.0  531.794694   \n",
       ">= -10.5        45555148  3246.055864  295  5190  3275.0  556.487709   \n",
       "\n",
       "                                 APGAR1                                        \\\n",
       "                          var       sum      mean  min   max median       std   \n",
       "faixa_latitude                                                                  \n",
       "< -10.5         282805.596163  104599.0  8.070288  0.0  10.0    8.0  0.960765   \n",
       ">= -10.5        309678.570242  114559.0  8.199771  0.0  10.0    8.0  1.002839   \n",
       "\n",
       "                          \n",
       "                     var  \n",
       "faixa_latitude            \n",
       "< -10.5         0.923069  \n",
       ">= -10.5        1.005686  "
      ],
      "text/html": [
       "<div>\n",
       "<style scoped>\n",
       "    .dataframe tbody tr th:only-of-type {\n",
       "        vertical-align: middle;\n",
       "    }\n",
       "\n",
       "    .dataframe tbody tr th {\n",
       "        vertical-align: top;\n",
       "    }\n",
       "\n",
       "    .dataframe thead tr th {\n",
       "        text-align: left;\n",
       "    }\n",
       "\n",
       "    .dataframe thead tr:last-of-type th {\n",
       "        text-align: right;\n",
       "    }\n",
       "</style>\n",
       "<table border=\"1\" class=\"dataframe\">\n",
       "  <thead>\n",
       "    <tr>\n",
       "      <th></th>\n",
       "      <th colspan=\"7\" halign=\"left\">PESO</th>\n",
       "      <th colspan=\"7\" halign=\"left\">APGAR1</th>\n",
       "    </tr>\n",
       "    <tr>\n",
       "      <th></th>\n",
       "      <th>sum</th>\n",
       "      <th>mean</th>\n",
       "      <th>min</th>\n",
       "      <th>max</th>\n",
       "      <th>median</th>\n",
       "      <th>std</th>\n",
       "      <th>var</th>\n",
       "      <th>sum</th>\n",
       "      <th>mean</th>\n",
       "      <th>min</th>\n",
       "      <th>max</th>\n",
       "      <th>median</th>\n",
       "      <th>std</th>\n",
       "      <th>var</th>\n",
       "    </tr>\n",
       "    <tr>\n",
       "      <th>faixa_latitude</th>\n",
       "      <th></th>\n",
       "      <th></th>\n",
       "      <th></th>\n",
       "      <th></th>\n",
       "      <th></th>\n",
       "      <th></th>\n",
       "      <th></th>\n",
       "      <th></th>\n",
       "      <th></th>\n",
       "      <th></th>\n",
       "      <th></th>\n",
       "      <th></th>\n",
       "      <th></th>\n",
       "      <th></th>\n",
       "    </tr>\n",
       "  </thead>\n",
       "  <tbody>\n",
       "    <tr>\n",
       "      <th>&lt; -10.5</th>\n",
       "      <td>42101809</td>\n",
       "      <td>3240.096121</td>\n",
       "      <td>258</td>\n",
       "      <td>5985</td>\n",
       "      <td>3270.0</td>\n",
       "      <td>531.794694</td>\n",
       "      <td>282805.596163</td>\n",
       "      <td>104599.0</td>\n",
       "      <td>8.070288</td>\n",
       "      <td>0.0</td>\n",
       "      <td>10.0</td>\n",
       "      <td>8.0</td>\n",
       "      <td>0.960765</td>\n",
       "      <td>0.923069</td>\n",
       "    </tr>\n",
       "    <tr>\n",
       "      <th>&gt;= -10.5</th>\n",
       "      <td>45555148</td>\n",
       "      <td>3246.055864</td>\n",
       "      <td>295</td>\n",
       "      <td>5190</td>\n",
       "      <td>3275.0</td>\n",
       "      <td>556.487709</td>\n",
       "      <td>309678.570242</td>\n",
       "      <td>114559.0</td>\n",
       "      <td>8.199771</td>\n",
       "      <td>0.0</td>\n",
       "      <td>10.0</td>\n",
       "      <td>8.0</td>\n",
       "      <td>1.002839</td>\n",
       "      <td>1.005686</td>\n",
       "    </tr>\n",
       "  </tbody>\n",
       "</table>\n",
       "</div>"
      ]
     },
     "execution_count": 7,
     "metadata": {},
     "output_type": "execute_result"
    }
   ],
   "execution_count": 7
  },
  {
   "metadata": {},
   "cell_type": "code",
   "outputs": [],
   "execution_count": null,
   "source": ""
  },
  {
   "metadata": {},
   "cell_type": "code",
   "outputs": [],
   "execution_count": null,
   "source": ""
  },
  {
   "cell_type": "markdown",
   "metadata": {
    "id": "AK33D0mdlTuE"
   },
   "source": [
    "### 2. Crie 2 faixas da área dos municípios (munResArea) sendo uma acima e outra abaixo de 3000 e aplique o groupby usando essas faixas como chave e realize operações de soma, media, minimo, maximo, mediana, desvio padrao, variancia pra pelo menos 2 variáveis numéricas ainda não utilizadas\n"
   ]
  },
  {
   "metadata": {
    "ExecuteTime": {
     "end_time": "2024-12-19T14:11:46.951260Z",
     "start_time": "2024-12-19T14:11:46.948319Z"
    }
   },
   "cell_type": "code",
   "source": "sinasc_raw.columns",
   "outputs": [
    {
     "data": {
      "text/plain": [
       "Index(['ORIGEM', 'CODESTAB', 'CODMUNNASC', 'LOCNASC', 'IDADEMAE', 'ESTCIVMAE',\n",
       "       'ESCMAE', 'CODOCUPMAE', 'QTDFILVIVO', 'QTDFILMORT', 'CODMUNRES',\n",
       "       'GESTACAO', 'GRAVIDEZ', 'PARTO', 'CONSULTAS', 'DTNASC', 'HORANASC',\n",
       "       'SEXO', 'APGAR1', 'APGAR5', 'RACACOR', 'PESO', 'IDANOMAL', 'DTCADASTRO',\n",
       "       'CODANOMAL', 'NUMEROLOTE', 'VERSAOSIST', 'DTRECEBIM', 'DIFDATA',\n",
       "       'DTRECORIGA', 'NATURALMAE', 'CODMUNNATU', 'CODUFNATU', 'ESCMAE2010',\n",
       "       'SERIESCMAE', 'DTNASCMAE', 'RACACORMAE', 'QTDGESTANT', 'QTDPARTNOR',\n",
       "       'QTDPARTCES', 'IDADEPAI', 'DTULTMENST', 'SEMAGESTAC', 'TPMETESTIM',\n",
       "       'CONSPRENAT', 'MESPRENAT', 'TPAPRESENT', 'STTRABPART', 'STCESPARTO',\n",
       "       'TPNASCASSI', 'TPFUNCRESP', 'TPDOCRESP', 'DTDECLARAC', 'ESCMAEAGR1',\n",
       "       'STDNEPIDEM', 'STDNNOVA', 'CODPAISRES', 'TPROBSON', 'PARIDADE',\n",
       "       'KOTELCHUCK', 'CONTADOR', 'munResStatus', 'munResTipo', 'munResNome',\n",
       "       'munResUf', 'munResLat', 'munResLon', 'munResAlt', 'munResArea',\n",
       "       'Latitude Group', 'faixa_latitude'],\n",
       "      dtype='object')"
      ]
     },
     "execution_count": 8,
     "metadata": {},
     "output_type": "execute_result"
    }
   ],
   "execution_count": 8
  },
  {
   "metadata": {
    "ExecuteTime": {
     "end_time": "2024-12-19T14:12:18.415168Z",
     "start_time": "2024-12-19T14:12:18.408487Z"
    }
   },
   "cell_type": "code",
   "source": "sinasc_raw[['munResNome']]",
   "outputs": [
    {
     "data": {
      "text/plain": [
       "                    munResNome\n",
       "0        Alta Floresta D'Oeste\n",
       "1        Alta Floresta D'Oeste\n",
       "2        Alta Floresta D'Oeste\n",
       "3      Alto Alegre dos Parecis\n",
       "4        Alta Floresta D'Oeste\n",
       "...                        ...\n",
       "27023                  Vilhena\n",
       "27024              Chupinguaia\n",
       "27025                  Vilhena\n",
       "27026                  Vilhena\n",
       "27027  Novo Horizonte do Oeste\n",
       "\n",
       "[27028 rows x 1 columns]"
      ],
      "text/html": [
       "<div>\n",
       "<style scoped>\n",
       "    .dataframe tbody tr th:only-of-type {\n",
       "        vertical-align: middle;\n",
       "    }\n",
       "\n",
       "    .dataframe tbody tr th {\n",
       "        vertical-align: top;\n",
       "    }\n",
       "\n",
       "    .dataframe thead th {\n",
       "        text-align: right;\n",
       "    }\n",
       "</style>\n",
       "<table border=\"1\" class=\"dataframe\">\n",
       "  <thead>\n",
       "    <tr style=\"text-align: right;\">\n",
       "      <th></th>\n",
       "      <th>munResNome</th>\n",
       "    </tr>\n",
       "  </thead>\n",
       "  <tbody>\n",
       "    <tr>\n",
       "      <th>0</th>\n",
       "      <td>Alta Floresta D'Oeste</td>\n",
       "    </tr>\n",
       "    <tr>\n",
       "      <th>1</th>\n",
       "      <td>Alta Floresta D'Oeste</td>\n",
       "    </tr>\n",
       "    <tr>\n",
       "      <th>2</th>\n",
       "      <td>Alta Floresta D'Oeste</td>\n",
       "    </tr>\n",
       "    <tr>\n",
       "      <th>3</th>\n",
       "      <td>Alto Alegre dos Parecis</td>\n",
       "    </tr>\n",
       "    <tr>\n",
       "      <th>4</th>\n",
       "      <td>Alta Floresta D'Oeste</td>\n",
       "    </tr>\n",
       "    <tr>\n",
       "      <th>...</th>\n",
       "      <td>...</td>\n",
       "    </tr>\n",
       "    <tr>\n",
       "      <th>27023</th>\n",
       "      <td>Vilhena</td>\n",
       "    </tr>\n",
       "    <tr>\n",
       "      <th>27024</th>\n",
       "      <td>Chupinguaia</td>\n",
       "    </tr>\n",
       "    <tr>\n",
       "      <th>27025</th>\n",
       "      <td>Vilhena</td>\n",
       "    </tr>\n",
       "    <tr>\n",
       "      <th>27026</th>\n",
       "      <td>Vilhena</td>\n",
       "    </tr>\n",
       "    <tr>\n",
       "      <th>27027</th>\n",
       "      <td>Novo Horizonte do Oeste</td>\n",
       "    </tr>\n",
       "  </tbody>\n",
       "</table>\n",
       "<p>27028 rows × 1 columns</p>\n",
       "</div>"
      ]
     },
     "execution_count": 9,
     "metadata": {},
     "output_type": "execute_result"
    }
   ],
   "execution_count": 9
  },
  {
   "metadata": {
    "ExecuteTime": {
     "end_time": "2024-12-19T14:12:24.900064Z",
     "start_time": "2024-12-19T14:12:24.892725Z"
    }
   },
   "cell_type": "code",
   "source": "tab2 = pd.cut(sinasc_raw['munResArea'],[sinasc_raw['munResArea'].min()-1,3000,sinasc_raw['munResArea'].max()+1])",
   "outputs": [],
   "execution_count": 10
  },
  {
   "metadata": {
    "ExecuteTime": {
     "end_time": "2024-12-19T14:14:04.278982Z",
     "start_time": "2024-12-19T14:14:04.265578Z"
    }
   },
   "cell_type": "code",
   "source": [
    "sinasc_raw.groupby(tab2)[['QTDFILVIVO', 'QTDFILMORT']].agg([('Soma','sum'),\n",
    "                                                            ('Média','mean'),\n",
    "                                                            ('Mínimo','min'),\n",
    "                                                            ('Máximo','max'),\n",
    "                                                            ('Mediana','median'),\n",
    "                                                            ('Desvio Padrão','std'),\n",
    "                                                            ('Variância','var')])"
   ],
   "outputs": [
    {
     "name": "stderr",
     "output_type": "stream",
     "text": [
      "/tmp/ipykernel_17455/1710030595.py:1: FutureWarning: The default of observed=False is deprecated and will be changed to True in a future version of pandas. Pass observed=False to retain current behavior or observed=True to adopt the future default and silence this warning.\n",
      "  sinasc_raw.groupby(tab2)[['QTDFILVIVO', 'QTDFILMORT']].agg([('Soma','sum'),\n"
     ]
    },
    {
     "data": {
      "text/plain": [
       "                    QTDFILVIVO                                                \\\n",
       "                          Soma     Média Mínimo Máximo Mediana Desvio Padrão   \n",
       "munResArea                                                                     \n",
       "(458.978, 3000.0]       4773.0  0.924284    0.0   30.0     1.0      1.075442   \n",
       "(3000.0, 34097.394]    22053.0  1.086890    0.0   14.0     1.0      1.191750   \n",
       "\n",
       "                              QTDFILMORT                                  \\\n",
       "                    Variância       Soma     Média Mínimo Máximo Mediana   \n",
       "munResArea                                                                 \n",
       "(458.978, 3000.0]    1.156575     1260.0  0.244803    0.0    4.0     0.0   \n",
       "(3000.0, 34097.394]  1.420268     5383.0  0.272116    0.0   28.0     0.0   \n",
       "\n",
       "                                             \n",
       "                    Desvio Padrão Variância  \n",
       "munResArea                                   \n",
       "(458.978, 3000.0]        0.551215  0.303838  \n",
       "(3000.0, 34097.394]      0.629081  0.395743  "
      ],
      "text/html": [
       "<div>\n",
       "<style scoped>\n",
       "    .dataframe tbody tr th:only-of-type {\n",
       "        vertical-align: middle;\n",
       "    }\n",
       "\n",
       "    .dataframe tbody tr th {\n",
       "        vertical-align: top;\n",
       "    }\n",
       "\n",
       "    .dataframe thead tr th {\n",
       "        text-align: left;\n",
       "    }\n",
       "\n",
       "    .dataframe thead tr:last-of-type th {\n",
       "        text-align: right;\n",
       "    }\n",
       "</style>\n",
       "<table border=\"1\" class=\"dataframe\">\n",
       "  <thead>\n",
       "    <tr>\n",
       "      <th></th>\n",
       "      <th colspan=\"7\" halign=\"left\">QTDFILVIVO</th>\n",
       "      <th colspan=\"7\" halign=\"left\">QTDFILMORT</th>\n",
       "    </tr>\n",
       "    <tr>\n",
       "      <th></th>\n",
       "      <th>Soma</th>\n",
       "      <th>Média</th>\n",
       "      <th>Mínimo</th>\n",
       "      <th>Máximo</th>\n",
       "      <th>Mediana</th>\n",
       "      <th>Desvio Padrão</th>\n",
       "      <th>Variância</th>\n",
       "      <th>Soma</th>\n",
       "      <th>Média</th>\n",
       "      <th>Mínimo</th>\n",
       "      <th>Máximo</th>\n",
       "      <th>Mediana</th>\n",
       "      <th>Desvio Padrão</th>\n",
       "      <th>Variância</th>\n",
       "    </tr>\n",
       "    <tr>\n",
       "      <th>munResArea</th>\n",
       "      <th></th>\n",
       "      <th></th>\n",
       "      <th></th>\n",
       "      <th></th>\n",
       "      <th></th>\n",
       "      <th></th>\n",
       "      <th></th>\n",
       "      <th></th>\n",
       "      <th></th>\n",
       "      <th></th>\n",
       "      <th></th>\n",
       "      <th></th>\n",
       "      <th></th>\n",
       "      <th></th>\n",
       "    </tr>\n",
       "  </thead>\n",
       "  <tbody>\n",
       "    <tr>\n",
       "      <th>(458.978, 3000.0]</th>\n",
       "      <td>4773.0</td>\n",
       "      <td>0.924284</td>\n",
       "      <td>0.0</td>\n",
       "      <td>30.0</td>\n",
       "      <td>1.0</td>\n",
       "      <td>1.075442</td>\n",
       "      <td>1.156575</td>\n",
       "      <td>1260.0</td>\n",
       "      <td>0.244803</td>\n",
       "      <td>0.0</td>\n",
       "      <td>4.0</td>\n",
       "      <td>0.0</td>\n",
       "      <td>0.551215</td>\n",
       "      <td>0.303838</td>\n",
       "    </tr>\n",
       "    <tr>\n",
       "      <th>(3000.0, 34097.394]</th>\n",
       "      <td>22053.0</td>\n",
       "      <td>1.086890</td>\n",
       "      <td>0.0</td>\n",
       "      <td>14.0</td>\n",
       "      <td>1.0</td>\n",
       "      <td>1.191750</td>\n",
       "      <td>1.420268</td>\n",
       "      <td>5383.0</td>\n",
       "      <td>0.272116</td>\n",
       "      <td>0.0</td>\n",
       "      <td>28.0</td>\n",
       "      <td>0.0</td>\n",
       "      <td>0.629081</td>\n",
       "      <td>0.395743</td>\n",
       "    </tr>\n",
       "  </tbody>\n",
       "</table>\n",
       "</div>"
      ]
     },
     "execution_count": 12,
     "metadata": {},
     "output_type": "execute_result"
    }
   ],
   "execution_count": 12
  },
  {
   "metadata": {},
   "cell_type": "code",
   "outputs": [],
   "execution_count": null,
   "source": ""
  },
  {
   "metadata": {},
   "cell_type": "code",
   "outputs": [],
   "execution_count": null,
   "source": ""
  },
  {
   "cell_type": "markdown",
   "metadata": {
    "id": "aWaljnnxlTuE"
   },
   "source": [
    "### 3. Determine faixas na variável munResAlt e aplique o groupby usando essas faixas como chave e realize operações de soma, media, minimo, maximo, mediana, desvio padrao, variancia pra pelo menos 2 variáveis numéricas ainda não utilizadas"
   ]
  },
  {
   "metadata": {
    "ExecuteTime": {
     "end_time": "2024-12-19T02:13:01.755993Z",
     "start_time": "2024-12-19T02:13:01.753647Z"
    }
   },
   "cell_type": "code",
   "source": "sinasc_raw.columns",
   "outputs": [
    {
     "data": {
      "text/plain": [
       "Index(['ORIGEM', 'CODESTAB', 'CODMUNNASC', 'LOCNASC', 'IDADEMAE', 'ESTCIVMAE',\n",
       "       'ESCMAE', 'CODOCUPMAE', 'QTDFILVIVO', 'QTDFILMORT', 'CODMUNRES',\n",
       "       'GESTACAO', 'GRAVIDEZ', 'PARTO', 'CONSULTAS', 'DTNASC', 'HORANASC',\n",
       "       'SEXO', 'APGAR1', 'APGAR5', 'RACACOR', 'PESO', 'IDANOMAL', 'DTCADASTRO',\n",
       "       'CODANOMAL', 'NUMEROLOTE', 'VERSAOSIST', 'DTRECEBIM', 'DIFDATA',\n",
       "       'DTRECORIGA', 'NATURALMAE', 'CODMUNNATU', 'CODUFNATU', 'ESCMAE2010',\n",
       "       'SERIESCMAE', 'DTNASCMAE', 'RACACORMAE', 'QTDGESTANT', 'QTDPARTNOR',\n",
       "       'QTDPARTCES', 'IDADEPAI', 'DTULTMENST', 'SEMAGESTAC', 'TPMETESTIM',\n",
       "       'CONSPRENAT', 'MESPRENAT', 'TPAPRESENT', 'STTRABPART', 'STCESPARTO',\n",
       "       'TPNASCASSI', 'TPFUNCRESP', 'TPDOCRESP', 'DTDECLARAC', 'ESCMAEAGR1',\n",
       "       'STDNEPIDEM', 'STDNNOVA', 'CODPAISRES', 'TPROBSON', 'PARIDADE',\n",
       "       'KOTELCHUCK', 'CONTADOR', 'munResStatus', 'munResTipo', 'munResNome',\n",
       "       'munResUf', 'munResLat', 'munResLon', 'munResAlt', 'munResArea',\n",
       "       'Latitude Group', 'faixa_latitude'],\n",
       "      dtype='object')"
      ]
     },
     "execution_count": 274,
     "metadata": {},
     "output_type": "execute_result"
    }
   ],
   "execution_count": 274
  },
  {
   "metadata": {
    "ExecuteTime": {
     "end_time": "2024-12-19T02:13:03.948401Z",
     "start_time": "2024-12-19T02:13:03.942967Z"
    }
   },
   "cell_type": "code",
   "source": [
    "sinasc_2 = sinasc_raw['munResAlt']\n",
    "sinasc_2.head()"
   ],
   "outputs": [
    {
     "data": {
      "text/plain": [
       "0    338.0\n",
       "1    338.0\n",
       "2    338.0\n",
       "3    397.0\n",
       "4    338.0\n",
       "Name: munResAlt, dtype: float64"
      ]
     },
     "execution_count": 275,
     "metadata": {},
     "output_type": "execute_result"
    }
   ],
   "execution_count": 275
  },
  {
   "metadata": {
    "ExecuteTime": {
     "end_time": "2024-12-18T23:13:22.593762Z",
     "start_time": "2024-12-18T23:13:22.592317Z"
    }
   },
   "cell_type": "code",
   "source": "",
   "outputs": [],
   "execution_count": null
  },
  {
   "metadata": {
    "ExecuteTime": {
     "end_time": "2024-12-19T02:13:06.045383Z",
     "start_time": "2024-12-19T02:13:06.043345Z"
    }
   },
   "cell_type": "code",
   "source": [
    "# Exemplo de criação de um DataFrame\n",
    "sinasc_2 = {\n",
    "    'munResAlt': np.random.randint(1, 1000, 100),  # Criando uma variável numérica fictícia\n",
    "    'var1': np.random.rand(100) * 100,  # Primeira variável numérica\n",
    "    'var2': np.random.rand(100) * 50  # Segunda variável numérica\n",
    "}\n",
    "sinasc_2 = pd.DataFrame(sinasc_2)"
   ],
   "outputs": [],
   "execution_count": 276
  },
  {
   "metadata": {
    "ExecuteTime": {
     "end_time": "2024-12-19T02:13:09.217100Z",
     "start_time": "2024-12-19T02:13:09.214122Z"
    }
   },
   "cell_type": "code",
   "source": [
    "# Determinar faixas de munResAlt\n",
    "# Supondo que queremos dividir em faixas iguais (quartis, por exemplo):\n",
    "faixas = pd.qcut(sinasc_2['munResAlt'], q=4, labels=['Baixo', 'Médio-Baixo', 'Médio-Alto', 'Alto'])"
   ],
   "outputs": [],
   "execution_count": 278
  },
  {
   "metadata": {
    "ExecuteTime": {
     "end_time": "2024-12-19T02:13:10.926057Z",
     "start_time": "2024-12-19T02:13:10.923811Z"
    }
   },
   "cell_type": "code",
   "source": "sinasc_2['faixa_munResAlt'] = faixas",
   "outputs": [],
   "execution_count": 279
  },
  {
   "metadata": {
    "ExecuteTime": {
     "end_time": "2024-12-19T02:13:11.948586Z",
     "start_time": "2024-12-19T02:13:11.943985Z"
    }
   },
   "cell_type": "code",
   "source": [
    "# Realizar o groupby com as faixas e calcular agregações para pelo menos duas variáveis\n",
    "result = sinasc_2.groupby('faixa_munResAlt').agg({\n",
    "    'var1': ['sum', 'mean', 'min', 'max', 'median', 'std', 'var'],  # Estatísticas para var1\n",
    "    'var2': ['sum', 'mean', 'min', 'max', 'median', 'std', 'var']  # Estatísticas para var2\n",
    "})"
   ],
   "outputs": [
    {
     "name": "stderr",
     "output_type": "stream",
     "text": [
      "/tmp/ipykernel_6029/3384445259.py:2: FutureWarning: The default of observed=False is deprecated and will be changed to True in a future version of pandas. Pass observed=False to retain current behavior or observed=True to adopt the future default and silence this warning.\n",
      "  result = sinasc_2.groupby('faixa_munResAlt').agg({\n"
     ]
    }
   ],
   "execution_count": 280
  },
  {
   "metadata": {
    "ExecuteTime": {
     "end_time": "2024-12-19T02:09:14.058044Z",
     "start_time": "2024-12-19T02:09:14.051042Z"
    }
   },
   "cell_type": "code",
   "source": "result",
   "outputs": [
    {
     "data": {
      "text/plain": [
       "                        var1                                             \\\n",
       "                         sum       mean       min        max     median   \n",
       "faixa_munResAlt                                                           \n",
       "Baixo            1221.158933  48.846357  2.364093  96.191656  49.809313   \n",
       "Médio-Baixo      1309.300298  50.357704  4.508916  95.566495  54.395617   \n",
       "Médio-Alto       1151.364929  47.973539  1.803605  98.813944  46.420555   \n",
       "Alto             1102.914127  44.116565  3.577927  98.831227  35.643774   \n",
       "\n",
       "                                               var2                       \\\n",
       "                       std          var         sum       mean       min   \n",
       "faixa_munResAlt                                                            \n",
       "Baixo            28.847010   832.149990  623.571563  24.942863  0.031608   \n",
       "Médio-Baixo      24.589370   604.637128  631.914965  24.304422  2.367402   \n",
       "Médio-Alto       31.712924  1005.709559  548.692142  22.862173  0.030738   \n",
       "Alto             28.541833   814.636212  609.493985  24.379759  5.648207   \n",
       "\n",
       "                                                              \n",
       "                       max     median        std         var  \n",
       "faixa_munResAlt                                               \n",
       "Baixo            49.582398  23.370505  14.598258  213.109147  \n",
       "Médio-Baixo      46.485076  23.594880  13.142789  172.732899  \n",
       "Médio-Alto       49.393723  19.430401  15.487037  239.848311  \n",
       "Alto             49.272523  24.290010  11.616593  134.945226  "
      ],
      "text/html": [
       "<div>\n",
       "<style scoped>\n",
       "    .dataframe tbody tr th:only-of-type {\n",
       "        vertical-align: middle;\n",
       "    }\n",
       "\n",
       "    .dataframe tbody tr th {\n",
       "        vertical-align: top;\n",
       "    }\n",
       "\n",
       "    .dataframe thead tr th {\n",
       "        text-align: left;\n",
       "    }\n",
       "\n",
       "    .dataframe thead tr:last-of-type th {\n",
       "        text-align: right;\n",
       "    }\n",
       "</style>\n",
       "<table border=\"1\" class=\"dataframe\">\n",
       "  <thead>\n",
       "    <tr>\n",
       "      <th></th>\n",
       "      <th colspan=\"7\" halign=\"left\">var1</th>\n",
       "      <th colspan=\"7\" halign=\"left\">var2</th>\n",
       "    </tr>\n",
       "    <tr>\n",
       "      <th></th>\n",
       "      <th>sum</th>\n",
       "      <th>mean</th>\n",
       "      <th>min</th>\n",
       "      <th>max</th>\n",
       "      <th>median</th>\n",
       "      <th>std</th>\n",
       "      <th>var</th>\n",
       "      <th>sum</th>\n",
       "      <th>mean</th>\n",
       "      <th>min</th>\n",
       "      <th>max</th>\n",
       "      <th>median</th>\n",
       "      <th>std</th>\n",
       "      <th>var</th>\n",
       "    </tr>\n",
       "    <tr>\n",
       "      <th>faixa_munResAlt</th>\n",
       "      <th></th>\n",
       "      <th></th>\n",
       "      <th></th>\n",
       "      <th></th>\n",
       "      <th></th>\n",
       "      <th></th>\n",
       "      <th></th>\n",
       "      <th></th>\n",
       "      <th></th>\n",
       "      <th></th>\n",
       "      <th></th>\n",
       "      <th></th>\n",
       "      <th></th>\n",
       "      <th></th>\n",
       "    </tr>\n",
       "  </thead>\n",
       "  <tbody>\n",
       "    <tr>\n",
       "      <th>Baixo</th>\n",
       "      <td>1221.158933</td>\n",
       "      <td>48.846357</td>\n",
       "      <td>2.364093</td>\n",
       "      <td>96.191656</td>\n",
       "      <td>49.809313</td>\n",
       "      <td>28.847010</td>\n",
       "      <td>832.149990</td>\n",
       "      <td>623.571563</td>\n",
       "      <td>24.942863</td>\n",
       "      <td>0.031608</td>\n",
       "      <td>49.582398</td>\n",
       "      <td>23.370505</td>\n",
       "      <td>14.598258</td>\n",
       "      <td>213.109147</td>\n",
       "    </tr>\n",
       "    <tr>\n",
       "      <th>Médio-Baixo</th>\n",
       "      <td>1309.300298</td>\n",
       "      <td>50.357704</td>\n",
       "      <td>4.508916</td>\n",
       "      <td>95.566495</td>\n",
       "      <td>54.395617</td>\n",
       "      <td>24.589370</td>\n",
       "      <td>604.637128</td>\n",
       "      <td>631.914965</td>\n",
       "      <td>24.304422</td>\n",
       "      <td>2.367402</td>\n",
       "      <td>46.485076</td>\n",
       "      <td>23.594880</td>\n",
       "      <td>13.142789</td>\n",
       "      <td>172.732899</td>\n",
       "    </tr>\n",
       "    <tr>\n",
       "      <th>Médio-Alto</th>\n",
       "      <td>1151.364929</td>\n",
       "      <td>47.973539</td>\n",
       "      <td>1.803605</td>\n",
       "      <td>98.813944</td>\n",
       "      <td>46.420555</td>\n",
       "      <td>31.712924</td>\n",
       "      <td>1005.709559</td>\n",
       "      <td>548.692142</td>\n",
       "      <td>22.862173</td>\n",
       "      <td>0.030738</td>\n",
       "      <td>49.393723</td>\n",
       "      <td>19.430401</td>\n",
       "      <td>15.487037</td>\n",
       "      <td>239.848311</td>\n",
       "    </tr>\n",
       "    <tr>\n",
       "      <th>Alto</th>\n",
       "      <td>1102.914127</td>\n",
       "      <td>44.116565</td>\n",
       "      <td>3.577927</td>\n",
       "      <td>98.831227</td>\n",
       "      <td>35.643774</td>\n",
       "      <td>28.541833</td>\n",
       "      <td>814.636212</td>\n",
       "      <td>609.493985</td>\n",
       "      <td>24.379759</td>\n",
       "      <td>5.648207</td>\n",
       "      <td>49.272523</td>\n",
       "      <td>24.290010</td>\n",
       "      <td>11.616593</td>\n",
       "      <td>134.945226</td>\n",
       "    </tr>\n",
       "  </tbody>\n",
       "</table>\n",
       "</div>"
      ]
     },
     "execution_count": 248,
     "metadata": {},
     "output_type": "execute_result"
    }
   ],
   "execution_count": 248
  },
  {
   "metadata": {
    "ExecuteTime": {
     "end_time": "2024-12-19T02:13:21.946612Z",
     "start_time": "2024-12-19T02:13:21.944168Z"
    }
   },
   "cell_type": "code",
   "source": "sinasc_raw.columns",
   "outputs": [
    {
     "data": {
      "text/plain": [
       "Index(['ORIGEM', 'CODESTAB', 'CODMUNNASC', 'LOCNASC', 'IDADEMAE', 'ESTCIVMAE',\n",
       "       'ESCMAE', 'CODOCUPMAE', 'QTDFILVIVO', 'QTDFILMORT', 'CODMUNRES',\n",
       "       'GESTACAO', 'GRAVIDEZ', 'PARTO', 'CONSULTAS', 'DTNASC', 'HORANASC',\n",
       "       'SEXO', 'APGAR1', 'APGAR5', 'RACACOR', 'PESO', 'IDANOMAL', 'DTCADASTRO',\n",
       "       'CODANOMAL', 'NUMEROLOTE', 'VERSAOSIST', 'DTRECEBIM', 'DIFDATA',\n",
       "       'DTRECORIGA', 'NATURALMAE', 'CODMUNNATU', 'CODUFNATU', 'ESCMAE2010',\n",
       "       'SERIESCMAE', 'DTNASCMAE', 'RACACORMAE', 'QTDGESTANT', 'QTDPARTNOR',\n",
       "       'QTDPARTCES', 'IDADEPAI', 'DTULTMENST', 'SEMAGESTAC', 'TPMETESTIM',\n",
       "       'CONSPRENAT', 'MESPRENAT', 'TPAPRESENT', 'STTRABPART', 'STCESPARTO',\n",
       "       'TPNASCASSI', 'TPFUNCRESP', 'TPDOCRESP', 'DTDECLARAC', 'ESCMAEAGR1',\n",
       "       'STDNEPIDEM', 'STDNNOVA', 'CODPAISRES', 'TPROBSON', 'PARIDADE',\n",
       "       'KOTELCHUCK', 'CONTADOR', 'munResStatus', 'munResTipo', 'munResNome',\n",
       "       'munResUf', 'munResLat', 'munResLon', 'munResAlt', 'munResArea',\n",
       "       'Latitude Group', 'faixa_latitude'],\n",
       "      dtype='object')"
      ]
     },
     "execution_count": 281,
     "metadata": {},
     "output_type": "execute_result"
    }
   ],
   "execution_count": 281
  },
  {
   "metadata": {
    "ExecuteTime": {
     "end_time": "2024-12-19T02:13:23.634634Z",
     "start_time": "2024-12-19T02:13:23.630609Z"
    }
   },
   "cell_type": "code",
   "source": [
    "imediatas = {\n",
    "    \"Candeias do Jamari\": \"Porto Velho\",\n",
    "    \"Guajará-Mirim\": \"Porto Velho\",\n",
    "    \"Itapuã do Oeste\": \"Porto Velho\",\n",
    "    \"Nova Mamoré\": \"Porto Velho\",\n",
    "    \"Porto Velho\": \"Porto Velho\",\n",
    "    \"Ariquemes\": \"Ariquemes\",\n",
    "    \"Alto Paraíso\": \"Ariquemes\",\n",
    "    \"Buritis\": \"Ariquemes\",\n",
    "    \"Cacaulândia\": \"Ariquemes\",\n",
    "    \"Campo Novo de Rondônia\": \"Ariquemes\",\n",
    "    \"Cujubim\": \"Ariquemes\",\n",
    "    \"Monte Negro\": \"Ariquemes\",\n",
    "    \"Rio Crespo\": \"Ariquemes\",\n",
    "    \"Jaru\": \"Jaru\",\n",
    "    \"Governador Jorge Teixeira\": \"Jaru\",\n",
    "    \"Machadinho D'Oeste\": \"Jaru\",\n",
    "    \"Theobroma\": \"Jaru\",\n",
    "    \"Vale do Anari\": \"Jaru\",\n",
    "    \"Alvorada D'Oeste\": \"Ji-Paraná\",\n",
    "    \"Costa Marques\": \"Ji-Paraná\",\n",
    "    \"Ji-Paraná\": \"Ji-Paraná\",\n",
    "    \"Mirante da Serra\": \"Ji-Paraná\",\n",
    "    \"Nova União\": \"Ji-Paraná\",\n",
    "    \"Ouro Preto do Oeste\": \"Ji-Paraná\",\n",
    "    \"Presidente Médici\": \"Ji-Paraná\",\n",
    "    \"São Francisco do Guaporé\": \"Ji-Paraná\",\n",
    "    \"São Miguel do Guaporé\": \"Ji-Paraná\",\n",
    "    \"Seringueiras\": \"Ji-Paraná\",\n",
    "    \"Teixeirópolis\": \"Ji-Paraná\",\n",
    "    \"Urupá\": \"Ji-Paraná\",\n",
    "    \"Vale do Paraíso\": \"Ji-Paraná\",\n",
    "    \"Cacoal\": \"Cacoal\",\n",
    "    \"Alta Floresta D'Oeste\": \"Cacoal\",\n",
    "    \"Alto Alegre dos Parecis\": \"Cacoal\",\n",
    "    \"Castanheiras\": \"Cacoal\",\n",
    "    \"Espigão D'Oeste\": \"Cacoal\",\n",
    "    \"Ministro Andreazza\": \"Cacoal\",\n",
    "    \"Nova Brasilândia D'Oeste\": \"Cacoal\",\n",
    "    \"Novo Horizonte do Oeste\": \"Cacoal\",\n",
    "    \"Parecis\": \"Cacoal\",\n",
    "    \"Pimenta Bueno\": \"Cacoal\",\n",
    "    \"Primavera de Rondônia\": \"Cacoal\",\n",
    "    \"Rolim de Moura\": \"Cacoal\",\n",
    "    \"Santa Luzia D'Oeste\": \"Cacoal\",\n",
    "    \"São Felipe D'Oeste\": \"Cacoal\",\n",
    "    \"Vilhena\": \"Vilhena\",\n",
    "    \"Cabixi\": \"Vilhena\",\n",
    "    \"Cerejeiras\": \"Vilhena\",\n",
    "    \"Chupinguaia\": \"Vilhena\",\n",
    "    \"Colorado do Oeste\": \"Vilhena\",\n",
    "    \"Corumbiara\": \"Vilhena\",\n",
    "    \"Pimenteiras do Oeste\": \"Vilhena\"\n",
    "}\n",
    "imediatas"
   ],
   "outputs": [
    {
     "data": {
      "text/plain": [
       "{'Candeias do Jamari': 'Porto Velho',\n",
       " 'Guajará-Mirim': 'Porto Velho',\n",
       " 'Itapuã do Oeste': 'Porto Velho',\n",
       " 'Nova Mamoré': 'Porto Velho',\n",
       " 'Porto Velho': 'Porto Velho',\n",
       " 'Ariquemes': 'Ariquemes',\n",
       " 'Alto Paraíso': 'Ariquemes',\n",
       " 'Buritis': 'Ariquemes',\n",
       " 'Cacaulândia': 'Ariquemes',\n",
       " 'Campo Novo de Rondônia': 'Ariquemes',\n",
       " 'Cujubim': 'Ariquemes',\n",
       " 'Monte Negro': 'Ariquemes',\n",
       " 'Rio Crespo': 'Ariquemes',\n",
       " 'Jaru': 'Jaru',\n",
       " 'Governador Jorge Teixeira': 'Jaru',\n",
       " \"Machadinho D'Oeste\": 'Jaru',\n",
       " 'Theobroma': 'Jaru',\n",
       " 'Vale do Anari': 'Jaru',\n",
       " \"Alvorada D'Oeste\": 'Ji-Paraná',\n",
       " 'Costa Marques': 'Ji-Paraná',\n",
       " 'Ji-Paraná': 'Ji-Paraná',\n",
       " 'Mirante da Serra': 'Ji-Paraná',\n",
       " 'Nova União': 'Ji-Paraná',\n",
       " 'Ouro Preto do Oeste': 'Ji-Paraná',\n",
       " 'Presidente Médici': 'Ji-Paraná',\n",
       " 'São Francisco do Guaporé': 'Ji-Paraná',\n",
       " 'São Miguel do Guaporé': 'Ji-Paraná',\n",
       " 'Seringueiras': 'Ji-Paraná',\n",
       " 'Teixeirópolis': 'Ji-Paraná',\n",
       " 'Urupá': 'Ji-Paraná',\n",
       " 'Vale do Paraíso': 'Ji-Paraná',\n",
       " 'Cacoal': 'Cacoal',\n",
       " \"Alta Floresta D'Oeste\": 'Cacoal',\n",
       " 'Alto Alegre dos Parecis': 'Cacoal',\n",
       " 'Castanheiras': 'Cacoal',\n",
       " \"Espigão D'Oeste\": 'Cacoal',\n",
       " 'Ministro Andreazza': 'Cacoal',\n",
       " \"Nova Brasilândia D'Oeste\": 'Cacoal',\n",
       " 'Novo Horizonte do Oeste': 'Cacoal',\n",
       " 'Parecis': 'Cacoal',\n",
       " 'Pimenta Bueno': 'Cacoal',\n",
       " 'Primavera de Rondônia': 'Cacoal',\n",
       " 'Rolim de Moura': 'Cacoal',\n",
       " \"Santa Luzia D'Oeste\": 'Cacoal',\n",
       " \"São Felipe D'Oeste\": 'Cacoal',\n",
       " 'Vilhena': 'Vilhena',\n",
       " 'Cabixi': 'Vilhena',\n",
       " 'Cerejeiras': 'Vilhena',\n",
       " 'Chupinguaia': 'Vilhena',\n",
       " 'Colorado do Oeste': 'Vilhena',\n",
       " 'Corumbiara': 'Vilhena',\n",
       " 'Pimenteiras do Oeste': 'Vilhena'}"
      ]
     },
     "execution_count": 282,
     "metadata": {},
     "output_type": "execute_result"
    }
   ],
   "execution_count": 282
  },
  {
   "metadata": {
    "ExecuteTime": {
     "end_time": "2024-12-19T02:13:26.788634Z",
     "start_time": "2024-12-19T02:13:26.786331Z"
    }
   },
   "cell_type": "code",
   "source": "sinasc_raw.columns",
   "outputs": [
    {
     "data": {
      "text/plain": [
       "Index(['ORIGEM', 'CODESTAB', 'CODMUNNASC', 'LOCNASC', 'IDADEMAE', 'ESTCIVMAE',\n",
       "       'ESCMAE', 'CODOCUPMAE', 'QTDFILVIVO', 'QTDFILMORT', 'CODMUNRES',\n",
       "       'GESTACAO', 'GRAVIDEZ', 'PARTO', 'CONSULTAS', 'DTNASC', 'HORANASC',\n",
       "       'SEXO', 'APGAR1', 'APGAR5', 'RACACOR', 'PESO', 'IDANOMAL', 'DTCADASTRO',\n",
       "       'CODANOMAL', 'NUMEROLOTE', 'VERSAOSIST', 'DTRECEBIM', 'DIFDATA',\n",
       "       'DTRECORIGA', 'NATURALMAE', 'CODMUNNATU', 'CODUFNATU', 'ESCMAE2010',\n",
       "       'SERIESCMAE', 'DTNASCMAE', 'RACACORMAE', 'QTDGESTANT', 'QTDPARTNOR',\n",
       "       'QTDPARTCES', 'IDADEPAI', 'DTULTMENST', 'SEMAGESTAC', 'TPMETESTIM',\n",
       "       'CONSPRENAT', 'MESPRENAT', 'TPAPRESENT', 'STTRABPART', 'STCESPARTO',\n",
       "       'TPNASCASSI', 'TPFUNCRESP', 'TPDOCRESP', 'DTDECLARAC', 'ESCMAEAGR1',\n",
       "       'STDNEPIDEM', 'STDNNOVA', 'CODPAISRES', 'TPROBSON', 'PARIDADE',\n",
       "       'KOTELCHUCK', 'CONTADOR', 'munResStatus', 'munResTipo', 'munResNome',\n",
       "       'munResUf', 'munResLat', 'munResLon', 'munResAlt', 'munResArea',\n",
       "       'Latitude Group', 'faixa_latitude'],\n",
       "      dtype='object')"
      ]
     },
     "execution_count": 283,
     "metadata": {},
     "output_type": "execute_result"
    }
   ],
   "execution_count": 283
  },
  {
   "metadata": {
    "ExecuteTime": {
     "end_time": "2024-12-19T02:14:13.015223Z",
     "start_time": "2024-12-19T02:14:13.008321Z"
    }
   },
   "cell_type": "code",
   "source": "sinasc_raw[['munResNome', 'IDADEMAE', 'IDADEPAI']]",
   "outputs": [
    {
     "data": {
      "text/plain": [
       "                    munResNome  IDADEMAE  IDADEPAI\n",
       "0        Alta Floresta D'Oeste        19      26.0\n",
       "1        Alta Floresta D'Oeste        29      24.0\n",
       "2        Alta Floresta D'Oeste        37      32.0\n",
       "3      Alto Alegre dos Parecis        30      24.0\n",
       "4        Alta Floresta D'Oeste        30      27.0\n",
       "...                        ...       ...       ...\n",
       "27023                  Vilhena        32      35.0\n",
       "27024              Chupinguaia        19       NaN\n",
       "27025                  Vilhena        24      30.0\n",
       "27026                  Vilhena        21      24.0\n",
       "27027  Novo Horizonte do Oeste        18       NaN\n",
       "\n",
       "[27028 rows x 3 columns]"
      ],
      "text/html": [
       "<div>\n",
       "<style scoped>\n",
       "    .dataframe tbody tr th:only-of-type {\n",
       "        vertical-align: middle;\n",
       "    }\n",
       "\n",
       "    .dataframe tbody tr th {\n",
       "        vertical-align: top;\n",
       "    }\n",
       "\n",
       "    .dataframe thead th {\n",
       "        text-align: right;\n",
       "    }\n",
       "</style>\n",
       "<table border=\"1\" class=\"dataframe\">\n",
       "  <thead>\n",
       "    <tr style=\"text-align: right;\">\n",
       "      <th></th>\n",
       "      <th>munResNome</th>\n",
       "      <th>IDADEMAE</th>\n",
       "      <th>IDADEPAI</th>\n",
       "    </tr>\n",
       "  </thead>\n",
       "  <tbody>\n",
       "    <tr>\n",
       "      <th>0</th>\n",
       "      <td>Alta Floresta D'Oeste</td>\n",
       "      <td>19</td>\n",
       "      <td>26.0</td>\n",
       "    </tr>\n",
       "    <tr>\n",
       "      <th>1</th>\n",
       "      <td>Alta Floresta D'Oeste</td>\n",
       "      <td>29</td>\n",
       "      <td>24.0</td>\n",
       "    </tr>\n",
       "    <tr>\n",
       "      <th>2</th>\n",
       "      <td>Alta Floresta D'Oeste</td>\n",
       "      <td>37</td>\n",
       "      <td>32.0</td>\n",
       "    </tr>\n",
       "    <tr>\n",
       "      <th>3</th>\n",
       "      <td>Alto Alegre dos Parecis</td>\n",
       "      <td>30</td>\n",
       "      <td>24.0</td>\n",
       "    </tr>\n",
       "    <tr>\n",
       "      <th>4</th>\n",
       "      <td>Alta Floresta D'Oeste</td>\n",
       "      <td>30</td>\n",
       "      <td>27.0</td>\n",
       "    </tr>\n",
       "    <tr>\n",
       "      <th>...</th>\n",
       "      <td>...</td>\n",
       "      <td>...</td>\n",
       "      <td>...</td>\n",
       "    </tr>\n",
       "    <tr>\n",
       "      <th>27023</th>\n",
       "      <td>Vilhena</td>\n",
       "      <td>32</td>\n",
       "      <td>35.0</td>\n",
       "    </tr>\n",
       "    <tr>\n",
       "      <th>27024</th>\n",
       "      <td>Chupinguaia</td>\n",
       "      <td>19</td>\n",
       "      <td>NaN</td>\n",
       "    </tr>\n",
       "    <tr>\n",
       "      <th>27025</th>\n",
       "      <td>Vilhena</td>\n",
       "      <td>24</td>\n",
       "      <td>30.0</td>\n",
       "    </tr>\n",
       "    <tr>\n",
       "      <th>27026</th>\n",
       "      <td>Vilhena</td>\n",
       "      <td>21</td>\n",
       "      <td>24.0</td>\n",
       "    </tr>\n",
       "    <tr>\n",
       "      <th>27027</th>\n",
       "      <td>Novo Horizonte do Oeste</td>\n",
       "      <td>18</td>\n",
       "      <td>NaN</td>\n",
       "    </tr>\n",
       "  </tbody>\n",
       "</table>\n",
       "<p>27028 rows × 3 columns</p>\n",
       "</div>"
      ]
     },
     "execution_count": 288,
     "metadata": {},
     "output_type": "execute_result"
    }
   ],
   "execution_count": 288
  },
  {
   "metadata": {
    "ExecuteTime": {
     "end_time": "2024-12-19T02:14:15.970440Z",
     "start_time": "2024-12-19T02:14:15.878413Z"
    }
   },
   "cell_type": "code",
   "source": [
    "imediatas_idade_mae = sinasc_raw.set_index('munResNome').groupby(imediatas)['IDADEMAE'].mean().to_frame().plot(figsize=[18 ,6])\n",
    "plt.ylabel('idade_mãe')\n",
    "plt.xlabel('imediatas')\n",
    "imediatas_idade_mae"
   ],
   "outputs": [
    {
     "data": {
      "text/plain": [
       "<Axes: xlabel='imediatas', ylabel='idade_mãe'>"
      ]
     },
     "execution_count": 289,
     "metadata": {},
     "output_type": "execute_result"
    },
    {
     "data": {
      "text/plain": [
       "<Figure size 1800x600 with 1 Axes>"
      ],
      "image/png": "[encoded data removed]"
     },
     "metadata": {},
     "output_type": "display_data"
    }
   ],
   "execution_count": 289
  },
  {
   "metadata": {
    "ExecuteTime": {
     "end_time": "2024-12-19T02:14:18.018994Z",
     "start_time": "2024-12-19T02:14:17.328893Z"
    }
   },
   "cell_type": "code",
   "source": [
    "municipio = sns.barplot(x='munResNome', y='IDADEMAE', data=sinasc_raw)\n",
    "municipio.set_xticklabels(municipio.get_xticklabels(), rotation=90, horizontalalignment='right')\n"
   ],
   "outputs": [
    {
     "name": "stderr",
     "output_type": "stream",
     "text": [
      "/tmp/ipykernel_6029/3555317422.py:2: UserWarning: set_ticklabels() should only be used with a fixed number of ticks, i.e. after set_ticks() or using a FixedLocator.\n",
      "  municipio.set_xticklabels(municipio.get_xticklabels(), rotation=90, horizontalalignment='right')\n"
     ]
    },
    {
     "data": {
      "text/plain": [
       "[Text(0, 0, \"Alta Floresta D'Oeste\"),\n",
       " Text(1, 0, 'Alto Alegre dos Parecis'),\n",
       " Text(2, 0, 'Novo Horizonte do Oeste'),\n",
       " Text(3, 0, 'Rolim de Moura'),\n",
       " Text(4, 0, \"São Felipe D'Oeste\"),\n",
       " Text(5, 0, 'Ariquemes'),\n",
       " Text(6, 0, 'Cujubim'),\n",
       " Text(7, 0, 'Alto Paraíso'),\n",
       " Text(8, 0, 'Monte Negro'),\n",
       " Text(9, 0, 'Jaru'),\n",
       " Text(10, 0, 'Rio Crespo'),\n",
       " Text(11, 0, 'Porto Velho'),\n",
       " Text(12, 0, 'Cacaulândia'),\n",
       " Text(13, 0, 'Itapuã do Oeste'),\n",
       " Text(14, 0, 'Ji-Paraná'),\n",
       " Text(15, 0, 'Buritis'),\n",
       " Text(16, 0, 'Vilhena'),\n",
       " Text(17, 0, 'Vale do Anari'),\n",
       " Text(18, 0, 'Candeias do Jamari'),\n",
       " Text(19, 0, 'Costa Marques'),\n",
       " Text(20, 0, 'Campo Novo de Rondônia'),\n",
       " Text(21, 0, \"Machadinho D'Oeste\"),\n",
       " Text(22, 0, 'Colorado do Oeste'),\n",
       " Text(23, 0, 'Nova Mamoré'),\n",
       " Text(24, 0, 'Urupá'),\n",
       " Text(25, 0, 'Ouro Preto do Oeste'),\n",
       " Text(26, 0, 'Corumbiara'),\n",
       " Text(27, 0, 'São Miguel do Guaporé'),\n",
       " Text(28, 0, 'Governador Jorge Teixeira'),\n",
       " Text(29, 0, \"Santa Luzia D'Oeste\"),\n",
       " Text(30, 0, 'Pimenta Bueno'),\n",
       " Text(31, 0, 'Mirante da Serra'),\n",
       " Text(32, 0, 'Cerejeiras'),\n",
       " Text(33, 0, 'Presidente Médici'),\n",
       " Text(34, 0, 'Cacoal'),\n",
       " Text(35, 0, 'Parecis'),\n",
       " Text(36, 0, \"Espigão D'Oeste\"),\n",
       " Text(37, 0, 'São Francisco do Guaporé'),\n",
       " Text(38, 0, 'Ministro Andreazza'),\n",
       " Text(39, 0, \"Nova Brasilândia D'Oeste\"),\n",
       " Text(40, 0, \"Alvorada D'Oeste\"),\n",
       " Text(41, 0, 'Primavera de Rondônia'),\n",
       " Text(42, 0, 'Seringueiras'),\n",
       " Text(43, 0, 'Município ignorado - RO'),\n",
       " Text(44, 0, 'Castanheiras'),\n",
       " Text(45, 0, 'Chupinguaia'),\n",
       " Text(46, 0, 'Guajará-Mirim'),\n",
       " Text(47, 0, 'Theobroma'),\n",
       " Text(48, 0, 'Nova União'),\n",
       " Text(49, 0, 'Teixeirópolis'),\n",
       " Text(50, 0, 'Vale do Paraíso'),\n",
       " Text(51, 0, 'Pimenteiras do Oeste'),\n",
       " Text(52, 0, 'Cabixi')]"
      ]
     },
     "execution_count": 290,
     "metadata": {},
     "output_type": "execute_result"
    },
    {
     "data": {
      "text/plain": [
       "<Figure size 640x480 with 1 Axes>"
      ],
      "image/png": "[encoded data removed]"
     },
     "metadata": {},
     "output_type": "display_data"
    }
   ],
   "execution_count": 290
  },
  {
   "metadata": {
    "ExecuteTime": {
     "end_time": "2024-12-19T02:14:45.196707Z",
     "start_time": "2024-12-19T02:14:44.274260Z"
    }
   },
   "cell_type": "code",
   "source": [
    "municipio2 = sns.barplot(x='munResNome', y='IDADEPAI', data=sinasc_raw)\n",
    "municipio2.set_xticklabels(municipio2.get_xticklabels(), rotation=90, horizontalalignment='righ')"
   ],
   "outputs": [
    {
     "name": "stderr",
     "output_type": "stream",
     "text": [
      "/tmp/ipykernel_6029/1485628052.py:2: UserWarning: set_ticklabels() should only be used with a fixed number of ticks, i.e. after set_ticks() or using a FixedLocator.\n",
      "  municipio2.set_xticklabels(municipio2.get_xticklabels(), rotation=90, horizontalalignment='righ')\n"
     ]
    },
    {
     "ename": "ValueError",
     "evalue": "'righ' is not a valid value for align; supported values are 'center', 'right', 'left'",
     "output_type": "error",
     "traceback": [
      "\u001B[0;31m---------------------------------------------------------------------------\u001B[0m",
      "\u001B[0;31mValueError\u001B[0m                                Traceback (most recent call last)",
      "Cell \u001B[0;32mIn[294], line 2\u001B[0m\n\u001B[1;32m      1\u001B[0m municipio2 \u001B[38;5;241m=\u001B[39m sns\u001B[38;5;241m.\u001B[39mbarplot(x\u001B[38;5;241m=\u001B[39m\u001B[38;5;124m'\u001B[39m\u001B[38;5;124mmunResNome\u001B[39m\u001B[38;5;124m'\u001B[39m, y\u001B[38;5;241m=\u001B[39m\u001B[38;5;124m'\u001B[39m\u001B[38;5;124mIDADEPAI\u001B[39m\u001B[38;5;124m'\u001B[39m, data\u001B[38;5;241m=\u001B[39msinasc_raw)\n\u001B[0;32m----> 2\u001B[0m \u001B[43mmunicipio2\u001B[49m\u001B[38;5;241;43m.\u001B[39;49m\u001B[43mset_xticklabels\u001B[49m\u001B[43m(\u001B[49m\u001B[43mmunicipio2\u001B[49m\u001B[38;5;241;43m.\u001B[39;49m\u001B[43mget_xticklabels\u001B[49m\u001B[43m(\u001B[49m\u001B[43m)\u001B[49m\u001B[43m,\u001B[49m\u001B[43m \u001B[49m\u001B[43mrotation\u001B[49m\u001B[38;5;241;43m=\u001B[39;49m\u001B[38;5;241;43m90\u001B[39;49m\u001B[43m,\u001B[49m\u001B[43m \u001B[49m\u001B[43mhorizontalalignment\u001B[49m\u001B[38;5;241;43m=\u001B[39;49m\u001B[38;5;124;43m'\u001B[39;49m\u001B[38;5;124;43mrigh\u001B[39;49m\u001B[38;5;124;43m'\u001B[39;49m\u001B[43m)\u001B[49m\n",
      "File \u001B[0;32m~/DataspellProjects/untitled1/.venv/lib/python3.12/site-packages/matplotlib/axes/_base.py:74\u001B[0m, in \u001B[0;36m_axis_method_wrapper.__set_name__.<locals>.wrapper\u001B[0;34m(self, *args, **kwargs)\u001B[0m\n\u001B[1;32m     73\u001B[0m \u001B[38;5;28;01mdef\u001B[39;00m \u001B[38;5;21mwrapper\u001B[39m(\u001B[38;5;28mself\u001B[39m, \u001B[38;5;241m*\u001B[39margs, \u001B[38;5;241m*\u001B[39m\u001B[38;5;241m*\u001B[39mkwargs):\n\u001B[0;32m---> 74\u001B[0m     \u001B[38;5;28;01mreturn\u001B[39;00m \u001B[43mget_method\u001B[49m\u001B[43m(\u001B[49m\u001B[38;5;28;43mself\u001B[39;49m\u001B[43m)\u001B[49m\u001B[43m(\u001B[49m\u001B[38;5;241;43m*\u001B[39;49m\u001B[43margs\u001B[49m\u001B[43m,\u001B[49m\u001B[43m \u001B[49m\u001B[38;5;241;43m*\u001B[39;49m\u001B[38;5;241;43m*\u001B[39;49m\u001B[43mkwargs\u001B[49m\u001B[43m)\u001B[49m\n",
      "File \u001B[0;32m~/DataspellProjects/untitled1/.venv/lib/python3.12/site-packages/matplotlib/axis.py:2106\u001B[0m, in \u001B[0;36mAxis.set_ticklabels\u001B[0;34m(self, labels, minor, fontdict, **kwargs)\u001B[0m\n\u001B[1;32m   2104\u001B[0m \u001B[38;5;66;03m# deal with label1\u001B[39;00m\n\u001B[1;32m   2105\u001B[0m tick\u001B[38;5;241m.\u001B[39mlabel1\u001B[38;5;241m.\u001B[39mset_text(tick_label)\n\u001B[0;32m-> 2106\u001B[0m \u001B[43mtick\u001B[49m\u001B[38;5;241;43m.\u001B[39;49m\u001B[43mlabel1\u001B[49m\u001B[38;5;241;43m.\u001B[39;49m\u001B[43m_internal_update\u001B[49m\u001B[43m(\u001B[49m\u001B[43mkwargs\u001B[49m\u001B[43m)\u001B[49m\n\u001B[1;32m   2107\u001B[0m \u001B[38;5;66;03m# deal with label2\u001B[39;00m\n\u001B[1;32m   2108\u001B[0m tick\u001B[38;5;241m.\u001B[39mlabel2\u001B[38;5;241m.\u001B[39mset_text(tick_label)\n",
      "File \u001B[0;32m~/DataspellProjects/untitled1/.venv/lib/python3.12/site-packages/matplotlib/artist.py:1216\u001B[0m, in \u001B[0;36mArtist._internal_update\u001B[0;34m(self, kwargs)\u001B[0m\n\u001B[1;32m   1209\u001B[0m \u001B[38;5;28;01mdef\u001B[39;00m \u001B[38;5;21m_internal_update\u001B[39m(\u001B[38;5;28mself\u001B[39m, kwargs):\n\u001B[1;32m   1210\u001B[0m \u001B[38;5;250m    \u001B[39m\u001B[38;5;124;03m\"\"\"\u001B[39;00m\n\u001B[1;32m   1211\u001B[0m \u001B[38;5;124;03m    Update artist properties without prenormalizing them, but generating\u001B[39;00m\n\u001B[1;32m   1212\u001B[0m \u001B[38;5;124;03m    errors as if calling `set`.\u001B[39;00m\n\u001B[1;32m   1213\u001B[0m \n\u001B[1;32m   1214\u001B[0m \u001B[38;5;124;03m    The lack of prenormalization is to maintain backcompatibility.\u001B[39;00m\n\u001B[1;32m   1215\u001B[0m \u001B[38;5;124;03m    \"\"\"\u001B[39;00m\n\u001B[0;32m-> 1216\u001B[0m     \u001B[38;5;28;01mreturn\u001B[39;00m \u001B[38;5;28;43mself\u001B[39;49m\u001B[38;5;241;43m.\u001B[39;49m\u001B[43m_update_props\u001B[49m\u001B[43m(\u001B[49m\n\u001B[1;32m   1217\u001B[0m \u001B[43m        \u001B[49m\u001B[43mkwargs\u001B[49m\u001B[43m,\u001B[49m\u001B[43m \u001B[49m\u001B[38;5;124;43m\"\u001B[39;49m\u001B[38;5;132;43;01m{cls.__name__}\u001B[39;49;00m\u001B[38;5;124;43m.set() got an unexpected keyword argument \u001B[39;49m\u001B[38;5;124;43m\"\u001B[39;49m\n\u001B[1;32m   1218\u001B[0m \u001B[43m        \u001B[49m\u001B[38;5;124;43m\"\u001B[39;49m\u001B[38;5;132;43;01m{prop_name!r}\u001B[39;49;00m\u001B[38;5;124;43m\"\u001B[39;49m\u001B[43m)\u001B[49m\n",
      "File \u001B[0;32m~/DataspellProjects/untitled1/.venv/lib/python3.12/site-packages/matplotlib/artist.py:1192\u001B[0m, in \u001B[0;36mArtist._update_props\u001B[0;34m(self, props, errfmt)\u001B[0m\n\u001B[1;32m   1189\u001B[0m             \u001B[38;5;28;01mif\u001B[39;00m \u001B[38;5;129;01mnot\u001B[39;00m \u001B[38;5;28mcallable\u001B[39m(func):\n\u001B[1;32m   1190\u001B[0m                 \u001B[38;5;28;01mraise\u001B[39;00m \u001B[38;5;167;01mAttributeError\u001B[39;00m(\n\u001B[1;32m   1191\u001B[0m                     errfmt\u001B[38;5;241m.\u001B[39mformat(\u001B[38;5;28mcls\u001B[39m\u001B[38;5;241m=\u001B[39m\u001B[38;5;28mtype\u001B[39m(\u001B[38;5;28mself\u001B[39m), prop_name\u001B[38;5;241m=\u001B[39mk))\n\u001B[0;32m-> 1192\u001B[0m             ret\u001B[38;5;241m.\u001B[39mappend(\u001B[43mfunc\u001B[49m\u001B[43m(\u001B[49m\u001B[43mv\u001B[49m\u001B[43m)\u001B[49m)\n\u001B[1;32m   1193\u001B[0m \u001B[38;5;28;01mif\u001B[39;00m ret:\n\u001B[1;32m   1194\u001B[0m     \u001B[38;5;28mself\u001B[39m\u001B[38;5;241m.\u001B[39mpchanged()\n",
      "File \u001B[0;32m~/DataspellProjects/untitled1/.venv/lib/python3.12/site-packages/matplotlib/text.py:1010\u001B[0m, in \u001B[0;36mText.set_horizontalalignment\u001B[0;34m(self, align)\u001B[0m\n\u001B[1;32m   1000\u001B[0m \u001B[38;5;28;01mdef\u001B[39;00m \u001B[38;5;21mset_horizontalalignment\u001B[39m(\u001B[38;5;28mself\u001B[39m, align):\n\u001B[1;32m   1001\u001B[0m \u001B[38;5;250m    \u001B[39m\u001B[38;5;124;03m\"\"\"\u001B[39;00m\n\u001B[1;32m   1002\u001B[0m \u001B[38;5;124;03m    Set the horizontal alignment relative to the anchor point.\u001B[39;00m\n\u001B[1;32m   1003\u001B[0m \n\u001B[0;32m   (...)\u001B[0m\n\u001B[1;32m   1008\u001B[0m \u001B[38;5;124;03m    align : {'left', 'center', 'right'}\u001B[39;00m\n\u001B[1;32m   1009\u001B[0m \u001B[38;5;124;03m    \"\"\"\u001B[39;00m\n\u001B[0;32m-> 1010\u001B[0m     \u001B[43m_api\u001B[49m\u001B[38;5;241;43m.\u001B[39;49m\u001B[43mcheck_in_list\u001B[49m\u001B[43m(\u001B[49m\u001B[43m[\u001B[49m\u001B[38;5;124;43m'\u001B[39;49m\u001B[38;5;124;43mcenter\u001B[39;49m\u001B[38;5;124;43m'\u001B[39;49m\u001B[43m,\u001B[49m\u001B[43m \u001B[49m\u001B[38;5;124;43m'\u001B[39;49m\u001B[38;5;124;43mright\u001B[39;49m\u001B[38;5;124;43m'\u001B[39;49m\u001B[43m,\u001B[49m\u001B[43m \u001B[49m\u001B[38;5;124;43m'\u001B[39;49m\u001B[38;5;124;43mleft\u001B[39;49m\u001B[38;5;124;43m'\u001B[39;49m\u001B[43m]\u001B[49m\u001B[43m,\u001B[49m\u001B[43m \u001B[49m\u001B[43malign\u001B[49m\u001B[38;5;241;43m=\u001B[39;49m\u001B[43malign\u001B[49m\u001B[43m)\u001B[49m\n\u001B[1;32m   1011\u001B[0m     \u001B[38;5;28mself\u001B[39m\u001B[38;5;241m.\u001B[39m_horizontalalignment \u001B[38;5;241m=\u001B[39m align\n\u001B[1;32m   1012\u001B[0m     \u001B[38;5;28mself\u001B[39m\u001B[38;5;241m.\u001B[39mstale \u001B[38;5;241m=\u001B[39m \u001B[38;5;28;01mTrue\u001B[39;00m\n",
      "File \u001B[0;32m~/DataspellProjects/untitled1/.venv/lib/python3.12/site-packages/matplotlib/_api/__init__.py:129\u001B[0m, in \u001B[0;36mcheck_in_list\u001B[0;34m(values, _print_supported_values, **kwargs)\u001B[0m\n\u001B[1;32m    127\u001B[0m \u001B[38;5;28;01mif\u001B[39;00m _print_supported_values:\n\u001B[1;32m    128\u001B[0m     msg \u001B[38;5;241m+\u001B[39m\u001B[38;5;241m=\u001B[39m \u001B[38;5;124mf\u001B[39m\u001B[38;5;124m\"\u001B[39m\u001B[38;5;124m; supported values are \u001B[39m\u001B[38;5;132;01m{\u001B[39;00m\u001B[38;5;124m'\u001B[39m\u001B[38;5;124m, \u001B[39m\u001B[38;5;124m'\u001B[39m\u001B[38;5;241m.\u001B[39mjoin(\u001B[38;5;28mmap\u001B[39m(\u001B[38;5;28mrepr\u001B[39m,\u001B[38;5;250m \u001B[39mvalues))\u001B[38;5;132;01m}\u001B[39;00m\u001B[38;5;124m\"\u001B[39m\n\u001B[0;32m--> 129\u001B[0m \u001B[38;5;28;01mraise\u001B[39;00m \u001B[38;5;167;01mValueError\u001B[39;00m(msg)\n",
      "\u001B[0;31mValueError\u001B[0m: 'righ' is not a valid value for align; supported values are 'center', 'right', 'left'"
     ]
    },
    {
     "data": {
      "text/plain": [
       "<Figure size 640x480 with 1 Axes>"
      ],
      "image/png": "[encoded data removed]"
     },
     "metadata": {},
     "output_type": "display_data"
    }
   ],
   "execution_count": 294
  },
  {
   "metadata": {
    "ExecuteTime": {
     "end_time": "2024-12-19T02:11:44.943346Z",
     "start_time": "2024-12-19T02:11:44.941768Z"
    }
   },
   "cell_type": "code",
   "source": "\n",
   "outputs": [],
   "execution_count": 260
  },
  {
   "metadata": {
    "ExecuteTime": {
     "end_time": "2024-12-19T02:07:25.591570Z",
     "start_time": "2024-12-19T02:07:25.589397Z"
    }
   },
   "cell_type": "code",
   "source": "",
   "outputs": [],
   "execution_count": null
  },
  {
   "metadata": {
    "ExecuteTime": {
     "end_time": "2024-12-19T00:38:00.021968Z",
     "start_time": "2024-12-19T00:38:00.020240Z"
    }
   },
   "cell_type": "code",
   "source": "",
   "outputs": [],
   "execution_count": null
  },
  {
   "cell_type": "markdown",
   "metadata": {
    "id": "yt-LIWxblTuF"
   },
   "source": [
    "### 5. Utilize a tabela do link abaixo e crie faixas utilizando o mapping e gere agrupamentos utilizando essas faixas como chave\n"
   ]
  },
  {
   "cell_type": "markdown",
   "metadata": {
    "id": "moZakjgIlTuF"
   },
   "source": [
    "### 5.1 IDH\n",
    "A - https://pt.wikipedia.org/wiki/Lista_de_munic%C3%ADpios_de_Rond%C3%B4nia_por_IDH-M\n"
   ]
  },
  {
   "metadata": {
    "ExecuteTime": {
     "end_time": "2024-12-19T14:22:25.593239Z",
     "start_time": "2024-12-19T14:22:25.590286Z"
    }
   },
   "cell_type": "code",
   "source": "sinasc_raw.columns",
   "outputs": [
    {
     "data": {
      "text/plain": [
       "Index(['ORIGEM', 'CODESTAB', 'CODMUNNASC', 'LOCNASC', 'IDADEMAE', 'ESTCIVMAE',\n",
       "       'ESCMAE', 'CODOCUPMAE', 'QTDFILVIVO', 'QTDFILMORT', 'CODMUNRES',\n",
       "       'GESTACAO', 'GRAVIDEZ', 'PARTO', 'CONSULTAS', 'DTNASC', 'HORANASC',\n",
       "       'SEXO', 'APGAR1', 'APGAR5', 'RACACOR', 'PESO', 'IDANOMAL', 'DTCADASTRO',\n",
       "       'CODANOMAL', 'NUMEROLOTE', 'VERSAOSIST', 'DTRECEBIM', 'DIFDATA',\n",
       "       'DTRECORIGA', 'NATURALMAE', 'CODMUNNATU', 'CODUFNATU', 'ESCMAE2010',\n",
       "       'SERIESCMAE', 'DTNASCMAE', 'RACACORMAE', 'QTDGESTANT', 'QTDPARTNOR',\n",
       "       'QTDPARTCES', 'IDADEPAI', 'DTULTMENST', 'SEMAGESTAC', 'TPMETESTIM',\n",
       "       'CONSPRENAT', 'MESPRENAT', 'TPAPRESENT', 'STTRABPART', 'STCESPARTO',\n",
       "       'TPNASCASSI', 'TPFUNCRESP', 'TPDOCRESP', 'DTDECLARAC', 'ESCMAEAGR1',\n",
       "       'STDNEPIDEM', 'STDNNOVA', 'CODPAISRES', 'TPROBSON', 'PARIDADE',\n",
       "       'KOTELCHUCK', 'CONTADOR', 'munResStatus', 'munResTipo', 'munResNome',\n",
       "       'munResUf', 'munResLat', 'munResLon', 'munResAlt', 'munResArea',\n",
       "       'Latitude Group', 'faixa_latitude'],\n",
       "      dtype='object')"
      ]
     },
     "execution_count": 13,
     "metadata": {},
     "output_type": "execute_result"
    }
   ],
   "execution_count": 13
  },
  {
   "metadata": {
    "ExecuteTime": {
     "end_time": "2024-12-19T14:21:42.243514Z",
     "start_time": "2024-12-19T14:21:42.242011Z"
    }
   },
   "cell_type": "code",
   "source": "",
   "outputs": [],
   "execution_count": null
  },
  {
   "metadata": {
    "ExecuteTime": {
     "end_time": "2024-12-19T14:21:46.523903Z",
     "start_time": "2024-12-19T14:21:46.522463Z"
    }
   },
   "cell_type": "code",
   "source": "",
   "outputs": [],
   "execution_count": null
  },
  {
   "metadata": {
    "id": "DaJk66_BlTuF",
    "ExecuteTime": {
     "end_time": "2024-12-19T14:22:28.034871Z",
     "start_time": "2024-12-19T14:22:28.026793Z"
    }
   },
   "cell_type": "code",
   "source": [
    "mapping\n",
    "{\n",
    "\n",
    "    \"Porto Velho\": [0.736, 0.764, 0.819, 0.638],\n",
    "    \"Vilhena\": [0.731, 0.734, 0.808, 0.659],\n",
    "    \"Cacoal\": [0.718, 0.727, 0.821, 0.620],\n",
    "    \"Ji-Paraná\": [0.714, 0.728, 0.810, 0.617],\n",
    "    \"Pimenta Bueno\": [0.710, 0.726, 0.803, 0.613],\n",
    "    \"Ariquemes\": [0.702, 0.716, 0.806, 0.600],\n",
    "    \"Rolim de Moura\": [0.700, 0.709, 0.808, 0.598],\n",
    "    \"Cerejeiras\": [0.692, 0.688, 0.799, 0.602],\n",
    "    \"Jaru\": [0.689, 0.687, 0.825, 0.577],\n",
    "    \"Colorado do Oeste\": [0.685, 0.676, 0.814, 0.584],\n",
    "    \"Ouro Preto do Oeste\": [0.682, 0.687, 0.812, 0.569],\n",
    "    \"Espigão d Oeste\": [0.672, 0.691, 0.819, 0.536],\n",
    "    \"Santa Luzia d Oeste\": [0.670, 0.657, 0.812, 0.564],\n",
    "    \"Pimenteiras do Oeste\": [0.665, 0.662, 0.816, 0.545],\n",
    "    \"Presidente Médici\": [0.664, 0.671, 0.792, 0.550],\n",
    "    \"Castanheiras\": [0.658, 0.650, 0.803, 0.547],\n",
    "    \"Guajará-Mirim\": [0.657, 0.663, 0.823, 0.519],\n",
    "    \"Chupinguaia\": [0.652, 0.659, 0.820, 0.514],\n",
    "    \"Cabixi\": [0.650, 0.650, 0.757, 0.559],\n",
    "    \"Candeias do Jamari\": [0.649, 0.652, 0.819, 0.512],\n",
    "    \"São Felipe d Oeste\": [0.649, 0.615, 0.780, 0.571],\n",
    "    \"Cacaulândia\": [0.646, 0.664, 0.801, 0.506],\n",
    "    \"São Miguel do Guaporé\": [0.646, 0.644, 0.781, 0.537],\n",
    "    \"Mirante da Serra\": [0.643, 0.673, 0.800, 0.494],\n",
    "    \"Alvorada d Oeste\": [0.643, 0.654, 0.763, 0.534],\n",
    "    \"Teixeirópolis\": [0.643, 0.653, 0.818, 0.498],\n",
    "    \"Nova Brasilândia d Oeste\": [0.643, 0.664, 0.763, 0.524],\n",
    "    \"Rio Crespo\": [0.643, 0.637, 0.813, 0.513],\n",
    "    \"Primavera de Rondônia\": [0.641, 0.645, 0.799, 0.512],\n",
    "    \"Alta Floresta d Oeste\": [0.641, 0.657, 0.763, 0.526],\n",
    "    \"Ministro Andreazza\": [0.638, 0.647, 0.776, 0.518],\n",
    "    \"Novo Horizonte do Oeste\": [0.634, 0.606, 0.799, 0.527],\n",
    "    \"Vale do Paraíso\": [0.627, 0.641, 0.792, 0.485],\n",
    "    \"Alto Paraíso\": [0.625, 0.664, 0.804, 0.457],\n",
    "    \"Parecis\": [0.617, 0.604, 0.800, 0.485],\n",
    "    \"Buritis\": [0.616, 0.650, 0.751, 0.479],\n",
    "    \"Itapuã do Oeste\": [0.614, 0.633, 0.751, 0.488],\n",
    "    \"Corumbiara\": [0.613, 0.630, 0.774, 0.473],\n",
    "    \"Cujubim\": [0.612, 0.663, 0.789, 0.439],\n",
    "    \"Costa Marques\": [0.611, 0.616, 0.751, 0.493],\n",
    "    \"São Francisco do Guaporé\": [0.611, 0.657, 0.751, 0.462],\n",
    "    \"Urupá\": [0.609, 0.621, 0.772, 0.471],\n",
    "    \"Monte Negro\": [0.607, 0.645, 0.762, 0.454],\n",
    "\n",
    "    \"Seringueiras\" : [0.598, 0.644, 0.779, 0.427],\n",
    "    \"Governador Jorge Teixeira\" : [0.596, 0.627, 0.762, 0.444],\n",
    "    \"Machadinho d Oeste\" : [0.596, 0.629, 0.755, 0.446],\n",
    "    \"Campo Novo de Rondônia\" : [0.593, 0.667, 0.772, 0.404],\n",
    "    \"Alto Alegre dos Parecis\" : [0.592, 0.603, 0.777, 0.443],\n",
    "    \"Theobroma\" : [0.589, 0.622, 0.757, 0.434],\n",
    "    \"Nova União\" : [0.587, 0.608, 0.753, 0.442],\n",
    "    \"Nova Mamoré\" : [0.587, 0.619, 0.769, 0.424],\n",
    "    \"Vale do Anari\" : [0.584, 0.626, 0.756, 0.421]\n",
    "\n",
    "}\n",
    "mapping"
   ],
   "outputs": [
    {
     "data": {
      "text/plain": [
       "{'IntegerField': (None, 'int'),\n",
       " 'BigIntegerField': (None, 'int'),\n",
       " 'PositiveIntegerField': (None, 'int'),\n",
       " 'SmallIntegerField': (None, 'int'),\n",
       " 'CharField': (None, 'str'),\n",
       " 'TextField': (None, 'str'),\n",
       " 'EmailField': (None, 'str'),\n",
       " 'GenericIPAddressField': (None, 'str'),\n",
       " 'URLField': (None, 'str'),\n",
       " 'FloatField': (None, 'float'),\n",
       " 'BinaryField': (None, 'bytes'),\n",
       " 'BooleanField': (None, 'bool'),\n",
       " 'DecimalField': ('decimal', 'Decimal'),\n",
       " 'TimeField': ('datetime', 'time'),\n",
       " 'DurationField': ('datetime', 'timedelta'),\n",
       " 'DateField': ('datetime', 'date'),\n",
       " 'DateTimeField': ('datetime', 'datetime'),\n",
       " 'UUIDField': ('uuid', 'UUID')}"
      ]
     },
     "execution_count": 14,
     "metadata": {},
     "output_type": "execute_result"
    }
   ],
   "execution_count": 14
  },
  {
   "metadata": {
    "ExecuteTime": {
     "end_time": "2024-12-19T14:25:31.890745Z",
     "start_time": "2024-12-19T14:25:31.880952Z"
    }
   },
   "cell_type": "code",
   "source": [
    "# Assume sinasc_raw is your raw DataFrame\n",
    "# Create a DataFrame for demonstration (replace this with your actual DataFrame)\n",
    "sinasc_raw = pd.DataFrame({\n",
    "    'munResNome': ['CityA', 'CityB', 'CityC'],\n",
    "    'IDADEMAE': [25, 30, 35],\n",
    "    'IDADEPAI': [28, 33, 38],\n",
    "    # You can replace this with the actual data or computation\n",
    "    'IDH': [0.8, 0.7, 0.9]\n",
    "})\n",
    "\n",
    "# Set 'munResNome' as the index\n",
    "idh = sinasc_raw.set_index('munResNome')\n",
    "\n",
    "# Ensure the 'IDH' column exists\n",
    "if 'IDH' not in idh.columns:\n",
    "    raise ValueError(\"'IDH' column is missing from the DataFrame. Please check your data.\")\n",
    "\n",
    "# Group the data based on the 'IDH' column\n",
    "# and calculate required statistics for 'IDADEMAE' and 'IDADEPAI'\n",
    "result = idh.groupby('IDH')[['IDADEMAE', 'IDADEPAI']].agg(['mean', 'median', 'std'])\n",
    "\n",
    "# Display the resulting statistics\n",
    "print(result)"
   ],
   "outputs": [
    {
     "name": "stdout",
     "output_type": "stream",
     "text": [
      "    IDADEMAE            IDADEPAI           \n",
      "        mean median std     mean median std\n",
      "IDH                                        \n",
      "0.7     30.0   30.0 NaN     33.0   33.0 NaN\n",
      "0.8     25.0   25.0 NaN     28.0   28.0 NaN\n",
      "0.9     35.0   35.0 NaN     38.0   38.0 NaN\n"
     ]
    }
   ],
   "execution_count": 23
  },
  {
   "metadata": {
    "ExecuteTime": {
     "end_time": "2024-12-19T01:06:24.468552Z",
     "start_time": "2024-12-19T01:06:24.465792Z"
    }
   },
   "cell_type": "code",
   "source": "",
   "outputs": [],
   "execution_count": 198
  },
  {
   "metadata": {
    "ExecuteTime": {
     "end_time": "2024-12-19T01:06:25.915291Z",
     "start_time": "2024-12-19T01:06:25.912890Z"
    }
   },
   "cell_type": "code",
   "source": "",
   "outputs": [],
   "execution_count": 199
  },
  {
   "metadata": {
    "ExecuteTime": {
     "end_time": "2024-12-19T01:06:26.957918Z",
     "start_time": "2024-12-19T01:06:26.955239Z"
    }
   },
   "cell_type": "code",
   "source": "",
   "outputs": [
    {
     "data": {
      "text/plain": [
       "Series([], Name: Value, dtype: int64)"
      ]
     },
     "execution_count": 200,
     "metadata": {},
     "output_type": "execute_result"
    }
   ],
   "execution_count": 200
  },
  {
   "metadata": {
    "ExecuteTime": {
     "end_time": "2024-12-19T00:56:34.269570Z",
     "start_time": "2024-12-19T00:56:34.268228Z"
    }
   },
   "cell_type": "code",
   "source": "",
   "outputs": [],
   "execution_count": null
  },
  {
   "cell_type": "markdown",
   "metadata": {
    "id": "zhtI6CxtlTuH"
   },
   "source": [
    "### 5.2 IFDM\n",
    "B - https://pt.wikipedia.org/wiki/Lista_de_munic%C3%ADpios_de_Rond%C3%B4nia_por_IFDM\n"
   ]
  },
  {
   "cell_type": "code",
   "metadata": {
    "id": "1AVkd1M3lTuI",
    "ExecuteTime": {
     "end_time": "2024-12-19T01:06:29.265024Z",
     "start_time": "2024-12-19T01:06:29.255507Z"
    }
   },
   "source": [
    "IFDM = {\n",
    "    \"Espigão d'Oeste\":'des_regular',\n",
    "    'Seringueiras':'des_regular',\n",
    "    \"Alvorada d'Oeste\":'des_regular',\n",
    "    'Itapuã do Oeste':'des_regular',\n",
    "    'Cabixi':'des_regular',\n",
    "    'Novo Horizonte do Oeste':'des_regular',\n",
    "    \"Nova Brasilândia d'Oeste\":'des_regular',\n",
    "    'Vale do Paraíso':'des_regular',\n",
    "    'Corumbiara':'des_regular',\n",
    "    'Alto Paraíso':'des_regular',\n",
    "    'Cacaulândia':'des_regular',\n",
    "    'Vale do Anari':'des_regular',\n",
    "    'Ministro Andreazza':'des_regular',\n",
    "    'Costa Marques':'des_regular',\n",
    "    'Nova União':'des_regular',\n",
    "    'Guajará-Mirim':'des_regular',\n",
    "    'Mirante da Serra':'des_regular',\n",
    "    'Parecis':'des_regular',\n",
    "    'Castanheiras':'des_regular',\n",
    "    'Theobroma':'des_regular',\n",
    "    \"Machadinho d'Oeste\":'des_regular',\n",
    "    'Campo Novo de Rondônia':'des_regular',\n",
    "    'Nova Mamoré':'des_regular',\n",
    "    'Cujubim':'des_regular',\n",
    "    'Alto Alegre dos Parecis':'des_regular',\n",
    "    'Governador Jorge Teixeira': 'des_regular',\n",
    "    \"Ariquemes\": 'des_moderado',\n",
    "    \"Vilhena\": 'des_moderado',\n",
    "    \"Pimenta Bueno\": 'des_moderado',\n",
    "    \"Porto Velho\": 'des_moderado',\n",
    "    \"Ji-Paraná\": 'des_moderado',\n",
    "    \"Cacoal\": 'des_moderado',\n",
    "    \"Santa Luzia d'Oeste\": 'des_moderado',\n",
    "    \"Rolim de Moura\": 'des_moderado',\n",
    "    \"Chupinguaia\": 'des_moderado',\n",
    "    \"São Miguel do Guaporé\": 'des_moderado',\n",
    "    \"Pimenteiras do Oeste\": 'des_moderado',\n",
    "    \"Teixeirópolis\": 'des_moderado',\n",
    "    \"Colorado do Oeste\": 'des_moderado',\n",
    "    \"Jaru\": 'des_moderado',\n",
    "    \"Rio Crespo\": 'des_moderado',\n",
    "    \"Primavera de Rondônia\": 'des_moderado',\n",
    "    \"Alta Floresta d'Oeste\": 'des_moderado',\n",
    "    \"Ouro Preto do Oeste\": 'des_moderado',\n",
    "    \"São Francisco do Guaporé\": 'des_moderado',\n",
    "    \"Candeias do Jamari\": 'des_moderado',\n",
    "    \"Buritis\": 'des_moderado',\n",
    "    \"São Felipe d'Oeste\": 'des_moderado',\n",
    "    \"Presidente Médici\": 'des_moderado',\n",
    "    \"Cerejeiras\": 'des_moderado',\n",
    "    \"Monte Negro\": 'des_moderado',\n",
    "    \"Urupá\": 'des_moderado',\n",
    "\n",
    "}\n"
   ],
   "outputs": [],
   "execution_count": 201
  },
  {
   "metadata": {
    "ExecuteTime": {
     "end_time": "2024-12-19T01:09:46.381327Z",
     "start_time": "2024-12-19T01:09:46.377606Z"
    }
   },
   "cell_type": "code",
   "source": "sinasc_raw.columns",
   "outputs": [
    {
     "data": {
      "text/plain": [
       "Index(['ORIGEM', 'CODESTAB', 'CODMUNNASC', 'LOCNASC', 'ESTCIVMAE', 'ESCMAE',\n",
       "       'CODOCUPMAE', 'QTDFILVIVO', 'QTDFILMORT', 'CODMUNRES', 'GESTACAO',\n",
       "       'GRAVIDEZ', 'PARTO', 'CONSULTAS', 'DTNASC', 'HORANASC', 'SEXO',\n",
       "       'APGAR1', 'APGAR5', 'RACACOR', 'PESO', 'IDANOMAL', 'DTCADASTRO',\n",
       "       'CODANOMAL', 'NUMEROLOTE', 'VERSAOSIST', 'DTRECEBIM', 'DIFDATA',\n",
       "       'DTRECORIGA', 'NATURALMAE', 'CODMUNNATU', 'CODUFNATU', 'ESCMAE2010',\n",
       "       'SERIESCMAE', 'DTNASCMAE', 'RACACORMAE', 'QTDGESTANT', 'QTDPARTNOR',\n",
       "       'QTDPARTCES', 'IDADEPAI', 'DTULTMENST', 'SEMAGESTAC', 'TPMETESTIM',\n",
       "       'CONSPRENAT', 'MESPRENAT', 'TPAPRESENT', 'STTRABPART', 'STCESPARTO',\n",
       "       'TPNASCASSI', 'TPFUNCRESP', 'TPDOCRESP', 'DTDECLARAC', 'ESCMAEAGR1',\n",
       "       'STDNEPIDEM', 'STDNNOVA', 'CODPAISRES', 'TPROBSON', 'PARIDADE',\n",
       "       'KOTELCHUCK', 'CONTADOR', 'munResStatus', 'munResTipo', 'munResNome',\n",
       "       'munResUf', 'munResLat', 'munResLon', 'munResAlt', 'munResArea',\n",
       "       'Latitude Group', 'faixa_latitude'],\n",
       "      dtype='object')"
      ]
     },
     "execution_count": 210,
     "metadata": {},
     "output_type": "execute_result"
    }
   ],
   "execution_count": 210
  },
  {
   "metadata": {
    "ExecuteTime": {
     "end_time": "2024-12-19T01:12:03.355010Z",
     "start_time": "2024-12-19T01:12:03.348012Z"
    }
   },
   "cell_type": "code",
   "source": "sinasc_raw[['munResNome', 'ESCMAE']]",
   "outputs": [
    {
     "data": {
      "text/plain": [
       "                       munResNome  ESCMAE\n",
       "IDADEMAE                                 \n",
       "19          Alta Floresta D'Oeste     NaN\n",
       "29          Alta Floresta D'Oeste     NaN\n",
       "37          Alta Floresta D'Oeste     NaN\n",
       "30        Alto Alegre dos Parecis     NaN\n",
       "30          Alta Floresta D'Oeste     NaN\n",
       "...                           ...     ...\n",
       "32                        Vilhena     NaN\n",
       "19                    Chupinguaia     NaN\n",
       "24                        Vilhena     NaN\n",
       "21                        Vilhena     NaN\n",
       "18        Novo Horizonte do Oeste     NaN\n",
       "\n",
       "[27028 rows x 2 columns]"
      ],
      "text/html": [
       "<div>\n",
       "<style scoped>\n",
       "    .dataframe tbody tr th:only-of-type {\n",
       "        vertical-align: middle;\n",
       "    }\n",
       "\n",
       "    .dataframe tbody tr th {\n",
       "        vertical-align: top;\n",
       "    }\n",
       "\n",
       "    .dataframe thead th {\n",
       "        text-align: right;\n",
       "    }\n",
       "</style>\n",
       "<table border=\"1\" class=\"dataframe\">\n",
       "  <thead>\n",
       "    <tr style=\"text-align: right;\">\n",
       "      <th></th>\n",
       "      <th>munResNome</th>\n",
       "      <th>ESCMAE</th>\n",
       "    </tr>\n",
       "    <tr>\n",
       "      <th>IDADEMAE</th>\n",
       "      <th></th>\n",
       "      <th></th>\n",
       "    </tr>\n",
       "  </thead>\n",
       "  <tbody>\n",
       "    <tr>\n",
       "      <th>19</th>\n",
       "      <td>Alta Floresta D'Oeste</td>\n",
       "      <td>NaN</td>\n",
       "    </tr>\n",
       "    <tr>\n",
       "      <th>29</th>\n",
       "      <td>Alta Floresta D'Oeste</td>\n",
       "      <td>NaN</td>\n",
       "    </tr>\n",
       "    <tr>\n",
       "      <th>37</th>\n",
       "      <td>Alta Floresta D'Oeste</td>\n",
       "      <td>NaN</td>\n",
       "    </tr>\n",
       "    <tr>\n",
       "      <th>30</th>\n",
       "      <td>Alto Alegre dos Parecis</td>\n",
       "      <td>NaN</td>\n",
       "    </tr>\n",
       "    <tr>\n",
       "      <th>30</th>\n",
       "      <td>Alta Floresta D'Oeste</td>\n",
       "      <td>NaN</td>\n",
       "    </tr>\n",
       "    <tr>\n",
       "      <th>...</th>\n",
       "      <td>...</td>\n",
       "      <td>...</td>\n",
       "    </tr>\n",
       "    <tr>\n",
       "      <th>32</th>\n",
       "      <td>Vilhena</td>\n",
       "      <td>NaN</td>\n",
       "    </tr>\n",
       "    <tr>\n",
       "      <th>19</th>\n",
       "      <td>Chupinguaia</td>\n",
       "      <td>NaN</td>\n",
       "    </tr>\n",
       "    <tr>\n",
       "      <th>24</th>\n",
       "      <td>Vilhena</td>\n",
       "      <td>NaN</td>\n",
       "    </tr>\n",
       "    <tr>\n",
       "      <th>21</th>\n",
       "      <td>Vilhena</td>\n",
       "      <td>NaN</td>\n",
       "    </tr>\n",
       "    <tr>\n",
       "      <th>18</th>\n",
       "      <td>Novo Horizonte do Oeste</td>\n",
       "      <td>NaN</td>\n",
       "    </tr>\n",
       "  </tbody>\n",
       "</table>\n",
       "<p>27028 rows × 2 columns</p>\n",
       "</div>"
      ]
     },
     "execution_count": 212,
     "metadata": {},
     "output_type": "execute_result"
    }
   ],
   "execution_count": 212
  },
  {
   "metadata": {
    "ExecuteTime": {
     "end_time": "2024-12-19T01:12:15.557464Z",
     "start_time": "2024-12-19T01:12:15.536402Z"
    }
   },
   "cell_type": "code",
   "source": "sinasc_raw.set_index('munResNome')['ESCMAE'].groupby(IFDM).agg(['sum', 'mean', 'min', 'max', 'median', 'std','var'])",
   "outputs": [
    {
     "data": {
      "text/plain": [
       "              sum  mean  min  max  median  std  var\n",
       "munResNome                                         \n",
       "des_moderado  0.0   NaN  NaN  NaN     NaN  NaN  NaN\n",
       "des_regular   0.0   NaN  NaN  NaN     NaN  NaN  NaN"
      ],
      "text/html": [
       "<div>\n",
       "<style scoped>\n",
       "    .dataframe tbody tr th:only-of-type {\n",
       "        vertical-align: middle;\n",
       "    }\n",
       "\n",
       "    .dataframe tbody tr th {\n",
       "        vertical-align: top;\n",
       "    }\n",
       "\n",
       "    .dataframe thead th {\n",
       "        text-align: right;\n",
       "    }\n",
       "</style>\n",
       "<table border=\"1\" class=\"dataframe\">\n",
       "  <thead>\n",
       "    <tr style=\"text-align: right;\">\n",
       "      <th></th>\n",
       "      <th>sum</th>\n",
       "      <th>mean</th>\n",
       "      <th>min</th>\n",
       "      <th>max</th>\n",
       "      <th>median</th>\n",
       "      <th>std</th>\n",
       "      <th>var</th>\n",
       "    </tr>\n",
       "    <tr>\n",
       "      <th>munResNome</th>\n",
       "      <th></th>\n",
       "      <th></th>\n",
       "      <th></th>\n",
       "      <th></th>\n",
       "      <th></th>\n",
       "      <th></th>\n",
       "      <th></th>\n",
       "    </tr>\n",
       "  </thead>\n",
       "  <tbody>\n",
       "    <tr>\n",
       "      <th>des_moderado</th>\n",
       "      <td>0.0</td>\n",
       "      <td>NaN</td>\n",
       "      <td>NaN</td>\n",
       "      <td>NaN</td>\n",
       "      <td>NaN</td>\n",
       "      <td>NaN</td>\n",
       "      <td>NaN</td>\n",
       "    </tr>\n",
       "    <tr>\n",
       "      <th>des_regular</th>\n",
       "      <td>0.0</td>\n",
       "      <td>NaN</td>\n",
       "      <td>NaN</td>\n",
       "      <td>NaN</td>\n",
       "      <td>NaN</td>\n",
       "      <td>NaN</td>\n",
       "      <td>NaN</td>\n",
       "    </tr>\n",
       "  </tbody>\n",
       "</table>\n",
       "</div>"
      ]
     },
     "execution_count": 213,
     "metadata": {},
     "output_type": "execute_result"
    }
   ],
   "execution_count": 213
  },
  {
   "metadata": {
    "ExecuteTime": {
     "end_time": "2024-12-19T01:12:20.316760Z",
     "start_time": "2024-12-19T01:12:20.314376Z"
    }
   },
   "cell_type": "code",
   "source": "\n",
   "outputs": [],
   "execution_count": 213
  },
  {
   "cell_type": "markdown",
   "metadata": {
    "id": "BwdS46EWlTuI"
   },
   "source": [
    "### 5.3 PIB\n",
    "C - https://pt.wikipedia.org/wiki/Lista_de_munic%C3%ADpios_de_Rond%C3%B4nia_por_PIB\n"
   ]
  },
  {
   "cell_type": "markdown",
   "metadata": {
    "id": "bdWGW_xtlTuI"
   },
   "source": [
    "### Analise as respostas encontradas, tire algum insight delas, conte pra gente algo encontrado nos dados."
   ]
  },
  {
   "cell_type": "markdown",
   "metadata": {
    "id": "shZvokfBlTuI"
   },
   "source": [
    "Exemplo:\n",
    "- Ah, descobri que a idade mediana das mulheres que deram a luz no ano de 2019 dos municipios com o PIB mais alto é a maior dentre todas."
   ]
  },
  {
   "cell_type": "code",
   "metadata": {
    "id": "f8P7BYYglTuJ",
    "ExecuteTime": {
     "end_time": "2024-12-19T01:12:52.848550Z",
     "start_time": "2024-12-19T01:12:52.844314Z"
    }
   },
   "source": [
    "PIB = {\n",
    "    \"Porto Velho\": \"Acima de 1 bilhão\",\n",
    "    \"Ji-Paraná\": \"Acima de 1 bilhão\",\n",
    "    \"Vilhena\": \"Acima de 1 bilhão\",\n",
    "    \"Ariquemes\": \"Acima de 1 bilhão\",\n",
    "    \"Cacoal\": \"Acima de 1 bilhão\",\n",
    "    \"Jaru\": \"Acima de 1 bilhão\",\n",
    "    \"Rolim de Moura\": \"Acima de 1 bilhão\",\n",
    "    \"Pimenta Bueno\": \"Acima de 1 bilhão\",\n",
    "    \"Guajará-Mirim\": \"Acima de 500 Milhões\",\n",
    "    \"Ouro Preto do Oeste\": \"Acima de 500 Milhões\",\n",
    "    \"Buritis\": \"Acima de 500 Milhões\",\n",
    "    \"Machadinho do Oeste\": \"Acima de 500 Milhões\",\n",
    "    \"Espigão d'Oeste\": \"Acima de 500 Milhões\",\n",
    "    \"São Miguel do Guaporé\": \"Acima de 500 Milhões\",\n",
    "    \"Candeias do Jamari\": \"Acima de 500 Milhões\",\n",
    "    \"Nova Mamoré\": \"Acima de 500 Milhões\",\n",
    "    \"Cerejeiras\": \"Acima de 500 Milhões\",\n",
    "    \"Alta Floresta do Oeste\": \"Acima de 300 Milhões\",\n",
    "    \"Presidente Médici\": \"Acima de 300 Milhões\",\n",
    "    \"Cujubim\": \"Acima de 300 Milhões\",\n",
    "    \"Nova Brasilândia do Oeste\": \"Acima de 300 Milhões\",\n",
    "    \"Alto Paraíso\": \"Acima de 300 Milhões\",\n",
    "    \"São Francisco do Guaporé\": \"Acima de 300 Milhões\",\n",
    "    \"Colorado do Oeste\": \"Acima de 300 Milhões\",\n",
    "    \"Monte Negro\": \"Acima de 200 Milhões\",\n",
    "    \"Alto Alegre dos Parecis\": \"Acima de 200 Milhões\",\n",
    "    \"Campo Novo de Rondônia\": \"Acima de 200 Milhões\",\n",
    "    \"Alvorada do Oeste\": \"Acima de 200 Milhões\",\n",
    "    \"Chupinguaia\": \"Acima de 100 Milhões\",\n",
    "    \"Corumbiara\": \"Acima de 100 Milhões\",\n",
    "    \"Ministro Andreazza\": \"Acima de 100 Milhões\",\n",
    "    \"Urupá\": \"Acima de 100 Milhões\",\n",
    "    \"Costa Marques\": \"Acima de 100 Milhões\",\n",
    "    \"Seringueiras\": \"Acima de 100 Milhões\",\n",
    "    \"Mirante da Serra\": \"Acima de 100 Milhões\",\n",
    "    \"Governador Jorge Teixeira\": \"Acima de 100 Milhões\",\n",
    "    \"Theobroma\": \"Acima de 100 Milhões\",\n",
    "    \"Santa Luzia do Oeste\": \"Acima de 100 Milhões\",\n",
    "    \"Novo Horizonte do Oeste\": \"Acima de 100 Milhões\",\n",
    "    \"Itapuã do Oeste\": \"Acima de 100 Milhões\",\n",
    "    \"Vale do Paraíso\": \"Acima de 100 Milhões\",\n",
    "    \"Cacaulândia\": \"Acima de 100 Milhões\",\n",
    "    \"Cabixi\": \"Acima de 100 Milhões\",\n",
    "    \"Vale do Anari\": \"Acima de 100 Milhões\",\n",
    "    \"Nova União\": \"Até 100 Milhões\",\n",
    "    \"Parecis\": \"Até 100 Milhões\",\n",
    "    \"Rio Crespo\": \"Até 100 Milhões\",\n",
    "    \"Pimenteiras do Oeste\": \"Até 100 Milhões\",\n",
    "    \"Teixeirópolis\": \"Até 100 Milhões\",\n",
    "    \"São Felipe do Oeste\": \"Até 100 Milhões\",\n",
    "    \"Castanheiras\": \"Até 100 Milhões\",\n",
    "    \"Primavera de Rondônia\": \"Até 100 Milhões\"\n",
    "}\n"
   ],
   "outputs": [],
   "execution_count": 214
  },
  {
   "metadata": {
    "ExecuteTime": {
     "end_time": "2024-12-19T01:14:36.071301Z",
     "start_time": "2024-12-19T01:14:36.068766Z"
    }
   },
   "cell_type": "code",
   "source": "sinasc_raw.columns",
   "outputs": [
    {
     "data": {
      "text/plain": [
       "Index(['ORIGEM', 'CODESTAB', 'CODMUNNASC', 'LOCNASC', 'ESTCIVMAE', 'ESCMAE',\n",
       "       'CODOCUPMAE', 'QTDFILVIVO', 'QTDFILMORT', 'CODMUNRES', 'GESTACAO',\n",
       "       'GRAVIDEZ', 'PARTO', 'CONSULTAS', 'DTNASC', 'HORANASC', 'SEXO',\n",
       "       'APGAR1', 'APGAR5', 'RACACOR', 'PESO', 'IDANOMAL', 'DTCADASTRO',\n",
       "       'CODANOMAL', 'NUMEROLOTE', 'VERSAOSIST', 'DTRECEBIM', 'DIFDATA',\n",
       "       'DTRECORIGA', 'NATURALMAE', 'CODMUNNATU', 'CODUFNATU', 'ESCMAE2010',\n",
       "       'SERIESCMAE', 'DTNASCMAE', 'RACACORMAE', 'QTDGESTANT', 'QTDPARTNOR',\n",
       "       'QTDPARTCES', 'IDADEPAI', 'DTULTMENST', 'SEMAGESTAC', 'TPMETESTIM',\n",
       "       'CONSPRENAT', 'MESPRENAT', 'TPAPRESENT', 'STTRABPART', 'STCESPARTO',\n",
       "       'TPNASCASSI', 'TPFUNCRESP', 'TPDOCRESP', 'DTDECLARAC', 'ESCMAEAGR1',\n",
       "       'STDNEPIDEM', 'STDNNOVA', 'CODPAISRES', 'TPROBSON', 'PARIDADE',\n",
       "       'KOTELCHUCK', 'CONTADOR', 'munResStatus', 'munResTipo', 'munResNome',\n",
       "       'munResUf', 'munResLat', 'munResLon', 'munResAlt', 'munResArea',\n",
       "       'Latitude Group', 'faixa_latitude'],\n",
       "      dtype='object')"
      ]
     },
     "execution_count": 218,
     "metadata": {},
     "output_type": "execute_result"
    }
   ],
   "execution_count": 218
  },
  {
   "metadata": {
    "ExecuteTime": {
     "end_time": "2024-12-19T01:16:10.543464Z",
     "start_time": "2024-12-19T01:16:10.537923Z"
    }
   },
   "cell_type": "code",
   "source": "sinasc_raw[['munResNome', 'ESCMAE', 'IDADEPAI']]",
   "outputs": [
    {
     "data": {
      "text/plain": [
       "                       munResNome  ESCMAE  IDADEPAI\n",
       "IDADEMAE                                           \n",
       "19          Alta Floresta D'Oeste     NaN      26.0\n",
       "29          Alta Floresta D'Oeste     NaN      24.0\n",
       "37          Alta Floresta D'Oeste     NaN      32.0\n",
       "30        Alto Alegre dos Parecis     NaN      24.0\n",
       "30          Alta Floresta D'Oeste     NaN      27.0\n",
       "...                           ...     ...       ...\n",
       "32                        Vilhena     NaN      35.0\n",
       "19                    Chupinguaia     NaN       NaN\n",
       "24                        Vilhena     NaN      30.0\n",
       "21                        Vilhena     NaN      24.0\n",
       "18        Novo Horizonte do Oeste     NaN       NaN\n",
       "\n",
       "[27028 rows x 3 columns]"
      ],
      "text/html": [
       "<div>\n",
       "<style scoped>\n",
       "    .dataframe tbody tr th:only-of-type {\n",
       "        vertical-align: middle;\n",
       "    }\n",
       "\n",
       "    .dataframe tbody tr th {\n",
       "        vertical-align: top;\n",
       "    }\n",
       "\n",
       "    .dataframe thead th {\n",
       "        text-align: right;\n",
       "    }\n",
       "</style>\n",
       "<table border=\"1\" class=\"dataframe\">\n",
       "  <thead>\n",
       "    <tr style=\"text-align: right;\">\n",
       "      <th></th>\n",
       "      <th>munResNome</th>\n",
       "      <th>ESCMAE</th>\n",
       "      <th>IDADEPAI</th>\n",
       "    </tr>\n",
       "    <tr>\n",
       "      <th>IDADEMAE</th>\n",
       "      <th></th>\n",
       "      <th></th>\n",
       "      <th></th>\n",
       "    </tr>\n",
       "  </thead>\n",
       "  <tbody>\n",
       "    <tr>\n",
       "      <th>19</th>\n",
       "      <td>Alta Floresta D'Oeste</td>\n",
       "      <td>NaN</td>\n",
       "      <td>26.0</td>\n",
       "    </tr>\n",
       "    <tr>\n",
       "      <th>29</th>\n",
       "      <td>Alta Floresta D'Oeste</td>\n",
       "      <td>NaN</td>\n",
       "      <td>24.0</td>\n",
       "    </tr>\n",
       "    <tr>\n",
       "      <th>37</th>\n",
       "      <td>Alta Floresta D'Oeste</td>\n",
       "      <td>NaN</td>\n",
       "      <td>32.0</td>\n",
       "    </tr>\n",
       "    <tr>\n",
       "      <th>30</th>\n",
       "      <td>Alto Alegre dos Parecis</td>\n",
       "      <td>NaN</td>\n",
       "      <td>24.0</td>\n",
       "    </tr>\n",
       "    <tr>\n",
       "      <th>30</th>\n",
       "      <td>Alta Floresta D'Oeste</td>\n",
       "      <td>NaN</td>\n",
       "      <td>27.0</td>\n",
       "    </tr>\n",
       "    <tr>\n",
       "      <th>...</th>\n",
       "      <td>...</td>\n",
       "      <td>...</td>\n",
       "      <td>...</td>\n",
       "    </tr>\n",
       "    <tr>\n",
       "      <th>32</th>\n",
       "      <td>Vilhena</td>\n",
       "      <td>NaN</td>\n",
       "      <td>35.0</td>\n",
       "    </tr>\n",
       "    <tr>\n",
       "      <th>19</th>\n",
       "      <td>Chupinguaia</td>\n",
       "      <td>NaN</td>\n",
       "      <td>NaN</td>\n",
       "    </tr>\n",
       "    <tr>\n",
       "      <th>24</th>\n",
       "      <td>Vilhena</td>\n",
       "      <td>NaN</td>\n",
       "      <td>30.0</td>\n",
       "    </tr>\n",
       "    <tr>\n",
       "      <th>21</th>\n",
       "      <td>Vilhena</td>\n",
       "      <td>NaN</td>\n",
       "      <td>24.0</td>\n",
       "    </tr>\n",
       "    <tr>\n",
       "      <th>18</th>\n",
       "      <td>Novo Horizonte do Oeste</td>\n",
       "      <td>NaN</td>\n",
       "      <td>NaN</td>\n",
       "    </tr>\n",
       "  </tbody>\n",
       "</table>\n",
       "<p>27028 rows × 3 columns</p>\n",
       "</div>"
      ]
     },
     "execution_count": 222,
     "metadata": {},
     "output_type": "execute_result"
    }
   ],
   "execution_count": 222
  },
  {
   "metadata": {
    "ExecuteTime": {
     "end_time": "2024-12-19T01:16:12.591687Z",
     "start_time": "2024-12-19T01:16:12.572095Z"
    }
   },
   "cell_type": "code",
   "source": "sinasc_raw.set_index('munResNome')['ESCMAE'].groupby(PIB).agg(['sum', 'mean', 'min', 'max', 'median', 'std', 'var'])",
   "outputs": [
    {
     "data": {
      "text/plain": [
       "                      sum  mean  min  max  median  std  var\n",
       "munResNome                                                 \n",
       "Acima de 1 bilhão     0.0   NaN  NaN  NaN     NaN  NaN  NaN\n",
       "Acima de 100 Milhões  0.0   NaN  NaN  NaN     NaN  NaN  NaN\n",
       "Acima de 200 Milhões  0.0   NaN  NaN  NaN     NaN  NaN  NaN\n",
       "Acima de 300 Milhões  0.0   NaN  NaN  NaN     NaN  NaN  NaN\n",
       "Acima de 500 Milhões  0.0   NaN  NaN  NaN     NaN  NaN  NaN\n",
       "Até 100 Milhões       0.0   NaN  NaN  NaN     NaN  NaN  NaN"
      ],
      "text/html": [
       "<div>\n",
       "<style scoped>\n",
       "    .dataframe tbody tr th:only-of-type {\n",
       "        vertical-align: middle;\n",
       "    }\n",
       "\n",
       "    .dataframe tbody tr th {\n",
       "        vertical-align: top;\n",
       "    }\n",
       "\n",
       "    .dataframe thead th {\n",
       "        text-align: right;\n",
       "    }\n",
       "</style>\n",
       "<table border=\"1\" class=\"dataframe\">\n",
       "  <thead>\n",
       "    <tr style=\"text-align: right;\">\n",
       "      <th></th>\n",
       "      <th>sum</th>\n",
       "      <th>mean</th>\n",
       "      <th>min</th>\n",
       "      <th>max</th>\n",
       "      <th>median</th>\n",
       "      <th>std</th>\n",
       "      <th>var</th>\n",
       "    </tr>\n",
       "    <tr>\n",
       "      <th>munResNome</th>\n",
       "      <th></th>\n",
       "      <th></th>\n",
       "      <th></th>\n",
       "      <th></th>\n",
       "      <th></th>\n",
       "      <th></th>\n",
       "      <th></th>\n",
       "    </tr>\n",
       "  </thead>\n",
       "  <tbody>\n",
       "    <tr>\n",
       "      <th>Acima de 1 bilhão</th>\n",
       "      <td>0.0</td>\n",
       "      <td>NaN</td>\n",
       "      <td>NaN</td>\n",
       "      <td>NaN</td>\n",
       "      <td>NaN</td>\n",
       "      <td>NaN</td>\n",
       "      <td>NaN</td>\n",
       "    </tr>\n",
       "    <tr>\n",
       "      <th>Acima de 100 Milhões</th>\n",
       "      <td>0.0</td>\n",
       "      <td>NaN</td>\n",
       "      <td>NaN</td>\n",
       "      <td>NaN</td>\n",
       "      <td>NaN</td>\n",
       "      <td>NaN</td>\n",
       "      <td>NaN</td>\n",
       "    </tr>\n",
       "    <tr>\n",
       "      <th>Acima de 200 Milhões</th>\n",
       "      <td>0.0</td>\n",
       "      <td>NaN</td>\n",
       "      <td>NaN</td>\n",
       "      <td>NaN</td>\n",
       "      <td>NaN</td>\n",
       "      <td>NaN</td>\n",
       "      <td>NaN</td>\n",
       "    </tr>\n",
       "    <tr>\n",
       "      <th>Acima de 300 Milhões</th>\n",
       "      <td>0.0</td>\n",
       "      <td>NaN</td>\n",
       "      <td>NaN</td>\n",
       "      <td>NaN</td>\n",
       "      <td>NaN</td>\n",
       "      <td>NaN</td>\n",
       "      <td>NaN</td>\n",
       "    </tr>\n",
       "    <tr>\n",
       "      <th>Acima de 500 Milhões</th>\n",
       "      <td>0.0</td>\n",
       "      <td>NaN</td>\n",
       "      <td>NaN</td>\n",
       "      <td>NaN</td>\n",
       "      <td>NaN</td>\n",
       "      <td>NaN</td>\n",
       "      <td>NaN</td>\n",
       "    </tr>\n",
       "    <tr>\n",
       "      <th>Até 100 Milhões</th>\n",
       "      <td>0.0</td>\n",
       "      <td>NaN</td>\n",
       "      <td>NaN</td>\n",
       "      <td>NaN</td>\n",
       "      <td>NaN</td>\n",
       "      <td>NaN</td>\n",
       "      <td>NaN</td>\n",
       "    </tr>\n",
       "  </tbody>\n",
       "</table>\n",
       "</div>"
      ]
     },
     "execution_count": 223,
     "metadata": {},
     "output_type": "execute_result"
    }
   ],
   "execution_count": 223
  },
  {
   "metadata": {
    "ExecuteTime": {
     "end_time": "2024-12-19T01:16:17.397274Z",
     "start_time": "2024-12-19T01:16:17.375173Z"
    }
   },
   "cell_type": "code",
   "source": "sinasc_raw.set_index('munResNome')['IDADEPAI'].groupby(PIB).agg(['sum', 'mean', 'min', 'max', 'median', 'std', 'var'])",
   "outputs": [
    {
     "data": {
      "text/plain": [
       "                           sum       mean   min   max  median       std  \\\n",
       "munResNome                                                                \n",
       "Acima de 1 bilhão     144654.0  31.108387  15.0  70.0    30.0  7.767477   \n",
       "Acima de 100 Milhões   18253.0  31.744348  17.0  73.0    31.0  8.008643   \n",
       "Acima de 200 Milhões    5796.0  30.187500  16.0  55.0    29.0  7.659388   \n",
       "Acima de 300 Milhões    8691.0  30.819149  16.0  64.0    30.0  7.858123   \n",
       "Acima de 500 Milhões   20869.0  31.381955  17.0  60.0    31.0  7.583172   \n",
       "Até 100 Milhões         7021.0  31.626126  17.0  67.0    30.0  7.665510   \n",
       "\n",
       "                            var  \n",
       "munResNome                       \n",
       "Acima de 1 bilhão     60.333700  \n",
       "Acima de 100 Milhões  64.138361  \n",
       "Acima de 200 Milhões  58.666230  \n",
       "Acima de 300 Milhões  61.750095  \n",
       "Acima de 500 Milhões  57.504493  \n",
       "Até 100 Milhões       58.760038  "
      ],
      "text/html": [
       "<div>\n",
       "<style scoped>\n",
       "    .dataframe tbody tr th:only-of-type {\n",
       "        vertical-align: middle;\n",
       "    }\n",
       "\n",
       "    .dataframe tbody tr th {\n",
       "        vertical-align: top;\n",
       "    }\n",
       "\n",
       "    .dataframe thead th {\n",
       "        text-align: right;\n",
       "    }\n",
       "</style>\n",
       "<table border=\"1\" class=\"dataframe\">\n",
       "  <thead>\n",
       "    <tr style=\"text-align: right;\">\n",
       "      <th></th>\n",
       "      <th>sum</th>\n",
       "      <th>mean</th>\n",
       "      <th>min</th>\n",
       "      <th>max</th>\n",
       "      <th>median</th>\n",
       "      <th>std</th>\n",
       "      <th>var</th>\n",
       "    </tr>\n",
       "    <tr>\n",
       "      <th>munResNome</th>\n",
       "      <th></th>\n",
       "      <th></th>\n",
       "      <th></th>\n",
       "      <th></th>\n",
       "      <th></th>\n",
       "      <th></th>\n",
       "      <th></th>\n",
       "    </tr>\n",
       "  </thead>\n",
       "  <tbody>\n",
       "    <tr>\n",
       "      <th>Acima de 1 bilhão</th>\n",
       "      <td>144654.0</td>\n",
       "      <td>31.108387</td>\n",
       "      <td>15.0</td>\n",
       "      <td>70.0</td>\n",
       "      <td>30.0</td>\n",
       "      <td>7.767477</td>\n",
       "      <td>60.333700</td>\n",
       "    </tr>\n",
       "    <tr>\n",
       "      <th>Acima de 100 Milhões</th>\n",
       "      <td>18253.0</td>\n",
       "      <td>31.744348</td>\n",
       "      <td>17.0</td>\n",
       "      <td>73.0</td>\n",
       "      <td>31.0</td>\n",
       "      <td>8.008643</td>\n",
       "      <td>64.138361</td>\n",
       "    </tr>\n",
       "    <tr>\n",
       "      <th>Acima de 200 Milhões</th>\n",
       "      <td>5796.0</td>\n",
       "      <td>30.187500</td>\n",
       "      <td>16.0</td>\n",
       "      <td>55.0</td>\n",
       "      <td>29.0</td>\n",
       "      <td>7.659388</td>\n",
       "      <td>58.666230</td>\n",
       "    </tr>\n",
       "    <tr>\n",
       "      <th>Acima de 300 Milhões</th>\n",
       "      <td>8691.0</td>\n",
       "      <td>30.819149</td>\n",
       "      <td>16.0</td>\n",
       "      <td>64.0</td>\n",
       "      <td>30.0</td>\n",
       "      <td>7.858123</td>\n",
       "      <td>61.750095</td>\n",
       "    </tr>\n",
       "    <tr>\n",
       "      <th>Acima de 500 Milhões</th>\n",
       "      <td>20869.0</td>\n",
       "      <td>31.381955</td>\n",
       "      <td>17.0</td>\n",
       "      <td>60.0</td>\n",
       "      <td>31.0</td>\n",
       "      <td>7.583172</td>\n",
       "      <td>57.504493</td>\n",
       "    </tr>\n",
       "    <tr>\n",
       "      <th>Até 100 Milhões</th>\n",
       "      <td>7021.0</td>\n",
       "      <td>31.626126</td>\n",
       "      <td>17.0</td>\n",
       "      <td>67.0</td>\n",
       "      <td>30.0</td>\n",
       "      <td>7.665510</td>\n",
       "      <td>58.760038</td>\n",
       "    </tr>\n",
       "  </tbody>\n",
       "</table>\n",
       "</div>"
      ]
     },
     "execution_count": 224,
     "metadata": {},
     "output_type": "execute_result"
    }
   ],
   "execution_count": 224
  },
  {
   "metadata": {},
   "cell_type": "code",
   "outputs": [],
   "execution_count": null,
   "source": ""
  }
 ],
 "metadata": {
  "kernelspec": {
   "display_name": "Python 3",
   "language": "python",
   "name": "python3"
  },
  "language_info": {
   "codemirror_mode": {
    "name": "ipython",
    "version": 3
   },
   "file_extension": ".py",
   "mimetype": "text/x-python",
   "name": "python",
   "nbconvert_exporter": "python",
   "pygments_lexer": "ipython3",
   "version": "3.8.5"
  },
  "varInspector": {
   "cols": {
    "lenName": 16,
    "lenType": 16,
    "lenVar": 40
   },
   "kernels_config": {
    "python": {
     "delete_cmd_postfix": "",
     "delete_cmd_prefix": "del ",
     "library": "var_list.py",
     "varRefreshCmd": "print(var_dic_list())"
    },
    "r": {
     "delete_cmd_postfix": ") ",
     "delete_cmd_prefix": "rm(",
     "library": "var_list.r",
     "varRefreshCmd": "cat(var_dic_list()) "
    }
   },
   "types_to_exclude": [
    "module",
    "function",
    "builtin_function_or_method",
    "instance",
    "_Feature"
   ],
   "window_display": false
  },
  "colab": {
   "provenance": []
  }
 },
 "nbformat": 4,
 "nbformat_minor": 0
}
