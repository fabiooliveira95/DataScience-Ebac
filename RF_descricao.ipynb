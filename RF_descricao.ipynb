{
 "cells": [
  {
   "metadata": {},
   "cell_type": "markdown",
   "source": [
    "### Quais são os hyperparâmetros do RF?\n",
    "``1 Hiperparâmetros Relacionados às Árvores Individuais``\n",
    "* max_depth\n",
    "* min_samples_split\n",
    "* min_samples_leaf\n",
    "* max_features\n",
    "* auto\n",
    "* sqrt\n",
    "* log2\n",
    "* max_leaf_nodes\n",
    "\n",
    " ``2 Hiperparâmetros Relacionados à Floresta como um Todo``\n",
    "\n",
    "* n_estimators\n",
    "* bootstrap\n",
    "* oob_score\n",
    "\n",
    "``3. Hiperparâmetros Relacionados à Aleatoriedade``\n",
    "\n",
    "* random_state\n",
    "* criterion\n",
    "* gini\n",
    "* entropy\n",
    "* class_weight\n",
    "* balanced\n",
    "\n",
    "``Outros Hiperparâmetros Úteis``\n",
    "\n",
    "* n_jobs\n",
    "* warn_start\n",
    "* verbose\n"
   ],
   "id": "529b47e3d0ede4b6"
  },
  {
   "metadata": {},
   "cell_type": "markdown",
   "source": [
    "### Pra que serve cada um deles?\n",
    "\n",
    "max_depth → Profundidade máxima das árvores. Define o quão fundo cada árvore pode crescer. Árvores muito profundas podem causar overfitting.\n",
    "min_samples_split → Número mínimo de amostras necessárias para dividir um nó. Um valor alto impede divisões excessivas e pode evitar overfitting.\n",
    "min_samples_leaf → Número mínimo de amostras em cada folha (nó terminal). Aumentar esse valor pode reduzir a variância do modelo.\n",
    "max_features → Número máximo de features consideradas em cada divisão. Pode ser:\n",
    "max_leaf_nodes → Número máximo de folhas por árvore. Controla o crescimento da árvore.\n",
    "\n",
    "n_estimators → Número de árvores na floresta. Um número maior pode melhorar a estabilidade, mas aumenta o tempo de treino.\n",
    "bootstrap → Define se as amostras são sorteadas com reposição para cada árvore (True por padrão).\n",
    "oob_score → Se True, usa amostras fora da bolsa (\"out-of-bag\") para validação, o que pode ajudar a avaliar a performance do modelo.\n",
    "\n",
    "random_state → Semente para garantir que os resultados sejam reprodutíveis.\n",
    "criterion → Função de medida de impureza dos nós:\n",
    "\"gini\" (Padrão) → Usa o índice de Gini\n",
    "entropy\" → Usa a entropia da informação\n",
    "class_weight → Ponderação das classes (usado em problemas de classificação desbalanceados). Pode ser \"balanced\" ou um dicionário com pesos personalizados.\n",
    "\n",
    "n_jobs → Número de processadores usados no treinamento (-1 usa todos os disponíveis).\n",
    "warm_start → Se True, permite reutilizar um modelo treinado para adicionar mais árvores.\n",
    "verbose → Define o nível de mensagens exibidas durante o treinamento.\n"
   ],
   "id": "363c9cbaa582ee77"
  },
  {
   "metadata": {},
   "cell_type": "code",
   "outputs": [],
   "execution_count": null,
   "source": "",
   "id": "7f2a853949e3c7e2"
  }
 ],
 "metadata": {
  "kernelspec": {
   "display_name": "Python 3",
   "language": "python",
   "name": "python3"
  },
  "language_info": {
   "codemirror_mode": {
    "name": "ipython",
    "version": 2
   },
   "file_extension": ".py",
   "mimetype": "text/x-python",
   "name": "python",
   "nbconvert_exporter": "python",
   "pygments_lexer": "ipython2",
   "version": "2.7.6"
  }
 },
 "nbformat": 4,
 "nbformat_minor": 5
}
