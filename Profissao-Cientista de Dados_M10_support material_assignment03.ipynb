{
 "cells": [
  {
   "cell_type": "markdown",
   "metadata": {},
   "source": [
    "# Módulo 10 tarefa 03\n",
    "Considere a mesma base de dados utilizada na tarefa 1 ```previsao_de_renda.csv```.\n",
    "1) Construa um gráfico de barras para avaliar a distribuição das variáveis qualitativas no tempo. Você acha que houve alguma alteração importante a ser investigada?"
   ]
  },
  {
   "metadata": {
    "ExecuteTime": {
     "end_time": "2024-12-23T14:29:56.745152Z",
     "start_time": "2024-12-23T14:29:56.742398Z"
    }
   },
   "cell_type": "code",
   "source": [
    "import numpy as np\n",
    "import pandas as pd\n",
    "import matplotlib.pyplot as plt\n",
    "import seaborn as sns\n",
    "from parso.python.tokenize import group\n",
    "from scipy.stats import ttest_ind, mannwhitneyu\n",
    "# Fixing random state for reproducibility\n",
    "np.random.seed(2360873)\n",
    "N = 100"
   ],
   "outputs": [],
   "execution_count": 98
  },
  {
   "metadata": {},
   "cell_type": "markdown",
   "source": "importando o dataframe"
  },
  {
   "cell_type": "code",
   "metadata": {
    "ExecuteTime": {
     "end_time": "2024-12-23T14:29:59.017833Z",
     "start_time": "2024-12-23T14:29:58.993682Z"
    }
   },
   "source": [
    "df = pd.read_csv('Profissao- Cientista de Dados_M10_support material.csv')\n",
    "df"
   ],
   "outputs": [
    {
     "data": {
      "text/plain": [
       "       Unnamed: 0    data_ref  index sexo  posse_de_veiculo  posse_de_imovel  \\\n",
       "0               0  2015-01-01   8682    F             False             True   \n",
       "1               1  2015-01-01  12830    M              True             True   \n",
       "2               2  2015-01-01   2885    M              True             True   \n",
       "3               3  2015-01-01  16168    F              True            False   \n",
       "4               4  2015-01-01  12438    M             False            False   \n",
       "...           ...         ...    ...  ...               ...              ...   \n",
       "14995       14995  2016-03-01   3678    M              True             True   \n",
       "14996       14996  2016-03-01   3405    M              True             True   \n",
       "14997       14997  2016-03-01   7944    F              True             True   \n",
       "14998       14998  2016-03-01  16019    F             False             True   \n",
       "14999       14999  2016-03-01  12895    F              True             True   \n",
       "\n",
       "       qtd_filhos        tipo_renda           educacao estado_civil  \\\n",
       "0               1       Assalariado         Secundário       Casado   \n",
       "1               0        Empresário         Secundário       Casado   \n",
       "2               2       Assalariado  Superior completo       Casado   \n",
       "3               0        Empresário         Secundário       Casado   \n",
       "4               0       Assalariado         Secundário       Casado   \n",
       "...           ...               ...                ...          ...   \n",
       "14995           1       Assalariado         Secundário       Casado   \n",
       "14996           1  Servidor público  Superior completo       Casado   \n",
       "14997           0       Assalariado         Secundário       Casado   \n",
       "14998           0  Servidor público  Superior completo       Casado   \n",
       "14999           0       Assalariado         Secundário       Casado   \n",
       "\n",
       "      tipo_residencia  idade  tempo_emprego  qt_pessoas_residencia    mau  \\\n",
       "0                Casa     36       3.575342                    3.0  False   \n",
       "1                Casa     42       0.860274                    2.0  False   \n",
       "2                Casa     31       8.065753                    4.0  False   \n",
       "3                Casa     50       1.208219                    2.0  False   \n",
       "4                Casa     52      13.873973                    2.0  False   \n",
       "...               ...    ...            ...                    ...    ...   \n",
       "14995            Casa     37       2.046575                    3.0  False   \n",
       "14996         Estúdio     30      12.079452                    3.0  False   \n",
       "14997            Casa     40       2.161644                    2.0  False   \n",
       "14998            Casa     47       3.295890                    2.0  False   \n",
       "14999            Casa     50       3.049315                    2.0  False   \n",
       "\n",
       "         renda  \n",
       "0      3369.24  \n",
       "1      6096.14  \n",
       "2      5658.98  \n",
       "3      7246.69  \n",
       "4      4017.37  \n",
       "...        ...  \n",
       "14995  1193.29  \n",
       "14996  2519.18  \n",
       "14997  1586.85  \n",
       "14998  6975.39  \n",
       "14999   993.86  \n",
       "\n",
       "[15000 rows x 16 columns]"
      ],
      "text/html": [
       "<div>\n",
       "<style scoped>\n",
       "    .dataframe tbody tr th:only-of-type {\n",
       "        vertical-align: middle;\n",
       "    }\n",
       "\n",
       "    .dataframe tbody tr th {\n",
       "        vertical-align: top;\n",
       "    }\n",
       "\n",
       "    .dataframe thead th {\n",
       "        text-align: right;\n",
       "    }\n",
       "</style>\n",
       "<table border=\"1\" class=\"dataframe\">\n",
       "  <thead>\n",
       "    <tr style=\"text-align: right;\">\n",
       "      <th></th>\n",
       "      <th>Unnamed: 0</th>\n",
       "      <th>data_ref</th>\n",
       "      <th>index</th>\n",
       "      <th>sexo</th>\n",
       "      <th>posse_de_veiculo</th>\n",
       "      <th>posse_de_imovel</th>\n",
       "      <th>qtd_filhos</th>\n",
       "      <th>tipo_renda</th>\n",
       "      <th>educacao</th>\n",
       "      <th>estado_civil</th>\n",
       "      <th>tipo_residencia</th>\n",
       "      <th>idade</th>\n",
       "      <th>tempo_emprego</th>\n",
       "      <th>qt_pessoas_residencia</th>\n",
       "      <th>mau</th>\n",
       "      <th>renda</th>\n",
       "    </tr>\n",
       "  </thead>\n",
       "  <tbody>\n",
       "    <tr>\n",
       "      <th>0</th>\n",
       "      <td>0</td>\n",
       "      <td>2015-01-01</td>\n",
       "      <td>8682</td>\n",
       "      <td>F</td>\n",
       "      <td>False</td>\n",
       "      <td>True</td>\n",
       "      <td>1</td>\n",
       "      <td>Assalariado</td>\n",
       "      <td>Secundário</td>\n",
       "      <td>Casado</td>\n",
       "      <td>Casa</td>\n",
       "      <td>36</td>\n",
       "      <td>3.575342</td>\n",
       "      <td>3.0</td>\n",
       "      <td>False</td>\n",
       "      <td>3369.24</td>\n",
       "    </tr>\n",
       "    <tr>\n",
       "      <th>1</th>\n",
       "      <td>1</td>\n",
       "      <td>2015-01-01</td>\n",
       "      <td>12830</td>\n",
       "      <td>M</td>\n",
       "      <td>True</td>\n",
       "      <td>True</td>\n",
       "      <td>0</td>\n",
       "      <td>Empresário</td>\n",
       "      <td>Secundário</td>\n",
       "      <td>Casado</td>\n",
       "      <td>Casa</td>\n",
       "      <td>42</td>\n",
       "      <td>0.860274</td>\n",
       "      <td>2.0</td>\n",
       "      <td>False</td>\n",
       "      <td>6096.14</td>\n",
       "    </tr>\n",
       "    <tr>\n",
       "      <th>2</th>\n",
       "      <td>2</td>\n",
       "      <td>2015-01-01</td>\n",
       "      <td>2885</td>\n",
       "      <td>M</td>\n",
       "      <td>True</td>\n",
       "      <td>True</td>\n",
       "      <td>2</td>\n",
       "      <td>Assalariado</td>\n",
       "      <td>Superior completo</td>\n",
       "      <td>Casado</td>\n",
       "      <td>Casa</td>\n",
       "      <td>31</td>\n",
       "      <td>8.065753</td>\n",
       "      <td>4.0</td>\n",
       "      <td>False</td>\n",
       "      <td>5658.98</td>\n",
       "    </tr>\n",
       "    <tr>\n",
       "      <th>3</th>\n",
       "      <td>3</td>\n",
       "      <td>2015-01-01</td>\n",
       "      <td>16168</td>\n",
       "      <td>F</td>\n",
       "      <td>True</td>\n",
       "      <td>False</td>\n",
       "      <td>0</td>\n",
       "      <td>Empresário</td>\n",
       "      <td>Secundário</td>\n",
       "      <td>Casado</td>\n",
       "      <td>Casa</td>\n",
       "      <td>50</td>\n",
       "      <td>1.208219</td>\n",
       "      <td>2.0</td>\n",
       "      <td>False</td>\n",
       "      <td>7246.69</td>\n",
       "    </tr>\n",
       "    <tr>\n",
       "      <th>4</th>\n",
       "      <td>4</td>\n",
       "      <td>2015-01-01</td>\n",
       "      <td>12438</td>\n",
       "      <td>M</td>\n",
       "      <td>False</td>\n",
       "      <td>False</td>\n",
       "      <td>0</td>\n",
       "      <td>Assalariado</td>\n",
       "      <td>Secundário</td>\n",
       "      <td>Casado</td>\n",
       "      <td>Casa</td>\n",
       "      <td>52</td>\n",
       "      <td>13.873973</td>\n",
       "      <td>2.0</td>\n",
       "      <td>False</td>\n",
       "      <td>4017.37</td>\n",
       "    </tr>\n",
       "    <tr>\n",
       "      <th>...</th>\n",
       "      <td>...</td>\n",
       "      <td>...</td>\n",
       "      <td>...</td>\n",
       "      <td>...</td>\n",
       "      <td>...</td>\n",
       "      <td>...</td>\n",
       "      <td>...</td>\n",
       "      <td>...</td>\n",
       "      <td>...</td>\n",
       "      <td>...</td>\n",
       "      <td>...</td>\n",
       "      <td>...</td>\n",
       "      <td>...</td>\n",
       "      <td>...</td>\n",
       "      <td>...</td>\n",
       "      <td>...</td>\n",
       "    </tr>\n",
       "    <tr>\n",
       "      <th>14995</th>\n",
       "      <td>14995</td>\n",
       "      <td>2016-03-01</td>\n",
       "      <td>3678</td>\n",
       "      <td>M</td>\n",
       "      <td>True</td>\n",
       "      <td>True</td>\n",
       "      <td>1</td>\n",
       "      <td>Assalariado</td>\n",
       "      <td>Secundário</td>\n",
       "      <td>Casado</td>\n",
       "      <td>Casa</td>\n",
       "      <td>37</td>\n",
       "      <td>2.046575</td>\n",
       "      <td>3.0</td>\n",
       "      <td>False</td>\n",
       "      <td>1193.29</td>\n",
       "    </tr>\n",
       "    <tr>\n",
       "      <th>14996</th>\n",
       "      <td>14996</td>\n",
       "      <td>2016-03-01</td>\n",
       "      <td>3405</td>\n",
       "      <td>M</td>\n",
       "      <td>True</td>\n",
       "      <td>True</td>\n",
       "      <td>1</td>\n",
       "      <td>Servidor público</td>\n",
       "      <td>Superior completo</td>\n",
       "      <td>Casado</td>\n",
       "      <td>Estúdio</td>\n",
       "      <td>30</td>\n",
       "      <td>12.079452</td>\n",
       "      <td>3.0</td>\n",
       "      <td>False</td>\n",
       "      <td>2519.18</td>\n",
       "    </tr>\n",
       "    <tr>\n",
       "      <th>14997</th>\n",
       "      <td>14997</td>\n",
       "      <td>2016-03-01</td>\n",
       "      <td>7944</td>\n",
       "      <td>F</td>\n",
       "      <td>True</td>\n",
       "      <td>True</td>\n",
       "      <td>0</td>\n",
       "      <td>Assalariado</td>\n",
       "      <td>Secundário</td>\n",
       "      <td>Casado</td>\n",
       "      <td>Casa</td>\n",
       "      <td>40</td>\n",
       "      <td>2.161644</td>\n",
       "      <td>2.0</td>\n",
       "      <td>False</td>\n",
       "      <td>1586.85</td>\n",
       "    </tr>\n",
       "    <tr>\n",
       "      <th>14998</th>\n",
       "      <td>14998</td>\n",
       "      <td>2016-03-01</td>\n",
       "      <td>16019</td>\n",
       "      <td>F</td>\n",
       "      <td>False</td>\n",
       "      <td>True</td>\n",
       "      <td>0</td>\n",
       "      <td>Servidor público</td>\n",
       "      <td>Superior completo</td>\n",
       "      <td>Casado</td>\n",
       "      <td>Casa</td>\n",
       "      <td>47</td>\n",
       "      <td>3.295890</td>\n",
       "      <td>2.0</td>\n",
       "      <td>False</td>\n",
       "      <td>6975.39</td>\n",
       "    </tr>\n",
       "    <tr>\n",
       "      <th>14999</th>\n",
       "      <td>14999</td>\n",
       "      <td>2016-03-01</td>\n",
       "      <td>12895</td>\n",
       "      <td>F</td>\n",
       "      <td>True</td>\n",
       "      <td>True</td>\n",
       "      <td>0</td>\n",
       "      <td>Assalariado</td>\n",
       "      <td>Secundário</td>\n",
       "      <td>Casado</td>\n",
       "      <td>Casa</td>\n",
       "      <td>50</td>\n",
       "      <td>3.049315</td>\n",
       "      <td>2.0</td>\n",
       "      <td>False</td>\n",
       "      <td>993.86</td>\n",
       "    </tr>\n",
       "  </tbody>\n",
       "</table>\n",
       "<p>15000 rows × 16 columns</p>\n",
       "</div>"
      ]
     },
     "execution_count": 99,
     "metadata": {},
     "output_type": "execute_result"
    }
   ],
   "execution_count": 99
  },
  {
   "metadata": {},
   "cell_type": "markdown",
   "source": "imprimindo as colunas"
  },
  {
   "metadata": {
    "ExecuteTime": {
     "end_time": "2024-12-23T14:30:00.891276Z",
     "start_time": "2024-12-23T14:30:00.888836Z"
    }
   },
   "cell_type": "code",
   "source": "df.columns",
   "outputs": [
    {
     "data": {
      "text/plain": [
       "Index(['Unnamed: 0', 'data_ref', 'index', 'sexo', 'posse_de_veiculo',\n",
       "       'posse_de_imovel', 'qtd_filhos', 'tipo_renda', 'educacao',\n",
       "       'estado_civil', 'tipo_residencia', 'idade', 'tempo_emprego',\n",
       "       'qt_pessoas_residencia', 'mau', 'renda'],\n",
       "      dtype='object')"
      ]
     },
     "execution_count": 100,
     "metadata": {},
     "output_type": "execute_result"
    }
   ],
   "execution_count": 100
  },
  {
   "metadata": {
    "ExecuteTime": {
     "end_time": "2024-12-23T14:30:02.014915Z",
     "start_time": "2024-12-23T14:30:02.008535Z"
    }
   },
   "cell_type": "code",
   "source": "df.info()",
   "outputs": [
    {
     "name": "stdout",
     "output_type": "stream",
     "text": [
      "<class 'pandas.core.frame.DataFrame'>\n",
      "RangeIndex: 15000 entries, 0 to 14999\n",
      "Data columns (total 16 columns):\n",
      " #   Column                 Non-Null Count  Dtype  \n",
      "---  ------                 --------------  -----  \n",
      " 0   Unnamed: 0             15000 non-null  int64  \n",
      " 1   data_ref               15000 non-null  object \n",
      " 2   index                  15000 non-null  int64  \n",
      " 3   sexo                   15000 non-null  object \n",
      " 4   posse_de_veiculo       15000 non-null  bool   \n",
      " 5   posse_de_imovel        15000 non-null  bool   \n",
      " 6   qtd_filhos             15000 non-null  int64  \n",
      " 7   tipo_renda             15000 non-null  object \n",
      " 8   educacao               15000 non-null  object \n",
      " 9   estado_civil           15000 non-null  object \n",
      " 10  tipo_residencia        15000 non-null  object \n",
      " 11  idade                  15000 non-null  int64  \n",
      " 12  tempo_emprego          12466 non-null  float64\n",
      " 13  qt_pessoas_residencia  15000 non-null  float64\n",
      " 14  mau                    15000 non-null  bool   \n",
      " 15  renda                  15000 non-null  float64\n",
      "dtypes: bool(3), float64(3), int64(4), object(6)\n",
      "memory usage: 1.5+ MB\n"
     ]
    }
   ],
   "execution_count": 101
  },
  {
   "metadata": {
    "ExecuteTime": {
     "end_time": "2024-12-23T14:30:04.003578Z",
     "start_time": "2024-12-23T14:30:03.999616Z"
    }
   },
   "cell_type": "code",
   "source": [
    "# Configura o tamanho da figura\n",
    "plt.rc('figure', figsize=(10, 25))"
   ],
   "outputs": [],
   "execution_count": 102
  },
  {
   "metadata": {
    "ExecuteTime": {
     "end_time": "2024-12-23T14:30:05.528695Z",
     "start_time": "2024-12-23T14:30:05.085763Z"
    }
   },
   "cell_type": "code",
   "source": [
    "# Cria subplots com 8 linhas e 1 coluna\n",
    "fig, axes = plt.subplots(8, 1)"
   ],
   "outputs": [
    {
     "data": {
      "text/plain": [
       "<Figure size 1000x2500 with 8 Axes>"
      ],
      "image/png": "[encoded data removed]"
     },
     "metadata": {},
     "output_type": "display_data"
    }
   ],
   "execution_count": 103
  },
  {
   "metadata": {
    "ExecuteTime": {
     "end_time": "2024-12-23T14:31:47.097032Z",
     "start_time": "2024-12-23T14:31:47.094363Z"
    }
   },
   "cell_type": "code",
   "source": [
    "# Dividindo renda por grupos das variáveis qualitativas\n",
    "grupo_imovel = df.groupby('posse_de_imovel')['sexo']\n",
    "grupo_veiculo = df.groupby('posse_de_veiculo')['sexo']"
   ],
   "outputs": [],
   "execution_count": 106
  },
  {
   "metadata": {
    "ExecuteTime": {
     "end_time": "2024-12-23T14:31:48.145118Z",
     "start_time": "2024-12-23T14:31:48.135110Z"
    }
   },
   "cell_type": "code",
   "source": [
    "# Estatisticas descritivas por gropos\n",
    "print(\"Estatisticas descritivas - Posse de imovel:\")\n",
    "print(grupo_imovel.describe())"
   ],
   "outputs": [
    {
     "name": "stdout",
     "output_type": "stream",
     "text": [
      "Estatisticas descritivas - Posse de imovel:\n",
      "                 count unique top  freq\n",
      "posse_de_imovel                        \n",
      "False             4918      2   F  3188\n",
      "True             10082      2   F  6979\n"
     ]
    }
   ],
   "execution_count": 107
  },
  {
   "metadata": {
    "ExecuteTime": {
     "end_time": "2024-12-23T14:31:49.653619Z",
     "start_time": "2024-12-23T14:31:49.638330Z"
    }
   },
   "cell_type": "code",
   "source": [
    "print(\"\\nEstatisticas descritivas - Posse de veiculo:\")\n",
    "print(grupo_veiculo.describe())"
   ],
   "outputs": [
    {
     "name": "stdout",
     "output_type": "stream",
     "text": [
      "\n",
      "Estatisticas descritivas - Posse de veiculo:\n",
      "                 count unique top  freq\n",
      "posse_de_veiculo                       \n",
      "False             9167      2   F  7489\n",
      "True              5833      2   M  3155\n"
     ]
    }
   ],
   "execution_count": 108
  },
  {
   "metadata": {
    "ExecuteTime": {
     "end_time": "2024-12-23T14:31:52.335476Z",
     "start_time": "2024-12-23T14:31:52.288460Z"
    }
   },
   "cell_type": "code",
   "source": [
    "# COUNTPLOT DA VARIÁVEL SEXO\n",
    "\n",
    "sns.countplot(ax=axes[0], x='data_ref', hue='sexo', data=df)\n",
    "axes[0].set_title('Sexo')\n",
    "axes[0].set_xticklabels(axes[0].get_xticklabels(), rotation=90)\n",
    "axes[0].set_ylabel('Contagem')\n",
    "axes[0].set_xlabel('Data')\n",
    "axes[0].legend(bbox_to_anchor=(1.05, 1), loc='best', title='Legenda:')\n"
   ],
   "outputs": [
    {
     "name": "stderr",
     "output_type": "stream",
     "text": [
      "/tmp/ipykernel_7117/3973434736.py:5: UserWarning: set_ticklabels() should only be used with a fixed number of ticks, i.e. after set_ticks() or using a FixedLocator.\n",
      "  axes[0].set_xticklabels(axes[0].get_xticklabels(), rotation=90)\n"
     ]
    },
    {
     "data": {
      "text/plain": [
       "<matplotlib.legend.Legend at 0x783d41e53ec0>"
      ]
     },
     "execution_count": 109,
     "metadata": {},
     "output_type": "execute_result"
    }
   ],
   "execution_count": 109
  },
  {
   "metadata": {
    "ExecuteTime": {
     "end_time": "2024-12-23T14:36:54.994775Z",
     "start_time": "2024-12-23T14:36:54.992465Z"
    }
   },
   "cell_type": "code",
   "source": [
    "# Dividindo renda por grupos das variáveis qualitativas\n",
    "grupo_imovel = df.groupby('posse_de_imovel')['posse_de_veiculo']\n",
    "grupo_veiculo = df.groupby('posse_de_veiculo')['posse_de_veiculo']"
   ],
   "outputs": [],
   "execution_count": 110
  },
  {
   "metadata": {
    "ExecuteTime": {
     "end_time": "2024-12-23T14:36:56.418005Z",
     "start_time": "2024-12-23T14:36:56.413104Z"
    }
   },
   "cell_type": "code",
   "source": [
    "# Estatisticas descritivas por gropos\n",
    "print(\"Estatisticas descritivas - :\")\n",
    "print(grupo_imovel.describe())"
   ],
   "outputs": [
    {
     "name": "stdout",
     "output_type": "stream",
     "text": [
      "Estatisticas descritivas - :\n",
      "                 count unique    top  freq\n",
      "posse_de_imovel                           \n",
      "False             4918      2  False  2955\n",
      "True             10082      2  False  6212\n"
     ]
    }
   ],
   "execution_count": 111
  },
  {
   "metadata": {
    "ExecuteTime": {
     "end_time": "2024-12-23T14:36:58.328691Z",
     "start_time": "2024-12-23T14:36:58.323844Z"
    }
   },
   "cell_type": "code",
   "source": [
    "print(\"\\nEstatisticas descritivas - Posse de veiculo:\")\n",
    "print(grupo_veiculo.describe())"
   ],
   "outputs": [
    {
     "name": "stdout",
     "output_type": "stream",
     "text": [
      "\n",
      "Estatisticas descritivas - Posse de veiculo:\n",
      "                 count unique    top  freq\n",
      "posse_de_veiculo                          \n",
      "False             9167      1  False  9167\n",
      "True              5833      1   True  5833\n"
     ]
    }
   ],
   "execution_count": 112
  },
  {
   "metadata": {
    "ExecuteTime": {
     "end_time": "2024-12-23T14:37:00.756665Z",
     "start_time": "2024-12-23T14:37:00.706076Z"
    }
   },
   "cell_type": "code",
   "source": [
    "# COUNTPLOT DA VARIÁVEL POSSE_DE_VEICULO\n",
    "\n",
    "sns.countplot(ax=axes[1], x='data_ref', hue='posse_de_veiculo', data=df)\n",
    "axes[1].set_title('Veículo')\n",
    "axes[1].set_xticklabels(axes[1].get_xticklabels(), rotation=90)\n",
    "axes[1].set_ylabel('Contagem')\n",
    "axes[1].set_xlabel('Data')\n",
    "axes[1].legend(bbox_to_anchor=(1.05, 1), loc='best', title='Legenda:')"
   ],
   "outputs": [
    {
     "name": "stderr",
     "output_type": "stream",
     "text": [
      "/tmp/ipykernel_7117/908400866.py:5: UserWarning: set_ticklabels() should only be used with a fixed number of ticks, i.e. after set_ticks() or using a FixedLocator.\n",
      "  axes[1].set_xticklabels(axes[1].get_xticklabels(), rotation=90)\n"
     ]
    },
    {
     "data": {
      "text/plain": [
       "<matplotlib.legend.Legend at 0x783d41d933e0>"
      ]
     },
     "execution_count": 113,
     "metadata": {},
     "output_type": "execute_result"
    }
   ],
   "execution_count": 113
  },
  {
   "metadata": {
    "ExecuteTime": {
     "end_time": "2024-12-23T14:38:06.972488Z",
     "start_time": "2024-12-23T14:38:06.969822Z"
    }
   },
   "cell_type": "code",
   "source": [
    "# Dividindo renda por grupos das variáveis qualitativas\n",
    "grupo_imovel = df.groupby('posse_de_imovel')['posse_de_imovel']\n",
    "grupo_veiculo = df.groupby('posse_de_veiculo')['posse_de_imovel']"
   ],
   "outputs": [],
   "execution_count": 114
  },
  {
   "metadata": {
    "ExecuteTime": {
     "end_time": "2024-12-23T14:38:12.128489Z",
     "start_time": "2024-12-23T14:38:12.123216Z"
    }
   },
   "cell_type": "code",
   "source": [
    "# Estatisticas descritivas por gropos\n",
    "print(\"Estatisticas descritivas - Posse de imovel:\")\n",
    "print(grupo_imovel.describe())"
   ],
   "outputs": [
    {
     "name": "stdout",
     "output_type": "stream",
     "text": [
      "Estatisticas descritivas - Posse de imovel:\n",
      "                 count unique    top   freq\n",
      "posse_de_imovel                            \n",
      "False             4918      1  False   4918\n",
      "True             10082      1   True  10082\n"
     ]
    }
   ],
   "execution_count": 115
  },
  {
   "metadata": {
    "ExecuteTime": {
     "end_time": "2024-12-23T14:38:14.272003Z",
     "start_time": "2024-12-23T14:38:14.267215Z"
    }
   },
   "cell_type": "code",
   "source": [
    "print(\"\\nEstatisticas descritivas - Posse de veiculo:\")\n",
    "print(grupo_veiculo.describe())"
   ],
   "outputs": [
    {
     "name": "stdout",
     "output_type": "stream",
     "text": [
      "\n",
      "Estatisticas descritivas - Posse de veiculo:\n",
      "                 count unique   top  freq\n",
      "posse_de_veiculo                         \n",
      "False             9167      2  True  6212\n",
      "True              5833      2  True  3870\n"
     ]
    }
   ],
   "execution_count": 116
  },
  {
   "metadata": {
    "ExecuteTime": {
     "end_time": "2024-12-23T14:38:20.469446Z",
     "start_time": "2024-12-23T14:38:20.421221Z"
    }
   },
   "cell_type": "code",
   "source": [
    "# COUNTPLOT DA VARIÁVEL POSSE_DE_IMOVEL\n",
    "\n",
    "sns.countplot(ax=axes[2], x='data_ref', hue='posse_de_imovel', data=df)\n",
    "axes[2].set_title('Imóvel')\n",
    "axes[2].set_xticklabels(axes[2].get_xticklabels(), rotation=90)\n",
    "axes[2].set_ylabel('Contagem')\n",
    "axes[2].set_xlabel('Data')\n",
    "axes[2].legend(bbox_to_anchor=(1.05, 1), loc='best', title='Legenda:')"
   ],
   "outputs": [
    {
     "name": "stderr",
     "output_type": "stream",
     "text": [
      "/tmp/ipykernel_7117/2205968796.py:5: UserWarning: set_ticklabels() should only be used with a fixed number of ticks, i.e. after set_ticks() or using a FixedLocator.\n",
      "  axes[2].set_xticklabels(axes[2].get_xticklabels(), rotation=90)\n"
     ]
    },
    {
     "data": {
      "text/plain": [
       "<matplotlib.legend.Legend at 0x783d41e53260>"
      ]
     },
     "execution_count": 117,
     "metadata": {},
     "output_type": "execute_result"
    }
   ],
   "execution_count": 117
  },
  {
   "metadata": {
    "ExecuteTime": {
     "end_time": "2024-12-23T14:39:33.156907Z",
     "start_time": "2024-12-23T14:39:33.154529Z"
    }
   },
   "cell_type": "code",
   "source": [
    "# Dividindo renda por grupos das variáveis qualitativas\n",
    "grupo_imovel = df.groupby('posse_de_imovel')['tipo_renda']\n",
    "grupo_veiculo = df.groupby('posse_de_veiculo')['tipo_renda']"
   ],
   "outputs": [],
   "execution_count": 118
  },
  {
   "metadata": {
    "ExecuteTime": {
     "end_time": "2024-12-23T14:39:34.347219Z",
     "start_time": "2024-12-23T14:39:34.341444Z"
    }
   },
   "cell_type": "code",
   "source": [
    "# Estatisticas descritivas por gropos\n",
    "print(\"Estatisticas descritivas - Posse de imovel:\")\n",
    "print(grupo_imovel.describe())"
   ],
   "outputs": [
    {
     "name": "stdout",
     "output_type": "stream",
     "text": [
      "Estatisticas descritivas - Posse de imovel:\n",
      "                 count unique          top  freq\n",
      "posse_de_imovel                                 \n",
      "False             4918      4  Assalariado  2734\n",
      "True             10082      5  Assalariado  5092\n"
     ]
    }
   ],
   "execution_count": 119
  },
  {
   "metadata": {
    "ExecuteTime": {
     "end_time": "2024-12-23T14:39:36.138166Z",
     "start_time": "2024-12-23T14:39:36.132329Z"
    }
   },
   "cell_type": "code",
   "source": [
    "print(\"\\nEstatisticas descritivas - Posse de veiculo:\")\n",
    "print(grupo_veiculo.describe())"
   ],
   "outputs": [
    {
     "name": "stdout",
     "output_type": "stream",
     "text": [
      "\n",
      "Estatisticas descritivas - Posse de veiculo:\n",
      "                 count unique          top  freq\n",
      "posse_de_veiculo                                \n",
      "False             9167      5  Assalariado  4541\n",
      "True              5833      4  Assalariado  3285\n"
     ]
    }
   ],
   "execution_count": 120
  },
  {
   "metadata": {
    "ExecuteTime": {
     "end_time": "2024-12-23T14:39:41.105628Z",
     "start_time": "2024-12-23T14:39:41.031393Z"
    }
   },
   "cell_type": "code",
   "source": [
    "# COUNTPLOT DA VARIÁVEL TIPO_RENDA\n",
    "\n",
    "sns.countplot(ax=axes[3], x='data_ref', hue='tipo_renda', data=df)\n",
    "axes[3].set_title('Renda')\n",
    "axes[3].set_xticklabels(axes[3].get_xticklabels(), rotation=90)\n",
    "axes[3].set_ylabel('Contagem')\n",
    "axes[3].set_xlabel('Data')\n",
    "axes[3].legend(bbox_to_anchor=(1.05, 1), loc='best', title='Legenda:')"
   ],
   "outputs": [
    {
     "name": "stderr",
     "output_type": "stream",
     "text": [
      "/tmp/ipykernel_7117/217469204.py:5: UserWarning: set_ticklabels() should only be used with a fixed number of ticks, i.e. after set_ticks() or using a FixedLocator.\n",
      "  axes[3].set_xticklabels(axes[3].get_xticklabels(), rotation=90)\n"
     ]
    },
    {
     "data": {
      "text/plain": [
       "<matplotlib.legend.Legend at 0x783d41df9130>"
      ]
     },
     "execution_count": 121,
     "metadata": {},
     "output_type": "execute_result"
    }
   ],
   "execution_count": 121
  },
  {
   "metadata": {
    "ExecuteTime": {
     "end_time": "2024-12-23T14:40:50.284020Z",
     "start_time": "2024-12-23T14:40:50.281670Z"
    }
   },
   "cell_type": "code",
   "source": [
    "# Dividindo renda por grupos das variáveis qualitativas\n",
    "grupo_imovel = df.groupby('posse_de_imovel')['educacao']\n",
    "grupo_veiculo = df.groupby('posse_de_veiculo')['educacao']"
   ],
   "outputs": [],
   "execution_count": 122
  },
  {
   "metadata": {
    "ExecuteTime": {
     "end_time": "2024-12-23T14:40:51.150216Z",
     "start_time": "2024-12-23T14:40:51.144500Z"
    }
   },
   "cell_type": "code",
   "source": [
    "# Estatisticas descritivas por gropos\n",
    "print(\"Estatisticas descritivas - Posse de imovel:\")\n",
    "print(grupo_imovel.describe())"
   ],
   "outputs": [
    {
     "name": "stdout",
     "output_type": "stream",
     "text": [
      "Estatisticas descritivas - Posse de imovel:\n",
      "                 count unique         top  freq\n",
      "posse_de_imovel                                \n",
      "False             4918      4  Secundário  2907\n",
      "True             10082      5  Secundário  6020\n"
     ]
    }
   ],
   "execution_count": 123
  },
  {
   "metadata": {
    "ExecuteTime": {
     "end_time": "2024-12-23T14:40:52.408102Z",
     "start_time": "2024-12-23T14:40:52.402565Z"
    }
   },
   "cell_type": "code",
   "source": [
    "print(\"\\nEstatisticas descritivas - Posse de veiculo:\")\n",
    "print(grupo_veiculo.describe())"
   ],
   "outputs": [
    {
     "name": "stdout",
     "output_type": "stream",
     "text": [
      "\n",
      "Estatisticas descritivas - Posse de veiculo:\n",
      "                 count unique         top  freq\n",
      "posse_de_veiculo                               \n",
      "False             9167      5  Secundário  5793\n",
      "True              5833      5  Secundário  3134\n"
     ]
    }
   ],
   "execution_count": 124
  },
  {
   "metadata": {
    "ExecuteTime": {
     "end_time": "2024-12-23T14:40:54.040924Z",
     "start_time": "2024-12-23T14:40:53.962084Z"
    }
   },
   "cell_type": "code",
   "source": [
    "# COUNTPLOT DA VARIÁVEL EDUCACAO\n",
    "\n",
    "sns.countplot(ax=axes[4], x='data_ref', hue='educacao', data=df)\n",
    "\n",
    "axes[4].set_title('Educação')\n",
    "axes[4].set_xticklabels(axes[4].get_xticklabels(), rotation=90)\n",
    "axes[4].set_ylabel('Contagem')\n",
    "axes[4].set_xlabel('Data')\n",
    "axes[4].legend(bbox_to_anchor=(1.05, 1), loc='best', title='Legenda:')\n",
    "\n",
    "# Ajuste automático do espaçamento entre os gráficos\n",
    "plt.tight_layout()"
   ],
   "outputs": [
    {
     "name": "stderr",
     "output_type": "stream",
     "text": [
      "/tmp/ipykernel_7117/3011254101.py:6: UserWarning: set_ticklabels() should only be used with a fixed number of ticks, i.e. after set_ticks() or using a FixedLocator.\n",
      "  axes[4].set_xticklabels(axes[4].get_xticklabels(), rotation=90)\n"
     ]
    },
    {
     "data": {
      "text/plain": [
       "<Figure size 1000x2500 with 0 Axes>"
      ]
     },
     "metadata": {},
     "output_type": "display_data"
    }
   ],
   "execution_count": 125
  },
  {
   "metadata": {},
   "cell_type": "code",
   "outputs": [],
   "execution_count": null,
   "source": ""
  },
  {
   "cell_type": "markdown",
   "metadata": {},
   "source": ".02) Para cada variável qualitativa, construa um gráfico mostrando as médias de cada nível da variável no tempo e avalie a estabilidade. Houve alguma alteração importante? Você acha que se pode utilizar essas variáveis em uma modelagem?"
  },
  {
   "metadata": {
    "ExecuteTime": {
     "end_time": "2024-12-23T11:46:04.960966Z",
     "start_time": "2024-12-23T11:46:04.958318Z"
    }
   },
   "cell_type": "code",
   "source": [
    "# Configura o tamanho da figura\n",
    "plt.rc('figure', figsize=(10, 30))"
   ],
   "outputs": [],
   "execution_count": 17
  },
  {
   "metadata": {
    "ExecuteTime": {
     "end_time": "2024-12-23T11:46:20.687630Z",
     "start_time": "2024-12-23T11:46:20.184177Z"
    }
   },
   "cell_type": "code",
   "source": [
    "# Cria subplots com 8 linhas e 1 coluna\n",
    "fig, axes = plt.subplots(8, 1)"
   ],
   "outputs": [
    {
     "data": {
      "text/plain": [
       "<Figure size 1000x3000 with 8 Axes>"
      ],
      "image/png": "[encoded data removed]"
     },
     "metadata": {},
     "output_type": "display_data"
    }
   ],
   "execution_count": 18
  },
  {
   "metadata": {
    "ExecuteTime": {
     "end_time": "2024-12-23T14:45:13.281516Z",
     "start_time": "2024-12-23T14:45:13.279485Z"
    }
   },
   "cell_type": "code",
   "source": "numeric_data = df.select_dtypes(include=\"number\")",
   "outputs": [],
   "execution_count": 132
  },
  {
   "metadata": {
    "ExecuteTime": {
     "end_time": "2024-12-23T14:49:49.896133Z",
     "start_time": "2024-12-23T14:49:49.891631Z"
    }
   },
   "cell_type": "code",
   "source": [
    "# Calcular a correlação de todas as variáveis numéricas com a variável 'renda'\n",
    "correlation_with_renda = numeric_data.corr()['renda'].sort_values(ascending=False)"
   ],
   "outputs": [],
   "execution_count": 138
  },
  {
   "metadata": {
    "ExecuteTime": {
     "end_time": "2024-12-23T14:49:59.397157Z",
     "start_time": "2024-12-23T14:49:59.394742Z"
    }
   },
   "cell_type": "code",
   "source": [
    "# Exibir as duas variáveis mais correlacionadas (excluindo 'renda' que possui correlação 1.0 com ela mesma)\n",
    "top_two_variables = correlation_with_renda.index[1:3]  # Índice 0 é 'renda' (corr = 1.0)"
   ],
   "outputs": [],
   "execution_count": 139
  },
  {
   "metadata": {
    "ExecuteTime": {
     "end_time": "2024-12-23T14:50:09.271056Z",
     "start_time": "2024-12-23T14:50:09.267039Z"
    }
   },
   "cell_type": "code",
   "source": [
    "# Exibir as duas variáveis mais correlacionadas\n",
    "print(\"As duas variáveis mais correlacionadas com renda são:\")\n",
    "print(top_two_variables)"
   ],
   "outputs": [
    {
     "name": "stdout",
     "output_type": "stream",
     "text": [
      "As duas variáveis mais correlacionadas com renda são:\n",
      "Index(['tempo_emprego', 'idade'], dtype='object')\n"
     ]
    }
   ],
   "execution_count": 140
  },
  {
   "metadata": {
    "ExecuteTime": {
     "end_time": "2024-12-23T14:50:26.969582Z",
     "start_time": "2024-12-23T14:50:26.842325Z"
    }
   },
   "cell_type": "code",
   "source": [
    "# Criar os subplots\n",
    "fig, axes = plt.subplots(1, 2, figsize=(15, 6))  # Um layout de 1 linha e 2 colunas"
   ],
   "outputs": [
    {
     "data": {
      "text/plain": [
       "<Figure size 1500x600 with 2 Axes>"
      ],
      "image/png": "[encoded data removed]"
     },
     "metadata": {},
     "output_type": "display_data"
    }
   ],
   "execution_count": 141
  },
  {
   "metadata": {
    "ExecuteTime": {
     "end_time": "2024-12-23T14:50:46.999669Z",
     "start_time": "2024-12-23T14:50:46.737760Z"
    }
   },
   "cell_type": "code",
   "source": [
    "# Pointplot da variável sexo\n",
    "sns.pointplot(ax=axes[0], x='data_ref', y='renda', hue='sexo', data=df, dodge=True, errorbar=('ci', 95))\n",
    "axes[0].set_title('Renda por Sexo ao Longo do Tempo')\n",
    "axes[0].set_xticklabels(axes[0].get_xticklabels(), rotation=90)\n",
    "axes[0].set_xlabel('Data')\n",
    "axes[0].set_ylabel('Renda Média')\n",
    "axes[0].legend(bbox_to_anchor=(1.05, 1), loc='upper left', title='Legenda')"
   ],
   "outputs": [
    {
     "name": "stderr",
     "output_type": "stream",
     "text": [
      "/tmp/ipykernel_7117/466708006.py:4: UserWarning: set_ticklabels() should only be used with a fixed number of ticks, i.e. after set_ticks() or using a FixedLocator.\n",
      "  axes[0].set_xticklabels(axes[0].get_xticklabels(), rotation=90)\n"
     ]
    },
    {
     "data": {
      "text/plain": [
       "<matplotlib.legend.Legend at 0x783d40acb260>"
      ]
     },
     "execution_count": 142,
     "metadata": {},
     "output_type": "execute_result"
    }
   ],
   "execution_count": 142
  },
  {
   "metadata": {
    "ExecuteTime": {
     "end_time": "2024-12-23T14:51:03.377708Z",
     "start_time": "2024-12-23T14:51:03.296773Z"
    }
   },
   "cell_type": "code",
   "source": [
    "# Substitua o segundo gráfico com outra análise (exemplo: renda por idade)\n",
    "sns.barplot(ax=axes[1], x='idade', y='renda', data=df, ci='sd')\n",
    "axes[1].set_title('Renda por Idade')\n",
    "axes[1].set_xlabel('Idade')\n",
    "axes[1].set_ylabel('Renda Média')"
   ],
   "outputs": [
    {
     "name": "stderr",
     "output_type": "stream",
     "text": [
      "/tmp/ipykernel_7117/415357461.py:2: FutureWarning: \n",
      "\n",
      "The `ci` parameter is deprecated. Use `errorbar='sd'` for the same effect.\n",
      "\n",
      "  sns.barplot(ax=axes[1], x='idade', y='renda', data=df, ci='sd')\n"
     ]
    },
    {
     "data": {
      "text/plain": [
       "Text(638.5353535353535, 0.5, 'Renda Média')"
      ]
     },
     "execution_count": 143,
     "metadata": {},
     "output_type": "execute_result"
    }
   ],
   "execution_count": 143
  },
  {
   "metadata": {
    "ExecuteTime": {
     "end_time": "2024-12-23T14:51:15.237349Z",
     "start_time": "2024-12-23T14:51:15.230382Z"
    }
   },
   "cell_type": "code",
   "source": [
    "# Layout ajustado\n",
    "plt.tight_layout()\n",
    "plt.show()"
   ],
   "outputs": [
    {
     "data": {
      "text/plain": [
       "<Figure size 1000x2500 with 0 Axes>"
      ]
     },
     "metadata": {},
     "output_type": "display_data"
    }
   ],
   "execution_count": 144
  },
  {
   "metadata": {},
   "cell_type": "code",
   "outputs": [],
   "execution_count": null,
   "source": [
    "# Selecionar variáveis numéricas do DataFrame\n",
    "numeric_data = df.select_dtypes(include=\"number\")"
   ]
  },
  {
   "metadata": {
    "ExecuteTime": {
     "end_time": "2024-12-23T14:53:28.103199Z",
     "start_time": "2024-12-23T14:53:28.099661Z"
    }
   },
   "cell_type": "code",
   "source": [
    "# Calcular a correlação de todas as variáveis numéricas com a variável 'renda'\n",
    "correlation_with_renda = numeric_data.corr()['renda'].sort_values(ascending=False)"
   ],
   "outputs": [],
   "execution_count": 146
  },
  {
   "metadata": {
    "ExecuteTime": {
     "end_time": "2024-12-23T14:54:00.613612Z",
     "start_time": "2024-12-23T14:54:00.611791Z"
    }
   },
   "cell_type": "code",
   "source": [
    "# Exibir as duas variáveis mais correlacionadas (excluindo 'renda' que possui correlação 1.0 com ela mesma)\n",
    "top_two_variables = correlation_with_renda.index[1:3]  # Índice 0 é 'renda' (corr = 1.0)"
   ],
   "outputs": [],
   "execution_count": 147
  },
  {
   "metadata": {
    "ExecuteTime": {
     "end_time": "2024-12-23T14:54:09.281595Z",
     "start_time": "2024-12-23T14:54:09.273811Z"
    }
   },
   "cell_type": "code",
   "source": [
    "# Exibir as duas variáveis mais correlacionadas\n",
    "print(\"As duas variáveis mais correlacionadas com renda são:\")\n",
    "print(top_two_variables)\n"
   ],
   "outputs": [
    {
     "name": "stdout",
     "output_type": "stream",
     "text": [
      "As duas variáveis mais correlacionadas com renda são:\n",
      "Index(['tempo_emprego', 'idade'], dtype='object')\n"
     ]
    }
   ],
   "execution_count": 148
  },
  {
   "metadata": {
    "ExecuteTime": {
     "end_time": "2024-12-23T14:54:17.758549Z",
     "start_time": "2024-12-23T14:54:17.625801Z"
    }
   },
   "cell_type": "code",
   "source": [
    "# Criar os subplots\n",
    "fig, axes = plt.subplots(1, 2, figsize=(15, 6))  # Um layout de 1 linha e 2 colunas"
   ],
   "outputs": [
    {
     "data": {
      "text/plain": [
       "<Figure size 1500x600 with 2 Axes>"
      ],
      "image/png": "[encoded data removed]"
     },
     "metadata": {},
     "output_type": "display_data"
    }
   ],
   "execution_count": 149
  },
  {
   "metadata": {},
   "cell_type": "code",
   "outputs": [],
   "execution_count": null,
   "source": ""
  },
  {
   "metadata": {},
   "cell_type": "code",
   "outputs": [],
   "execution_count": null,
   "source": ""
  },
  {
   "metadata": {},
   "cell_type": "code",
   "outputs": [],
   "execution_count": null,
   "source": ""
  },
  {
   "metadata": {
    "ExecuteTime": {
     "end_time": "2024-12-23T14:55:12.392671Z",
     "start_time": "2024-12-23T14:55:12.140424Z"
    }
   },
   "cell_type": "code",
   "source": [
    "# POINTPLOT DA VARIÁVEL POSSE_DE_VEICULO\n",
    "sns.pointplot(ax=axes[0], x='data_ref', y='renda', hue='posse_de_veiculo', data=df, dodge=True, errorbar=('ci', 95))\n",
    "axes[0].set_title('Renda por pose_de_veiculo ao Longo do Tempo')\n",
    "axes[0].set_xticklabels(axes[0].get_xticklabels(), rotation=90)\n",
    "axes[0].set_xlabel('Data')\n",
    "axes[0].set_ylabel('Renda Média')\n",
    "axes[0].legend(bbox_to_anchor=(1.05, 1), loc='upper left', title='Legenda')"
   ],
   "outputs": [
    {
     "name": "stderr",
     "output_type": "stream",
     "text": [
      "/tmp/ipykernel_7117/1301478887.py:4: UserWarning: set_ticklabels() should only be used with a fixed number of ticks, i.e. after set_ticks() or using a FixedLocator.\n",
      "  axes[0].set_xticklabels(axes[0].get_xticklabels(), rotation=90)\n"
     ]
    },
    {
     "data": {
      "text/plain": [
       "<matplotlib.legend.Legend at 0x783d403627b0>"
      ]
     },
     "execution_count": 150,
     "metadata": {},
     "output_type": "execute_result"
    }
   ],
   "execution_count": 150
  },
  {
   "metadata": {
    "ExecuteTime": {
     "end_time": "2024-12-23T14:55:29.882004Z",
     "start_time": "2024-12-23T14:55:29.814827Z"
    }
   },
   "cell_type": "code",
   "source": [
    "# Substitua o segundo gráfico com outra análise (exemplo: renda por idade)\n",
    "sns.barplot(ax=axes[1], x='idade', y='renda', data=df, ci='sd')\n",
    "axes[1].set_title('Renda por Idade')\n",
    "axes[1].set_xlabel('Idade')\n",
    "axes[1].set_ylabel('Renda Média')"
   ],
   "outputs": [
    {
     "name": "stderr",
     "output_type": "stream",
     "text": [
      "/tmp/ipykernel_7117/415357461.py:2: FutureWarning: \n",
      "\n",
      "The `ci` parameter is deprecated. Use `errorbar='sd'` for the same effect.\n",
      "\n",
      "  sns.barplot(ax=axes[1], x='idade', y='renda', data=df, ci='sd')\n"
     ]
    },
    {
     "data": {
      "text/plain": [
       "Text(638.5353535353535, 0.5, 'Renda Média')"
      ]
     },
     "execution_count": 151,
     "metadata": {},
     "output_type": "execute_result"
    }
   ],
   "execution_count": 151
  },
  {
   "metadata": {
    "ExecuteTime": {
     "end_time": "2024-12-23T14:55:38.987953Z",
     "start_time": "2024-12-23T14:55:38.984248Z"
    }
   },
   "cell_type": "code",
   "source": [
    "# Layout ajustado\n",
    "plt.tight_layout()\n",
    "plt.show()"
   ],
   "outputs": [
    {
     "data": {
      "text/plain": [
       "<Figure size 1000x2500 with 0 Axes>"
      ]
     },
     "metadata": {},
     "output_type": "display_data"
    }
   ],
   "execution_count": 152
  },
  {
   "metadata": {
    "ExecuteTime": {
     "end_time": "2024-12-23T14:56:08.643003Z",
     "start_time": "2024-12-23T14:56:08.640832Z"
    }
   },
   "cell_type": "code",
   "source": [
    "# Selecionar variáveis numéricas do DataFrame\n",
    "numeric_data = df.select_dtypes(include=\"number\")"
   ],
   "outputs": [],
   "execution_count": 153
  },
  {
   "metadata": {
    "ExecuteTime": {
     "end_time": "2024-12-23T14:56:15.724690Z",
     "start_time": "2024-12-23T14:56:15.720810Z"
    }
   },
   "cell_type": "code",
   "source": [
    "# Calcular a correlação de todas as variáveis numéricas com a variável 'renda'\n",
    "correlation_with_renda = numeric_data.corr()['renda'].sort_values(ascending=False)"
   ],
   "outputs": [],
   "execution_count": 154
  },
  {
   "metadata": {
    "ExecuteTime": {
     "end_time": "2024-12-23T14:56:21.869116Z",
     "start_time": "2024-12-23T14:56:21.866738Z"
    }
   },
   "cell_type": "code",
   "source": [
    "# Exibir as duas variáveis mais correlacionadas (excluindo 'renda' que possui correlação 1.0 com ela mesma)\n",
    "top_two_variables = correlation_with_renda.index[1:3]  # Índice 0 é 'renda' (corr = 1.0)"
   ],
   "outputs": [],
   "execution_count": 155
  },
  {
   "metadata": {
    "ExecuteTime": {
     "end_time": "2024-12-23T14:56:28.910615Z",
     "start_time": "2024-12-23T14:56:28.908012Z"
    }
   },
   "cell_type": "code",
   "source": [
    "# Exibir as duas variáveis mais correlacionadas\n",
    "print(\"As duas variáveis mais correlacionadas com renda são:\")\n",
    "print(top_two_variables)"
   ],
   "outputs": [
    {
     "name": "stdout",
     "output_type": "stream",
     "text": [
      "As duas variáveis mais correlacionadas com renda são:\n",
      "Index(['tempo_emprego', 'idade'], dtype='object')\n"
     ]
    }
   ],
   "execution_count": 156
  },
  {
   "metadata": {
    "ExecuteTime": {
     "end_time": "2024-12-23T14:56:37.378825Z",
     "start_time": "2024-12-23T14:56:37.253887Z"
    }
   },
   "cell_type": "code",
   "source": [
    "# Criar os subplots\n",
    "fig, axes = plt.subplots(1, 2, figsize=(15, 6))  # Um layout de 1 linha e 2 colunas"
   ],
   "outputs": [
    {
     "data": {
      "text/plain": [
       "<Figure size 1500x600 with 2 Axes>"
      ],
      "image/png": "[encoded data removed]"
     },
     "metadata": {},
     "output_type": "display_data"
    }
   ],
   "execution_count": 157
  },
  {
   "metadata": {},
   "cell_type": "code",
   "outputs": [],
   "execution_count": null,
   "source": ""
  },
  {
   "metadata": {},
   "cell_type": "code",
   "outputs": [],
   "execution_count": null,
   "source": ""
  },
  {
   "metadata": {},
   "cell_type": "code",
   "outputs": [],
   "execution_count": null,
   "source": ""
  },
  {
   "metadata": {},
   "cell_type": "code",
   "outputs": [],
   "execution_count": null,
   "source": ""
  },
  {
   "metadata": {
    "ExecuteTime": {
     "end_time": "2024-12-23T14:56:58.793606Z",
     "start_time": "2024-12-23T14:56:58.532968Z"
    }
   },
   "cell_type": "code",
   "source": [
    "# POINTPLOT DA VARIÁVEL POSSE_DE_IMOVEL\n",
    "\n",
    "# Pointplot da variável sexo\n",
    "sns.pointplot(ax=axes[0], x='data_ref', y='renda', hue='posse_de_imovel', data=df, dodge=True, errorbar=('ci', 95))\n",
    "axes[0].set_title('Renda por Sexo ao Longo do Tempo')\n",
    "axes[0].set_xticklabels(axes[0].get_xticklabels(), rotation=90)\n",
    "axes[0].set_xlabel('Data')\n",
    "axes[0].set_ylabel('Renda Média')\n",
    "axes[0].legend(bbox_to_anchor=(1.05, 1), loc='upper left', title='Legenda')"
   ],
   "outputs": [
    {
     "name": "stderr",
     "output_type": "stream",
     "text": [
      "/tmp/ipykernel_7117/895345954.py:6: UserWarning: set_ticklabels() should only be used with a fixed number of ticks, i.e. after set_ticks() or using a FixedLocator.\n",
      "  axes[0].set_xticklabels(axes[0].get_xticklabels(), rotation=90)\n"
     ]
    },
    {
     "data": {
      "text/plain": [
       "<matplotlib.legend.Legend at 0x783d3ef72690>"
      ]
     },
     "execution_count": 158,
     "metadata": {},
     "output_type": "execute_result"
    }
   ],
   "execution_count": 158
  },
  {
   "metadata": {
    "ExecuteTime": {
     "end_time": "2024-12-23T14:57:07.260288Z",
     "start_time": "2024-12-23T14:57:07.187457Z"
    }
   },
   "cell_type": "code",
   "source": [
    "# Substitua o segundo gráfico com outra análise (exemplo: renda por idade)\n",
    "sns.barplot(ax=axes[1], x='idade', y='renda', data=df, ci='sd')\n",
    "axes[1].set_title('Renda por Idade')\n",
    "axes[1].set_xlabel('Idade')\n",
    "axes[1].set_ylabel('Renda Média')\n"
   ],
   "outputs": [
    {
     "name": "stderr",
     "output_type": "stream",
     "text": [
      "/tmp/ipykernel_7117/3346785780.py:2: FutureWarning: \n",
      "\n",
      "The `ci` parameter is deprecated. Use `errorbar='sd'` for the same effect.\n",
      "\n",
      "  sns.barplot(ax=axes[1], x='idade', y='renda', data=df, ci='sd')\n"
     ]
    },
    {
     "data": {
      "text/plain": [
       "Text(638.5353535353535, 0.5, 'Renda Média')"
      ]
     },
     "execution_count": 159,
     "metadata": {},
     "output_type": "execute_result"
    }
   ],
   "execution_count": 159
  },
  {
   "metadata": {
    "ExecuteTime": {
     "end_time": "2024-12-23T14:59:20.562292Z",
     "start_time": "2024-12-23T14:59:20.554885Z"
    }
   },
   "cell_type": "code",
   "source": [
    "# Layout ajustado\n",
    "plt.tight_layout()\n",
    "plt.show()\n"
   ],
   "outputs": [
    {
     "data": {
      "text/plain": [
       "<Figure size 1000x2500 with 0 Axes>"
      ]
     },
     "metadata": {},
     "output_type": "display_data"
    }
   ],
   "execution_count": 161
  },
  {
   "metadata": {
    "ExecuteTime": {
     "end_time": "2024-12-23T14:59:21.898058Z",
     "start_time": "2024-12-23T14:59:21.894675Z"
    }
   },
   "cell_type": "code",
   "source": [
    "# Selecionar variáveis numéricas do DataFrame\n",
    "numeric_data = df.select_dtypes(include=\"number\")"
   ],
   "outputs": [],
   "execution_count": 162
  },
  {
   "metadata": {
    "ExecuteTime": {
     "end_time": "2024-12-23T14:59:23.226149Z",
     "start_time": "2024-12-23T14:59:23.222210Z"
    }
   },
   "cell_type": "code",
   "source": [
    "# Calcular a correlação de todas as variáveis numéricas com a variável 'renda'\n",
    "correlation_with_renda = numeric_data.corr()['renda'].sort_values(ascending=False)"
   ],
   "outputs": [],
   "execution_count": 163
  },
  {
   "metadata": {
    "ExecuteTime": {
     "end_time": "2024-12-23T14:59:24.329808Z",
     "start_time": "2024-12-23T14:59:24.327600Z"
    }
   },
   "cell_type": "code",
   "source": [
    "# Exibir as duas variáveis mais correlacionadas (excluindo 'renda' que possui correlação 1.0 com ela mesma)\n",
    "top_two_variables = correlation_with_renda.index[1:3]  # Índice 0 é 'renda' (corr = 1.0)"
   ],
   "outputs": [],
   "execution_count": 164
  },
  {
   "metadata": {
    "ExecuteTime": {
     "end_time": "2024-12-23T14:59:26.209008Z",
     "start_time": "2024-12-23T14:59:26.206240Z"
    }
   },
   "cell_type": "code",
   "source": [
    "# Exibir as duas variáveis mais correlacionadas\n",
    "print(\"As duas variáveis mais correlacionadas com renda são:\")\n",
    "print(top_two_variables)\n"
   ],
   "outputs": [
    {
     "name": "stdout",
     "output_type": "stream",
     "text": [
      "As duas variáveis mais correlacionadas com renda são:\n",
      "Index(['tempo_emprego', 'idade'], dtype='object')\n"
     ]
    }
   ],
   "execution_count": 165
  },
  {
   "metadata": {
    "ExecuteTime": {
     "end_time": "2024-12-23T14:59:27.859849Z",
     "start_time": "2024-12-23T14:59:27.731793Z"
    }
   },
   "cell_type": "code",
   "source": [
    "# Criar os subplots\n",
    "fig, axes = plt.subplots(1, 2, figsize=(15, 6))  # Um layout de 1 linha e 2 colunas"
   ],
   "outputs": [
    {
     "data": {
      "text/plain": [
       "<Figure size 1500x600 with 2 Axes>"
      ],
      "image/png": "[encoded data removed]"
     },
     "metadata": {},
     "output_type": "display_data"
    }
   ],
   "execution_count": 166
  },
  {
   "metadata": {
    "ExecuteTime": {
     "end_time": "2024-12-23T14:59:29.961108Z",
     "start_time": "2024-12-23T14:59:29.492270Z"
    }
   },
   "cell_type": "code",
   "source": [
    "# POINTPLOT DA VARIÁVEL TIPO_RENDA\n",
    "# Pointplot da variável sexo\n",
    "sns.pointplot(ax=axes[0], x='data_ref', y='renda', hue='tipo_renda', data=df, dodge=True, errorbar=('ci', 95))\n",
    "axes[0].set_title('Renda por Sexo ao Longo do Tempo')\n",
    "axes[0].set_xticklabels(axes[0].get_xticklabels(), rotation=90)\n",
    "axes[0].set_xlabel('Data')\n",
    "axes[0].set_ylabel('Renda Média')\n",
    "axes[0].legend(bbox_to_anchor=(1.05, 1), loc='upper left', title='Legenda')"
   ],
   "outputs": [
    {
     "name": "stderr",
     "output_type": "stream",
     "text": [
      "/tmp/ipykernel_7117/987074009.py:5: UserWarning: set_ticklabels() should only be used with a fixed number of ticks, i.e. after set_ticks() or using a FixedLocator.\n",
      "  axes[0].set_xticklabels(axes[0].get_xticklabels(), rotation=90)\n"
     ]
    },
    {
     "data": {
      "text/plain": [
       "<matplotlib.legend.Legend at 0x783d3ed9cd40>"
      ]
     },
     "execution_count": 167,
     "metadata": {},
     "output_type": "execute_result"
    }
   ],
   "execution_count": 167
  },
  {
   "metadata": {
    "ExecuteTime": {
     "end_time": "2024-12-23T14:59:31.765154Z",
     "start_time": "2024-12-23T14:59:31.696242Z"
    }
   },
   "cell_type": "code",
   "source": [
    "# Substitua o segundo gráfico com outra análise (exemplo: renda por idade)\n",
    "sns.barplot(ax=axes[1], x='idade', y='renda', data=df, ci='sd')\n",
    "axes[1].set_title('Renda por Idade')\n",
    "axes[1].set_xlabel('Idade')\n",
    "axes[1].set_ylabel('Renda Média')"
   ],
   "outputs": [
    {
     "name": "stderr",
     "output_type": "stream",
     "text": [
      "/tmp/ipykernel_7117/415357461.py:2: FutureWarning: \n",
      "\n",
      "The `ci` parameter is deprecated. Use `errorbar='sd'` for the same effect.\n",
      "\n",
      "  sns.barplot(ax=axes[1], x='idade', y='renda', data=df, ci='sd')\n"
     ]
    },
    {
     "data": {
      "text/plain": [
       "Text(638.5353535353535, 0.5, 'Renda Média')"
      ]
     },
     "execution_count": 168,
     "metadata": {},
     "output_type": "execute_result"
    }
   ],
   "execution_count": 168
  },
  {
   "metadata": {
    "ExecuteTime": {
     "end_time": "2024-12-23T14:59:33.982800Z",
     "start_time": "2024-12-23T14:59:33.977749Z"
    }
   },
   "cell_type": "code",
   "source": [
    "# Layout ajustado\n",
    "plt.tight_layout()\n",
    "plt.show()"
   ],
   "outputs": [
    {
     "data": {
      "text/plain": [
       "<Figure size 1000x2500 with 0 Axes>"
      ]
     },
     "metadata": {},
     "output_type": "display_data"
    }
   ],
   "execution_count": 169
  },
  {
   "metadata": {
    "ExecuteTime": {
     "end_time": "2024-12-23T15:01:01.945080Z",
     "start_time": "2024-12-23T15:01:01.942896Z"
    }
   },
   "cell_type": "code",
   "source": [
    "# Selecionar variáveis numéricas do DataFrame\n",
    "numeric_data = df.select_dtypes(include=\"number\")"
   ],
   "outputs": [],
   "execution_count": 170
  },
  {
   "metadata": {
    "ExecuteTime": {
     "end_time": "2024-12-23T15:01:03.616545Z",
     "start_time": "2024-12-23T15:01:03.612862Z"
    }
   },
   "cell_type": "code",
   "source": [
    "# Calcular a correlação de todas as variáveis numéricas com a variável 'renda'\n",
    "correlation_with_renda = numeric_data.corr()['renda'].sort_values(ascending=False)"
   ],
   "outputs": [],
   "execution_count": 171
  },
  {
   "metadata": {
    "ExecuteTime": {
     "end_time": "2024-12-23T15:01:04.911265Z",
     "start_time": "2024-12-23T15:01:04.909123Z"
    }
   },
   "cell_type": "code",
   "source": [
    "# Exibir as duas variáveis mais correlacionadas (excluindo 'renda' que possui correlação 1.0 com ela mesma)\n",
    "top_two_variables = correlation_with_renda.index[1:3]  # Índice 0 é 'renda' (corr = 1.0)"
   ],
   "outputs": [],
   "execution_count": 172
  },
  {
   "metadata": {
    "ExecuteTime": {
     "end_time": "2024-12-23T15:01:06.015216Z",
     "start_time": "2024-12-23T15:01:06.012986Z"
    }
   },
   "cell_type": "code",
   "source": [
    "# Exibir as duas variáveis mais correlacionadas\n",
    "print(\"As duas variáveis mais correlacionadas com renda são:\")\n",
    "print(top_two_variables)"
   ],
   "outputs": [
    {
     "name": "stdout",
     "output_type": "stream",
     "text": [
      "As duas variáveis mais correlacionadas com renda são:\n",
      "Index(['tempo_emprego', 'idade'], dtype='object')\n"
     ]
    }
   ],
   "execution_count": 173
  },
  {
   "metadata": {
    "ExecuteTime": {
     "end_time": "2024-12-23T15:01:13.749902Z",
     "start_time": "2024-12-23T15:01:13.631290Z"
    }
   },
   "cell_type": "code",
   "source": [
    "#Criar os subplots\n",
    "fig, axes = plt.subplots(1, 2, figsize=(15, 6))  # Um layout de 1 linha e 2 colunas"
   ],
   "outputs": [
    {
     "data": {
      "text/plain": [
       "<Figure size 1500x600 with 2 Axes>"
      ],
      "image/png": "[encoded data removed]"
     },
     "metadata": {},
     "output_type": "display_data"
    }
   ],
   "execution_count": 175
  },
  {
   "metadata": {
    "ExecuteTime": {
     "end_time": "2024-12-23T15:01:17.236380Z",
     "start_time": "2024-12-23T15:01:16.758447Z"
    }
   },
   "cell_type": "code",
   "source": [
    "# POINTPLOT DA VARIÁVEL EDUCACAO\n",
    "\n",
    "# Pointplot da variável sexo\n",
    "sns.pointplot(ax=axes[0], x='data_ref', y='renda', hue='educacao', data=df, dodge=True, errorbar=('ci', 95))\n",
    "axes[0].set_title('Renda por Sexo ao Longo do Tempo')\n",
    "axes[0].set_xticklabels(axes[0].get_xticklabels(), rotation=90)\n",
    "axes[0].set_xlabel('Data')\n",
    "axes[0].set_ylabel('Renda Média')\n",
    "axes[0].legend(bbox_to_anchor=(1.05, 1), loc='upper left', title='Legenda')"
   ],
   "outputs": [
    {
     "name": "stderr",
     "output_type": "stream",
     "text": [
      "/tmp/ipykernel_7117/3901028239.py:6: UserWarning: set_ticklabels() should only be used with a fixed number of ticks, i.e. after set_ticks() or using a FixedLocator.\n",
      "  axes[0].set_xticklabels(axes[0].get_xticklabels(), rotation=90)\n"
     ]
    },
    {
     "data": {
      "text/plain": [
       "<matplotlib.legend.Legend at 0x783d3e9662d0>"
      ]
     },
     "execution_count": 176,
     "metadata": {},
     "output_type": "execute_result"
    }
   ],
   "execution_count": 176
  },
  {
   "metadata": {
    "ExecuteTime": {
     "end_time": "2024-12-23T15:01:19.480539Z",
     "start_time": "2024-12-23T15:01:19.411111Z"
    }
   },
   "cell_type": "code",
   "source": [
    "# Substitua o segundo gráfico com outra análise (exemplo: renda por idade)\n",
    "sns.barplot(ax=axes[1], x='idade', y='renda', data=df, ci='sd')\n",
    "axes[1].set_title('Renda por Idade')\n",
    "axes[1].set_xlabel('Idade')\n",
    "axes[1].set_ylabel('Renda Média')"
   ],
   "outputs": [
    {
     "name": "stderr",
     "output_type": "stream",
     "text": [
      "/tmp/ipykernel_7117/415357461.py:2: FutureWarning: \n",
      "\n",
      "The `ci` parameter is deprecated. Use `errorbar='sd'` for the same effect.\n",
      "\n",
      "  sns.barplot(ax=axes[1], x='idade', y='renda', data=df, ci='sd')\n"
     ]
    },
    {
     "data": {
      "text/plain": [
       "Text(638.5353535353535, 0.5, 'Renda Média')"
      ]
     },
     "execution_count": 177,
     "metadata": {},
     "output_type": "execute_result"
    }
   ],
   "execution_count": 177
  },
  {
   "metadata": {
    "ExecuteTime": {
     "end_time": "2024-12-23T15:01:21.626821Z",
     "start_time": "2024-12-23T15:01:21.621800Z"
    }
   },
   "cell_type": "code",
   "source": [
    "# Layout ajustado\n",
    "plt.tight_layout()\n",
    "plt.show()"
   ],
   "outputs": [
    {
     "data": {
      "text/plain": [
       "<Figure size 1000x2500 with 0 Axes>"
      ]
     },
     "metadata": {},
     "output_type": "display_data"
    }
   ],
   "execution_count": 178
  },
  {
   "metadata": {},
   "cell_type": "code",
   "outputs": [],
   "execution_count": null,
   "source": ""
  },
  {
   "metadata": {},
   "cell_type": "code",
   "outputs": [],
   "execution_count": null,
   "source": ""
  }
 ],
 "metadata": {
  "kernelspec": {
   "display_name": "Python 3 (ipykernel)",
   "language": "python",
   "name": "python3"
  },
  "language_info": {
   "codemirror_mode": {
    "name": "ipython",
    "version": 3
   },
   "file_extension": ".py",
   "mimetype": "text/x-python",
   "name": "python",
   "nbconvert_exporter": "python",
   "pygments_lexer": "ipython3",
   "version": "3.12.7"
  }
 },
 "nbformat": 4,
 "nbformat_minor": 4
}
