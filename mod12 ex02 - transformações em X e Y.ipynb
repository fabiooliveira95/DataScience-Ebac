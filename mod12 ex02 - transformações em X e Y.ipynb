{
 "cells": [
  {
   "cell_type": "markdown",
   "metadata": {},
   "source": [
    "# Regressão 01 - tarefa 02 - transformações em X e Y"
   ]
  },
  {
   "cell_type": "markdown",
   "metadata": {},
   "source": [
    "### 1. Melhorando o ajuste no percentual de gorjetas\n",
    "\n",
    "a. Vamos partir do modelo feito na última tarefa, o que relaciona ```tip_pct``` e ```net_bill```. Carregue a base, os pacotes e reproduza este modelo aqui."
   ]
  },
  {
   "cell_type": "code",
   "metadata": {
    "ExecuteTime": {
     "end_time": "2024-12-29T14:14:30.501058Z",
     "start_time": "2024-12-29T14:14:30.277297Z"
    }
   },
   "source": [
    "from statistics import LinearRegression\n",
    "\n",
    "import numpy as np\n",
    "import seaborn as sns\n",
    "import matplotlib.pyplot as plt\n",
    "import pandas as pd\n",
    "\n",
    "import statsmodels.formula.api as smf\n",
    "from statsmodels.formula.api import  ols\n",
    "import statsmodels.api as sm\n",
    "%matplotlib inline\n",
    "plt.rc('figure', figsize=(6, 4))"
   ],
   "outputs": [],
   "execution_count": 2
  },
  {
   "metadata": {
    "ExecuteTime": {
     "end_time": "2024-12-29T14:14:33.116493Z",
     "start_time": "2024-12-29T14:14:33.097943Z"
    }
   },
   "cell_type": "code",
   "source": [
    "tips = sns.load_dataset(\"tips\")\n",
    "tips['tip_pct'] = tips['tip'] / (tips['total_bill'] - tips['tip'])\n",
    "tips['net_bill'] = tips['total_bill'] - tips['tip']\n",
    "tips.head()"
   ],
   "outputs": [
    {
     "data": {
      "text/plain": [
       "   total_bill   tip     sex smoker  day    time  size   tip_pct  net_bill\n",
       "0       16.99  1.01  Female     No  Sun  Dinner     2  0.063204     15.98\n",
       "1       10.34  1.66    Male     No  Sun  Dinner     3  0.191244      8.68\n",
       "2       21.01  3.50    Male     No  Sun  Dinner     3  0.199886     17.51\n",
       "3       23.68  3.31    Male     No  Sun  Dinner     2  0.162494     20.37\n",
       "4       24.59  3.61  Female     No  Sun  Dinner     4  0.172069     20.98"
      ],
      "text/html": [
       "<div>\n",
       "<style scoped>\n",
       "    .dataframe tbody tr th:only-of-type {\n",
       "        vertical-align: middle;\n",
       "    }\n",
       "\n",
       "    .dataframe tbody tr th {\n",
       "        vertical-align: top;\n",
       "    }\n",
       "\n",
       "    .dataframe thead th {\n",
       "        text-align: right;\n",
       "    }\n",
       "</style>\n",
       "<table border=\"1\" class=\"dataframe\">\n",
       "  <thead>\n",
       "    <tr style=\"text-align: right;\">\n",
       "      <th></th>\n",
       "      <th>total_bill</th>\n",
       "      <th>tip</th>\n",
       "      <th>sex</th>\n",
       "      <th>smoker</th>\n",
       "      <th>day</th>\n",
       "      <th>time</th>\n",
       "      <th>size</th>\n",
       "      <th>tip_pct</th>\n",
       "      <th>net_bill</th>\n",
       "    </tr>\n",
       "  </thead>\n",
       "  <tbody>\n",
       "    <tr>\n",
       "      <th>0</th>\n",
       "      <td>16.99</td>\n",
       "      <td>1.01</td>\n",
       "      <td>Female</td>\n",
       "      <td>No</td>\n",
       "      <td>Sun</td>\n",
       "      <td>Dinner</td>\n",
       "      <td>2</td>\n",
       "      <td>0.063204</td>\n",
       "      <td>15.98</td>\n",
       "    </tr>\n",
       "    <tr>\n",
       "      <th>1</th>\n",
       "      <td>10.34</td>\n",
       "      <td>1.66</td>\n",
       "      <td>Male</td>\n",
       "      <td>No</td>\n",
       "      <td>Sun</td>\n",
       "      <td>Dinner</td>\n",
       "      <td>3</td>\n",
       "      <td>0.191244</td>\n",
       "      <td>8.68</td>\n",
       "    </tr>\n",
       "    <tr>\n",
       "      <th>2</th>\n",
       "      <td>21.01</td>\n",
       "      <td>3.50</td>\n",
       "      <td>Male</td>\n",
       "      <td>No</td>\n",
       "      <td>Sun</td>\n",
       "      <td>Dinner</td>\n",
       "      <td>3</td>\n",
       "      <td>0.199886</td>\n",
       "      <td>17.51</td>\n",
       "    </tr>\n",
       "    <tr>\n",
       "      <th>3</th>\n",
       "      <td>23.68</td>\n",
       "      <td>3.31</td>\n",
       "      <td>Male</td>\n",
       "      <td>No</td>\n",
       "      <td>Sun</td>\n",
       "      <td>Dinner</td>\n",
       "      <td>2</td>\n",
       "      <td>0.162494</td>\n",
       "      <td>20.37</td>\n",
       "    </tr>\n",
       "    <tr>\n",
       "      <th>4</th>\n",
       "      <td>24.59</td>\n",
       "      <td>3.61</td>\n",
       "      <td>Female</td>\n",
       "      <td>No</td>\n",
       "      <td>Sun</td>\n",
       "      <td>Dinner</td>\n",
       "      <td>4</td>\n",
       "      <td>0.172069</td>\n",
       "      <td>20.98</td>\n",
       "    </tr>\n",
       "  </tbody>\n",
       "</table>\n",
       "</div>"
      ]
     },
     "execution_count": 3,
     "metadata": {},
     "output_type": "execute_result"
    }
   ],
   "execution_count": 3
  },
  {
   "metadata": {},
   "cell_type": "code",
   "outputs": [],
   "execution_count": null,
   "source": ""
  },
  {
   "cell_type": "markdown",
   "metadata": {},
   "source": [
    "### 2. ajuste o modelo de ```tip_pct``` em função do logaritmo de ```net_bill```."
   ]
  },
  {
   "metadata": {
    "ExecuteTime": {
     "end_time": "2024-12-29T14:34:23.587581Z",
     "start_time": "2024-12-29T14:34:23.489247Z"
    }
   },
   "cell_type": "code",
   "source": [
    "tips['log_net_bill'] = np.log(tips['net_bill'])\n",
    "model_tip_pct_log_net_bill = sm.OLS(tips['tip_pct'], sm.add_constant(tips['log_net_bill'])).fit()\n",
    "print(model_tip_pct_log_net_bill.summary())\n",
    "\n",
    "sns.lmplot(x='log_net_bill', y='tip_pct', data=tips, fit_reg=False)"
   ],
   "outputs": [
    {
     "name": "stdout",
     "output_type": "stream",
     "text": [
      "                            OLS Regression Results                            \n",
      "==============================================================================\n",
      "Dep. Variable:                tip_pct   R-squared:                       0.202\n",
      "Model:                            OLS   Adj. R-squared:                  0.198\n",
      "Method:                 Least Squares   F-statistic:                     61.16\n",
      "Date:                Sun, 29 Dec 2024   Prob (F-statistic):           1.62e-13\n",
      "Time:                        11:34:23   Log-Likelihood:                 123.81\n",
      "No. Observations:                 244   AIC:                            -243.6\n",
      "Df Residuals:                     242   BIC:                            -236.6\n",
      "Df Model:                           1                                         \n",
      "Covariance Type:            nonrobust                                         \n",
      "================================================================================\n",
      "                   coef    std err          t      P>|t|      [0.025      0.975]\n",
      "--------------------------------------------------------------------------------\n",
      "const            0.6181      0.054     11.444      0.000       0.512       0.724\n",
      "log_net_bill    -0.1534      0.020     -7.820      0.000      -0.192      -0.115\n",
      "==============================================================================\n",
      "Omnibus:                      440.899   Durbin-Watson:                   1.965\n",
      "Prob(Omnibus):                  0.000   Jarque-Bera (JB):           171509.052\n",
      "Skew:                           9.850   Prob(JB):                         0.00\n",
      "Kurtosis:                     131.381   Cond. No.                         17.9\n",
      "==============================================================================\n",
      "\n",
      "Notes:\n",
      "[1] Standard Errors assume that the covariance matrix of the errors is correctly specified.\n"
     ]
    },
    {
     "data": {
      "text/plain": [
       "<seaborn.axisgrid.FacetGrid at 0x71214c0baa50>"
      ]
     },
     "execution_count": 14,
     "metadata": {},
     "output_type": "execute_result"
    },
    {
     "data": {
      "text/plain": [
       "<Figure size 500x500 with 1 Axes>"
      ],
      "image/png": "[encoded data removed]"
     },
     "metadata": {},
     "output_type": "display_data"
    }
   ],
   "execution_count": 14
  },
  {
   "metadata": {},
   "cell_type": "markdown",
   "source": [
    "R-squared: Indica que cerca de 20% da variabilidade na gorjeta (tip_pct) pode ser explicada\n",
    "pela conta (net_bill) transformada para escala logarítmica.\n",
    "\n",
    "\n",
    "Coeficientes: O coeficiente da variável log_net_bill indica a mudança média na gorjeta por\n",
    "uma unidade de aumento no logaritmo natural da conta. O coeficiente constante representa o\n",
    "valor esperado da gorjeta quando a conta é igual a 1 (em escala logarítmica).\n",
    "\n",
    "P-valor: O p-valor muito baixo (próximo de zero) indica que o coeficiente da variáve\n",
    "log_net_bill é estatisticamente significante, ou seja, a relação entre as variáveis\n",
    "não é por acaso"
   ]
  },
  {
   "cell_type": "code",
   "execution_count": null,
   "metadata": {},
   "outputs": [],
   "source": []
  },
  {
   "cell_type": "markdown",
   "metadata": {},
   "source": [
    "###  4. ajuste um modelo no log do ```tip_pct``` em função de ```net_bill```. Calcule o $R^2$ também em ```tip_pct```"
   ]
  },
  {
   "cell_type": "code",
   "metadata": {
    "ExecuteTime": {
     "end_time": "2024-12-29T14:14:41.561093Z",
     "start_time": "2024-12-29T14:14:41.498644Z"
    }
   },
   "source": [
    "# Criar a variável log_tip_pct\n",
    "tips['log_tip_pct'] = np.log(tips['tip_pct'])\n",
    "\n",
    "# Ajustar modelo de regressão linear\n",
    "X = sm.add_constant(tips['net_bill'])  # Adicionar intercepto\n",
    "y = tips['log_tip_pct']\n",
    "\n",
    "# Modelo usando Statsmodels\n",
    "model = sm.OLS(y, X).fit()\n",
    "\n",
    "# Resumo do modelo\n",
    "print(model.summary())\n",
    "\n",
    "# Calcular R² no espaço original para tip_pct\n",
    "y_pred_log = model.predict(X)  # Previsões em escala log\n",
    "y_pred_tip_pct = np.exp(y_pred_log)  # Voltar ao espaço original\n",
    "ss_total = np.sum((tips['tip_pct'] - tips['tip_pct'].mean()) ** 2)\n",
    "ss_residual = np.sum((tips['tip_pct'] - y_pred_tip_pct) ** 2)\n",
    "\n",
    "r2_tip_pct = 1 - (ss_residual / ss_total)\n",
    "print(f\"R² para tip_pct no espaço original: {r2_tip_pct:.4f}\")\n",
    "\n",
    "\n",
    "sns.regplot(x='net_bill', y='tip_pct', data=tips, fit_reg=False)"
   ],
   "outputs": [
    {
     "name": "stdout",
     "output_type": "stream",
     "text": [
      "                            OLS Regression Results                            \n",
      "==============================================================================\n",
      "Dep. Variable:            log_tip_pct   R-squared:                       0.235\n",
      "Model:                            OLS   Adj. R-squared:                  0.232\n",
      "Method:                 Least Squares   F-statistic:                     74.48\n",
      "Date:                Sun, 29 Dec 2024   Prob (F-statistic):           8.27e-16\n",
      "Time:                        11:14:41   Log-Likelihood:                -106.00\n",
      "No. Observations:                 244   AIC:                             216.0\n",
      "Df Residuals:                     242   BIC:                             223.0\n",
      "Df Model:                           1                                         \n",
      "Covariance Type:            nonrobust                                         \n",
      "==============================================================================\n",
      "                 coef    std err          t      P>|t|      [0.025      0.975]\n",
      "------------------------------------------------------------------------------\n",
      "const         -1.2749      0.056    -22.872      0.000      -1.385      -1.165\n",
      "net_bill      -0.0259      0.003     -8.630      0.000      -0.032      -0.020\n",
      "==============================================================================\n",
      "Omnibus:                       49.929   Durbin-Watson:                   1.938\n",
      "Prob(Omnibus):                  0.000   Jarque-Bera (JB):              258.392\n",
      "Skew:                           0.664   Prob(JB):                     7.78e-57\n",
      "Kurtosis:                       7.864   Cond. No.                         43.3\n",
      "==============================================================================\n",
      "\n",
      "Notes:\n",
      "[1] Standard Errors assume that the covariance matrix of the errors is correctly specified.\n",
      "R² para tip_pct no espaço original: 0.0868\n"
     ]
    },
    {
     "data": {
      "text/plain": [
       "<Axes: xlabel='net_bill', ylabel='tip_pct'>"
      ]
     },
     "execution_count": 6,
     "metadata": {},
     "output_type": "execute_result"
    },
    {
     "data": {
      "text/plain": [
       "<Figure size 600x400 with 1 Axes>"
      ],
      "image/png": "[encoded data removed]"
     },
     "metadata": {},
     "output_type": "display_data"
    }
   ],
   "execution_count": 6
  },
  {
   "metadata": {},
   "cell_type": "markdown",
   "source": [
    "\n",
    "a variavel independente(net_bill) indica um valor de 0.235 que significa\n",
    "que cerca de 23.5% da variacao na porcentagem da gorjeta se explicada no\n",
    "valor da conta.\n",
    "\n",
    "F-statistic e Prob (F-statistic): Esses valores são utilizados para testar a hipótese nula de\n",
    "que não existe relação linear entre as variáveis. Um valor de p muito baixo (8.27e-16) indica que\n",
    "rejeitamos a hipótese nula, ou seja, há evidência estatística de que existe uma relação linear\n",
    "entre o valor da conta e a porcentagem da gorjeta.\n",
    "\n",
    "\n",
    "Coeficientes: net_bill indica a mudança média no logaritmo natural da porcentagem\n",
    "da gorjeta para cada aumento de uma unidade no valor da conta. Um coeficiente negativo\n",
    "indica uma relação negativa, ou seja, à medida que o valor da conta aumenta, a porcentagem\n",
    "da gorjeta tende a diminuir."
   ]
  },
  {
   "metadata": {},
   "cell_type": "markdown",
   "source": [
    "O gráfico de dispersão complementa a análise da tabela de resultados. Ele visualiza a relação\n",
    "entre as duas variáveis. Cada ponto no gráfico representa um cliente, com a posição horizontal\n",
    "indicando o valor da conta e a posição vertical indicando a porcentagem da gorjeta.\n",
    "\n",
    "Dispersão dos pontos: A dispersão dos pontos sugere que a relação entre as variáveis não é\n",
    "perfeita. Existem muitos pontos que não se encaixam exatamente em uma linha reta, o que\n",
    "indica que outros fatores além do valor da conta podem influenciar a porcentagem da gorjeta.\n",
    "\n",
    "Tendência geral: Apesar da dispersão, é possível observar uma tendência geral de que a\n",
    "porcentagem da gorjeta diminui à medida que o valor da conta aumenta."
   ]
  },
  {
   "metadata": {
    "ExecuteTime": {
     "end_time": "2024-12-29T13:37:27.798691Z",
     "start_time": "2024-12-29T13:37:27.796452Z"
    }
   },
   "cell_type": "code",
   "source": "",
   "outputs": [],
   "execution_count": null
  },
  {
   "metadata": {},
   "cell_type": "code",
   "outputs": [],
   "execution_count": null,
   "source": ""
  },
  {
   "cell_type": "code",
   "metadata": {
    "ExecuteTime": {
     "end_time": "2024-12-29T12:29:07.286755Z",
     "start_time": "2024-12-29T12:29:07.285305Z"
    }
   },
   "source": "",
   "outputs": [],
   "execution_count": null
  },
  {
   "cell_type": "code",
   "execution_count": null,
   "metadata": {},
   "outputs": [],
   "source": []
  },
  {
   "cell_type": "markdown",
   "metadata": {},
   "source": [
    "###  5. ajuste um modelo no log do ```tip_pct``` em função do log de ```net_bill```. Calcule o $R^2$ também em ```tip_pct```."
   ]
  },
  {
   "cell_type": "code",
   "metadata": {
    "ExecuteTime": {
     "end_time": "2024-12-29T14:32:29.942953Z",
     "start_time": "2024-12-29T14:32:29.877766Z"
    }
   },
   "source": [
    "# 1. Calcular os logaritmos\n",
    "tips['log_net_bill'] = np.log(tips['net_bill'])\n",
    "tips['log_tip_pct'] = np.log(tips['tip_pct'])\n",
    "\n",
    "# 2. Ajustar o modelo de regressão linear\n",
    "X = sm.add_constant(tips['log_net_bill'])  # Adicionando constante para o modelo\n",
    "y = tips['log_tip_pct']\n",
    "\n",
    "model = sm.OLS(y, x).fit()\n",
    "\n",
    "# 3. Calcular e imprimir os parâmetros e o R²\n",
    "print(model.summary())\n",
    "\n",
    "# Alternativamente, imprimir os valores específicos:\n",
    "r_squared = model.rsquared\n",
    "print(f\"R² do modelo: {r_squared}\")\n",
    "\n",
    "sns.regplot(x='log_net_bill', y='log_tip_pct', data=tips, fit_reg=False)"
   ],
   "outputs": [
    {
     "name": "stdout",
     "output_type": "stream",
     "text": [
      "                            OLS Regression Results                            \n",
      "==============================================================================\n",
      "Dep. Variable:            log_tip_pct   R-squared:                       0.293\n",
      "Model:                            OLS   Adj. R-squared:                  0.291\n",
      "Method:                 Least Squares   F-statistic:                     100.5\n",
      "Date:                Sun, 29 Dec 2024   Prob (F-statistic):           5.20e-20\n",
      "Time:                        11:32:29   Log-Likelihood:                -96.357\n",
      "No. Observations:                 244   AIC:                             196.7\n",
      "Df Residuals:                     242   BIC:                             203.7\n",
      "Df Model:                           1                                         \n",
      "Covariance Type:            nonrobust                                         \n",
      "==============================================================================\n",
      "                 coef    std err          t      P>|t|      [0.025      0.975]\n",
      "------------------------------------------------------------------------------\n",
      "const         -0.3942      0.133     -2.961      0.003      -0.657      -0.132\n",
      "net_bill      -0.4849      0.048    -10.026      0.000      -0.580      -0.390\n",
      "==============================================================================\n",
      "Omnibus:                       12.633   Durbin-Watson:                   1.976\n",
      "Prob(Omnibus):                  0.002   Jarque-Bera (JB):               28.054\n",
      "Skew:                           0.141   Prob(JB):                     8.10e-07\n",
      "Kurtosis:                       4.637   Cond. No.                         17.9\n",
      "==============================================================================\n",
      "\n",
      "Notes:\n",
      "[1] Standard Errors assume that the covariance matrix of the errors is correctly specified.\n",
      "R² do modelo: 0.2934740215080778\n"
     ]
    },
    {
     "data": {
      "text/plain": [
       "<Axes: xlabel='log_net_bill', ylabel='log_tip_pct'>"
      ]
     },
     "execution_count": 13,
     "metadata": {},
     "output_type": "execute_result"
    },
    {
     "data": {
      "text/plain": [
       "<Figure size 600x400 with 1 Axes>"
      ],
      "image/png": "[encoded data removed]"
     },
     "metadata": {},
     "output_type": "display_data"
    }
   ],
   "execution_count": 13
  },
  {
   "metadata": {},
   "cell_type": "markdown",
   "source": [
    "O coeficiente da variável log_net_bill é negativo, o que indica uma relação negativa\n",
    "entre as duas variáveis. Isso significa que, à medida que o valor da conta aumenta, a\n",
    "porcentagem da gorjeta tende a diminuir\n",
    "\n",
    "O R-squared de 0.293 sugere que aproximadamente 29.3% da variabilidade na porcentagem\n",
    "da gorjeta pode ser explicada pela variação no valor da conta. Embora seja uma relação\n",
    "estatisticamente significativa (P-valor próximo de zero), a proporção da variância\n",
    "explicada não é muito alta, indicando que outros fatores também influenciam a decisão\n",
    "de dar gorjeta.\n",
    "\n",
    "O valor de F-statistic e o P-valor associado a ele indicam que a relação entre\n",
    "as variáveis é estatisticamente significativa. Ou seja, a probabilidade de encontrar\n",
    "uma relação tão forte ou mais forte por acaso é muito pequena."
   ]
  },
  {
   "metadata": {},
   "cell_type": "markdown",
   "source": [
    "O gráfico de dispersão corrobora os resultados da regressão. Os pontos no gráfico representam\n",
    "cada observação (cada conta e sua respectiva gorjeta). A tendência geral é de que os pontos se\n",
    "espalhem ao longo de uma linha com inclinação negativa, o que visualiza a relação negativa entre\n",
    "as duas variáveis.\n",
    "\n",
    "\n",
    "Em média, os clientes tendem a deixar uma porcentagem menor de gorjeta em contas mais altas.\n",
    "No entanto, é importante ressaltar que essa é uma relação média e que existem muitas outras\n",
    "variáveis que podem influenciar a decisão de dar gorjeta, como a qualidade do serviço,\n",
    " a satisfação do cliente, a cultura local, entre outros."
   ]
  },
  {
   "cell_type": "code",
   "execution_count": null,
   "metadata": {},
   "outputs": [],
   "source": []
  },
  {
   "cell_type": "code",
   "execution_count": null,
   "metadata": {},
   "outputs": [],
   "source": []
  },
  {
   "cell_type": "markdown",
   "metadata": {},
   "source": [
    "###  6. qual modelo resultou no melhor ajuste?"
   ]
  },
  {
   "metadata": {},
   "cell_type": "code",
   "outputs": [],
   "execution_count": null,
   "source": [
    "# modelo que teve um melhor ajuste foi a questao 5\n",
    "# pelo fato da conta esta muito alta o cliente\n",
    "# deixa uma gorjeta menor"
   ]
  },
  {
   "metadata": {},
   "cell_type": "code",
   "outputs": [],
   "execution_count": null,
   "source": ""
  },
  {
   "metadata": {},
   "cell_type": "code",
   "outputs": [],
   "execution_count": null,
   "source": ""
  },
  {
   "metadata": {},
   "cell_type": "code",
   "outputs": [],
   "execution_count": null,
   "source": ""
  }
 ],
 "metadata": {
  "kernelspec": {
   "display_name": "Python 3 (ipykernel)",
   "language": "python",
   "name": "python3"
  },
  "language_info": {
   "codemirror_mode": {
    "name": "ipython",
    "version": 3
   },
   "file_extension": ".py",
   "mimetype": "text/x-python",
   "name": "python",
   "nbconvert_exporter": "python",
   "pygments_lexer": "ipython3",
   "version": "3.12.7"
  }
 },
 "nbformat": 4,
 "nbformat_minor": 4
}
