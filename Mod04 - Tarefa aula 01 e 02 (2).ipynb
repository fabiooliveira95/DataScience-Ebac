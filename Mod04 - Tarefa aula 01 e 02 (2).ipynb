{
 "cells": [
  {
   "cell_type": "markdown",
   "metadata": {},
   "source": [
    "# Tarefa 01\n",
    "\n",
    "- Leia os enunciados com atenção\n",
    "- Saiba que pode haver mais de uma resposta correta\n",
    "- Insira novas células de código sempre que achar necessário\n",
    "- Em caso de dúvidas, procure os tutores\n",
    "- Divirta-se :)\n",
    "\n",
    "#### 1)  crie uma série do pandas a partir de uma lista com os dados abaixo:\n",
    "\n",
    "Em um estudo sobre alteração na tempreatura global, A NASA disponibiliza dados de diferenças de de temperatura média da superfície terrestre relativos às médias de temperatura entre 1951 e 1980. Os dados originais podem ser vistos no site da NASA/GISS, e estão dispostos a cada década na tabela abaixo.\n",
    "\n",
    "|ano|anomalia termica|\n",
    "|:-:|:----:|\n",
    "| 1900 | -0.08 |\n",
    "| 1920 | -0.27 |\n",
    "| 1940 | 0.12 |\n",
    "| 1960 | -0.03 |\n",
    "| 1980 | 0.26 |\n",
    "| 2000 | 0.40 |\n",
    "| 2020 | 1.02 |\n",
    "\n",
    "Crie uma séries do Pandas a partir de uma lista com esses dados."
   ]
  },
  {
   "cell_type": "code",
   "execution_count": 9,
   "metadata": {},
   "outputs": [
    {
     "data": {
      "text/plain": [
       "1900   -0.08\n",
       "1920   -0.27\n",
       "1940    0.12\n",
       "1960   -0.03\n",
       "1980    0.26\n",
       "2000    0.40\n",
       "2020    1.02\n",
       "dtype: float64"
      ]
     },
     "execution_count": 9,
     "metadata": {},
     "output_type": "execute_result"
    }
   ],
   "source": [
    "import pandas as pd\n",
    "import numpy as np\n",
    "\n",
    "dic_temperaturas = {\"1900\": -0.08, \"1920\": -0.27, \"1940\": 0.12, \"1960\": -0.03, \"1980\": 0.26, \"2000\": 0.40, \"2020\": 1.02}\n",
    "pd.Series(dic_temperaturas)"
   ]
  },
  {
   "cell_type": "markdown",
   "metadata": {},
   "source": [
    "#### 2) Coloque os anos nos índices conforme a tabela."
   ]
  },
  {
   "cell_type": "code",
   "execution_count": 56,
   "metadata": {},
   "outputs": [
    {
     "data": {
      "text/html": [
       "<div>\n",
       "<style scoped>\n",
       "    .dataframe tbody tr th:only-of-type {\n",
       "        vertical-align: middle;\n",
       "    }\n",
       "\n",
       "    .dataframe tbody tr th {\n",
       "        vertical-align: top;\n",
       "    }\n",
       "\n",
       "    .dataframe thead th {\n",
       "        text-align: right;\n",
       "    }\n",
       "</style>\n",
       "<table border=\"1\" class=\"dataframe\">\n",
       "  <thead>\n",
       "    <tr style=\"text-align: right;\">\n",
       "      <th></th>\n",
       "      <th>ano</th>\n",
       "    </tr>\n",
       "  </thead>\n",
       "  <tbody>\n",
       "    <tr>\n",
       "      <th>0</th>\n",
       "      <td>1900</td>\n",
       "    </tr>\n",
       "    <tr>\n",
       "      <th>1</th>\n",
       "      <td>1920</td>\n",
       "    </tr>\n",
       "    <tr>\n",
       "      <th>2</th>\n",
       "      <td>1940</td>\n",
       "    </tr>\n",
       "    <tr>\n",
       "      <th>3</th>\n",
       "      <td>1980</td>\n",
       "    </tr>\n",
       "    <tr>\n",
       "      <th>4</th>\n",
       "      <td>200</td>\n",
       "    </tr>\n",
       "    <tr>\n",
       "      <th>5</th>\n",
       "      <td>2020</td>\n",
       "    </tr>\n",
       "  </tbody>\n",
       "</table>\n",
       "</div>"
      ],
      "text/plain": [
       "    ano\n",
       "0  1900\n",
       "1  1920\n",
       "2  1940\n",
       "3  1980\n",
       "4   200\n",
       "5  2020"
      ]
     },
     "execution_count": 56,
     "metadata": {},
     "output_type": "execute_result"
    }
   ],
   "source": [
    "pd.DataFrame([1900, 1920, 1940, 1980, 200, 2020],\n",
    "             columns=['ano'])"
   ]
  },
  {
   "cell_type": "markdown",
   "metadata": {},
   "source": [
    "#### 3) A partir do dicionário abaixo, crie uma séries do Pandas:"
   ]
  },
  {
   "cell_type": "code",
   "execution_count": 66,
   "metadata": {},
   "outputs": [
    {
     "name": "stdout",
     "output_type": "stream",
     "text": [
      "1900   -0.08\n",
      "1920   -0.27\n",
      "1940    0.12\n",
      "1960   -0.03\n",
      "1980    0.26\n",
      "2000    0.40\n",
      "2020    1.02\n",
      "dtype: float64\n"
     ]
    }
   ],
   "source": [
    "dic_temperaturas = {1900: -.08, 1920: -.27, 1940: .12, 1960: -.03, 1980: .26, 2000: .40, 2020: 1.02}\n",
    "serie_temperaturas = pd.Series(dic_temperaturas)\n",
    "print(serie_temperaturas)"
   ]
  },
  {
   "cell_type": "markdown",
   "metadata": {},
   "source": [
    "#### 4) Transforme o ndarray abaixo em um dataframe. \n",
    "O numpy é capaz de gerar arrays n-dimensionais com números pseudo-aleatórios de acordo com uma variedade de distribuições, como no exemplo abaixo. Transforme esse nd-array em um DataFrame."
   ]
  },
  {
   "cell_type": "code",
   "execution_count": 78,
   "metadata": {},
   "outputs": [
    {
     "name": "stdout",
     "output_type": "stream",
     "text": [
      "           100          10      (20.3)\n",
      "0    98.211591   86.521186  105.382551\n",
      "1    91.478865   89.664284  102.608604\n",
      "2   107.845736  107.713935   93.226226\n",
      "3    96.693611   99.973195  107.547519\n",
      "4    91.617374   97.265348   81.634749\n",
      "5    87.273163  113.544074   94.345658\n",
      "6   102.981710   89.099719  102.540903\n",
      "7    92.728175  102.641626  109.250298\n",
      "8    97.737139   96.248609  111.339084\n",
      "9   106.445255  110.004468  104.345223\n",
      "10  103.789800  111.174393  108.092210\n",
      "11  105.061647  100.532705  107.045276\n",
      "12   71.619557   87.339644   90.293444\n",
      "13   92.539352   90.884179  108.923798\n",
      "14   90.638646  115.257052   99.094273\n",
      "15   87.747855   99.682058  108.456263\n",
      "16   97.922338   93.964563  108.020361\n",
      "17   91.940439   96.466488   95.287076\n",
      "18   95.422586  100.185064   77.981417\n",
      "19  106.623854  124.610095  116.499500\n"
     ]
    }
   ],
   "source": [
    "arr = np.random.normal(100, 10, (20,3))\n",
    "df = pd.DataFrame(arr, columns=[\"100\", \"10\", \"(20.3)\"])\n",
    "print(df)\n"
   ]
  },
  {
   "cell_type": "markdown",
   "metadata": {},
   "source": [
    "#### 5) Nomeie os índices das linhas com inteiros de 1 a 20, e as colunas com os nomes \"x1\", \"x2\", e \"x3\" respectivamente."
   ]
  },
  {
   "cell_type": "code",
   "execution_count": 106,
   "metadata": {},
   "outputs": [
    {
     "name": "stdout",
     "output_type": "stream",
     "text": [
      "            x1          x2          x3\n",
      "0    86.623937  100.757321   86.930257\n",
      "1    89.057694  111.109991  110.124825\n",
      "2    92.796218  101.173546   97.565490\n",
      "3   108.832726   98.965167  108.660656\n",
      "4   114.693344  104.367915   87.378928\n",
      "5   112.864590   94.819250  104.756334\n",
      "6    84.344266   97.366728  102.945635\n",
      "7   107.971114   92.097834  106.209264\n",
      "8   101.330666   84.839191  109.303596\n",
      "9    86.794311   96.125163   97.900783\n",
      "10  106.010851  121.808175   89.445253\n",
      "11   97.224560  103.276302   84.788678\n",
      "12   85.095020   94.613726  107.657480\n",
      "13   74.673009  120.882913  107.663696\n",
      "14   82.134866   97.023885  107.057893\n",
      "15   98.266277  101.767323   99.086350\n",
      "16   89.198433  109.187054   98.248902\n",
      "17  114.143618  115.280211  104.560857\n",
      "18   96.438190   97.501663  105.688936\n",
      "19   98.600395  105.941349  123.598550\n"
     ]
    }
   ],
   "source": [
    "# Gerando o ndarray com valores normais\n",
    "arr = np.random.normal(loc=100, scale=10, size=(20, 3))\n",
    "\n",
    "# Convertendo o ndarray em um DataFrame\n",
    "df = pd.DataFrame(arr, columns=[\"x1\", \"x2\", \"x3\"])\n",
    "\n",
    "print(df)\n",
    "\n"
   ]
  },
  {
   "cell_type": "markdown",
   "metadata": {},
   "source": [
    "#### 6) No DataFrame do exercício 5, crie uma nova coluna como sendo a média das três colunas, e dê a ela o nome de \"media\" (não recomendo colocar acentos em nomes de variáveis)."
   ]
  },
  {
   "cell_type": "code",
   "execution_count": 110,
   "metadata": {},
   "outputs": [
    {
     "name": "stdout",
     "output_type": "stream",
     "text": [
      "            x1          x2          x3       media\n",
      "0    87.703498  108.373468   89.814852   95.297272\n",
      "1   100.148738  127.153900   95.013864  107.438834\n",
      "2    99.037986   89.016453  111.982857  100.012432\n",
      "3   100.923029  104.353471   86.498748   97.258416\n",
      "4    90.992277   93.083317   76.901525   86.992373\n",
      "5    96.023638   93.191846   99.085218   96.100234\n",
      "6   102.586025  103.288090  102.689674  102.854596\n",
      "7    99.100598   94.214654  104.921675   99.412309\n",
      "8    94.082288  108.930860   98.928620  100.647256\n",
      "9    89.705725   89.260782  100.062209   93.009572\n",
      "10   94.956764  112.613055  119.923866  109.164561\n",
      "11  102.976230   92.519910   97.841136   97.779092\n",
      "12  100.935131   87.003188   99.267959   95.735426\n",
      "13   92.053521   95.567983   95.535560   94.385688\n",
      "14  101.203462  114.668524   96.688340  104.186775\n",
      "15   99.411219   99.345255  106.512549  101.756341\n",
      "16   81.137115  113.582744  110.576257  101.765372\n",
      "17   99.588607  117.102186   99.349174  105.346656\n",
      "18  100.550974   80.084197  124.625264  101.753478\n",
      "19   99.464234  107.844825   96.211089  101.173383\n"
     ]
    }
   ],
   "source": [
    "arr = np.random.normal(loc=100, scale=10, size=(20, 3))\n",
    "\n",
    "# Convertendo o ndarray em um DataFrame\n",
    "df = pd.DataFrame(arr, columns=[\"x1\", \"x2\", \"x3\"])\n",
    "\n",
    "# Criando uma nova coluna \"media\" com a média das colunas \"x1\", \"x2\" e \"x3\"\n",
    "df[\"media\"] = df[[\"x1\", \"x2\", \"x3\"]].mean(axis=1)\n",
    "\n",
    "print(df)\n",
    "\n"
   ]
  },
  {
   "cell_type": "markdown",
   "metadata": {},
   "source": [
    "#### 7) No DataFrame do exercício 6, crie uma nova coluna chamada \"log_med\", contendo o logaritmo natural da média calculada no exercício 6 <br>"
   ]
  },
  {
   "cell_type": "code",
   "execution_count": 126,
   "metadata": {},
   "outputs": [
    {
     "name": "stdout",
     "output_type": "stream",
     "text": [
      "            x1          x2          x3       media     log_med\n",
      "0    88.543425   99.770237  112.546337  100.286666  100.286666\n",
      "1    81.663930   96.217559  102.806822   93.562770   93.562770\n",
      "2    88.411001   99.136088   94.960158   94.169082   94.169082\n",
      "3   116.464922   89.018247  113.643227  106.375465  106.375465\n",
      "4   104.687494   94.120268  103.520453  100.776071  100.776071\n",
      "5   115.542699   93.502466  108.994495  106.013220  106.013220\n",
      "6   101.269142  101.105644   93.637559   98.670782   98.670782\n",
      "7   106.814608   94.988568   95.276274   99.026483   99.026483\n",
      "8    99.744646  110.256677   98.057872  102.686398  102.686398\n",
      "9    95.212552   95.452828  113.199125  101.288168  101.288168\n",
      "10  109.039344   86.629872  102.684038   99.451085   99.451085\n",
      "11  112.033421  102.942442  104.592185  106.522683  106.522683\n",
      "12  107.737593   97.690696  101.593274  102.340521  102.340521\n",
      "13   88.462707  120.376968  110.169793  106.336489  106.336489\n",
      "14  111.437999   98.075603   79.088546   96.200716   96.200716\n",
      "15   87.647230  111.333530   94.910315   97.963692   97.963692\n",
      "16   97.152133   96.359649   97.812297   97.108026   97.108026\n",
      "17  107.021814   92.016159  119.167282  106.068418  106.068418\n",
      "18   97.417133  107.127246   90.679148   98.407842   98.407842\n",
      "19   98.200496   94.696990  124.638154  105.845213  105.845213\n"
     ]
    }
   ],
   "source": [
    "arr = np.random.normal(loc=100, scale=10, size=(20, 3))\n",
    "\n",
    "# Convertendo o ndarray em um DataFrame\n",
    "df = pd.DataFrame(arr, columns=[\"x1\", \"x2\", \"x3\"])\n",
    "\n",
    "# Criando uma nova coluna \"media\" com a média das colunas \"x1\", \"x2\" e \"x3\"\n",
    "df[\"media\"] = df[[\"x1\", \"x2\", \"x3\"]].mean(axis=1)\n",
    "df[\"log_med\"] = df[[\"x1\", \"x2\", \"x3\"]].mean(axis=1)\n",
    "\n",
    "print(df)\n"
   ]
  }
 ],
 "metadata": {
  "kernelspec": {
   "display_name": "Python 3 (ipykernel)",
   "language": "python",
   "name": "python3"
  },
  "language_info": {
   "codemirror_mode": {
    "name": "ipython",
    "version": 3
   },
   "file_extension": ".py",
   "mimetype": "text/x-python",
   "name": "python",
   "nbconvert_exporter": "python",
   "pygments_lexer": "ipython3",
   "version": "3.12.7"
  }
 },
 "nbformat": 4,
 "nbformat_minor": 4
}
