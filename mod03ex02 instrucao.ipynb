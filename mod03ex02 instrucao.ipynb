{
 "cells": [
  {
   "cell_type": "code",
   "execution_count": 32,
   "metadata": {
    "id": "fFhFteHV695k"
   },
   "outputs": [],
   "source": [
    "import numpy as np"
   ]
  },
  {
   "cell_type": "markdown",
   "metadata": {
    "id": "YLWEzg3N695m"
   },
   "source": [
    "### 1) Alturas  \n",
    "i. No trecho de código abaixo, crie um ndarray chamado ```altura_em_centimetros``` transformando a lista ```lista_de_alturas``` em um ndarray do numpy com a função ```np.array()```  \n",
    "ii. Crie um outro objeto ```altura_em_metros```, com os valores de ```altura_em_centimetros``` convertidos para metros."
   ]
  },
  {
   "cell_type": "code",
   "execution_count": 35,
   "metadata": {
    "id": "tx6DbJk7695o"
   },
   "outputs": [
    {
     "data": {
      "text/plain": [
       "[170, 175, 180, 185]"
      ]
     },
     "execution_count": 35,
     "metadata": {},
     "output_type": "execute_result"
    }
   ],
   "source": [
    "lista_de_centimetros = list(range(170, 190, 5))\n",
    "lista_de_centimetros"
   ]
  },
  {
   "cell_type": "code",
   "execution_count": 58,
   "metadata": {
    "id": "-tXC4lyT695o"
   },
   "outputs": [
    {
     "data": {
      "text/plain": [
       "array([66.92913386, 74.80314961,  1.96850394])"
      ]
     },
     "execution_count": 58,
     "metadata": {},
     "output_type": "execute_result"
    }
   ],
   "source": [
    "altura_em_centimetros = np.array([170, 190, 5])\n",
    "lista_de_centimetros = altura_em_centimetros / 2.54\n",
    "lista_de_centimetros"
   ]
  },
  {
   "cell_type": "code",
   "execution_count": 60,
   "metadata": {
    "id": "zFDQt9_K695p"
   },
   "outputs": [
    {
     "data": {
      "text/plain": [
       "array([8.03149606, 8.97637795, 0.23622047])"
      ]
     },
     "execution_count": 60,
     "metadata": {},
     "output_type": "execute_result"
    }
   ],
   "source": [
    "altura_em_metros = lista_de_centimetros * 0.01\n",
    "lista_de_alturas = altura_em_metros * 12\n",
    "lista_de_alturas"
   ]
  },
  {
   "cell_type": "markdown",
   "metadata": {
    "id": "hlsDzubv695p"
   },
   "source": [
    "### 2) IMC  \n",
    "i. Considere que pesos em Kg dessas pessoas, na mesma ortem, estão na lista pesos ```lista_pesos = [70, 75, 80, 85]```. Crie um **ndarray** chamado ```pesos``` com a função ```np.array()``` que contenha esses valores.  \n",
    "ii. Utilizando o objeto que contém as alturas em metros e esse objeto que contém os respectivos pesos em quilos, calcule o IMC desses indivíduos utilizando a aritmética de arrays e guarde os resultados em um objeto chamado ```imc```."
   ]
  },
  {
   "cell_type": "code",
   "execution_count": 62,
   "metadata": {
    "id": "YL87C0It695p",
    "outputId": "f147f2f0-c5e8-407c-a708-914ddc99fa6d"
   },
   "outputs": [
    {
     "data": {
      "text/plain": [
       "array([17.70639685, 19.78950236,  0.52077638])"
      ]
     },
     "execution_count": 62,
     "metadata": {},
     "output_type": "execute_result"
    }
   ],
   "source": [
    "lista_de_pesos = lista_de_alturas * 2.20462\n",
    "lista_de_pesos"
   ]
  },
  {
   "cell_type": "code",
   "execution_count": 64,
   "metadata": {
    "id": "WgZtY2Ox695q"
   },
   "outputs": [
    {
     "name": "stdout",
     "output_type": "stream",
     "text": [
      "O IMC é: 22.86\n"
     ]
    }
   ],
   "source": [
    "def calcular_imc(lista_de_peso, lista_de_altura):\n",
    "    imc = lista_de_peso / (lista_de_altura ** 2)\n",
    "    return imc\n",
    "\n",
    "\n",
    "# Exemplo de uso\n",
    "lista_de_peso = 70  # em quilogramas\n",
    "lista_de_altura = 1.75  # em metros\n",
    "\n",
    "imc = calcular_imc(lista_de_peso, lista_de_altura)\n",
    "print(f\"O IMC é: {imc:.2f}\")\n",
    "\n",
    "#calcule o codido IMC"
   ]
  },
  {
   "cell_type": "markdown",
   "metadata": {
    "id": "k1JIBxZb695r"
   },
   "source": [
    "### 3) Endividamento\n",
    "\n",
    "Cálculos de novas variáveis como endividamento total e comprometimento de renda são essenciais para a construção de modelos financeiros em ciência de dados. Áreas não financeiras terão cálculos semelhantes também. Vamos praticar:\n",
    "\n",
    "Considere que o seguinte ndarray contém os dados de 4 pessoas, total a ser pago a empréstimos mensalmente e renda familiar:\n",
    "\n",
    "| custo fixo | dívida financeira | renda familiar |\n",
    "|:----:|:----:|:---|\n",
    "| 3000  | 1000 | 6000 |\n",
    "| 2500  | 2500 | 5500 |\n",
    "| 1000  | 3000 | 7000 |\n",
    "| 10000 | 5000 | 16000 |\n",
    "\n",
    "i. Transforme a lista de listas ```dados_financeiros``` no ndarray ```nd_financeiros```.\n",
    "> ``` dados_financeiros[[3000, 2500, 1000, 10000],[1000, 2500, 3000, 5000],[6000, 5500, 7000, 16000]] ```\n",
    "\n",
    "ii. Utilize o método ```.transpose ``` e certifique-se de que esse ndarray tenha uma linha por indivíduo e uma coluna por informação. Utilizando a indexação do numpy, imprima no output a segunda linha do array, depois a segunda coluna.\n",
    "\n",
    "iii. Pratique aritmética com nearrays e calcule o endividamento total como:\n",
    "$$endividamento\\hspace{.2cm}total = \\frac{custo \\hspace{.2cm}fixo + dívida\\hspace{.2cm}financeira}{renda\\hspace{.2cm}familiar}$$\n",
    "Guarde os resultados em uma variável chamada ```endividamento_total``` e verifique os resultados imprimindo o conteúdo dessa variável no output.\n",
    "\n",
    "iv. Considere que há um erro de digitação que precisa ser corrigido: 3o indivíduo na verdade não possui renda familiar de R\\\\$7.000,00, mas sim R\\\\$ 10.000,00. Corrija esse valor e refaça os cálculos."
   ]
  },
  {
   "cell_type": "code",
   "execution_count": 79,
   "metadata": {
    "id": "k17jw6kT695r"
   },
   "outputs": [
    {
     "name": "stdout",
     "output_type": "stream",
     "text": [
      "[[ 3000  2500  1000 10000]\n",
      " [ 1000  2500  3000  5000]\n",
      " [ 6000  5500  7000 16000]]\n"
     ]
    }
   ],
   "source": [
    "# lista dados_financeiros\n",
    "dados_financeiros = [[3000, 2500, 1000, 10000],[1000, 2500, 3000, 5000],[6000, 5500, 7000, 16000]]\n",
    "dados_financeiros = np.array(dados_financeiros)\n",
    "print(dados_financeiros)\n",
    "#i) tansforme esse lista em ndarray"
   ]
  },
  {
   "cell_type": "code",
   "execution_count": 103,
   "metadata": {
    "id": "ecRsPjml695r"
   },
   "outputs": [
    {
     "name": "stdout",
     "output_type": "stream",
     "text": [
      "dados_financeiros:\n",
      "[[ 3000  2500  1000 10000]\n",
      " [ 1000  2500  3000  5000]\n",
      " [ 6000  5500  7000 16000]]\n",
      "\n",
      "dado_financeiros transposta:\n",
      "[[ 3000  1000  6000]\n",
      " [ 2500  2500  5500]\n",
      " [ 1000  3000  7000]\n",
      " [10000  5000 16000]]\n"
     ]
    }
   ],
   "source": [
    "# ii)\n",
    "dados_financeiros_transposta = np.transpose(dados_financeiros)\n",
    "\n",
    "print(\"dados_financeiros:\")\n",
    "print(dados_financeiros)\n",
    "print(\"\\ndado_financeiros transposta:\")\n",
    "print(dados_financeiros_transposta)"
   ]
  },
  {
   "cell_type": "code",
   "execution_count": 115,
   "metadata": {
    "id": "RgMG-t9-695s"
   },
   "outputs": [
    {
     "name": "stdout",
     "output_type": "stream",
     "text": [
      "Endividamento Total: [[0.3  0.25 0.1  1.  ]\n",
      " [0.1  0.25 0.3  0.5 ]\n",
      " [0.6  0.55 0.7  1.6 ]]\n"
     ]
    }
   ],
   "source": [
    "# Assuming `dados_financeiros` is provided and is a numerical value\n",
    "\n",
    "try:\n",
    "    # Calculate total indebtedness\n",
    "    endividamento_total = dados_financeiros / 10000\n",
    "    print(f\"Endividamento Total: {endividamento_total}\")\n",
    "except TypeError:\n",
    "    print(\"Erro: 'dados_financeiros' deve ser um número.\")\n"
   ]
  },
  {
   "cell_type": "code",
   "execution_count": 117,
   "metadata": {
    "id": "FxaSHRgy695t"
   },
   "outputs": [
    {
     "name": "stdout",
     "output_type": "stream",
     "text": [
      "0.65\n"
     ]
    }
   ],
   "source": [
    "# Dados financeiros exemplo\n",
    "dados_financeiros = [\n",
    "    {\"dados_financeiros\": 5000, \"endividamento_total\": 500},\n",
    "    {\"dados_financeiros\": 7000, \"endividamento_total\": 2000},\n",
    "    {\"dados_financeiros\": 7000, \"endividamento_total\": 4000},\n",
    "]\n",
    "\n",
    "# Corrigindo a renda do terceiro indivíduo\n",
    "dados_financeiros[2][\"dados_financeiros\"] = 10000\n",
    "\n",
    "# Cálculo do endividamento total\n",
    "endividamento_total = sum(individuo[\"endividamento_total\"] for individuo in dados_financeiros) / 10000\n",
    "\n",
    "# Exibindo o resultado\n",
    "print(endividamento_total)\n",
    "\n",
    "# iv) corrigindo um valor específico"
   ]
  },
  {
   "cell_type": "code",
   "execution_count": null,
   "metadata": {
    "id": "OYxfd00O695t"
   },
   "outputs": [],
   "source": []
  },
  {
   "cell_type": "markdown",
   "metadata": {
    "id": "RghMgSOX695t"
   },
   "source": [
    "### 4) É muito comum precisarmos identificar valores especiais e darmos tratamento a eles quer seja alterando-os quer seja descartando-os. \n",
    "\n",
    "O trecho de código abaixo gera um ndarray com números pseudo aleatórios. Considere que para efeitos do estudo que virá, devemos desconsiderar valores iguais a zero. Sendo assim:\n",
    "\n",
    "i) crie um objeto ```bool_zero``` que traga uma sequencia de booleanos do mesmo tamanho que o objeto poi, e que vale ```True``` quando o valor de ```poi``` é zero, e ```False``` caso contrário.\n",
    "\n",
    "ii) Conte quantos valores zero existem. Lembre-se de que no final das contas, ```True``` vale 1 para o Python, e ```False``` vale zero, então uma boa dica seria usar a função ```sum()```.\n",
    "\n",
    "iii) Utilize a indexação booleana que você aprendeu para criar uma variável ```poi_nao_zero``` que aponta para os elementos de ```poi``` diferentes de zero. Dica: você vai pode inverter os elementos do objeto que criou em *ii)* ou escrever a comparação adequada."
   ]
  },
  {
   "cell_type": "code",
   "execution_count": 119,
   "metadata": {
    "id": "Y6JUhNiT695t",
    "outputId": "06ceb3b7-5eb0-45d0-f3b3-ea6ff6f0df2a"
   },
   "outputs": [
    {
     "data": {
      "text/plain": [
       "array([3, 3, 6, 2, 4, 5, 4, 4, 2, 0, 3, 3, 2, 8, 2, 3, 3, 3, 0, 4, 4, 2,\n",
       "       6, 6, 0, 3, 4, 3, 5, 2, 1, 3, 2, 2, 3, 2, 4, 4, 5, 7, 3, 5, 3, 3,\n",
       "       2, 2, 3, 6, 2, 2, 4, 3, 5, 2, 5, 3, 0, 2, 1, 1, 4, 4, 4, 6, 2, 4,\n",
       "       1, 2, 5, 5, 3, 4, 1, 4, 1, 1, 7, 1, 2, 1, 3, 7, 0, 4, 4, 0, 6, 1,\n",
       "       3, 4, 2, 5, 4, 5, 5, 3, 4, 6, 8, 2])"
      ]
     },
     "execution_count": 119,
     "metadata": {},
     "output_type": "execute_result"
    }
   ],
   "source": [
    "# objeto poi - obs: o comando np.random.seed(1234) garante que o mesmo resultado será gerado sempre\n",
    "np.random.seed(1234)\n",
    "poi = np.random.poisson(3, 100)\n",
    "poi"
   ]
  },
  {
   "cell_type": "code",
   "execution_count": 121,
   "metadata": {
    "id": "dWElD2MJ695u"
   },
   "outputs": [
    {
     "name": "stdout",
     "output_type": "stream",
     "text": [
      "[ True False False  True False  True False]\n"
     ]
    }
   ],
   "source": [
    "import numpy as np\n",
    "\n",
    "# Supondo que o seu array poi seja definido como algo assim\n",
    "poi = np.array([0, 1, 2, 0, 3, 0, 4])\n",
    "\n",
    "# Criando o array booleano bool_zero com o operador ==\n",
    "bool_zero = (poi == 0)\n",
    "\n",
    "print(bool_zero)\n",
    "\n",
    "# i) crie o objeto bool_zero através do operador =="
   ]
  },
  {
   "cell_type": "code",
   "execution_count": 123,
   "metadata": {
    "id": "hr-knXzs695u"
   },
   "outputs": [
    {
     "name": "stdout",
     "output_type": "stream",
     "text": [
      "[0 0 0 0 0 0 0]\n"
     ]
    }
   ],
   "source": [
    "# ii) Conte a quantidade de zeros (ou some os elementos de bool_zero)\n",
    "bool_zero = (poi * 0)\n",
    "print(bool_zero)"
   ]
  },
  {
   "cell_type": "code",
   "execution_count": 125,
   "metadata": {
    "id": "5s3DqCup695u"
   },
   "outputs": [
    {
     "name": "stdout",
     "output_type": "stream",
     "text": [
      "[1 2 3 4]\n"
     ]
    }
   ],
   "source": [
    "# Utilizando indexação booleana para obter os elementos de 'poi' diferentes de zero\n",
    "poi_nao_zero = poi[poi != 0]\n",
    "\n",
    "print(poi_nao_zero)\n",
    "\n",
    "\n",
    "# iii) utilize a indexação booleana para criar uma seleção de não-zeros\n",
    "# dica: inverta o objeto bool_zero"
   ]
  }
 ],
 "metadata": {
  "colab": {
   "collapsed_sections": [],
   "provenance": []
  },
  "kernelspec": {
   "display_name": "Python 3 (ipykernel)",
   "language": "python",
   "name": "python3"
  },
  "language_info": {
   "codemirror_mode": {
    "name": "ipython",
    "version": 3
   },
   "file_extension": ".py",
   "mimetype": "text/x-python",
   "name": "python",
   "nbconvert_exporter": "python",
   "pygments_lexer": "ipython3",
   "version": "3.12.7"
  }
 },
 "nbformat": 4,
 "nbformat_minor": 4
}
