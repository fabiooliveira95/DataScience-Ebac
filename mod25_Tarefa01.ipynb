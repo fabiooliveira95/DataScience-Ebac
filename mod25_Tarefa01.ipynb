{
 "cells": [
  {
   "cell_type": "markdown",
   "metadata": {},
   "source": [
    "# Cálculo - Tarefa 01\n",
    "\n",
    "1. Marque quais desses métodos/algoritmos muito populares em ciência de dados são baseados no uso de derivada:\n",
    "\n",
    "    1. Método Mínimos Quadrados\n",
    "    2. Gradiente descendente\n",
    "    3. Newton Raphson\n",
    "    4. CART (Árvore de decisão)"
   ]
  },
  {
   "cell_type": "markdown",
   "metadata": {},
   "source": [
    "Os métodos que utilizam derivadas são os seguintes:\n",
    "\n",
    "1. **Método Mínimos Quadrados**: **Sim** (quando utilizado para ajuste de modelos lineares, a minimização do erro quadrático geralmente envolve derivadas para encontrar os parâmetros ótimos ao resolver equações normais ou utilizando métodos iterativos baseados em gradientes).\n",
    "2. **Gradiente Descendente**: **Sim** (o método calcula o gradiente — que envolve derivadas — da função de perda em relação aos parâmetros para ajustar os parâmetros na direção que reduz a perda).\n",
    "3. **Newton Raphson**: **Sim** (utiliza derivadas e segundas derivadas para encontrar raízes de equações ou otimizar funções de maneira mais rápida que o método do gradiente descendente simples).\n",
    "4. **CART (Árvore de Decisão)**: **Não** (este método é baseado em divisão recursiva do espaço de atributos, utilizando critérios como Gini ou a Entropia, mas não envolve cálculo de derivadas)."
   ]
  },
  {
   "cell_type": "markdown",
   "metadata": {},
   "source": [
    "2. Dada uma base de dados com uma variável resposta $y$ e um conjunto de variáveis explicativas. Considere uma estrutura de um modelo de regressão. Explique com suas palavras por que não é possível obter parâmetros que forneçam um erro quadrático médio (EQM) menor que o obtido com estimadores de mínimos quadrados."
   ]
  },
  {
   "cell_type": "markdown",
   "metadata": {},
   "source": [
    "A obtenção de estimadores dos parâmetros de um modelo de regressão visa ajustar uma reta ou superfície que minimize o erro entre os valores observados da variável resposta ( y ) e os valores preditos pelo modelo. Neste contexto, o Erro Quadrático Médio (EQM) é uma métrica amplamente utilizada, e ele é dado po\n",
    "\n",
    "$$\n",
    "EQM = \\frac{1}{n} \\sum_{i=1}^n (y_i - \\hat{y}_i)^2\n",
    "$$\n",
    "\n",
    "onde ( y_i ) são os valores observados da variável resposta e ( \\hat{y}_i ) são os valores preditos pelo modelo.\n",
    "No caso específico dos **Estimadores de Mínimos Quadrados Ordinários (MQO)**, estes são projetados matematicamente para **minimizar a soma dos erros quadráticos (SQE)**, que é a base para o cálculo do EQM. A função objetivo dos mínimos quadrados pode ser expressa como:\n",
    "\n",
    "\n",
    "$$\n",
    "SQE = \\sum_{i=1}^n (y_i - \\hat{y}_i)^2\n",
    "$$\n",
    "\n",
    "Os estimadores de MQO encontram os parâmetros do modelo (( \\beta )) de forma a minimizar exatamente essa soma, resultando, consequentemente, no menor valor possível para o erro quadrático médio. Este é o princípio de funcionamento dos mínimos quadrados.\n",
    "\n",
    "\n",
    "\n",
    "\n",
    "### Por que o EQM não pode ser menor com outro método?\n",
    "1. Definição de MQO: Por definição, o método de mínimos quadrados já otimiza diretamente a função objetivo EQM (ou, equivalentemente, o SQE), sendo, portanto, impossível encontrar um conjunto de parâmetros que produza um erro quadrático médio menor.\n",
    "2. Linearidade e Propriedades Matemáticas: Quando o modelo de regressão é linear nos parâmetros (( y = X\\beta + \\epsilon ), onde ( \\epsilon \\sim N(0, \\sigma^2) )), os estimadores de MQO possuem propriedades ótimas dadas pelo Teorema de Gauss-Markov. Este teorema garante que os estimadores de MQO são os estimadores lineares não viesados de mínima variância. Isso implica que, entre todos os estimadores lineares não viesados, o MQO produz o menor erro.\n",
    "3. **Otimização Exata da Função Objetivo**: Qualquer outro método ou abordagem que tente ajustar o modelo, mas que não utilize mínimos quadrados, não terá uma otimização exata da mesma função objetivo. Consequentemente, alcançará no máximo o mesmo valor do EQM, mas nunca um valor menor.\n",
    "\n",
    "\n",
    "### Restrições para esse Resultado\n",
    "Este resultado é garantido sob as seguintes condições:\n",
    "1. O modelo de regressão é linear nos parâmetros.\n",
    "2. O erro (( \\epsilon )) possui média zero e variância constante (( \\sigma^2 )).\n",
    "3. Não há multicolinearidade perfeita entre as variáveis explicativas.\n",
    "\n",
    "Se essas condições forem violadas, técnicas alternativas, como regularização (Ridge, Lasso) ou outros estimadores, podem ser mais úteis, embora geralmente introduzam viés em troca de melhorias em outros critérios, como robustez ou generalização.\n",
    "Em resumo, como o MQO é construído exatamente para minimizar o erro quadrático médio, é impossível encontrar um método que forneça um EQM menor que o obtido com os estimadores de mínimos quadrados em condições ideais.\n"
   ]
  },
  {
   "cell_type": "code",
   "execution_count": null,
   "metadata": {},
   "outputs": [],
   "source": []
  }
 ],
 "metadata": {
  "kernelspec": {
   "display_name": "Python 3 (ipykernel)",
   "language": "python",
   "name": "python3"
  },
  "language_info": {
   "codemirror_mode": {
    "name": "ipython",
    "version": 3
   },
   "file_extension": ".py",
   "mimetype": "text/x-python",
   "name": "python",
   "nbconvert_exporter": "python",
   "pygments_lexer": "ipython3",
   "version": "3.12.7"
  },
  "toc": {
   "base_numbering": 1,
   "nav_menu": {},
   "number_sections": true,
   "sideBar": true,
   "skip_h1_title": true,
   "title_cell": "Índice",
   "title_sidebar": "Conteúdo",
   "toc_cell": false,
   "toc_position": {},
   "toc_section_display": true,
   "toc_window_display": false
  },
  "varInspector": {
   "cols": {
    "lenName": 16,
    "lenType": 16,
    "lenVar": 40
   },
   "kernels_config": {
    "python": {
     "delete_cmd_postfix": "",
     "delete_cmd_prefix": "del ",
     "library": "var_list.py",
     "varRefreshCmd": "print(var_dic_list())"
    },
    "r": {
     "delete_cmd_postfix": ") ",
     "delete_cmd_prefix": "rm(",
     "library": "var_list.r",
     "varRefreshCmd": "cat(var_dic_list()) "
    }
   },
   "types_to_exclude": [
    "module",
    "function",
    "builtin_function_or_method",
    "instance",
    "_Feature"
   ],
   "window_display": false
  }
 },
 "nbformat": 4,
 "nbformat_minor": 4
}
