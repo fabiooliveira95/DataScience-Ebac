{
 "cells": [
  {
   "cell_type": "markdown",
   "metadata": {},
   "source": [
    "# Módulo 10 tarefa 2\n",
    "\n",
    "Considere a mesma base de dados utilizada na tarefa 1 ```previsao_de_renda.csv```."
   ]
  },
  {
   "cell_type": "markdown",
   "metadata": {},
   "source": [
    "1) Com o que você viu em aula, faça uma análise das variáveis qualitativas (posse de imóvel e posse de veículo) para verificar se são boas preditoras de *renda*. Alguma delas parece discriminar *renda* de forma estatisticamente significante?"
   ]
  },
  {
   "metadata": {},
   "cell_type": "markdown",
   "source": "importando bibliotecas"
  },
  {
   "cell_type": "code",
   "metadata": {
    "ExecuteTime": {
     "end_time": "2024-12-22T13:04:31.606552Z",
     "start_time": "2024-12-22T13:04:31.604584Z"
    }
   },
   "source": [
    "import numpy as np\n",
    "import pandas as pd\n",
    "import matplotlib.pyplot as plt\n",
    "import seaborn as sns\n",
    "from parso.python.tokenize import group\n",
    "from scipy.stats import ttest_ind, mannwhitneyu\n",
    "# Fixing random state for reproducibility\n",
    "np.random.seed(2360873)\n",
    "N = 100"
   ],
   "outputs": [],
   "execution_count": 3
  },
  {
   "metadata": {},
   "cell_type": "markdown",
   "source": "carregando o dataframe"
  },
  {
   "metadata": {
    "ExecuteTime": {
     "end_time": "2024-12-22T02:55:12.279282Z",
     "start_time": "2024-12-22T02:55:12.258609Z"
    }
   },
   "cell_type": "code",
   "source": [
    "dataframe = pd.read_csv('Profissao- Cientista de Dados_M10_support material.csv')\n",
    "dataframe.head()"
   ],
   "outputs": [
    {
     "data": {
      "text/plain": [
       "   Unnamed: 0    data_ref  index sexo  posse_de_veiculo  posse_de_imovel  \\\n",
       "0           0  2015-01-01   8682    F             False             True   \n",
       "1           1  2015-01-01  12830    M              True             True   \n",
       "2           2  2015-01-01   2885    M              True             True   \n",
       "3           3  2015-01-01  16168    F              True            False   \n",
       "4           4  2015-01-01  12438    M             False            False   \n",
       "\n",
       "   qtd_filhos   tipo_renda           educacao estado_civil tipo_residencia  \\\n",
       "0           1  Assalariado         Secundário       Casado            Casa   \n",
       "1           0   Empresário         Secundário       Casado            Casa   \n",
       "2           2  Assalariado  Superior completo       Casado            Casa   \n",
       "3           0   Empresário         Secundário       Casado            Casa   \n",
       "4           0  Assalariado         Secundário       Casado            Casa   \n",
       "\n",
       "   idade  tempo_emprego  qt_pessoas_residencia    mau    renda  \n",
       "0     36       3.575342                    3.0  False  3369.24  \n",
       "1     42       0.860274                    2.0  False  6096.14  \n",
       "2     31       8.065753                    4.0  False  5658.98  \n",
       "3     50       1.208219                    2.0  False  7246.69  \n",
       "4     52      13.873973                    2.0  False  4017.37  "
      ],
      "text/html": [
       "<div>\n",
       "<style scoped>\n",
       "    .dataframe tbody tr th:only-of-type {\n",
       "        vertical-align: middle;\n",
       "    }\n",
       "\n",
       "    .dataframe tbody tr th {\n",
       "        vertical-align: top;\n",
       "    }\n",
       "\n",
       "    .dataframe thead th {\n",
       "        text-align: right;\n",
       "    }\n",
       "</style>\n",
       "<table border=\"1\" class=\"dataframe\">\n",
       "  <thead>\n",
       "    <tr style=\"text-align: right;\">\n",
       "      <th></th>\n",
       "      <th>Unnamed: 0</th>\n",
       "      <th>data_ref</th>\n",
       "      <th>index</th>\n",
       "      <th>sexo</th>\n",
       "      <th>posse_de_veiculo</th>\n",
       "      <th>posse_de_imovel</th>\n",
       "      <th>qtd_filhos</th>\n",
       "      <th>tipo_renda</th>\n",
       "      <th>educacao</th>\n",
       "      <th>estado_civil</th>\n",
       "      <th>tipo_residencia</th>\n",
       "      <th>idade</th>\n",
       "      <th>tempo_emprego</th>\n",
       "      <th>qt_pessoas_residencia</th>\n",
       "      <th>mau</th>\n",
       "      <th>renda</th>\n",
       "    </tr>\n",
       "  </thead>\n",
       "  <tbody>\n",
       "    <tr>\n",
       "      <th>0</th>\n",
       "      <td>0</td>\n",
       "      <td>2015-01-01</td>\n",
       "      <td>8682</td>\n",
       "      <td>F</td>\n",
       "      <td>False</td>\n",
       "      <td>True</td>\n",
       "      <td>1</td>\n",
       "      <td>Assalariado</td>\n",
       "      <td>Secundário</td>\n",
       "      <td>Casado</td>\n",
       "      <td>Casa</td>\n",
       "      <td>36</td>\n",
       "      <td>3.575342</td>\n",
       "      <td>3.0</td>\n",
       "      <td>False</td>\n",
       "      <td>3369.24</td>\n",
       "    </tr>\n",
       "    <tr>\n",
       "      <th>1</th>\n",
       "      <td>1</td>\n",
       "      <td>2015-01-01</td>\n",
       "      <td>12830</td>\n",
       "      <td>M</td>\n",
       "      <td>True</td>\n",
       "      <td>True</td>\n",
       "      <td>0</td>\n",
       "      <td>Empresário</td>\n",
       "      <td>Secundário</td>\n",
       "      <td>Casado</td>\n",
       "      <td>Casa</td>\n",
       "      <td>42</td>\n",
       "      <td>0.860274</td>\n",
       "      <td>2.0</td>\n",
       "      <td>False</td>\n",
       "      <td>6096.14</td>\n",
       "    </tr>\n",
       "    <tr>\n",
       "      <th>2</th>\n",
       "      <td>2</td>\n",
       "      <td>2015-01-01</td>\n",
       "      <td>2885</td>\n",
       "      <td>M</td>\n",
       "      <td>True</td>\n",
       "      <td>True</td>\n",
       "      <td>2</td>\n",
       "      <td>Assalariado</td>\n",
       "      <td>Superior completo</td>\n",
       "      <td>Casado</td>\n",
       "      <td>Casa</td>\n",
       "      <td>31</td>\n",
       "      <td>8.065753</td>\n",
       "      <td>4.0</td>\n",
       "      <td>False</td>\n",
       "      <td>5658.98</td>\n",
       "    </tr>\n",
       "    <tr>\n",
       "      <th>3</th>\n",
       "      <td>3</td>\n",
       "      <td>2015-01-01</td>\n",
       "      <td>16168</td>\n",
       "      <td>F</td>\n",
       "      <td>True</td>\n",
       "      <td>False</td>\n",
       "      <td>0</td>\n",
       "      <td>Empresário</td>\n",
       "      <td>Secundário</td>\n",
       "      <td>Casado</td>\n",
       "      <td>Casa</td>\n",
       "      <td>50</td>\n",
       "      <td>1.208219</td>\n",
       "      <td>2.0</td>\n",
       "      <td>False</td>\n",
       "      <td>7246.69</td>\n",
       "    </tr>\n",
       "    <tr>\n",
       "      <th>4</th>\n",
       "      <td>4</td>\n",
       "      <td>2015-01-01</td>\n",
       "      <td>12438</td>\n",
       "      <td>M</td>\n",
       "      <td>False</td>\n",
       "      <td>False</td>\n",
       "      <td>0</td>\n",
       "      <td>Assalariado</td>\n",
       "      <td>Secundário</td>\n",
       "      <td>Casado</td>\n",
       "      <td>Casa</td>\n",
       "      <td>52</td>\n",
       "      <td>13.873973</td>\n",
       "      <td>2.0</td>\n",
       "      <td>False</td>\n",
       "      <td>4017.37</td>\n",
       "    </tr>\n",
       "  </tbody>\n",
       "</table>\n",
       "</div>"
      ]
     },
     "execution_count": 39,
     "metadata": {},
     "output_type": "execute_result"
    }
   ],
   "execution_count": 39
  },
  {
   "metadata": {},
   "cell_type": "markdown",
   "source": "vendo as informacoes da coluna"
  },
  {
   "metadata": {
    "ExecuteTime": {
     "end_time": "2024-12-22T02:55:13.978445Z",
     "start_time": "2024-12-22T02:55:13.975405Z"
    }
   },
   "cell_type": "code",
   "source": "dataframe.columns",
   "outputs": [
    {
     "data": {
      "text/plain": [
       "Index(['Unnamed: 0', 'data_ref', 'index', 'sexo', 'posse_de_veiculo',\n",
       "       'posse_de_imovel', 'qtd_filhos', 'tipo_renda', 'educacao',\n",
       "       'estado_civil', 'tipo_residencia', 'idade', 'tempo_emprego',\n",
       "       'qt_pessoas_residencia', 'mau', 'renda'],\n",
       "      dtype='object')"
      ]
     },
     "execution_count": 40,
     "metadata": {},
     "output_type": "execute_result"
    }
   ],
   "execution_count": 40
  },
  {
   "metadata": {
    "ExecuteTime": {
     "end_time": "2024-12-22T02:55:15.358496Z",
     "start_time": "2024-12-22T02:55:15.351266Z"
    }
   },
   "cell_type": "code",
   "source": "dataframe.info()",
   "outputs": [
    {
     "name": "stdout",
     "output_type": "stream",
     "text": [
      "<class 'pandas.core.frame.DataFrame'>\n",
      "RangeIndex: 15000 entries, 0 to 14999\n",
      "Data columns (total 16 columns):\n",
      " #   Column                 Non-Null Count  Dtype  \n",
      "---  ------                 --------------  -----  \n",
      " 0   Unnamed: 0             15000 non-null  int64  \n",
      " 1   data_ref               15000 non-null  object \n",
      " 2   index                  15000 non-null  int64  \n",
      " 3   sexo                   15000 non-null  object \n",
      " 4   posse_de_veiculo       15000 non-null  bool   \n",
      " 5   posse_de_imovel        15000 non-null  bool   \n",
      " 6   qtd_filhos             15000 non-null  int64  \n",
      " 7   tipo_renda             15000 non-null  object \n",
      " 8   educacao               15000 non-null  object \n",
      " 9   estado_civil           15000 non-null  object \n",
      " 10  tipo_residencia        15000 non-null  object \n",
      " 11  idade                  15000 non-null  int64  \n",
      " 12  tempo_emprego          12466 non-null  float64\n",
      " 13  qt_pessoas_residencia  15000 non-null  float64\n",
      " 14  mau                    15000 non-null  bool   \n",
      " 15  renda                  15000 non-null  float64\n",
      "dtypes: bool(3), float64(3), int64(4), object(6)\n",
      "memory usage: 1.5+ MB\n"
     ]
    }
   ],
   "execution_count": 41
  },
  {
   "metadata": {},
   "cell_type": "markdown",
   "source": "senparando tres colunas do dataframe para alise descritivas"
  },
  {
   "metadata": {
    "ExecuteTime": {
     "end_time": "2024-12-22T02:59:58.890229Z",
     "start_time": "2024-12-22T02:59:58.885090Z"
    }
   },
   "cell_type": "code",
   "source": [
    "df = dataframe[['posse_de_imovel','posse_de_veiculo', 'renda']]\n",
    "df"
   ],
   "outputs": [
    {
     "data": {
      "text/plain": [
       "       posse_de_imovel  posse_de_veiculo    renda\n",
       "0                 True             False  3369.24\n",
       "1                 True              True  6096.14\n",
       "2                 True              True  5658.98\n",
       "3                False              True  7246.69\n",
       "4                False             False  4017.37\n",
       "...                ...               ...      ...\n",
       "14995             True              True  1193.29\n",
       "14996             True              True  2519.18\n",
       "14997             True              True  1586.85\n",
       "14998             True             False  6975.39\n",
       "14999             True              True   993.86\n",
       "\n",
       "[15000 rows x 3 columns]"
      ],
      "text/html": [
       "<div>\n",
       "<style scoped>\n",
       "    .dataframe tbody tr th:only-of-type {\n",
       "        vertical-align: middle;\n",
       "    }\n",
       "\n",
       "    .dataframe tbody tr th {\n",
       "        vertical-align: top;\n",
       "    }\n",
       "\n",
       "    .dataframe thead th {\n",
       "        text-align: right;\n",
       "    }\n",
       "</style>\n",
       "<table border=\"1\" class=\"dataframe\">\n",
       "  <thead>\n",
       "    <tr style=\"text-align: right;\">\n",
       "      <th></th>\n",
       "      <th>posse_de_imovel</th>\n",
       "      <th>posse_de_veiculo</th>\n",
       "      <th>renda</th>\n",
       "    </tr>\n",
       "  </thead>\n",
       "  <tbody>\n",
       "    <tr>\n",
       "      <th>0</th>\n",
       "      <td>True</td>\n",
       "      <td>False</td>\n",
       "      <td>3369.24</td>\n",
       "    </tr>\n",
       "    <tr>\n",
       "      <th>1</th>\n",
       "      <td>True</td>\n",
       "      <td>True</td>\n",
       "      <td>6096.14</td>\n",
       "    </tr>\n",
       "    <tr>\n",
       "      <th>2</th>\n",
       "      <td>True</td>\n",
       "      <td>True</td>\n",
       "      <td>5658.98</td>\n",
       "    </tr>\n",
       "    <tr>\n",
       "      <th>3</th>\n",
       "      <td>False</td>\n",
       "      <td>True</td>\n",
       "      <td>7246.69</td>\n",
       "    </tr>\n",
       "    <tr>\n",
       "      <th>4</th>\n",
       "      <td>False</td>\n",
       "      <td>False</td>\n",
       "      <td>4017.37</td>\n",
       "    </tr>\n",
       "    <tr>\n",
       "      <th>...</th>\n",
       "      <td>...</td>\n",
       "      <td>...</td>\n",
       "      <td>...</td>\n",
       "    </tr>\n",
       "    <tr>\n",
       "      <th>14995</th>\n",
       "      <td>True</td>\n",
       "      <td>True</td>\n",
       "      <td>1193.29</td>\n",
       "    </tr>\n",
       "    <tr>\n",
       "      <th>14996</th>\n",
       "      <td>True</td>\n",
       "      <td>True</td>\n",
       "      <td>2519.18</td>\n",
       "    </tr>\n",
       "    <tr>\n",
       "      <th>14997</th>\n",
       "      <td>True</td>\n",
       "      <td>True</td>\n",
       "      <td>1586.85</td>\n",
       "    </tr>\n",
       "    <tr>\n",
       "      <th>14998</th>\n",
       "      <td>True</td>\n",
       "      <td>False</td>\n",
       "      <td>6975.39</td>\n",
       "    </tr>\n",
       "    <tr>\n",
       "      <th>14999</th>\n",
       "      <td>True</td>\n",
       "      <td>True</td>\n",
       "      <td>993.86</td>\n",
       "    </tr>\n",
       "  </tbody>\n",
       "</table>\n",
       "<p>15000 rows × 3 columns</p>\n",
       "</div>"
      ]
     },
     "execution_count": 49,
     "metadata": {},
     "output_type": "execute_result"
    }
   ],
   "execution_count": 49
  },
  {
   "metadata": {},
   "cell_type": "markdown",
   "source": "No código abaixo, estamos agrupando os dados da coluna `renda` de acordo com os valores das variáveis qualitativas `posse_de_imovel` e `posse_de_veiculo`. Este processo permite realizar análises específicas sobre a renda em cada grupo."
  },
  {
   "metadata": {
    "ExecuteTime": {
     "end_time": "2024-12-22T13:04:26.161235Z",
     "start_time": "2024-12-22T13:04:26.150021Z"
    }
   },
   "cell_type": "code",
   "source": [
    "# Dividindo renda por grupos das variáveis qualitativas\n",
    "grupo_imovel = df.groupby('posse_de_imovel')['renda']\n",
    "grupo_veiculo = df.groupby('posse_de_veiculo')['renda']"
   ],
   "outputs": [
    {
     "ename": "NameError",
     "evalue": "name 'df' is not defined",
     "output_type": "error",
     "traceback": [
      "\u001B[0;31m---------------------------------------------------------------------------\u001B[0m",
      "\u001B[0;31mNameError\u001B[0m                                 Traceback (most recent call last)",
      "Cell \u001B[0;32mIn[2], line 2\u001B[0m\n\u001B[1;32m      1\u001B[0m \u001B[38;5;66;03m# Dividindo renda por grupos das variáveis qualitativas\u001B[39;00m\n\u001B[0;32m----> 2\u001B[0m grupo_imovel \u001B[38;5;241m=\u001B[39m \u001B[43mdf\u001B[49m\u001B[38;5;241m.\u001B[39mgroupby(\u001B[38;5;124m'\u001B[39m\u001B[38;5;124mposse_de_imovel\u001B[39m\u001B[38;5;124m'\u001B[39m)[\u001B[38;5;124m'\u001B[39m\u001B[38;5;124mrenda\u001B[39m\u001B[38;5;124m'\u001B[39m]\n\u001B[1;32m      3\u001B[0m grupo_veiculo \u001B[38;5;241m=\u001B[39m df\u001B[38;5;241m.\u001B[39mgroupby(\u001B[38;5;124m'\u001B[39m\u001B[38;5;124mposse_de_veiculo\u001B[39m\u001B[38;5;124m'\u001B[39m)[\u001B[38;5;124m'\u001B[39m\u001B[38;5;124mrenda\u001B[39m\u001B[38;5;124m'\u001B[39m]\n",
      "\u001B[0;31mNameError\u001B[0m: name 'df' is not defined"
     ]
    }
   ],
   "execution_count": 2
  },
  {
   "metadata": {},
   "cell_type": "markdown",
   "source": "estamos imprimindo os resultado da estatistitica do imovel na qual foi comparado com a renda"
  },
  {
   "metadata": {
    "ExecuteTime": {
     "end_time": "2024-12-22T03:01:14.462809Z",
     "start_time": "2024-12-22T03:01:14.454643Z"
    }
   },
   "cell_type": "code",
   "source": [
    "# Estatisticas descritivas por gropos\n",
    "print(\"Estatisticas descritivas - Posse de imovel:\")\n",
    "print(grupo_imovel.describe())"
   ],
   "outputs": [
    {
     "name": "stdout",
     "output_type": "stream",
     "text": [
      "Estatisticas descritivas - Posse de imovel:\n",
      "                   count         mean          std     min        25%  \\\n",
      "posse_de_imovel                                                         \n",
      "False             4918.0  4426.970482  4569.558384  260.68  1822.4400   \n",
      "True             10082.0  4721.052704  4654.266817  159.90  2012.2375   \n",
      "\n",
      "                     50%       75%       max  \n",
      "posse_de_imovel                               \n",
      "False            3135.08  5405.255  67794.54  \n",
      "True             3341.20  5726.260  89918.04  \n"
     ]
    }
   ],
   "execution_count": 51
  },
  {
   "metadata": {},
   "cell_type": "markdown",
   "source": "mesmo processo emprimindo o resultado da estatistica do veiculo comparando com a renda"
  },
  {
   "metadata": {
    "ExecuteTime": {
     "end_time": "2024-12-22T03:03:03.396825Z",
     "start_time": "2024-12-22T03:03:03.384022Z"
    }
   },
   "cell_type": "code",
   "source": [
    "print(\"\\nEstatisticas descritivas - Posse de veiculo:\")\n",
    "print(grupo_veiculo.describe())"
   ],
   "outputs": [
    {
     "name": "stdout",
     "output_type": "stream",
     "text": [
      "\n",
      "Estatisticas descritivas - Posse de veiculo:\n",
      "                   count         mean          std     min      25%      50%  \\\n",
      "posse_de_veiculo                                                               \n",
      "False             9167.0  4390.506963  4545.776180  159.90  1825.39  3084.09   \n",
      "True              5833.0  4992.579609  4732.823337  187.69  2143.41  3564.43   \n",
      "\n",
      "                      75%       max  \n",
      "posse_de_veiculo                     \n",
      "False             5306.36  89918.04  \n",
      "True              6086.56  67794.54  \n"
     ]
    }
   ],
   "execution_count": 53
  },
  {
   "metadata": {
    "ExecuteTime": {
     "end_time": "2024-12-22T03:07:38.334701Z",
     "start_time": "2024-12-22T03:07:38.252725Z"
    }
   },
   "cell_type": "code",
   "source": [
    "# Visualizacao - Posse de imovel\n",
    "plt.figure(figsize=(12, 6))\n",
    "sns.boxplot(x='posse_de_imovel', y='renda', data=df)\n",
    "plt.title(\"Distribuicao de renda por posse de veiculo\")\n",
    "plt.show()"
   ],
   "outputs": [
    {
     "data": {
      "text/plain": [
       "<Figure size 1200x600 with 1 Axes>"
      ],
      "image/png": "[encoded data removed]"
     },
     "metadata": {},
     "output_type": "display_data"
    }
   ],
   "execution_count": 54
  },
  {
   "metadata": {},
   "cell_type": "markdown",
   "source": [
    "Para ambos os grupos (True e False), a maior parte das rendas está concentrada em valores baixos (próximos do fundo da caixa).\n",
    "Existem diversos outliers, o que indica que algumas pessoas têm rendas significativamente maiores que a maioria.\n",
    "O grupo que possui imóvel (True) parece ter uma mediana de renda ligeiramente superior à do grupo que não possui imóvel (False) ^^"
   ]
  },
  {
   "metadata": {},
   "cell_type": "markdown",
   "source": ""
  },
  {
   "metadata": {},
   "cell_type": "markdown",
   "source": ""
  },
  {
   "metadata": {},
   "cell_type": "markdown",
   "source": ""
  },
  {
   "metadata": {
    "ExecuteTime": {
     "end_time": "2024-12-22T03:15:55.181017Z",
     "start_time": "2024-12-22T03:15:55.106559Z"
    }
   },
   "cell_type": "code",
   "source": [
    "#visualizacao - Posse de veiculo\n",
    "plt.figure(figsize=(12, 6))\n",
    "sns.boxplot(x='posse_de_veiculo', y='renda', data=df)\n",
    "plt.title(\"Distribuicao de renda por posse de veiculo\")\n",
    "plt.show()"
   ],
   "outputs": [
    {
     "data": {
      "text/plain": [
       "<Figure size 1200x600 with 1 Axes>"
      ],
      "image/png": "[encoded data removed]"
     },
     "metadata": {},
     "output_type": "display_data"
    }
   ],
   "execution_count": 56
  },
  {
   "metadata": {},
   "cell_type": "markdown",
   "source": [
    "A mediana da renda é parecida entre os dois grupos (True e False), sugerindo que a posse de veículo pode não ser um indicador forte de diferenças na renda.\n",
    "O grupo que possui veículo (True) parece ter uma leve concentração de rendas mais altas (indicada por outliers mais frequentes em valores elevados).\n",
    "Ambos os grupos possuem rendas predominantemente baixas, com muitos outliers acima de 20.000. ^^"
   ]
  },
  {
   "metadata": {},
   "cell_type": "markdown",
   "source": ""
  },
  {
   "metadata": {},
   "cell_type": "markdown",
   "source": ""
  },
  {
   "metadata": {},
   "cell_type": "markdown",
   "source": ""
  },
  {
   "metadata": {
    "ExecuteTime": {
     "end_time": "2024-12-22T03:20:22.926115Z",
     "start_time": "2024-12-22T03:20:22.921582Z"
    }
   },
   "cell_type": "code",
   "source": [
    "# Testes estatisticos - Posse de imovel\n",
    "renda_imovel_sim = df[df['posse_de_imovel'] == 'sim']['renda']\n",
    "renda_imovel_nao = df[df['posse_de_imovel'] == 'nao']['renda']\n"
   ],
   "outputs": [],
   "execution_count": 61
  },
  {
   "metadata": {},
   "cell_type": "markdown",
   "source": [
    "Testando normalidade preliminarmente (opcional)\n",
    "from scipy.stats import shapiro\n",
    "print(shapiro(renda_imovel_sim)) # Apenas para verificar"
   ]
  },
  {
   "metadata": {
    "ExecuteTime": {
     "end_time": "2024-12-22T03:20:59.877409Z",
     "start_time": "2024-12-22T03:20:59.873334Z"
    }
   },
   "cell_type": "code",
   "source": [
    "# Realizar teste t de Student ou Mann-Whitney\n",
    "ttest_imovel = ttest_ind(renda_imovel_sim, renda_imovel_nao, equal_var=False)\n",
    "mannwhitney_imovel = mannwhitneyu(renda_imovel_sim, renda_imovel_nao)"
   ],
   "outputs": [
    {
     "name": "stderr",
     "output_type": "stream",
     "text": [
      "/tmp/ipykernel_126308/2227420058.py:2: SmallSampleWarning: One or more sample arguments is too small; all returned values will be NaN. See documentation for sample size requirements.\n",
      "  ttest_imovel = ttest_ind(renda_imovel_sim, renda_imovel_nao, equal_var=False)\n",
      "/tmp/ipykernel_126308/2227420058.py:3: SmallSampleWarning: One or more sample arguments is too small; all returned values will be NaN. See documentation for sample size requirements.\n",
      "  mannwhitney_imovel = mannwhitneyu(renda_imovel_sim, renda_imovel_nao)\n"
     ]
    }
   ],
   "execution_count": 63
  },
  {
   "metadata": {
    "ExecuteTime": {
     "end_time": "2024-12-22T03:21:12.655352Z",
     "start_time": "2024-12-22T03:21:12.653169Z"
    }
   },
   "cell_type": "code",
   "source": [
    "print(f\"\\nTeste T - Posse de Imóvel: {ttest_imovel}\")\n",
    "print(f\"Teste de Mann-Whitney - Posse de Imóvel: {mannwhitney_imovel}\")"
   ],
   "outputs": [
    {
     "name": "stdout",
     "output_type": "stream",
     "text": [
      "\n",
      "Teste T - Posse de Imóvel: TtestResult(statistic=np.float64(nan), pvalue=np.float64(nan), df=np.float64(nan))\n",
      "Teste de Mann-Whitney - Posse de Imóvel: MannwhitneyuResult(statistic=np.float64(nan), pvalue=np.float64(nan))\n"
     ]
    }
   ],
   "execution_count": 64
  },
  {
   "metadata": {
    "ExecuteTime": {
     "end_time": "2024-12-22T03:21:21.600724Z",
     "start_time": "2024-12-22T03:21:21.597475Z"
    }
   },
   "cell_type": "code",
   "source": [
    "# Testes estatísticos - Posse de Veículo\n",
    "renda_veiculo_sim = df[df['posse_de_veiculo'] == 'sim']['renda']\n",
    "renda_veiculo_nao = df[df['posse_de_veiculo'] == 'não']['renda']"
   ],
   "outputs": [],
   "execution_count": 65
  },
  {
   "metadata": {},
   "cell_type": "markdown",
   "source": "O objetivo é realizar um teste para verificar se há diferença significativa entre duas amostras, utilizando o teste t de Student ou o teste de Mann-Whitney."
  },
  {
   "metadata": {
    "ExecuteTime": {
     "end_time": "2024-12-22T03:21:34.047660Z",
     "start_time": "2024-12-22T03:21:34.040282Z"
    }
   },
   "cell_type": "code",
   "source": [
    "# Realizar teste t de Student ou Mann-Whitney\n",
    "ttest_veiculo = ttest_ind(renda_veiculo_sim, renda_veiculo_nao, equal_var=False)\n",
    "mannwhitney_veiculo = mannwhitneyu(renda_veiculo_sim, renda_veiculo_nao)"
   ],
   "outputs": [
    {
     "name": "stderr",
     "output_type": "stream",
     "text": [
      "/tmp/ipykernel_126308/1171585940.py:2: SmallSampleWarning: One or more sample arguments is too small; all returned values will be NaN. See documentation for sample size requirements.\n",
      "  ttest_veiculo = ttest_ind(renda_veiculo_sim, renda_veiculo_nao, equal_var=False)\n",
      "/tmp/ipykernel_126308/1171585940.py:3: SmallSampleWarning: One or more sample arguments is too small; all returned values will be NaN. See documentation for sample size requirements.\n",
      "  mannwhitney_veiculo = mannwhitneyu(renda_veiculo_sim, renda_veiculo_nao)\n"
     ]
    }
   ],
   "execution_count": 66
  },
  {
   "metadata": {},
   "cell_type": "markdown",
   "source": "imprimindo resutados"
  },
  {
   "metadata": {
    "ExecuteTime": {
     "end_time": "2024-12-22T03:21:43.863156Z",
     "start_time": "2024-12-22T03:21:43.860440Z"
    }
   },
   "cell_type": "code",
   "source": [
    "print(f\"\\nTeste T - Posse de Veículo: {ttest_veiculo}\")\n",
    "print(f\"Teste de Mann-Whitney - Posse de Veículo: {mannwhitney_veiculo}\")"
   ],
   "outputs": [
    {
     "name": "stdout",
     "output_type": "stream",
     "text": [
      "\n",
      "Teste T - Posse de Veículo: TtestResult(statistic=np.float64(nan), pvalue=np.float64(nan), df=np.float64(nan))\n",
      "Teste de Mann-Whitney - Posse de Veículo: MannwhitneyuResult(statistic=np.float64(nan), pvalue=np.float64(nan))\n"
     ]
    }
   ],
   "execution_count": 67
  },
  {
   "metadata": {},
   "cell_type": "code",
   "outputs": [],
   "execution_count": null,
   "source": ""
  }
 ],
 "metadata": {
  "kernelspec": {
   "display_name": "Python 3",
   "language": "python",
   "name": "python3"
  },
  "language_info": {
   "codemirror_mode": {
    "name": "ipython",
    "version": 3
   },
   "file_extension": ".py",
   "mimetype": "text/x-python",
   "name": "python",
   "nbconvert_exporter": "python",
   "pygments_lexer": "ipython3",
   "version": "3.8.5"
  }
 },
 "nbformat": 4,
 "nbformat_minor": 4
}
