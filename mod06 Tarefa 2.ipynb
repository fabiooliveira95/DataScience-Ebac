{
 "cells": [
  {
   "cell_type": "markdown",
   "metadata": {},
   "source": [
    "# Módulo 06 Tarefa 2"
   ]
  },
  {
   "cell_type": "code",
   "execution_count": 4,
   "metadata": {},
   "outputs": [],
   "source": [
    "import pandas as pd\n",
    "import numpy as np\n",
    "import matplotlib.pyplot as plt\n",
    "import seaborn as sns\n",
    "%matplotlib inline\n",
    "# %matplotlib notebook"
   ]
  },
  {
   "cell_type": "code",
   "execution_count": 5,
   "metadata": {},
   "outputs": [
    {
     "data": {
      "text/html": [
       "<div>\n",
       "<style scoped>\n",
       "    .dataframe tbody tr th:only-of-type {\n",
       "        vertical-align: middle;\n",
       "    }\n",
       "\n",
       "    .dataframe tbody tr th {\n",
       "        vertical-align: top;\n",
       "    }\n",
       "\n",
       "    .dataframe thead th {\n",
       "        text-align: right;\n",
       "    }\n",
       "</style>\n",
       "<table border=\"1\" class=\"dataframe\">\n",
       "  <thead>\n",
       "    <tr style=\"text-align: right;\">\n",
       "      <th></th>\n",
       "      <th>ORIGEM</th>\n",
       "      <th>CODESTAB</th>\n",
       "      <th>CODMUNNASC</th>\n",
       "      <th>LOCNASC</th>\n",
       "      <th>IDADEMAE</th>\n",
       "      <th>ESTCIVMAE</th>\n",
       "      <th>ESCMAE</th>\n",
       "      <th>CODOCUPMAE</th>\n",
       "      <th>QTDFILVIVO</th>\n",
       "      <th>QTDFILMORT</th>\n",
       "      <th>...</th>\n",
       "      <th>KOTELCHUCK</th>\n",
       "      <th>CONTADOR</th>\n",
       "      <th>munResStatus</th>\n",
       "      <th>munResTipo</th>\n",
       "      <th>munResNome</th>\n",
       "      <th>munResUf</th>\n",
       "      <th>munResLat</th>\n",
       "      <th>munResLon</th>\n",
       "      <th>munResAlt</th>\n",
       "      <th>munResArea</th>\n",
       "    </tr>\n",
       "  </thead>\n",
       "  <tbody>\n",
       "    <tr>\n",
       "      <th>0</th>\n",
       "      <td>1</td>\n",
       "      <td>2679477.0</td>\n",
       "      <td>110001</td>\n",
       "      <td>1</td>\n",
       "      <td>19</td>\n",
       "      <td>5.0</td>\n",
       "      <td>8 a 11 anos</td>\n",
       "      <td>NaN</td>\n",
       "      <td>0.0</td>\n",
       "      <td>0.0</td>\n",
       "      <td>...</td>\n",
       "      <td>5</td>\n",
       "      <td>1</td>\n",
       "      <td>ATIVO</td>\n",
       "      <td>MUNIC</td>\n",
       "      <td>Alta Floresta D'Oeste</td>\n",
       "      <td>Rondônia</td>\n",
       "      <td>-11.93554</td>\n",
       "      <td>-61.99982</td>\n",
       "      <td>338.0</td>\n",
       "      <td>7067.025</td>\n",
       "    </tr>\n",
       "    <tr>\n",
       "      <th>1</th>\n",
       "      <td>1</td>\n",
       "      <td>2679477.0</td>\n",
       "      <td>110001</td>\n",
       "      <td>1</td>\n",
       "      <td>29</td>\n",
       "      <td>2.0</td>\n",
       "      <td>8 a 11 anos</td>\n",
       "      <td>999992.0</td>\n",
       "      <td>1.0</td>\n",
       "      <td>0.0</td>\n",
       "      <td>...</td>\n",
       "      <td>5</td>\n",
       "      <td>2</td>\n",
       "      <td>ATIVO</td>\n",
       "      <td>MUNIC</td>\n",
       "      <td>Alta Floresta D'Oeste</td>\n",
       "      <td>Rondônia</td>\n",
       "      <td>-11.93554</td>\n",
       "      <td>-61.99982</td>\n",
       "      <td>338.0</td>\n",
       "      <td>7067.025</td>\n",
       "    </tr>\n",
       "    <tr>\n",
       "      <th>2</th>\n",
       "      <td>1</td>\n",
       "      <td>2679477.0</td>\n",
       "      <td>110001</td>\n",
       "      <td>1</td>\n",
       "      <td>37</td>\n",
       "      <td>9.0</td>\n",
       "      <td>8 a 11 anos</td>\n",
       "      <td>513205.0</td>\n",
       "      <td>2.0</td>\n",
       "      <td>0.0</td>\n",
       "      <td>...</td>\n",
       "      <td>5</td>\n",
       "      <td>3</td>\n",
       "      <td>ATIVO</td>\n",
       "      <td>MUNIC</td>\n",
       "      <td>Alta Floresta D'Oeste</td>\n",
       "      <td>Rondônia</td>\n",
       "      <td>-11.93554</td>\n",
       "      <td>-61.99982</td>\n",
       "      <td>338.0</td>\n",
       "      <td>7067.025</td>\n",
       "    </tr>\n",
       "    <tr>\n",
       "      <th>3</th>\n",
       "      <td>1</td>\n",
       "      <td>2516500.0</td>\n",
       "      <td>110001</td>\n",
       "      <td>1</td>\n",
       "      <td>30</td>\n",
       "      <td>5.0</td>\n",
       "      <td>12 anos ou mais</td>\n",
       "      <td>231205.0</td>\n",
       "      <td>0.0</td>\n",
       "      <td>0.0</td>\n",
       "      <td>...</td>\n",
       "      <td>4</td>\n",
       "      <td>4</td>\n",
       "      <td>ATIVO</td>\n",
       "      <td>MUNIC</td>\n",
       "      <td>Alto Alegre dos Parecis</td>\n",
       "      <td>Rondônia</td>\n",
       "      <td>-12.13178</td>\n",
       "      <td>-61.85308</td>\n",
       "      <td>397.0</td>\n",
       "      <td>3958.273</td>\n",
       "    </tr>\n",
       "    <tr>\n",
       "      <th>4</th>\n",
       "      <td>1</td>\n",
       "      <td>2516500.0</td>\n",
       "      <td>110001</td>\n",
       "      <td>1</td>\n",
       "      <td>30</td>\n",
       "      <td>2.0</td>\n",
       "      <td>8 a 11 anos</td>\n",
       "      <td>999992.0</td>\n",
       "      <td>1.0</td>\n",
       "      <td>0.0</td>\n",
       "      <td>...</td>\n",
       "      <td>5</td>\n",
       "      <td>5</td>\n",
       "      <td>ATIVO</td>\n",
       "      <td>MUNIC</td>\n",
       "      <td>Alta Floresta D'Oeste</td>\n",
       "      <td>Rondônia</td>\n",
       "      <td>-11.93554</td>\n",
       "      <td>-61.99982</td>\n",
       "      <td>338.0</td>\n",
       "      <td>7067.025</td>\n",
       "    </tr>\n",
       "  </tbody>\n",
       "</table>\n",
       "<p>5 rows × 69 columns</p>\n",
       "</div>"
      ],
      "text/plain": [
       "   ORIGEM   CODESTAB  CODMUNNASC  LOCNASC  IDADEMAE  ESTCIVMAE  \\\n",
       "0       1  2679477.0      110001        1        19        5.0   \n",
       "1       1  2679477.0      110001        1        29        2.0   \n",
       "2       1  2679477.0      110001        1        37        9.0   \n",
       "3       1  2516500.0      110001        1        30        5.0   \n",
       "4       1  2516500.0      110001        1        30        2.0   \n",
       "\n",
       "            ESCMAE  CODOCUPMAE  QTDFILVIVO  QTDFILMORT  ...  KOTELCHUCK  \\\n",
       "0      8 a 11 anos         NaN         0.0         0.0  ...           5   \n",
       "1      8 a 11 anos    999992.0         1.0         0.0  ...           5   \n",
       "2      8 a 11 anos    513205.0         2.0         0.0  ...           5   \n",
       "3  12 anos ou mais    231205.0         0.0         0.0  ...           4   \n",
       "4      8 a 11 anos    999992.0         1.0         0.0  ...           5   \n",
       "\n",
       "  CONTADOR munResStatus munResTipo               munResNome  munResUf  \\\n",
       "0        1        ATIVO      MUNIC    Alta Floresta D'Oeste  Rondônia   \n",
       "1        2        ATIVO      MUNIC    Alta Floresta D'Oeste  Rondônia   \n",
       "2        3        ATIVO      MUNIC    Alta Floresta D'Oeste  Rondônia   \n",
       "3        4        ATIVO      MUNIC  Alto Alegre dos Parecis  Rondônia   \n",
       "4        5        ATIVO      MUNIC    Alta Floresta D'Oeste  Rondônia   \n",
       "\n",
       "   munResLat munResLon  munResAlt  munResArea  \n",
       "0  -11.93554 -61.99982      338.0    7067.025  \n",
       "1  -11.93554 -61.99982      338.0    7067.025  \n",
       "2  -11.93554 -61.99982      338.0    7067.025  \n",
       "3  -12.13178 -61.85308      397.0    3958.273  \n",
       "4  -11.93554 -61.99982      338.0    7067.025  \n",
       "\n",
       "[5 rows x 69 columns]"
      ]
     },
     "execution_count": 5,
     "metadata": {},
     "output_type": "execute_result"
    }
   ],
   "source": [
    "df = pd.read_csv('b1abb33c4f.csv')\n",
    "df.head(5)"
   ]
  },
  {
   "cell_type": "code",
   "execution_count": null,
   "metadata": {},
   "outputs": [],
   "source": []
  },
  {
   "cell_type": "code",
   "execution_count": 9,
   "metadata": {},
   "outputs": [
    {
     "data": {
      "text/plain": [
       "0        19\n",
       "1        29\n",
       "2        37\n",
       "3        30\n",
       "4        30\n",
       "         ..\n",
       "27023    32\n",
       "27024    19\n",
       "27025    24\n",
       "27026    21\n",
       "27027    18\n",
       "Name: IDADEMAE, Length: 27028, dtype: int64"
      ]
     },
     "execution_count": 9,
     "metadata": {},
     "output_type": "execute_result"
    }
   ],
   "source": [
    "df[\"IDADEMAE\"]"
   ]
  },
  {
   "cell_type": "code",
   "execution_count": 11,
   "metadata": {},
   "outputs": [
    {
     "data": {
      "text/plain": [
       "26.0"
      ]
     },
     "execution_count": 11,
     "metadata": {},
     "output_type": "execute_result"
    }
   ],
   "source": [
    "df[\"IDADEMAE\"].median()"
   ]
  },
  {
   "cell_type": "code",
   "execution_count": 13,
   "metadata": {},
   "outputs": [
    {
     "data": {
      "text/plain": [
       "0        19\n",
       "1        29\n",
       "2        37\n",
       "3        30\n",
       "4        30\n",
       "         ..\n",
       "27023    32\n",
       "27024    19\n",
       "27025    24\n",
       "27026    21\n",
       "27027    18\n",
       "Name: IDADEMAE, Length: 27028, dtype: int64"
      ]
     },
     "execution_count": 13,
     "metadata": {},
     "output_type": "execute_result"
    }
   ],
   "source": [
    "df[\"IDADEMAE\"].dropna()"
   ]
  },
  {
   "cell_type": "code",
   "execution_count": 15,
   "metadata": {},
   "outputs": [
    {
     "name": "stdout",
     "output_type": "stream",
     "text": [
      "       ORIGEM   CODESTAB  CODMUNNASC  LOCNASC  IDADEMAE  ESTCIVMAE  \\\n",
      "0           1  2679477.0      110001        1        19        5.0   \n",
      "1           1  2679477.0      110001        1        29        2.0   \n",
      "2           1  2679477.0      110001        1        37        9.0   \n",
      "3           1  2516500.0      110001        1        30        5.0   \n",
      "4           1  2516500.0      110001        1        30        2.0   \n",
      "...       ...        ...         ...      ...       ...        ...   \n",
      "27023       1  2604388.0      510340        1        32        2.0   \n",
      "27024       1  2752654.0      510675        1        19        1.0   \n",
      "27025       1  9659366.0      510787        1        24        2.0   \n",
      "27026       1  9659366.0      510787        1        21        2.0   \n",
      "27027       1  2795655.0      510792        1        18        5.0   \n",
      "\n",
      "                ESCMAE  CODOCUPMAE  QTDFILVIVO  QTDFILMORT  ...  KOTELCHUCK  \\\n",
      "0          8 a 11 anos         NaN         0.0         0.0  ...           5   \n",
      "1          8 a 11 anos    999992.0         1.0         0.0  ...           5   \n",
      "2          8 a 11 anos    513205.0         2.0         0.0  ...           5   \n",
      "3      12 anos ou mais    231205.0         0.0         0.0  ...           4   \n",
      "4          8 a 11 anos    999992.0         1.0         0.0  ...           5   \n",
      "...                ...         ...         ...         ...  ...         ...   \n",
      "27023  12 anos ou mais    333115.0         1.0         0.0  ...           5   \n",
      "27024      8 a 11 anos    999992.0         0.0         0.0  ...           5   \n",
      "27025      8 a 11 anos    421125.0         0.0         1.0  ...           5   \n",
      "27026      8 a 11 anos    999992.0         1.0         0.0  ...           5   \n",
      "27027      8 a 11 anos    999992.0         1.0         0.0  ...           5   \n",
      "\n",
      "      CONTADOR munResStatus munResTipo               munResNome  munResUf  \\\n",
      "0            1        ATIVO      MUNIC    Alta Floresta D'Oeste  Rondônia   \n",
      "1            2        ATIVO      MUNIC    Alta Floresta D'Oeste  Rondônia   \n",
      "2            3        ATIVO      MUNIC    Alta Floresta D'Oeste  Rondônia   \n",
      "3            4        ATIVO      MUNIC  Alto Alegre dos Parecis  Rondônia   \n",
      "4            5        ATIVO      MUNIC    Alta Floresta D'Oeste  Rondônia   \n",
      "...        ...          ...        ...                      ...       ...   \n",
      "27023  2767632        ATIVO      MUNIC                  Vilhena  Rondônia   \n",
      "27024  2772678        ATIVO      MUNIC              Chupinguaia  Rondônia   \n",
      "27025  2776905        ATIVO      MUNIC                  Vilhena  Rondônia   \n",
      "27026  2777105        ATIVO      MUNIC                  Vilhena  Rondônia   \n",
      "27027  2780269        ATIVO      MUNIC  Novo Horizonte do Oeste  Rondônia   \n",
      "\n",
      "       munResLat munResLon  munResAlt  munResArea  \n",
      "0      -11.93554 -61.99982      338.0    7067.025  \n",
      "1      -11.93554 -61.99982      338.0    7067.025  \n",
      "2      -11.93554 -61.99982      338.0    7067.025  \n",
      "3      -12.13178 -61.85308      397.0    3958.273  \n",
      "4      -11.93554 -61.99982      338.0    7067.025  \n",
      "...          ...       ...        ...         ...  \n",
      "27023  -12.74137 -60.13858      595.0   11518.915  \n",
      "27024  -12.55684 -60.90185      340.0    5126.723  \n",
      "27025  -12.74137 -60.13858      595.0   11518.915  \n",
      "27026  -12.74137 -60.13858      595.0   11518.915  \n",
      "27027  -11.70974 -61.99439      230.0     843.446  \n",
      "\n",
      "[27028 rows x 69 columns]\n"
     ]
    }
   ],
   "source": [
    "def all(df):\n",
    "    for elemento in df:\n",
    "        if not elemento:\n",
    "            return False\n",
    "    return True\n",
    "print(df)"
   ]
  },
  {
   "cell_type": "code",
   "execution_count": 17,
   "metadata": {},
   "outputs": [
    {
     "data": {
      "text/plain": [
       "Index(['ORIGEM', 'CODESTAB', 'CODMUNNASC', 'LOCNASC', 'IDADEMAE', 'ESTCIVMAE',\n",
       "       'ESCMAE', 'CODOCUPMAE', 'QTDFILVIVO', 'QTDFILMORT', 'CODMUNRES',\n",
       "       'GESTACAO', 'GRAVIDEZ', 'PARTO', 'CONSULTAS', 'DTNASC', 'HORANASC',\n",
       "       'SEXO', 'APGAR1', 'APGAR5', 'RACACOR', 'PESO', 'IDANOMAL', 'DTCADASTRO',\n",
       "       'CODANOMAL', 'NUMEROLOTE', 'VERSAOSIST', 'DTRECEBIM', 'DIFDATA',\n",
       "       'DTRECORIGA', 'NATURALMAE', 'CODMUNNATU', 'CODUFNATU', 'ESCMAE2010',\n",
       "       'SERIESCMAE', 'DTNASCMAE', 'RACACORMAE', 'QTDGESTANT', 'QTDPARTNOR',\n",
       "       'QTDPARTCES', 'IDADEPAI', 'DTULTMENST', 'SEMAGESTAC', 'TPMETESTIM',\n",
       "       'CONSPRENAT', 'MESPRENAT', 'TPAPRESENT', 'STTRABPART', 'STCESPARTO',\n",
       "       'TPNASCASSI', 'TPFUNCRESP', 'TPDOCRESP', 'DTDECLARAC', 'ESCMAEAGR1',\n",
       "       'STDNEPIDEM', 'STDNNOVA', 'CODPAISRES', 'TPROBSON', 'PARIDADE',\n",
       "       'KOTELCHUCK', 'CONTADOR', 'munResStatus', 'munResTipo', 'munResNome',\n",
       "       'munResUf', 'munResLat', 'munResLon', 'munResAlt', 'munResArea'],\n",
       "      dtype='object')"
      ]
     },
     "execution_count": 17,
     "metadata": {},
     "output_type": "execute_result"
    }
   ],
   "source": [
    "df.columns"
   ]
  },
  {
   "cell_type": "code",
   "execution_count": 19,
   "metadata": {},
   "outputs": [
    {
     "data": {
      "text/html": [
       "<div>\n",
       "<style scoped>\n",
       "    .dataframe tbody tr th:only-of-type {\n",
       "        vertical-align: middle;\n",
       "    }\n",
       "\n",
       "    .dataframe tbody tr th {\n",
       "        vertical-align: top;\n",
       "    }\n",
       "\n",
       "    .dataframe thead th {\n",
       "        text-align: right;\n",
       "    }\n",
       "</style>\n",
       "<table border=\"1\" class=\"dataframe\">\n",
       "  <thead>\n",
       "    <tr style=\"text-align: right;\">\n",
       "      <th></th>\n",
       "      <th>ORIGEM</th>\n",
       "      <th>CODESTAB</th>\n",
       "      <th>CODMUNNASC</th>\n",
       "      <th>LOCNASC</th>\n",
       "      <th>IDADEMAE</th>\n",
       "      <th>ESTCIVMAE</th>\n",
       "      <th>CODOCUPMAE</th>\n",
       "      <th>QTDFILVIVO</th>\n",
       "      <th>QTDFILMORT</th>\n",
       "      <th>CODMUNRES</th>\n",
       "      <th>...</th>\n",
       "      <th>STDNNOVA</th>\n",
       "      <th>CODPAISRES</th>\n",
       "      <th>TPROBSON</th>\n",
       "      <th>PARIDADE</th>\n",
       "      <th>KOTELCHUCK</th>\n",
       "      <th>CONTADOR</th>\n",
       "      <th>munResLat</th>\n",
       "      <th>munResLon</th>\n",
       "      <th>munResAlt</th>\n",
       "      <th>munResArea</th>\n",
       "    </tr>\n",
       "  </thead>\n",
       "  <tbody>\n",
       "    <tr>\n",
       "      <th>count</th>\n",
       "      <td>27028.0</td>\n",
       "      <td>2.691300e+04</td>\n",
       "      <td>27028.000000</td>\n",
       "      <td>27028.000000</td>\n",
       "      <td>27028.000000</td>\n",
       "      <td>26711.000000</td>\n",
       "      <td>24121.000000</td>\n",
       "      <td>25455.000000</td>\n",
       "      <td>24930.000000</td>\n",
       "      <td>27028.000000</td>\n",
       "      <td>...</td>\n",
       "      <td>27028.000000</td>\n",
       "      <td>27028.0</td>\n",
       "      <td>27028.000000</td>\n",
       "      <td>27028.000000</td>\n",
       "      <td>27028.000000</td>\n",
       "      <td>2.702800e+04</td>\n",
       "      <td>27027.000000</td>\n",
       "      <td>27027.000000</td>\n",
       "      <td>27027.000000</td>\n",
       "      <td>27027.000000</td>\n",
       "    </tr>\n",
       "    <tr>\n",
       "      <th>mean</th>\n",
       "      <td>1.0</td>\n",
       "      <td>3.267629e+06</td>\n",
       "      <td>111037.796211</td>\n",
       "      <td>1.011396</td>\n",
       "      <td>26.093718</td>\n",
       "      <td>2.545318</td>\n",
       "      <td>795604.031591</td>\n",
       "      <td>1.053899</td>\n",
       "      <td>0.266506</td>\n",
       "      <td>110029.055720</td>\n",
       "      <td>...</td>\n",
       "      <td>0.999778</td>\n",
       "      <td>1.0</td>\n",
       "      <td>4.328437</td>\n",
       "      <td>0.648772</td>\n",
       "      <td>4.974952</td>\n",
       "      <td>7.367650e+05</td>\n",
       "      <td>-10.377988</td>\n",
       "      <td>-62.754987</td>\n",
       "      <td>179.111999</td>\n",
       "      <td>14702.799767</td>\n",
       "    </tr>\n",
       "    <tr>\n",
       "      <th>std</th>\n",
       "      <td>0.0</td>\n",
       "      <td>1.122677e+06</td>\n",
       "      <td>18102.751466</td>\n",
       "      <td>0.161679</td>\n",
       "      <td>6.387094</td>\n",
       "      <td>1.671248</td>\n",
       "      <td>283884.959287</td>\n",
       "      <td>1.170874</td>\n",
       "      <td>0.613909</td>\n",
       "      <td>36.036466</td>\n",
       "      <td>...</td>\n",
       "      <td>0.014898</td>\n",
       "      <td>0.0</td>\n",
       "      <td>2.930690</td>\n",
       "      <td>0.477363</td>\n",
       "      <td>2.067085</td>\n",
       "      <td>7.430325e+05</td>\n",
       "      <td>1.372942</td>\n",
       "      <td>1.269490</td>\n",
       "      <td>123.138365</td>\n",
       "      <td>13706.177751</td>\n",
       "    </tr>\n",
       "    <tr>\n",
       "      <th>min</th>\n",
       "      <td>1.0</td>\n",
       "      <td>1.531800e+04</td>\n",
       "      <td>110001.000000</td>\n",
       "      <td>1.000000</td>\n",
       "      <td>11.000000</td>\n",
       "      <td>1.000000</td>\n",
       "      <td>10205.000000</td>\n",
       "      <td>0.000000</td>\n",
       "      <td>0.000000</td>\n",
       "      <td>110000.000000</td>\n",
       "      <td>...</td>\n",
       "      <td>0.000000</td>\n",
       "      <td>1.0</td>\n",
       "      <td>1.000000</td>\n",
       "      <td>0.000000</td>\n",
       "      <td>1.000000</td>\n",
       "      <td>1.000000e+00</td>\n",
       "      <td>-13.499760</td>\n",
       "      <td>-65.329150</td>\n",
       "      <td>85.000000</td>\n",
       "      <td>459.978000</td>\n",
       "    </tr>\n",
       "    <tr>\n",
       "      <th>25%</th>\n",
       "      <td>1.0</td>\n",
       "      <td>2.496534e+06</td>\n",
       "      <td>110011.000000</td>\n",
       "      <td>1.000000</td>\n",
       "      <td>21.000000</td>\n",
       "      <td>1.000000</td>\n",
       "      <td>521125.000000</td>\n",
       "      <td>0.000000</td>\n",
       "      <td>0.000000</td>\n",
       "      <td>110012.000000</td>\n",
       "      <td>...</td>\n",
       "      <td>1.000000</td>\n",
       "      <td>1.0</td>\n",
       "      <td>2.000000</td>\n",
       "      <td>0.000000</td>\n",
       "      <td>4.000000</td>\n",
       "      <td>6.802750e+03</td>\n",
       "      <td>-11.433870</td>\n",
       "      <td>-63.831450</td>\n",
       "      <td>87.000000</td>\n",
       "      <td>3792.998000</td>\n",
       "    </tr>\n",
       "    <tr>\n",
       "      <th>50%</th>\n",
       "      <td>1.0</td>\n",
       "      <td>2.798484e+06</td>\n",
       "      <td>110020.000000</td>\n",
       "      <td>1.000000</td>\n",
       "      <td>26.000000</td>\n",
       "      <td>2.000000</td>\n",
       "      <td>999992.000000</td>\n",
       "      <td>1.000000</td>\n",
       "      <td>0.000000</td>\n",
       "      <td>110020.000000</td>\n",
       "      <td>...</td>\n",
       "      <td>1.000000</td>\n",
       "      <td>1.0</td>\n",
       "      <td>4.000000</td>\n",
       "      <td>1.000000</td>\n",
       "      <td>5.000000</td>\n",
       "      <td>1.364550e+04</td>\n",
       "      <td>-10.435950</td>\n",
       "      <td>-63.033270</td>\n",
       "      <td>153.000000</td>\n",
       "      <td>6896.648000</td>\n",
       "    </tr>\n",
       "    <tr>\n",
       "      <th>75%</th>\n",
       "      <td>1.0</td>\n",
       "      <td>3.970442e+06</td>\n",
       "      <td>110020.000000</td>\n",
       "      <td>1.000000</td>\n",
       "      <td>31.000000</td>\n",
       "      <td>5.000000</td>\n",
       "      <td>999992.000000</td>\n",
       "      <td>2.000000</td>\n",
       "      <td>0.000000</td>\n",
       "      <td>110028.000000</td>\n",
       "      <td>...</td>\n",
       "      <td>1.000000</td>\n",
       "      <td>1.0</td>\n",
       "      <td>5.000000</td>\n",
       "      <td>1.000000</td>\n",
       "      <td>5.000000</td>\n",
       "      <td>1.486846e+06</td>\n",
       "      <td>-8.768890</td>\n",
       "      <td>-61.945090</td>\n",
       "      <td>191.000000</td>\n",
       "      <td>34096.394000</td>\n",
       "    </tr>\n",
       "    <tr>\n",
       "      <th>max</th>\n",
       "      <td>1.0</td>\n",
       "      <td>9.659366e+06</td>\n",
       "      <td>520870.000000</td>\n",
       "      <td>4.000000</td>\n",
       "      <td>53.000000</td>\n",
       "      <td>9.000000</td>\n",
       "      <td>999994.000000</td>\n",
       "      <td>30.000000</td>\n",
       "      <td>28.000000</td>\n",
       "      <td>110180.000000</td>\n",
       "      <td>...</td>\n",
       "      <td>1.000000</td>\n",
       "      <td>1.0</td>\n",
       "      <td>11.000000</td>\n",
       "      <td>1.000000</td>\n",
       "      <td>9.000000</td>\n",
       "      <td>2.780269e+06</td>\n",
       "      <td>-8.768890</td>\n",
       "      <td>-60.138580</td>\n",
       "      <td>595.000000</td>\n",
       "      <td>34096.394000</td>\n",
       "    </tr>\n",
       "  </tbody>\n",
       "</table>\n",
       "<p>8 rows × 54 columns</p>\n",
       "</div>"
      ],
      "text/plain": [
       "        ORIGEM      CODESTAB     CODMUNNASC       LOCNASC      IDADEMAE  \\\n",
       "count  27028.0  2.691300e+04   27028.000000  27028.000000  27028.000000   \n",
       "mean       1.0  3.267629e+06  111037.796211      1.011396     26.093718   \n",
       "std        0.0  1.122677e+06   18102.751466      0.161679      6.387094   \n",
       "min        1.0  1.531800e+04  110001.000000      1.000000     11.000000   \n",
       "25%        1.0  2.496534e+06  110011.000000      1.000000     21.000000   \n",
       "50%        1.0  2.798484e+06  110020.000000      1.000000     26.000000   \n",
       "75%        1.0  3.970442e+06  110020.000000      1.000000     31.000000   \n",
       "max        1.0  9.659366e+06  520870.000000      4.000000     53.000000   \n",
       "\n",
       "          ESTCIVMAE     CODOCUPMAE    QTDFILVIVO    QTDFILMORT      CODMUNRES  \\\n",
       "count  26711.000000   24121.000000  25455.000000  24930.000000   27028.000000   \n",
       "mean       2.545318  795604.031591      1.053899      0.266506  110029.055720   \n",
       "std        1.671248  283884.959287      1.170874      0.613909      36.036466   \n",
       "min        1.000000   10205.000000      0.000000      0.000000  110000.000000   \n",
       "25%        1.000000  521125.000000      0.000000      0.000000  110012.000000   \n",
       "50%        2.000000  999992.000000      1.000000      0.000000  110020.000000   \n",
       "75%        5.000000  999992.000000      2.000000      0.000000  110028.000000   \n",
       "max        9.000000  999994.000000     30.000000     28.000000  110180.000000   \n",
       "\n",
       "       ...      STDNNOVA  CODPAISRES      TPROBSON      PARIDADE  \\\n",
       "count  ...  27028.000000     27028.0  27028.000000  27028.000000   \n",
       "mean   ...      0.999778         1.0      4.328437      0.648772   \n",
       "std    ...      0.014898         0.0      2.930690      0.477363   \n",
       "min    ...      0.000000         1.0      1.000000      0.000000   \n",
       "25%    ...      1.000000         1.0      2.000000      0.000000   \n",
       "50%    ...      1.000000         1.0      4.000000      1.000000   \n",
       "75%    ...      1.000000         1.0      5.000000      1.000000   \n",
       "max    ...      1.000000         1.0     11.000000      1.000000   \n",
       "\n",
       "         KOTELCHUCK      CONTADOR     munResLat     munResLon     munResAlt  \\\n",
       "count  27028.000000  2.702800e+04  27027.000000  27027.000000  27027.000000   \n",
       "mean       4.974952  7.367650e+05    -10.377988    -62.754987    179.111999   \n",
       "std        2.067085  7.430325e+05      1.372942      1.269490    123.138365   \n",
       "min        1.000000  1.000000e+00    -13.499760    -65.329150     85.000000   \n",
       "25%        4.000000  6.802750e+03    -11.433870    -63.831450     87.000000   \n",
       "50%        5.000000  1.364550e+04    -10.435950    -63.033270    153.000000   \n",
       "75%        5.000000  1.486846e+06     -8.768890    -61.945090    191.000000   \n",
       "max        9.000000  2.780269e+06     -8.768890    -60.138580    595.000000   \n",
       "\n",
       "         munResArea  \n",
       "count  27027.000000  \n",
       "mean   14702.799767  \n",
       "std    13706.177751  \n",
       "min      459.978000  \n",
       "25%     3792.998000  \n",
       "50%     6896.648000  \n",
       "75%    34096.394000  \n",
       "max    34096.394000  \n",
       "\n",
       "[8 rows x 54 columns]"
      ]
     },
     "execution_count": 19,
     "metadata": {},
     "output_type": "execute_result"
    }
   ],
   "source": [
    "df.describe()"
   ]
  },
  {
   "cell_type": "markdown",
   "metadata": {},
   "source": [
    "####  1) Na base do SINASC do DataSUS, faça um boxplot da idade da mãe."
   ]
  },
  {
   "cell_type": "code",
   "execution_count": 22,
   "metadata": {},
   "outputs": [
    {
     "data": {
      "text/plain": [
       "<Axes: >"
      ]
     },
     "execution_count": 22,
     "metadata": {},
     "output_type": "execute_result"
    }
   ],
   "source": [
    "df[['IDADEMAE']].boxplot()"
   ]
  },
  {
   "cell_type": "markdown",
   "metadata": {},
   "source": [
    "####  2) Faça um boxplot do peso do bebê"
   ]
  },
  {
   "cell_type": "code",
   "execution_count": 25,
   "metadata": {},
   "outputs": [
    {
     "data": {
      "image/png": "[encoded data removed]",
      "text/plain": [
       "<Figure size 640x480 with 1 Axes>"
      ]
     },
     "metadata": {},
     "output_type": "display_data"
    }
   ],
   "source": [
    "df[['PESO']].boxplot()\n",
    "plt.show()"
   ]
  },
  {
   "cell_type": "markdown",
   "metadata": {},
   "source": [
    "####  3) Faça um histograma da idade da mãe"
   ]
  },
  {
   "cell_type": "code",
   "execution_count": 28,
   "metadata": {},
   "outputs": [
    {
     "data": {
      "image/png": "[encoded data removed]",
      "text/plain": [
       "<Figure size 640x480 with 1 Axes>"
      ]
     },
     "metadata": {},
     "output_type": "display_data"
    }
   ],
   "source": [
    "df['IDADEMAE'].plot.hist(bins = 20)\n",
    "plt.show()"
   ]
  },
  {
   "cell_type": "code",
   "execution_count": 43,
   "metadata": {},
   "outputs": [
    {
     "data": {
      "image/png": "[encoded data removed]",
      "text/plain": [
       "<Figure size 500x500 with 1 Axes>"
      ]
     },
     "metadata": {},
     "output_type": "display_data"
    }
   ],
   "source": [
    "sns.displot(data = df[df['IDADEMAE']<1] \n",
    "            ,alpha = .25\n",
    "            ,x = 'IDADEMAE'\n",
    "            ,bins = 21\n",
    "            ,element = 'step'\n",
    "            ,kde = True\n",
    "           )\n",
    "plt.show()"
   ]
  },
  {
   "cell_type": "markdown",
   "metadata": {},
   "source": [
    "#### 4) Faça um histograma do peso do bebê"
   ]
  },
  {
   "cell_type": "code",
   "execution_count": 35,
   "metadata": {},
   "outputs": [
    {
     "data": {
      "image/png": "[encoded data removed]",
      "text/plain": [
       "<Figure size 640x480 with 1 Axes>"
      ]
     },
     "metadata": {},
     "output_type": "display_data"
    }
   ],
   "source": [
    "sns.histplot(data=df,\n",
    "             x='PESO',\n",
    "             bins=51,\n",
    "             color='blue',\n",
    "             kde=True).lines[0].set_color('red')\n",
    "\n",
    "\n",
    "plt.title('HISTPLOT - Peso do Bebê')\n",
    "plt.xlabel('Peso do Bebê')\n",
    "plt.ylabel('Quantidade')\n",
    "plt.show()"
   ]
  },
  {
   "cell_type": "code",
   "execution_count": null,
   "metadata": {},
   "outputs": [],
   "source": []
  }
 ],
 "metadata": {
  "kernelspec": {
   "display_name": "Python 3 (ipykernel)",
   "language": "python",
   "name": "python3"
  },
  "language_info": {
   "codemirror_mode": {
    "name": "ipython",
    "version": 3
   },
   "file_extension": ".py",
   "mimetype": "text/x-python",
   "name": "python",
   "nbconvert_exporter": "python",
   "pygments_lexer": "ipython3",
   "version": "3.12.7"
  }
 },
 "nbformat": 4,
 "nbformat_minor": 4
}
