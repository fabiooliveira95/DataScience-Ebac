{
 "cells": [
  {
   "cell_type": "markdown",
   "id": "e73f094e-384a-44a1-8686-540fa8f95d86",
   "metadata": {},
   "source": [
    "## <font color='blue'>Fórmula de Bhaskara</font>\n",
    "\n",
    "A solução para uma função de segundo grau depende das suas raízes (valores de x). Como já vimos, os coeficientes precisam ser números reais e o angular diferente de zero. Sendo assim, temos a seguinte fórmula de Bhaskara:\n"
   ]
  },
  {
   "cell_type": "markdown",
   "id": "8a22791e-5114-41cb-a54f-f2214dee894a",
   "metadata": {},
   "source": [
    "$$ x=\\frac{-b±\\sqrt {b^2-4.a.c}}\n",
    "{2.a}$$\n",
    "\n",
    "#### $$Formula \\ de \\   Bhaskara.$$"
   ]
  },
  {
   "cell_type": "markdown",
   "id": "0be15c3b-7061-4f94-b490-c20663352600",
   "metadata": {},
   "source": [
    "Para melhor compreensão o seu cálculo é dividido em duas partes: discriminante da equação e operações para determinar as raízes."
   ]
  },
  {
   "cell_type": "markdown",
   "id": "ff2789c5-1066-4c32-bdc4-8389383de493",
   "metadata": {},
   "source": [
    "#### Discriminante "
   ]
  },
  {
   "cell_type": "markdown",
   "id": "92907ad5-83fd-4963-8f1f-1d01e44b9ebb",
   "metadata": {},
   "source": [
    "A figura dentro da raiz na fórmula de Bhaskara é nomeada de discriminante. Seu símbolo é a letra grega delta e apresenta a determinada fórmula:\n"
   ]
  },
  {
   "cell_type": "markdown",
   "id": "a8ac8ea5-4fc1-4c6d-b081-4ab0605b5010",
   "metadata": {},
   "source": [
    "# $$Δ = b^2 - 4.a.c$$\n",
    "\n",
    "#### $$Fórmula \\ da \\ discriminante.$$"
   ]
  },
  {
   "cell_type": "markdown",
   "id": "6d998d2a-2710-44aa-8a77-651742f32e26",
   "metadata": {},
   "source": [
    "- Se o delta for maior que zero, a equação terá dois valores reais e distintos. \n",
    "- Se o delta for igual a zero, a equação terá somente um valor real ou dois resultados iguais. \n",
    "- Se o delta for menor que zero, a equação não possuirá valores reais. "
   ]
  },
  {
   "cell_type": "code",
   "execution_count": null,
   "id": "d4ce1619-85c1-47a7-a381-183f961ed24e",
   "metadata": {},
   "outputs": [],
   "source": []
  }
 ],
 "metadata": {
  "kernelspec": {
   "display_name": "Python [conda env:base] *",
   "language": "python",
   "name": "conda-base-py"
  },
  "language_info": {
   "codemirror_mode": {
    "name": "ipython",
    "version": 3
   },
   "file_extension": ".py",
   "mimetype": "text/x-python",
   "name": "python",
   "nbconvert_exporter": "python",
   "pygments_lexer": "ipython3",
   "version": "3.12.7"
  }
 },
 "nbformat": 4,
 "nbformat_minor": 5
}
