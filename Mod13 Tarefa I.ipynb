{
 "cells": [
  {
   "cell_type": "markdown",
   "metadata": {},
   "source": [
    "# EBAC - Regressão II - regressão múltipla\n",
    "\n",
    "## Tarefa I"
   ]
  },
  {
   "cell_type": "markdown",
   "metadata": {},
   "source": [
    "#### Previsão de renda\n",
    "\n",
    "Vamos trabalhar com a base 'previsao_de_renda.csv', que é a base do seu próximo projeto. Vamos usar os recursos que vimos até aqui nesta base.\n",
    "\n",
    "|variavel|descrição|\n",
    "|-|-|\n",
    "|data_ref                | Data de referência de coleta das variáveis |\n",
    "|index                   | Código de identificação do cliente|\n",
    "|sexo                    | Sexo do cliente|\n",
    "|posse_de_veiculo        | Indica se o cliente possui veículo|\n",
    "|posse_de_imovel         | Indica se o cliente possui imóvel|\n",
    "|qtd_filhos              | Quantidade de filhos do cliente|\n",
    "|tipo_renda              | Tipo de renda do cliente|\n",
    "|educacao                | Grau de instrução do cliente|\n",
    "|estado_civil            | Estado civil do cliente|\n",
    "|tipo_residencia         | Tipo de residência do cliente (própria, alugada etc)|\n",
    "|idade                   | Idade do cliente|\n",
    "|tempo_emprego           | Tempo no emprego atual|\n",
    "|qt_pessoas_residencia   | Quantidade de pessoas que moram na residência|\n",
    "|renda                   | Renda em reais|"
   ]
  },
  {
   "cell_type": "code",
   "execution_count": 151,
   "metadata": {
    "ExecuteTime": {
     "end_time": "2025-01-03T13:01:15.324496Z",
     "start_time": "2025-01-03T13:01:15.322697Z"
    }
   },
   "outputs": [],
   "source": [
    "import pandas as pd"
   ]
  },
  {
   "cell_type": "code",
   "execution_count": 153,
   "metadata": {
    "ExecuteTime": {
     "end_time": "2025-01-03T13:01:16.259784Z",
     "start_time": "2025-01-03T13:01:16.242512Z"
    }
   },
   "outputs": [],
   "source": [
    "df = pd.read_csv('previsao_de_renda.csv')"
   ]
  },
  {
   "cell_type": "code",
   "execution_count": 155,
   "metadata": {
    "ExecuteTime": {
     "end_time": "2025-01-03T13:01:17.212199Z",
     "start_time": "2025-01-03T13:01:17.205150Z"
    }
   },
   "outputs": [
    {
     "name": "stdout",
     "output_type": "stream",
     "text": [
      "<class 'pandas.core.frame.DataFrame'>\n",
      "RangeIndex: 15000 entries, 0 to 14999\n",
      "Data columns (total 15 columns):\n",
      " #   Column                 Non-Null Count  Dtype  \n",
      "---  ------                 --------------  -----  \n",
      " 0   Unnamed: 0             15000 non-null  int64  \n",
      " 1   data_ref               15000 non-null  object \n",
      " 2   id_cliente             15000 non-null  int64  \n",
      " 3   sexo                   15000 non-null  object \n",
      " 4   posse_de_veiculo       15000 non-null  bool   \n",
      " 5   posse_de_imovel        15000 non-null  bool   \n",
      " 6   qtd_filhos             15000 non-null  int64  \n",
      " 7   tipo_renda             15000 non-null  object \n",
      " 8   educacao               15000 non-null  object \n",
      " 9   estado_civil           15000 non-null  object \n",
      " 10  tipo_residencia        15000 non-null  object \n",
      " 11  idade                  15000 non-null  int64  \n",
      " 12  tempo_emprego          12427 non-null  float64\n",
      " 13  qt_pessoas_residencia  15000 non-null  float64\n",
      " 14  renda                  15000 non-null  float64\n",
      "dtypes: bool(2), float64(3), int64(4), object(6)\n",
      "memory usage: 1.5+ MB\n"
     ]
    }
   ],
   "source": [
    "df.info()"
   ]
  },
  {
   "cell_type": "markdown",
   "metadata": {},
   "source": [
    "1. Ajuste um modelo para prever log(renda) considerando todas as covariáveis disponíveis.\n",
    "    - Utilizando os recursos do Patsy, coloque as variáveis qualitativas como *dummies*.\n",
    "    - Mantenha sempre a categoria mais frequente como casela de referência\n",
    "    - Avalie os parâmetros e veja se parecem fazer sentido prático.\n",
    "\n",
    "2. Remova a variável menos significante e analise:\n",
    "    - Observe os indicadores que vimos, e avalie se o modelo melhorou ou piorou na sua opinião.\n",
    "    - Observe os parâmetros e veja se algum se alterou muito.\n",
    "\n",
    "3. Siga removendo as variáveis menos significantes, sempre que o *p-value* for menor que 5%. Compare o modelo final com o inicial. Observe os indicadores e conclua se o modelo parece melhor. \n",
    "    "
   ]
  },
  {
   "cell_type": "code",
   "execution_count": 158,
   "metadata": {
    "ExecuteTime": {
     "end_time": "2025-01-03T13:01:19.549252Z",
     "start_time": "2025-01-03T13:01:19.547258Z"
    }
   },
   "outputs": [],
   "source": [
    "import numpy as np\n",
    "import statsmodels.api as sm\n",
    "from patsy import dmatrices"
   ]
  },
  {
   "cell_type": "markdown",
   "metadata": {},
   "source": [
    "1. Ajuste um modelo para prever log(renda) considerando todas as covariáveis disponíveis."
   ]
  },
  {
   "cell_type": "code",
   "execution_count": 161,
   "metadata": {
    "ExecuteTime": {
     "end_time": "2025-01-03T13:27:18.507064Z",
     "start_time": "2025-01-03T13:27:18.505053Z"
    }
   },
   "outputs": [],
   "source": [
    "# Transformação do log da renda\n",
    "df['log_renda'] = np.log(df['renda'])\n"
   ]
  },
  {
   "cell_type": "markdown",
   "metadata": {},
   "source": [
    "- Utilizando os recursos do Patsy, coloque as variáveis qualitativas como *dummies*."
   ]
  },
  {
   "cell_type": "code",
   "execution_count": 164,
   "metadata": {
    "ExecuteTime": {
     "end_time": "2025-01-03T13:27:31.646987Z",
     "start_time": "2025-01-03T13:27:31.641843Z"
    }
   },
   "outputs": [],
   "source": [
    "# Utilizando Patsy para criar dummies (mantendo a categoria de referência)\n",
    "# Patsy automaticamente trata variáveis categóricas. Inclui as covariáveis disponíveis.\n",
    "\n",
    "formula = 'log_renda ~ idade + renda + posse_de_veiculo + sexo + educacao'"
   ]
  },
  {
   "cell_type": "code",
   "execution_count": 166,
   "metadata": {
    "ExecuteTime": {
     "end_time": "2025-01-03T13:27:44.654677Z",
     "start_time": "2025-01-03T13:27:44.648379Z"
    }
   },
   "outputs": [],
   "source": [
    "# Criação de matrizes design com Patsy (y = dependente, X = preditores)\n",
    "y, X = dmatrices(formula, data=df, return_type='dataframe')"
   ]
  },
  {
   "cell_type": "markdown",
   "metadata": {},
   "source": [
    "- Mantenha sempre a categoria mais frequente como casela de referência"
   ]
  },
  {
   "cell_type": "code",
   "execution_count": 169,
   "metadata": {
    "ExecuteTime": {
     "end_time": "2025-01-03T13:28:17.907504Z",
     "start_time": "2025-01-03T13:28:17.898499Z"
    }
   },
   "outputs": [
    {
     "name": "stdout",
     "output_type": "stream",
     "text": [
      "                            OLS Regression Results                            \n",
      "==============================================================================\n",
      "Dep. Variable:              log_renda   R-squared:                       0.571\n",
      "Model:                            OLS   Adj. R-squared:                  0.571\n",
      "Method:                 Least Squares   F-statistic:                     2492.\n",
      "Date:                Fri, 03 Jan 2025   Prob (F-statistic):               0.00\n",
      "Time:                        11:21:43   Log-Likelihood:                -13081.\n",
      "No. Observations:               15000   AIC:                         2.618e+04\n",
      "Df Residuals:                   14991   BIC:                         2.625e+04\n",
      "Df Model:                           8                                         \n",
      "Covariance Type:            nonrobust                                         \n",
      "===================================================================================================\n",
      "                                      coef    std err          t      P>|t|      [0.025      0.975]\n",
      "---------------------------------------------------------------------------------------------------\n",
      "Intercept                           7.5570      0.050    150.393      0.000       7.458       7.655\n",
      "posse_de_veiculo[T.True]            0.0366      0.010      3.493      0.000       0.016       0.057\n",
      "sexo[T.M]                           0.3451      0.011     30.078      0.000       0.323       0.368\n",
      "educacao[T.Pós graduação]           0.0309      0.122      0.253      0.801      -0.209       0.271\n",
      "educacao[T.Secundário]             -0.0380      0.046     -0.835      0.404      -0.127       0.051\n",
      "educacao[T.Superior completo]       0.0504      0.046      1.098      0.272      -0.040       0.140\n",
      "educacao[T.Superior incompleto]    -0.0442      0.051     -0.861      0.389      -0.145       0.056\n",
      "idade                               0.0027      0.000      6.100      0.000       0.002       0.004\n",
      "renda                            7.229e-05      6e-07    120.451      0.000    7.11e-05    7.35e-05\n",
      "==============================================================================\n",
      "Omnibus:                    10748.322   Durbin-Watson:                   2.013\n",
      "Prob(Omnibus):                  0.000   Jarque-Bera (JB):           794403.827\n",
      "Skew:                          -2.771   Prob(JB):                         0.00\n",
      "Kurtosis:                      38.218   Cond. No.                     2.76e+05\n",
      "==============================================================================\n",
      "\n",
      "Notes:\n",
      "[1] Standard Errors assume that the covariance matrix of the errors is correctly specified.\n",
      "[2] The condition number is large, 2.76e+05. This might indicate that there are\n",
      "strong multicollinearity or other numerical problems.\n"
     ]
    }
   ],
   "source": [
    "# Adicionar uma constante ao modelo (necessário para statsmodels)\n",
    "X = sm.add_constant(X)\n",
    "\n",
    "# Ajustando o modelo de regressão (OLS - Ordinary Least Squares)\n",
    "model = sm.OLS(y, X).fit()\n",
    "\n",
    "# Resumo do modelo\n",
    "print(model.summary())"
   ]
  },
  {
   "cell_type": "markdown",
   "metadata": {},
   "source": [
    "- Avalie os parâmetros e veja se parecem fazer sentido prático"
   ]
  },
  {
   "cell_type": "code",
   "execution_count": 172,
   "metadata": {
    "ExecuteTime": {
     "end_time": "2025-01-03T13:28:37.668120Z",
     "start_time": "2025-01-03T13:28:37.659130Z"
    }
   },
   "outputs": [
    {
     "name": "stdout",
     "output_type": "stream",
     "text": [
      "\n",
      "Coeficientes interpretáveis:\n",
      "Intercept: 7.5570\n",
      "posse_de_veiculo[T.True]: 0.0366\n",
      "sexo[T.M]: 0.3451\n",
      "educacao[T.Pós graduação]: 0.0309\n",
      "educacao[T.Secundário]: -0.0380\n",
      "educacao[T.Superior completo]: 0.0504\n",
      "educacao[T.Superior incompleto]: -0.0442\n",
      "idade: 0.0027\n",
      "renda: 0.0001\n"
     ]
    }
   ],
   "source": [
    "# Análise dos coeficientes\n",
    "print(\"\\nCoeficientes interpretáveis:\")\n",
    "for param, value in model.params.items():\n",
    "    print(f\"{param}: {value:.4f}\")"
   ]
  },
  {
   "cell_type": "markdown",
   "metadata": {},
   "source": [
    "2. Remova a variável menos significante e analise:"
   ]
  },
  {
   "cell_type": "code",
   "execution_count": 175,
   "metadata": {
    "ExecuteTime": {
     "end_time": "2025-01-03T13:35:57.330427Z",
     "start_time": "2025-01-03T13:35:57.309932Z"
    }
   },
   "outputs": [
    {
     "name": "stdout",
     "output_type": "stream",
     "text": [
      "                            OLS Regression Results                            \n",
      "==============================================================================\n",
      "Dep. Variable:              log_renda   R-squared:                       0.571\n",
      "Model:                            OLS   Adj. R-squared:                  0.571\n",
      "Method:                 Least Squares   F-statistic:                     2492.\n",
      "Date:                Fri, 03 Jan 2025   Prob (F-statistic):               0.00\n",
      "Time:                        11:21:58   Log-Likelihood:                -13081.\n",
      "No. Observations:               15000   AIC:                         2.618e+04\n",
      "Df Residuals:                   14991   BIC:                         2.625e+04\n",
      "Df Model:                           8                                         \n",
      "Covariance Type:            nonrobust                                         \n",
      "===================================================================================================\n",
      "                                      coef    std err          t      P>|t|      [0.025      0.975]\n",
      "---------------------------------------------------------------------------------------------------\n",
      "Intercept                           7.5570      0.050    150.393      0.000       7.458       7.655\n",
      "posse_de_veiculo[T.True]            0.0366      0.010      3.493      0.000       0.016       0.057\n",
      "sexo[T.M]                           0.3451      0.011     30.078      0.000       0.323       0.368\n",
      "educacao[T.Pós graduação]           0.0309      0.122      0.253      0.801      -0.209       0.271\n",
      "educacao[T.Secundário]             -0.0380      0.046     -0.835      0.404      -0.127       0.051\n",
      "educacao[T.Superior completo]       0.0504      0.046      1.098      0.272      -0.040       0.140\n",
      "educacao[T.Superior incompleto]    -0.0442      0.051     -0.861      0.389      -0.145       0.056\n",
      "idade                               0.0027      0.000      6.100      0.000       0.002       0.004\n",
      "renda                            7.229e-05      6e-07    120.451      0.000    7.11e-05    7.35e-05\n",
      "==============================================================================\n",
      "Omnibus:                    10748.322   Durbin-Watson:                   2.013\n",
      "Prob(Omnibus):                  0.000   Jarque-Bera (JB):           794403.827\n",
      "Skew:                          -2.771   Prob(JB):                         0.00\n",
      "Kurtosis:                      38.218   Cond. No.                     2.76e+05\n",
      "==============================================================================\n",
      "\n",
      "Notes:\n",
      "[1] Standard Errors assume that the covariance matrix of the errors is correctly specified.\n",
      "[2] The condition number is large, 2.76e+05. This might indicate that there are\n",
      "strong multicollinearity or other numerical problems.\n",
      "\n",
      "Coeficientes do modelo reduzido:\n",
      "Intercept: 7.5570\n",
      "posse_de_veiculo[T.True]: 0.0366\n",
      "sexo[T.M]: 0.3451\n",
      "educacao[T.Pós graduação]: 0.0309\n",
      "educacao[T.Secundário]: -0.0380\n",
      "educacao[T.Superior completo]: 0.0504\n",
      "educacao[T.Superior incompleto]: -0.0442\n",
      "idade: 0.0027\n",
      "renda: 0.0001\n"
     ]
    }
   ],
   "source": [
    "# Removendo 'experiencia' do modelo\n",
    "formula_reduced = 'log_renda ~ idade + renda + posse_de_veiculo + sexo + educacao'\n",
    "\n",
    "# Criando novamente a matriz design sem a variável 'experiencia'\n",
    "y_reduced, X_reduced = dmatrices(formula_reduced, data=df, return_type=\"dataframe\")\n",
    "\n",
    "# Adicionando constante (necessária para statsmodels)\n",
    "X_reduced = sm.add_constant(X_reduced)\n",
    "\n",
    "# Ajustando o modelo reduzido\n",
    "model_reduced = sm.OLS(y_reduced, X_reduced).fit()\n",
    "\n",
    "# Resumo do modelo reduzido\n",
    "print(model_reduced.summary())\n",
    "\n",
    "# Coeficientes do modelo reduzido\n",
    "print(\"\\nCoeficientes do modelo reduzido:\")\n",
    "for param, value in model_reduced.params.items():\n",
    "    print(f\"{param}: {value:.4f}\")"
   ]
  },
  {
   "cell_type": "markdown",
   "metadata": {},
   "source": [
    " - Observe os indicadores que vimos, e avalie se o modelo melhorou ou piorou na sua opinião."
   ]
  },
  {
   "cell_type": "code",
   "execution_count": 178,
   "metadata": {
    "ExecuteTime": {
     "end_time": "2025-01-03T13:36:10.976927Z",
     "start_time": "2025-01-03T13:36:10.974446Z"
    }
   },
   "outputs": [
    {
     "name": "stdout",
     "output_type": "stream",
     "text": [
      "\n",
      "Comparação dos indicadores entre o modelo completo e o reduzido:\n",
      "R² original: 0.5708, R² ajustado: 0.5705\n",
      "R² reduzido: 0.5708, R² ajustado: 0.5705\n"
     ]
    }
   ],
   "source": [
    "# Comparação entre os modelos\n",
    "print(\"\\nComparação dos indicadores entre o modelo completo e o reduzido:\")\n",
    "print(f\"R² original: {model.rsquared:.4f}, R² ajustado: {model.rsquared_adj:.4f}\")\n",
    "print(f\"R² reduzido: {model_reduced.rsquared:.4f}, R² ajustado: {model_reduced.rsquared_adj:.4f}\")"
   ]
  },
  {
   "cell_type": "markdown",
   "metadata": {},
   "source": [
    "- Observe os parâmetros e veja se algum se alterou muito."
   ]
  },
  {
   "cell_type": "code",
   "execution_count": 181,
   "metadata": {
    "ExecuteTime": {
     "end_time": "2025-01-03T13:36:21.024213Z",
     "start_time": "2025-01-03T13:36:21.022023Z"
    }
   },
   "outputs": [
    {
     "name": "stdout",
     "output_type": "stream",
     "text": [
      "F-statistic original: 2491.78, p-value: 0.0000\n",
      "F-statistic reduzido: 2491.78, p-value: 0.0000\n"
     ]
    }
   ],
   "source": [
    "# Comparação do F-statistic\n",
    "print(f\"F-statistic original: {model.fvalue:.2f}, p-value: {model.f_pvalue:.4f}\")\n",
    "print(f\"F-statistic reduzido: {model_reduced.fvalue:.2f}, p-value: {model_reduced.f_pvalue:.4f}\")"
   ]
  },
  {
   "cell_type": "markdown",
   "metadata": {},
   "source": [
    "3. Siga removendo as variáveis menos significantes, sempre que o *p-value* for menor que 5%. Compare o modelo final com o inicial. Observe os indicadores e conclua se o modelo parece melhor."
   ]
  },
  {
   "cell_type": "code",
   "execution_count": 188,
   "metadata": {
    "ExecuteTime": {
     "end_time": "2025-01-03T13:39:37.597955Z",
     "start_time": "2025-01-03T13:38:03.257055Z"
    }
   },
   "outputs": [
    {
     "name": "stdout",
     "output_type": "stream",
     "text": [
      "Modelo Inicial:\n",
      "                            OLS Regression Results                            \n",
      "==============================================================================\n",
      "Dep. Variable:              log_renda   R-squared:                       0.571\n",
      "Model:                            OLS   Adj. R-squared:                  0.571\n",
      "Method:                 Least Squares   F-statistic:                     2492.\n",
      "Date:                Fri, 03 Jan 2025   Prob (F-statistic):               0.00\n",
      "Time:                        11:39:01   Log-Likelihood:                -13081.\n",
      "No. Observations:               15000   AIC:                         2.618e+04\n",
      "Df Residuals:                   14991   BIC:                         2.625e+04\n",
      "Df Model:                           8                                         \n",
      "Covariance Type:            nonrobust                                         \n",
      "===================================================================================================\n",
      "                                      coef    std err          t      P>|t|      [0.025      0.975]\n",
      "---------------------------------------------------------------------------------------------------\n",
      "Intercept                           7.5570      0.050    150.393      0.000       7.458       7.655\n",
      "posse_de_veiculo[T.True]            0.0366      0.010      3.493      0.000       0.016       0.057\n",
      "sexo[T.M]                           0.3451      0.011     30.078      0.000       0.323       0.368\n",
      "educacao[T.Pós graduação]           0.0309      0.122      0.253      0.801      -0.209       0.271\n",
      "educacao[T.Secundário]             -0.0380      0.046     -0.835      0.404      -0.127       0.051\n",
      "educacao[T.Superior completo]       0.0504      0.046      1.098      0.272      -0.040       0.140\n",
      "educacao[T.Superior incompleto]    -0.0442      0.051     -0.861      0.389      -0.145       0.056\n",
      "idade                               0.0027      0.000      6.100      0.000       0.002       0.004\n",
      "renda                            7.229e-05      6e-07    120.451      0.000    7.11e-05    7.35e-05\n",
      "==============================================================================\n",
      "Omnibus:                    10748.322   Durbin-Watson:                   2.013\n",
      "Prob(Omnibus):                  0.000   Jarque-Bera (JB):           794403.827\n",
      "Skew:                          -2.771   Prob(JB):                         0.00\n",
      "Kurtosis:                      38.218   Cond. No.                     2.76e+05\n",
      "==============================================================================\n",
      "\n",
      "Notes:\n",
      "[1] Standard Errors assume that the covariance matrix of the errors is correctly specified.\n",
      "[2] The condition number is large, 2.76e+05. This might indicate that there are\n",
      "strong multicollinearity or other numerical problems.\n"
     ]
    },
    {
     "ename": "KeyError",
     "evalue": "\"['const'] not found in axis\"",
     "output_type": "error",
     "traceback": [
      "\u001b[0;31m---------------------------------------------------------------------------\u001b[0m",
      "\u001b[0;31mKeyError\u001b[0m                                  Traceback (most recent call last)",
      "Cell \u001b[0;32mIn[188], line 15\u001b[0m\n\u001b[1;32m     13\u001b[0m \u001b[38;5;28;01mwhile\u001b[39;00m \u001b[38;5;28;01mTrue\u001b[39;00m:\n\u001b[1;32m     14\u001b[0m     p_values \u001b[38;5;241m=\u001b[39m modelo\u001b[38;5;241m.\u001b[39mpvalues  \u001b[38;5;66;03m# Obtém os p-valores\u001b[39;00m\n\u001b[0;32m---> 15\u001b[0m     p_values \u001b[38;5;241m=\u001b[39m p_values\u001b[38;5;241m.\u001b[39mdrop(\u001b[38;5;124m'\u001b[39m\u001b[38;5;124mconst\u001b[39m\u001b[38;5;124m'\u001b[39m)  \u001b[38;5;66;03m# Ignora a constante\u001b[39;00m\n\u001b[1;32m     17\u001b[0m     \u001b[38;5;66;03m# Obtém o maior p-valor\u001b[39;00m\n\u001b[1;32m     18\u001b[0m     max_p_value \u001b[38;5;241m=\u001b[39m p_values\u001b[38;5;241m.\u001b[39mmax()\n",
      "File \u001b[0;32m~/anaconda3/lib/python3.12/site-packages/pandas/core/series.py:5356\u001b[0m, in \u001b[0;36mSeries.drop\u001b[0;34m(self, labels, axis, index, columns, level, inplace, errors)\u001b[0m\n\u001b[1;32m   5259\u001b[0m \u001b[38;5;28;01mdef\u001b[39;00m \u001b[38;5;21mdrop\u001b[39m(\n\u001b[1;32m   5260\u001b[0m     \u001b[38;5;28mself\u001b[39m,\n\u001b[1;32m   5261\u001b[0m     labels: IndexLabel \u001b[38;5;241m|\u001b[39m \u001b[38;5;28;01mNone\u001b[39;00m \u001b[38;5;241m=\u001b[39m \u001b[38;5;28;01mNone\u001b[39;00m,\n\u001b[0;32m   (...)\u001b[0m\n\u001b[1;32m   5268\u001b[0m     errors: IgnoreRaise \u001b[38;5;241m=\u001b[39m \u001b[38;5;124m\"\u001b[39m\u001b[38;5;124mraise\u001b[39m\u001b[38;5;124m\"\u001b[39m,\n\u001b[1;32m   5269\u001b[0m ) \u001b[38;5;241m-\u001b[39m\u001b[38;5;241m>\u001b[39m Series \u001b[38;5;241m|\u001b[39m \u001b[38;5;28;01mNone\u001b[39;00m:\n\u001b[1;32m   5270\u001b[0m \u001b[38;5;250m    \u001b[39m\u001b[38;5;124;03m\"\"\"\u001b[39;00m\n\u001b[1;32m   5271\u001b[0m \u001b[38;5;124;03m    Return Series with specified index labels removed.\u001b[39;00m\n\u001b[1;32m   5272\u001b[0m \n\u001b[0;32m   (...)\u001b[0m\n\u001b[1;32m   5354\u001b[0m \u001b[38;5;124;03m    dtype: float64\u001b[39;00m\n\u001b[1;32m   5355\u001b[0m \u001b[38;5;124;03m    \"\"\"\u001b[39;00m\n\u001b[0;32m-> 5356\u001b[0m     \u001b[38;5;28;01mreturn\u001b[39;00m \u001b[38;5;28msuper\u001b[39m()\u001b[38;5;241m.\u001b[39mdrop(\n\u001b[1;32m   5357\u001b[0m         labels\u001b[38;5;241m=\u001b[39mlabels,\n\u001b[1;32m   5358\u001b[0m         axis\u001b[38;5;241m=\u001b[39maxis,\n\u001b[1;32m   5359\u001b[0m         index\u001b[38;5;241m=\u001b[39mindex,\n\u001b[1;32m   5360\u001b[0m         columns\u001b[38;5;241m=\u001b[39mcolumns,\n\u001b[1;32m   5361\u001b[0m         level\u001b[38;5;241m=\u001b[39mlevel,\n\u001b[1;32m   5362\u001b[0m         inplace\u001b[38;5;241m=\u001b[39minplace,\n\u001b[1;32m   5363\u001b[0m         errors\u001b[38;5;241m=\u001b[39merrors,\n\u001b[1;32m   5364\u001b[0m     )\n",
      "File \u001b[0;32m~/anaconda3/lib/python3.12/site-packages/pandas/core/generic.py:4788\u001b[0m, in \u001b[0;36mNDFrame.drop\u001b[0;34m(self, labels, axis, index, columns, level, inplace, errors)\u001b[0m\n\u001b[1;32m   4786\u001b[0m \u001b[38;5;28;01mfor\u001b[39;00m axis, labels \u001b[38;5;129;01min\u001b[39;00m axes\u001b[38;5;241m.\u001b[39mitems():\n\u001b[1;32m   4787\u001b[0m     \u001b[38;5;28;01mif\u001b[39;00m labels \u001b[38;5;129;01mis\u001b[39;00m \u001b[38;5;129;01mnot\u001b[39;00m \u001b[38;5;28;01mNone\u001b[39;00m:\n\u001b[0;32m-> 4788\u001b[0m         obj \u001b[38;5;241m=\u001b[39m obj\u001b[38;5;241m.\u001b[39m_drop_axis(labels, axis, level\u001b[38;5;241m=\u001b[39mlevel, errors\u001b[38;5;241m=\u001b[39merrors)\n\u001b[1;32m   4790\u001b[0m \u001b[38;5;28;01mif\u001b[39;00m inplace:\n\u001b[1;32m   4791\u001b[0m     \u001b[38;5;28mself\u001b[39m\u001b[38;5;241m.\u001b[39m_update_inplace(obj)\n",
      "File \u001b[0;32m~/anaconda3/lib/python3.12/site-packages/pandas/core/generic.py:4830\u001b[0m, in \u001b[0;36mNDFrame._drop_axis\u001b[0;34m(self, labels, axis, level, errors, only_slice)\u001b[0m\n\u001b[1;32m   4828\u001b[0m         new_axis \u001b[38;5;241m=\u001b[39m axis\u001b[38;5;241m.\u001b[39mdrop(labels, level\u001b[38;5;241m=\u001b[39mlevel, errors\u001b[38;5;241m=\u001b[39merrors)\n\u001b[1;32m   4829\u001b[0m     \u001b[38;5;28;01melse\u001b[39;00m:\n\u001b[0;32m-> 4830\u001b[0m         new_axis \u001b[38;5;241m=\u001b[39m axis\u001b[38;5;241m.\u001b[39mdrop(labels, errors\u001b[38;5;241m=\u001b[39merrors)\n\u001b[1;32m   4831\u001b[0m     indexer \u001b[38;5;241m=\u001b[39m axis\u001b[38;5;241m.\u001b[39mget_indexer(new_axis)\n\u001b[1;32m   4833\u001b[0m \u001b[38;5;66;03m# Case for non-unique axis\u001b[39;00m\n\u001b[1;32m   4834\u001b[0m \u001b[38;5;28;01melse\u001b[39;00m:\n",
      "File \u001b[0;32m~/anaconda3/lib/python3.12/site-packages/pandas/core/indexes/base.py:7070\u001b[0m, in \u001b[0;36mIndex.drop\u001b[0;34m(self, labels, errors)\u001b[0m\n\u001b[1;32m   7068\u001b[0m \u001b[38;5;28;01mif\u001b[39;00m mask\u001b[38;5;241m.\u001b[39many():\n\u001b[1;32m   7069\u001b[0m     \u001b[38;5;28;01mif\u001b[39;00m errors \u001b[38;5;241m!=\u001b[39m \u001b[38;5;124m\"\u001b[39m\u001b[38;5;124mignore\u001b[39m\u001b[38;5;124m\"\u001b[39m:\n\u001b[0;32m-> 7070\u001b[0m         \u001b[38;5;28;01mraise\u001b[39;00m \u001b[38;5;167;01mKeyError\u001b[39;00m(\u001b[38;5;124mf\u001b[39m\u001b[38;5;124m\"\u001b[39m\u001b[38;5;132;01m{\u001b[39;00mlabels[mask]\u001b[38;5;241m.\u001b[39mtolist()\u001b[38;5;132;01m}\u001b[39;00m\u001b[38;5;124m not found in axis\u001b[39m\u001b[38;5;124m\"\u001b[39m)\n\u001b[1;32m   7071\u001b[0m     indexer \u001b[38;5;241m=\u001b[39m indexer[\u001b[38;5;241m~\u001b[39mmask]\n\u001b[1;32m   7072\u001b[0m \u001b[38;5;28;01mreturn\u001b[39;00m \u001b[38;5;28mself\u001b[39m\u001b[38;5;241m.\u001b[39mdelete(indexer)\n",
      "\u001b[0;31mKeyError\u001b[0m: \"['const'] not found in axis\""
     ]
    }
   ],
   "source": [
    "# Configurando as variáveis independentes e dependente\n",
    "X = sm.add_constant(X)  # Adicionando uma constante ao modelo\n",
    "y = y\n",
    "\n",
    "# Ajuste do modelo inicial\n",
    "modelo = sm.OLS(y, X).fit()\n",
    "\n",
    "# Exibindo o resumo inicial\n",
    "print(\"Modelo Inicial:\")\n",
    "print(modelo.summary())\n",
    "\n",
    "# Remoção de variáveis não significativas\n",
    "while True:\n",
    "    p_values = modelo.pvalues  # Obtém os p-valores\n",
    "    p_values = p_values.drop('const')  # Ignora a constante\n",
    "\n",
    "    # Obtém o maior p-valor\n",
    "    max_p_value = p_values.max()\n",
    "\n",
    "    # Se o maior p-valor for menor que 0.05, encerra o processo\n",
    "    if max_p_value < 0.05:\n",
    "        break\n",
    "\n",
    "    # Remove a variável com maior p-valor\n",
    "    variavel_remover = p_values.idxmax()\n",
    "    print(f\"Removendo variável '{variavel_remover}' com p-valor de {max_p_value:.4f}\")\n",
    "    X = X.drop(columns=[variavel_remover])\n",
    "\n",
    "    # Ajusta o modelo novamente\n",
    "    modelo = sm.OLS(y, X).fit()\n",
    "\n",
    "# Exibindo o modelo final\n",
    "print(\"\\nModelo Final:\")\n",
    "print(modelo.summary())"
   ]
  },
  {
   "cell_type": "code",
   "execution_count": null,
   "metadata": {},
   "outputs": [],
   "source": []
  },
  {
   "cell_type": "code",
   "execution_count": null,
   "metadata": {},
   "outputs": [],
   "source": []
  },
  {
   "cell_type": "code",
   "execution_count": null,
   "metadata": {},
   "outputs": [],
   "source": []
  },
  {
   "cell_type": "code",
   "execution_count": null,
   "metadata": {},
   "outputs": [],
   "source": []
  },
  {
   "cell_type": "code",
   "execution_count": null,
   "metadata": {},
   "outputs": [],
   "source": []
  }
 ],
 "metadata": {
  "kernelspec": {
   "display_name": "Python [conda env:base] *",
   "language": "python",
   "name": "conda-base-py"
  },
  "language_info": {
   "codemirror_mode": {
    "name": "ipython",
    "version": 3
   },
   "file_extension": ".py",
   "mimetype": "text/x-python",
   "name": "python",
   "nbconvert_exporter": "python",
   "pygments_lexer": "ipython3",
   "version": "3.12.7"
  }
 },
 "nbformat": 4,
 "nbformat_minor": 4
}
