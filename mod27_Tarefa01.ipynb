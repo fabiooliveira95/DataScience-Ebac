{
 "cells": [
  {
   "cell_type": "markdown",
   "metadata": {},
   "source": [
    "![Cabec%CC%A7alho_notebook.png](cabecalho_notebook.png)"
   ]
  },
  {
   "cell_type": "markdown",
   "metadata": {},
   "source": [
    "# PCA - Tarefa 01: *HAR* com PCA\n",
    "\n",
    "Vamos trabalhar com a base da demonstração feita em aula, mas vamos explorar um pouco melhor como é o desempenho da árvore variando o número de componentes principais."
   ]
  },
  {
   "cell_type": "code",
   "metadata": {
    "ExecuteTime": {
     "end_time": "2025-03-19T23:28:31.417040Z",
     "start_time": "2025-03-19T23:28:31.212822Z"
    }
   },
   "source": [
    "import pandas as pd\n",
    "\n",
    "from sklearn.tree import DecisionTreeClassifier\n",
    "\n",
    "from sklearn.decomposition import PCA\n",
    "from sklearn.metrics import accuracy_score\n",
    "from sklearn.model_selection import cross_val_score\n",
    "from sklearn.model_selection import GridSearchCV"
   ],
   "outputs": [],
   "execution_count": 1
  },
  {
   "cell_type": "code",
   "metadata": {
    "ExecuteTime": {
     "end_time": "2025-03-19T23:29:40.689324Z",
     "start_time": "2025-03-19T23:29:39.883890Z"
    }
   },
   "source": [
    "filename_features = \"~/Desktop/UCI HAR Dataset/features.txt\"\n",
    "filename_labels = \"~/Desktop/UCI HAR Dataset/activity_labels.txt\"\n",
    "\n",
    "filename_subtrain = \"~/Desktop/UCI HAR Dataset/train/subject_train.txt\"\n",
    "filename_xtrain = \"~/Desktop/UCI HAR Dataset/train/X_train.txt\"\n",
    "filename_ytrain = \"~/Desktop/UCI HAR Dataset/train/y_train.txt\"\n",
    "\n",
    "filename_subtest = \"~/Desktop/UCI HAR Dataset/test/subject_test.txt\"\n",
    "ffilename_xtest = \"~/Desktop/UCI HAR Dataset/test/X_test.txt\"\n",
    "filename_ytest = \"~/Desktop/UCI HAR Dataset/test/y_test.txt\"\n",
    "\n",
    "# Reading data\n",
    "# Remove `squeeze=True` and use `.iloc` to extract the Series.\n",
    "features = pd.read_csv(filename_features, header=None, names=['nome_var'], sep=\"#\")['nome_var']\n",
    "labels = pd.read_csv(filename_labels, delim_whitespace=True, header=None, names=['cod_label', 'label'])\n",
    "\n",
    "subject_train = pd.read_csv(filename_subtrain, header=None, names=['subject_id'])['subject_id']\n",
    "X_train = pd.read_csv(filename_xtrain, delim_whitespace=True, header=None)\n",
    "y_train = pd.read_csv(filename_ytrain, header=None, names=['activity_id'])['activity_id']\n",
    "\n",
    "# Test data\n",
    "X_test = pd.read_csv(ffilename_xtest, delim_whitespace=True, header=None)\n",
    "y_test = pd.read_csv(filename_ytest, header=None, names=['activity_id'])['activity_id']\n"
   ],
   "outputs": [
    {
     "name": "stderr",
     "output_type": "stream",
     "text": [
      "/tmp/ipykernel_7088/863137963.py:15: FutureWarning: The 'delim_whitespace' keyword in pd.read_csv is deprecated and will be removed in a future version. Use ``sep='\\s+'`` instead\n",
      "  labels = pd.read_csv(filename_labels, delim_whitespace=True, header=None, names=['cod_label', 'label'])\n",
      "/tmp/ipykernel_7088/863137963.py:18: FutureWarning: The 'delim_whitespace' keyword in pd.read_csv is deprecated and will be removed in a future version. Use ``sep='\\s+'`` instead\n",
      "  X_train = pd.read_csv(filename_xtrain, delim_whitespace=True, header=None)\n",
      "/tmp/ipykernel_7088/863137963.py:22: FutureWarning: The 'delim_whitespace' keyword in pd.read_csv is deprecated and will be removed in a future version. Use ``sep='\\s+'`` instead\n",
      "  X_test = pd.read_csv(ffilename_xtest, delim_whitespace=True, header=None)\n"
     ]
    }
   ],
   "execution_count": 2
  },
  {
   "metadata": {},
   "cell_type": "markdown",
   "source": "A base original vem dividdida em treino e testes. Vamos dividir a base de treino em Treino e Validação, para podermos fazer o post-prunning da nossa árvore - e avaliar o modelo final em uma base de testes isenta."
  },
  {
   "metadata": {
    "ExecuteTime": {
     "end_time": "2025-03-19T23:29:43.661897Z",
     "start_time": "2025-03-19T23:29:43.648907Z"
    }
   },
   "cell_type": "code",
   "source": [
    "from sklearn.model_selection import train_test_split\n",
    "\n",
    "X_train, X_valid, y_train, y_valid = train_test_split(X_train, y_train)"
   ],
   "outputs": [],
   "execution_count": 3
  },
  {
   "cell_type": "markdown",
   "metadata": {},
   "source": [
    "## Árvore de decisão\n",
    "\n",
    "Rode uma árvore de decisão com todas as variáveis, utilizando o ```ccp_alpha=0.001```. Avalie a acurácia nas bases de treinamento e teste. Avalie o tempo de processamento."
   ]
  },
  {
   "cell_type": "code",
   "metadata": {
    "ExecuteTime": {
     "end_time": "2025-03-19T23:38:58.880398Z",
     "start_time": "2025-03-19T23:36:25.266370Z"
    }
   },
   "source": [
    "%%time\n",
    "import numpy as np\n",
    "\n",
    "clf = DecisionTreeClassifier(random_state=1234, ccp_alpha=0.001).fit(X_train, y_train)\n",
    "caminho = DecisionTreeClassifier(random_state=2360873, min_samples_leaf=20).cost_complexity_pruning_path(X_train, y_train)\n",
    "ccp_alphas, impurities = caminho.ccp_alphas, caminho.impurities\n",
    "\n",
    "ccp_alphas = np.unique(ccp_alphas[ccp_alphas>=0])\n",
    "\n",
    "clfs = []\n",
    "for ccp_alpha in ccp_alphas:\n",
    "    clf = DecisionTreeClassifier(random_state=2360873, ccp_alpha=ccp_alpha).fit(X_train, y_train)\n",
    "    clfs.append(clf)"
   ],
   "outputs": [
    {
     "name": "stdout",
     "output_type": "stream",
     "text": [
      "CPU times: user 2min 33s, sys: 1.29 ms, total: 2min 33s\n",
      "Wall time: 2min 33s\n"
     ]
    }
   ],
   "execution_count": 5
  },
  {
   "metadata": {},
   "cell_type": "code",
   "outputs": [],
   "execution_count": null,
   "source": ""
  },
  {
   "cell_type": "markdown",
   "metadata": {},
   "source": [
    "## Árvore com PCA\n",
    "\n",
    "Faça uma análise de componemtes principais das variáveis originais. Utilize apenas uma componente. Faça uma árvore de decisão com esta componente como variável explicativa.\n",
    "\n",
    "- Avalie a acurácia nas bases de treinamento e teste\n",
    "- Avalie o tempo de processamento"
   ]
  },
  {
   "metadata": {
    "ExecuteTime": {
     "end_time": "2025-03-19T23:42:25.215648Z",
     "start_time": "2025-03-19T23:42:24.993511Z"
    }
   },
   "cell_type": "code",
   "source": [
    "%%time\n",
    "\n",
    "prcomp = PCA(n_components=1).fit(X_train)\n",
    "\n",
    "pc_treino = prcomp.transform(X_train)\n",
    "pc_valida = prcomp.transform(X_valid)\n",
    "pc_teste  = prcomp.transform(X_test)\n",
    "\n",
    "pc_treino.shape"
   ],
   "outputs": [
    {
     "name": "stdout",
     "output_type": "stream",
     "text": [
      "CPU times: user 3.16 s, sys: 8.99 ms, total: 3.17 s\n",
      "Wall time: 218 ms\n"
     ]
    },
    {
     "data": {
      "text/plain": [
       "(5514, 1)"
      ]
     },
     "execution_count": 7,
     "metadata": {},
     "output_type": "execute_result"
    }
   ],
   "execution_count": 7
  },
  {
   "metadata": {
    "ExecuteTime": {
     "end_time": "2025-03-19T23:45:35.609138Z",
     "start_time": "2025-03-19T23:45:35.604229Z"
    }
   },
   "cell_type": "code",
   "source": [
    "n=1\n",
    "\n",
    "colunas = ['cp'+str(x+1) for x in list(range(n))]\n",
    "\n",
    "pc_train = pd.DataFrame(pc_treino[:,:n], columns = colunas)\n",
    "pc_valid = pd.DataFrame(pc_valida[:,:n], columns = colunas)\n",
    "pc_test  = pd.DataFrame( pc_teste[:,:n], columns = colunas)\n",
    "\n",
    "pc_train.head()"
   ],
   "outputs": [
    {
     "data": {
      "text/plain": [
       "        cp1\n",
       "0 -5.396791\n",
       "1  8.416578\n",
       "2 -3.111766\n",
       "3  7.149643\n",
       "4 -2.153767"
      ],
      "text/html": [
       "<div>\n",
       "<style scoped>\n",
       "    .dataframe tbody tr th:only-of-type {\n",
       "        vertical-align: middle;\n",
       "    }\n",
       "\n",
       "    .dataframe tbody tr th {\n",
       "        vertical-align: top;\n",
       "    }\n",
       "\n",
       "    .dataframe thead th {\n",
       "        text-align: right;\n",
       "    }\n",
       "</style>\n",
       "<table border=\"1\" class=\"dataframe\">\n",
       "  <thead>\n",
       "    <tr style=\"text-align: right;\">\n",
       "      <th></th>\n",
       "      <th>cp1</th>\n",
       "    </tr>\n",
       "  </thead>\n",
       "  <tbody>\n",
       "    <tr>\n",
       "      <th>0</th>\n",
       "      <td>-5.396791</td>\n",
       "    </tr>\n",
       "    <tr>\n",
       "      <th>1</th>\n",
       "      <td>8.416578</td>\n",
       "    </tr>\n",
       "    <tr>\n",
       "      <th>2</th>\n",
       "      <td>-3.111766</td>\n",
       "    </tr>\n",
       "    <tr>\n",
       "      <th>3</th>\n",
       "      <td>7.149643</td>\n",
       "    </tr>\n",
       "    <tr>\n",
       "      <th>4</th>\n",
       "      <td>-2.153767</td>\n",
       "    </tr>\n",
       "  </tbody>\n",
       "</table>\n",
       "</div>"
      ]
     },
     "execution_count": 11,
     "metadata": {},
     "output_type": "execute_result"
    }
   ],
   "execution_count": 11
  },
  {
   "metadata": {
    "ExecuteTime": {
     "end_time": "2025-03-19T23:52:06.003007Z",
     "start_time": "2025-03-19T23:52:05.978333Z"
    }
   },
   "cell_type": "code",
   "source": [
    "%%time\n",
    "clf_pca = DecisionTreeClassifier(random_state=1234, ccp_alpha=0.001).fit(pc_train, y_train)"
   ],
   "outputs": [
    {
     "name": "stdout",
     "output_type": "stream",
     "text": [
      "CPU times: user 22.7 ms, sys: 1e+03 ns, total: 22.7 ms\n",
      "Wall time: 22.4 ms\n"
     ]
    }
   ],
   "execution_count": 12
  },
  {
   "metadata": {
    "ExecuteTime": {
     "end_time": "2025-03-19T23:52:44.536046Z",
     "start_time": "2025-03-19T23:52:44.528806Z"
    }
   },
   "cell_type": "code",
   "source": [
    "print(clf_pca.score(pc_valid, y_valid))\n",
    "print(clf_pca.score(pc_test, y_test))\n",
    "print(clf_pca.score(pc_train, y_train))"
   ],
   "outputs": [
    {
     "name": "stdout",
     "output_type": "stream",
     "text": [
      "0.4809575625680087\n",
      "0.45266372582287073\n",
      "0.5027203482045702\n"
     ]
    }
   ],
   "execution_count": 16
  },
  {
   "cell_type": "markdown",
   "metadata": {},
   "source": [
    "## Testando o número de componentes\n",
    "\n",
    "Com base no código acima, teste a árvore de classificação com pelo menos as seguintes possibilidades de quantidades de componentes: ```[1, 2, 5, 10, 50]```. Avalie para cada uma delas:\n",
    "\n",
    "- Acurácia nas bases de treino e teste\n",
    "- Tempo de processamento\n"
   ]
  },
  {
   "cell_type": "code",
   "metadata": {
    "ExecuteTime": {
     "end_time": "2025-03-20T00:01:10.414039Z",
     "start_time": "2025-03-20T00:01:10.098296Z"
    }
   },
   "source": [
    "%%time\n",
    "\n",
    "prcomp = PCA().fit(X_train)\n",
    "\n",
    "pc_treino = prcomp.transform(X_train)\n",
    "pc_teste = prcomp.transform(X_test)"
   ],
   "outputs": [
    {
     "name": "stdout",
     "output_type": "stream",
     "text": [
      "CPU times: user 4.28 s, sys: 17 ms, total: 4.3 s\n",
      "Wall time: 304 ms\n"
     ]
    }
   ],
   "execution_count": 21
  },
  {
   "metadata": {
    "ExecuteTime": {
     "end_time": "2025-03-20T00:02:47.151945Z",
     "start_time": "2025-03-20T00:02:46.764081Z"
    }
   },
   "cell_type": "code",
   "source": [
    "lista = [1, 2, 5, 10, 50]\n",
    "score_train = []\n",
    "score_test = []\n",
    "\n",
    "for n in lista:\n",
    "    colunas = ['cp'+str(x+1) for x in list(range(n))]\n",
    "\n",
    "    pc_train = pd.DataFrame(pc_treino[:, :n], columns=colunas)\n",
    "    pc_test = pd.DataFrame(pc_teste[:, :n], columns=colunas)\n",
    "\n",
    "    clf = DecisionTreeClassifier(random_state=100, ccp_alpha=0.001).fit(pc_train, y_train)\n",
    "\n",
    "    s_tr = clf.score(pc_train, y_train)\n",
    "    score_train.append(s_tr)\n",
    "\n",
    "    s_te = clf.score(pc_test, y_test)\n",
    "    score_test.append(s_te)"
   ],
   "outputs": [],
   "execution_count": 24
  },
  {
   "metadata": {
    "ExecuteTime": {
     "end_time": "2025-03-20T00:03:25.174872Z",
     "start_time": "2025-03-20T00:03:25.168431Z"
    }
   },
   "cell_type": "code",
   "source": [
    "resultados = {'quantidade_componentes': lista, 'score_treino': score_train, 'score_teste': score_test}\n",
    "\n",
    "df = pd.DataFrame(resultados)\n",
    "df"
   ],
   "outputs": [
    {
     "data": {
      "text/plain": [
       "   quantidade_componentes  score_treino  score_teste\n",
       "0                       1      0.502720     0.452664\n",
       "1                       2      0.624592     0.559552\n",
       "2                       5      0.852194     0.784866\n",
       "3                      10      0.899347     0.818120\n",
       "4                      50      0.941240     0.799796"
      ],
      "text/html": [
       "<div>\n",
       "<style scoped>\n",
       "    .dataframe tbody tr th:only-of-type {\n",
       "        vertical-align: middle;\n",
       "    }\n",
       "\n",
       "    .dataframe tbody tr th {\n",
       "        vertical-align: top;\n",
       "    }\n",
       "\n",
       "    .dataframe thead th {\n",
       "        text-align: right;\n",
       "    }\n",
       "</style>\n",
       "<table border=\"1\" class=\"dataframe\">\n",
       "  <thead>\n",
       "    <tr style=\"text-align: right;\">\n",
       "      <th></th>\n",
       "      <th>quantidade_componentes</th>\n",
       "      <th>score_treino</th>\n",
       "      <th>score_teste</th>\n",
       "    </tr>\n",
       "  </thead>\n",
       "  <tbody>\n",
       "    <tr>\n",
       "      <th>0</th>\n",
       "      <td>1</td>\n",
       "      <td>0.502720</td>\n",
       "      <td>0.452664</td>\n",
       "    </tr>\n",
       "    <tr>\n",
       "      <th>1</th>\n",
       "      <td>2</td>\n",
       "      <td>0.624592</td>\n",
       "      <td>0.559552</td>\n",
       "    </tr>\n",
       "    <tr>\n",
       "      <th>2</th>\n",
       "      <td>5</td>\n",
       "      <td>0.852194</td>\n",
       "      <td>0.784866</td>\n",
       "    </tr>\n",
       "    <tr>\n",
       "      <th>3</th>\n",
       "      <td>10</td>\n",
       "      <td>0.899347</td>\n",
       "      <td>0.818120</td>\n",
       "    </tr>\n",
       "    <tr>\n",
       "      <th>4</th>\n",
       "      <td>50</td>\n",
       "      <td>0.941240</td>\n",
       "      <td>0.799796</td>\n",
       "    </tr>\n",
       "  </tbody>\n",
       "</table>\n",
       "</div>"
      ]
     },
     "execution_count": 26,
     "metadata": {},
     "output_type": "execute_result"
    }
   ],
   "execution_count": 26
  },
  {
   "metadata": {
    "ExecuteTime": {
     "end_time": "2025-03-20T00:04:00.643044Z",
     "start_time": "2025-03-20T00:04:00.558813Z"
    }
   },
   "cell_type": "code",
   "source": [
    "import matplotlib.pyplot as plt\n",
    "\n",
    "fig, ax = plt.subplots()\n",
    "\n",
    "ax.set_xlabel(\"quantidade_componentes\")\n",
    "ax.set_ylabel(\"Acurácia\")\n",
    "ax.set_title(\"Acurácia x Quantidade de Componentes\")\n",
    "ax.plot(df['quantidade_componentes'], df['score_treino'], marker='o', label=\"treino\", drawstyle=\"steps-post\")\n",
    "ax.plot(df['quantidade_componentes'], df['score_teste'], marker='o', label=\"teste\", drawstyle=\"steps-post\")\n",
    "\n",
    "ax.legend()\n",
    "plt.show()"
   ],
   "outputs": [
    {
     "data": {
      "text/plain": [
       "<Figure size 640x480 with 1 Axes>"
      ],
      "image/png": "[encoded data removed]"
     },
     "metadata": {},
     "output_type": "display_data"
    }
   ],
   "execution_count": 28
  },
  {
   "metadata": {
    "ExecuteTime": {
     "end_time": "2025-03-20T00:04:14.227110Z",
     "start_time": "2025-03-20T00:04:14.165723Z"
    }
   },
   "cell_type": "code",
   "source": [
    "%%time\n",
    "\n",
    "n = 10\n",
    "\n",
    "colunas = ['cp'+str(x+1) for x in list(range(n))]\n",
    "\n",
    "pc_train = pd.DataFrame(pc_treino[:, :n], columns=colunas)\n",
    "pc_test = pd.DataFrame(pc_teste[:, :n], columns=colunas)\n",
    "\n",
    "clf = DecisionTreeClassifier(random_state=1234, ccp_alpha=0.001).fit(pc_train, y_train)\n"
   ],
   "outputs": [
    {
     "name": "stdout",
     "output_type": "stream",
     "text": [
      "CPU times: user 58.2 ms, sys: 0 ns, total: 58.2 ms\n",
      "Wall time: 57.4 ms\n"
     ]
    }
   ],
   "execution_count": 29
  },
  {
   "cell_type": "markdown",
   "metadata": {},
   "source": [
    "## Conclua\n",
    "\n",
    "- O que aconteceu com a acurácia?\n",
    "- O que aconteceu com o tempo de processamento?"
   ]
  },
  {
   "metadata": {},
   "cell_type": "markdown",
   "source": [
    "questao 1\n",
    "\n",
    "A acurácia do modelo melhora com o aumento da quantidade de componentes até um certo ponto.\n",
    "Após esse ponto, a acurácia do conjunto de teste se estabiliza ou diminui, indicando overfitting.\n",
    "A quantidade ideal de componentes parece ser por volta de 10, onde o modelo atinge um bom equilíbrio entre desempenho no treino e no teste."
   ]
  },
  {
   "metadata": {},
   "cell_type": "markdown",
   "source": [
    "questao 2\n",
    "\n",
    "o tempo teve uma melhora em relacao ao tempo anterio que foi\n",
    "de 4.3 minutos ja nesse tempo chegou a 58.2 segundo"
   ]
  }
 ],
 "metadata": {
  "kernelspec": {
   "display_name": "Python 3 (ipykernel)",
   "language": "python",
   "name": "python3"
  },
  "language_info": {
   "codemirror_mode": {
    "name": "ipython",
    "version": 3
   },
   "file_extension": ".py",
   "mimetype": "text/x-python",
   "name": "python",
   "nbconvert_exporter": "python",
   "pygments_lexer": "ipython3",
   "version": "3.12.7"
  },
  "toc": {
   "base_numbering": 1,
   "nav_menu": {},
   "number_sections": true,
   "sideBar": true,
   "skip_h1_title": true,
   "title_cell": "Índice",
   "title_sidebar": "Conteúdo",
   "toc_cell": false,
   "toc_position": {},
   "toc_section_display": true,
   "toc_window_display": false
  },
  "varInspector": {
   "cols": {
    "lenName": 16,
    "lenType": 16,
    "lenVar": 40
   },
   "kernels_config": {
    "python": {
     "delete_cmd_postfix": "",
     "delete_cmd_prefix": "del ",
     "library": "var_list.py",
     "varRefreshCmd": "print(var_dic_list())"
    },
    "r": {
     "delete_cmd_postfix": ") ",
     "delete_cmd_prefix": "rm(",
     "library": "var_list.r",
     "varRefreshCmd": "cat(var_dic_list()) "
    }
   },
   "types_to_exclude": [
    "module",
    "function",
    "builtin_function_or_method",
    "instance",
    "_Feature"
   ],
   "window_display": false
  }
 },
 "nbformat": 4,
 "nbformat_minor": 4
}
