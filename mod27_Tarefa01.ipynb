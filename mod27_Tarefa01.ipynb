{
 "cells": [
  {
   "cell_type": "markdown",
   "metadata": {},
   "source": [
    "![Cabec%CC%A7alho_notebook.png](cabecalho_notebook.png)"
   ]
  },
  {
   "cell_type": "markdown",
   "metadata": {},
   "source": [
    "# PCA - Tarefa 01: *HAR* com PCA\n",
    "\n",
    "Vamos trabalhar com a base da demonstração feita em aula, mas vamos explorar um pouco melhor como é o desempenho da árvore variando o número de componentes principais."
   ]
  },
  {
   "cell_type": "code",
   "metadata": {
    "ExecuteTime": {
     "end_time": "2025-03-18T20:08:49.338295Z",
     "start_time": "2025-03-18T20:08:49.336091Z"
    }
   },
   "source": [
    "import pandas as pd\n",
    "\n",
    "from sklearn.tree import DecisionTreeClassifier\n",
    "\n",
    "from sklearn.decomposition import PCA\n",
    "from sklearn.metrics import accuracy_score\n",
    "from sklearn.model_selection import cross_val_score\n",
    "from sklearn.model_selection import GridSearchCV"
   ],
   "outputs": [],
   "execution_count": 32
  },
  {
   "cell_type": "code",
   "metadata": {
    "ExecuteTime": {
     "end_time": "2025-03-18T20:08:52.682715Z",
     "start_time": "2025-03-18T20:08:51.866096Z"
    }
   },
   "source": [
    "filename_features = \"~/Desktop/UCI HAR Dataset/features.txt\"\n",
    "filename_labels = \"~/Desktop/UCI HAR Dataset/activity_labels.txt\"\n",
    "\n",
    "filename_subtrain = \"~/Desktop/UCI HAR Dataset/train/subject_train.txt\"\n",
    "filename_xtrain = \"~/Desktop/UCI HAR Dataset/train/X_train.txt\"\n",
    "filename_ytrain = \"~/Desktop/UCI HAR Dataset/train/y_train.txt\"\n",
    "\n",
    "filename_subtest = \"~/Desktop/UCI HAR Dataset/test/subject_test.txt\"\n",
    "ffilename_xtest = \"~/Desktop/UCI HAR Dataset/test/X_test.txt\"\n",
    "filename_ytest = \"~/Desktop/UCI HAR Dataset/test/y_test.txt\"\n",
    "\n",
    "# Reading data\n",
    "# Remove `squeeze=True` and use `.iloc` to extract the Series.\n",
    "features = pd.read_csv(filename_features, header=None, names=['nome_var'], sep=\"#\")['nome_var']\n",
    "labels = pd.read_csv(filename_labels, delim_whitespace=True, header=None, names=['cod_label', 'label'])\n",
    "\n",
    "subject_train = pd.read_csv(filename_subtrain, header=None, names=['subject_id'])['subject_id']\n",
    "X_train = pd.read_csv(filename_xtrain, delim_whitespace=True, header=None)\n",
    "y_train = pd.read_csv(filename_ytrain, header=None, names=['activity_id'])['activity_id']\n",
    "\n",
    "# Test data\n",
    "X_test = pd.read_csv(ffilename_xtest, delim_whitespace=True, header=None)\n",
    "y_test = pd.read_csv(filename_ytest, header=None, names=['activity_id'])['activity_id']\n"
   ],
   "outputs": [
    {
     "name": "stderr",
     "output_type": "stream",
     "text": [
      "/tmp/ipykernel_38084/863137963.py:15: FutureWarning: The 'delim_whitespace' keyword in pd.read_csv is deprecated and will be removed in a future version. Use ``sep='\\s+'`` instead\n",
      "  labels = pd.read_csv(filename_labels, delim_whitespace=True, header=None, names=['cod_label', 'label'])\n",
      "/tmp/ipykernel_38084/863137963.py:18: FutureWarning: The 'delim_whitespace' keyword in pd.read_csv is deprecated and will be removed in a future version. Use ``sep='\\s+'`` instead\n",
      "  X_train = pd.read_csv(filename_xtrain, delim_whitespace=True, header=None)\n",
      "/tmp/ipykernel_38084/863137963.py:22: FutureWarning: The 'delim_whitespace' keyword in pd.read_csv is deprecated and will be removed in a future version. Use ``sep='\\s+'`` instead\n",
      "  X_test = pd.read_csv(ffilename_xtest, delim_whitespace=True, header=None)\n"
     ]
    }
   ],
   "execution_count": 33
  },
  {
   "metadata": {},
   "cell_type": "markdown",
   "source": "A base original vem dividdida em treino e testes. Vamos dividir a base de treino em Treino e Validação, para podermos fazer o post-prunning da nossa árvore - e avaliar o modelo final em uma base de testes isenta."
  },
  {
   "metadata": {
    "ExecuteTime": {
     "end_time": "2025-03-18T20:08:54.092136Z",
     "start_time": "2025-03-18T20:08:54.072599Z"
    }
   },
   "cell_type": "code",
   "source": [
    "from sklearn.model_selection import train_test_split\n",
    "\n",
    "X_train, X_valid, y_train, y_valid = train_test_split(X_train, y_train)"
   ],
   "outputs": [],
   "execution_count": 34
  },
  {
   "cell_type": "markdown",
   "metadata": {},
   "source": [
    "## Árvore de decisão\n",
    "\n",
    "Rode uma árvore de decisão com todas as variáveis, utilizando o ```ccp_alpha=0.001```. Avalie a acurácia nas bases de treinamento e teste. Avalie o tempo de processamento."
   ]
  },
  {
   "cell_type": "code",
   "metadata": {
    "ExecuteTime": {
     "end_time": "2025-03-18T20:18:16.473208Z",
     "start_time": "2025-03-18T20:18:13.500416Z"
    }
   },
   "source": [
    "%%time\n",
    "import time\n",
    "start_time = time.time()\n",
    "\n",
    "# Create and fit the DecisionTreeClassifier\n",
    "clf = DecisionTreeClassifier(ccp_alpha=0.001, random_state=42)\n",
    "clf.fit(X_train, y_train)\n",
    "\n",
    "# Evaluate accuracy\n",
    "train_accuracy = accuracy_score(y_train, clf.predict(X_train))\n",
    "test_accuracy = accuracy_score(y_test, clf.predict(X_test))\n",
    "\n",
    "# Print the accuracies\n",
    "print(f\"Training Accuracy: {train_accuracy:.4f}\")\n",
    "print(f\"Testing Accuracy: {test_accuracy:.4f}\")\n",
    "\n",
    "# Measure and print the time taken\n",
    "end_time = time.time()\n",
    "print(f\"Time taken: {end_time - start_time:.4f} seconds\")"
   ],
   "outputs": [
    {
     "name": "stdout",
     "output_type": "stream",
     "text": [
      "Training Accuracy: 0.9788\n",
      "Testing Accuracy: 0.8500\n",
      "Time taken: 2.9700 seconds\n",
      "CPU times: user 2.97 s, sys: 997 μs, total: 2.97 s\n",
      "Wall time: 2.97 s\n"
     ]
    }
   ],
   "execution_count": 45
  },
  {
   "metadata": {
    "ExecuteTime": {
     "end_time": "2025-03-18T19:48:35.857785Z",
     "start_time": "2025-03-18T19:48:35.856173Z"
    }
   },
   "cell_type": "code",
   "source": "",
   "outputs": [],
   "execution_count": null
  },
  {
   "cell_type": "markdown",
   "metadata": {},
   "source": [
    "## Árvore com PCA\n",
    "\n",
    "Faça uma análise de componemtes principais das variáveis originais. Utilize apenas uma componente. Faça uma árvore de decisão com esta componente como variável explicativa.\n",
    "\n",
    "- Avalie a acurácia nas bases de treinamento e teste\n",
    "- Avalie o tempo de processamento"
   ]
  },
  {
   "metadata": {
    "ExecuteTime": {
     "end_time": "2025-03-18T21:08:06.864823Z",
     "start_time": "2025-03-18T21:08:06.859584Z"
    }
   },
   "cell_type": "code",
   "source": [
    "%%time\n",
    "from sklearn.metrics import accuracy_score\n",
    "\n",
    "y_pred = [0, 9, 7, 8, 8]\n",
    "y_true = [0, 8, 5, 0, 0]\n",
    "\n",
    "accuracy_score(y_true, y_pred)\n",
    "\n",
    "accuracy_score(y_true, y_pred, normalize=False)"
   ],
   "outputs": [
    {
     "name": "stdout",
     "output_type": "stream",
     "text": [
      "CPU times: user 1.01 ms, sys: 0 ns, total: 1.01 ms\n",
      "Wall time: 937 μs\n"
     ]
    },
    {
     "data": {
      "text/plain": [
       "1.0"
      ]
     },
     "execution_count": 53,
     "metadata": {},
     "output_type": "execute_result"
    }
   ],
   "execution_count": 53
  },
  {
   "metadata": {
    "ExecuteTime": {
     "end_time": "2025-03-18T21:10:23.563624Z",
     "start_time": "2025-03-18T21:10:23.557110Z"
    }
   },
   "cell_type": "code",
   "source": [
    "import time\n",
    "\n",
    "acuracy_score = time.time()\n",
    "\n",
    "end_time = time.time()\n",
    "print(f\"Tempo de processamento: {end_time - start_time:.4f} segundos\")"
   ],
   "outputs": [
    {
     "name": "stdout",
     "output_type": "stream",
     "text": [
      "Tempo de processamento: 42.1945 segundos\n"
     ]
    }
   ],
   "execution_count": 55
  },
  {
   "metadata": {},
   "cell_type": "code",
   "outputs": [],
   "execution_count": null,
   "source": ""
  },
  {
   "cell_type": "markdown",
   "metadata": {},
   "source": [
    "## Testando o número de componentes\n",
    "\n",
    "Com base no código acima, teste a árvore de classificação com pelo menos as seguintes possibilidades de quantidades de componentes: ```[1, 2, 5, 10, 50]```. Avalie para cada uma delas:\n",
    "\n",
    "- Acurácia nas bases de treino e teste\n",
    "- Tempo de processamento\n"
   ]
  },
  {
   "cell_type": "code",
   "metadata": {
    "ExecuteTime": {
     "end_time": "2025-03-19T00:10:50.943954Z",
     "start_time": "2025-03-19T00:10:48.208235Z"
    }
   },
   "source": [
    "%%time\n",
    "\n",
    "import pandas as pd\n",
    "import time\n",
    "from sklearn.decomposition import PCA\n",
    "from sklearn.tree import DecisionTreeClassifier\n",
    "from sklearn.metrics import accuracy_score\n",
    "\n",
    "# Number of components to test\n",
    "components_list = [1, 2, 5, 10, 50]\n",
    "results = []\n",
    "\n",
    "for n_components in components_list:\n",
    "    start_time = time.time()\n",
    "\n",
    "    # Apply PCA\n",
    "    pca = PCA(n_components=n_components)\n",
    "    X_train_pca = pca.fit_transform(X_train)\n",
    "    X_test_pca = pca.transform(X_test)\n",
    "\n",
    "    # Train DecisionTreeClassifier\n",
    "    clf = DecisionTreeClassifier(random_state=42)\n",
    "    clf.fit(X_train_pca, y_train)\n",
    "\n",
    "    # Evaluate Accuracy\n",
    "    train_accuracy = accuracy_score(y_train, clf.predict(X_train_pca))\n",
    "    test_accuracy = accuracy_score(y_test, clf.predict(X_test_pca))\n"
   ],
   "outputs": [
    {
     "name": "stdout",
     "output_type": "stream",
     "text": [
      "CPU times: user 38.7 s, sys: 7.6 ms, total: 38.7 s\n",
      "Wall time: 2.73 s\n"
     ]
    }
   ],
   "execution_count": 61
  },
  {
   "metadata": {
    "ExecuteTime": {
     "end_time": "2025-03-19T00:11:02.619711Z",
     "start_time": "2025-03-19T00:11:02.614666Z"
    }
   },
   "cell_type": "code",
   "source": [
    "# End timing\n",
    "end_time = time.time()\n",
    "processing_time = end_time - start_time\n",
    "\n",
    "# Store results\n",
    "results.append({\n",
    "    \"Components\": n_components,\n",
    "    \"Train Accuracy\": train_accuracy,\n",
    "    \"Test Accuracy\": test_accuracy,\n",
    "    \"Processing Time (s)\": processing_time\n",
    "})\n",
    "\n",
    "# Convert results to DataFrame and display\n",
    "results_df = pd.DataFrame(results)\n",
    "print(results_df)"
   ],
   "outputs": [
    {
     "name": "stdout",
     "output_type": "stream",
     "text": [
      "   Components  Train Accuracy  Test Accuracy  Processing Time (s)\n",
      "0          50             1.0       0.801154            13.389539\n"
     ]
    }
   ],
   "execution_count": 62
  },
  {
   "metadata": {},
   "cell_type": "code",
   "outputs": [],
   "execution_count": null,
   "source": ""
  },
  {
   "cell_type": "markdown",
   "metadata": {},
   "source": [
    "## Conclua\n",
    "\n",
    "- O que aconteceu com a acurácia?\n",
    "- O que aconteceu com o tempo de processamento?"
   ]
  },
  {
   "metadata": {},
   "cell_type": "markdown",
   "source": [
    "a curracia de treino teve uma melhora significa que ficou em 1.0\n",
    "ja na acuracia test ficou em 0.80\n"
   ]
  },
  {
   "metadata": {},
   "cell_type": "markdown",
   "source": [
    "tempo de processamento dos dados teve ficou em 13.38 segundo ficou bem rapido nosso\n",
    "modelo preditivo"
   ]
  },
  {
   "metadata": {},
   "cell_type": "code",
   "outputs": [],
   "execution_count": null,
   "source": ""
  }
 ],
 "metadata": {
  "kernelspec": {
   "display_name": "Python 3 (ipykernel)",
   "language": "python",
   "name": "python3"
  },
  "language_info": {
   "codemirror_mode": {
    "name": "ipython",
    "version": 3
   },
   "file_extension": ".py",
   "mimetype": "text/x-python",
   "name": "python",
   "nbconvert_exporter": "python",
   "pygments_lexer": "ipython3",
   "version": "3.12.7"
  },
  "toc": {
   "base_numbering": 1,
   "nav_menu": {},
   "number_sections": true,
   "sideBar": true,
   "skip_h1_title": true,
   "title_cell": "Índice",
   "title_sidebar": "Conteúdo",
   "toc_cell": false,
   "toc_position": {},
   "toc_section_display": true,
   "toc_window_display": false
  },
  "varInspector": {
   "cols": {
    "lenName": 16,
    "lenType": 16,
    "lenVar": 40
   },
   "kernels_config": {
    "python": {
     "delete_cmd_postfix": "",
     "delete_cmd_prefix": "del ",
     "library": "var_list.py",
     "varRefreshCmd": "print(var_dic_list())"
    },
    "r": {
     "delete_cmd_postfix": ") ",
     "delete_cmd_prefix": "rm(",
     "library": "var_list.r",
     "varRefreshCmd": "cat(var_dic_list()) "
    }
   },
   "types_to_exclude": [
    "module",
    "function",
    "builtin_function_or_method",
    "instance",
    "_Feature"
   ],
   "window_display": false
  }
 },
 "nbformat": 4,
 "nbformat_minor": 4
}
