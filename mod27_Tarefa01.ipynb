{
 "cells": [
  {
   "cell_type": "markdown",
   "metadata": {},
   "source": [
    "![Cabec%CC%A7alho_notebook.png](cabecalho_notebook.png)"
   ]
  },
  {
   "cell_type": "markdown",
   "metadata": {},
   "source": [
    "# PCA - Tarefa 01: *HAR* com PCA\n",
    "\n",
    "Vamos trabalhar com a base da demonstração feita em aula, mas vamos explorar um pouco melhor como é o desempenho da árvore variando o número de componentes principais."
   ]
  },
  {
   "cell_type": "code",
   "metadata": {
    "ExecuteTime": {
     "end_time": "2025-03-17T19:02:37.248193Z",
     "start_time": "2025-03-17T19:02:37.245706Z"
    }
   },
   "source": [
    "import pandas as pd\n",
    "import numpy as np\n",
    "import os\n",
    "\n",
    "from sklearn.preprocessing import StandardScaler\n",
    "from sklearn.tree import DecisionTreeClassifier\n",
    "\n",
    "from sklearn.decomposition import PCA\n",
    "from sklearn.metrics import accuracy_score\n",
    "from sklearn.model_selection import cross_val_score\n",
    "from sklearn.model_selection import GridSearchCV\n",
    "from zenmapGUI.Icons import file_path"
   ],
   "outputs": [],
   "execution_count": 6
  },
  {
   "metadata": {
    "ExecuteTime": {
     "end_time": "2025-03-17T19:02:39.535258Z",
     "start_time": "2025-03-17T19:02:38.844909Z"
    }
   },
   "cell_type": "code",
   "source": [
    "filename_features = \"~/Desktop/UCI HAR Dataset/features.txt\"\n",
    "filename_labels = \"~/Desktop/UCI HAR Dataset/activity_labels.txt\"\n",
    "\n",
    "filename_subtrain = \"~/Desktop/UCI HAR Dataset/train/subject_train.txt\"\n",
    "filename_xtrain = \"~/Desktop/UCI HAR Dataset/train/X_train.txt\"\n",
    "filename_ytrain = \"~/Desktop/UCI HAR Dataset/train/y_train.txt\"\n",
    "\n",
    "filename_subtest = \"~/Desktop/UCI HAR Dataset/test/subject_test.txt\"\n",
    "filename_xtest = \"~/Desktop/UCI HAR Dataset/test/X_test.txt\"\n",
    "filename_ytest = \"~/Desktop/UCI HAR Dataset/test/y_test.txt\"\n",
    "\n",
    "# Fix: Removed 'squeeze' and converted to a Series explicitly if needed\n",
    "features = pd.read_csv(filename_features, header=None, names=['nome_var'], sep=\"#\")['nome_var']\n",
    "labels = pd.read_csv(filename_labels, delim_whitespace=True, header=None, names=['cod_label', 'label'])\n",
    "subject_train = pd.read_csv(filename_subtrain, header=None, names=['subject_id'])['subject_id']\n",
    "\n",
    "X_train = pd.read_csv(filename_xtrain, delim_whitespace=True, header=None, names=features.tolist())\n",
    "y_train = pd.read_csv(filename_ytrain, header=None, names=['cod_label'])\n",
    "\n",
    "subject_test = pd.read_csv(filename_subtest, header=None, names=['subject_id'])\n",
    "\n",
    "X_test = pd.read_csv(filename_xtest, delim_whitespace=True, header=None, names=features.tolist())\n",
    "y_test = pd.read_csv(filename_ytest, header=None, names=['cod_label'])\n",
    "\n",
    "print(features.head())\n",
    "print(labels.head())\n",
    "print(subject_train.head())\n",
    "print(X_train.head())\n",
    "print(y_train.head())\n",
    "print(subject_test.head())\n",
    "print(X_test.head())\n",
    "print(y_test.head())\n"
   ],
   "outputs": [
    {
     "name": "stderr",
     "output_type": "stream",
     "text": [
      "/tmp/ipykernel_25335/3591160637.py:14: FutureWarning: The 'delim_whitespace' keyword in pd.read_csv is deprecated and will be removed in a future version. Use ``sep='\\s+'`` instead\n",
      "  labels = pd.read_csv(filename_labels, delim_whitespace=True, header=None, names=['cod_label', 'label'])\n",
      "/tmp/ipykernel_25335/3591160637.py:17: FutureWarning: The 'delim_whitespace' keyword in pd.read_csv is deprecated and will be removed in a future version. Use ``sep='\\s+'`` instead\n",
      "  X_train = pd.read_csv(filename_xtrain, delim_whitespace=True, header=None, names=features.tolist())\n"
     ]
    },
    {
     "name": "stdout",
     "output_type": "stream",
     "text": [
      "0    1 tBodyAcc-mean()-X\n",
      "1    2 tBodyAcc-mean()-Y\n",
      "2    3 tBodyAcc-mean()-Z\n",
      "3     4 tBodyAcc-std()-X\n",
      "4     5 tBodyAcc-std()-Y\n",
      "Name: nome_var, dtype: object\n",
      "   cod_label               label\n",
      "0          1             WALKING\n",
      "1          2    WALKING_UPSTAIRS\n",
      "2          3  WALKING_DOWNSTAIRS\n",
      "3          4             SITTING\n",
      "4          5            STANDING\n",
      "0    1\n",
      "1    1\n",
      "2    1\n",
      "3    1\n",
      "4    1\n",
      "Name: subject_id, dtype: int64\n",
      "   1 tBodyAcc-mean()-X  2 tBodyAcc-mean()-Y  3 tBodyAcc-mean()-Z  \\\n",
      "0             0.288585            -0.020294            -0.132905   \n",
      "1             0.278419            -0.016411            -0.123520   \n",
      "2             0.279653            -0.019467            -0.113462   \n",
      "3             0.279174            -0.026201            -0.123283   \n",
      "4             0.276629            -0.016570            -0.115362   \n",
      "\n",
      "   4 tBodyAcc-std()-X  5 tBodyAcc-std()-Y  6 tBodyAcc-std()-Z  \\\n",
      "0           -0.995279           -0.983111           -0.913526   \n",
      "1           -0.998245           -0.975300           -0.960322   \n",
      "2           -0.995380           -0.967187           -0.978944   \n",
      "3           -0.996091           -0.983403           -0.990675   \n",
      "4           -0.998139           -0.980817           -0.990482   \n",
      "\n",
      "   7 tBodyAcc-mad()-X  8 tBodyAcc-mad()-Y  9 tBodyAcc-mad()-Z  \\\n",
      "0           -0.995112           -0.983185           -0.923527   \n",
      "1           -0.998807           -0.974914           -0.957686   \n",
      "2           -0.996520           -0.963668           -0.977469   \n",
      "3           -0.997099           -0.982750           -0.989302   \n",
      "4           -0.998321           -0.979672           -0.990441   \n",
      "\n",
      "   10 tBodyAcc-max()-X  ...  552 fBodyBodyGyroJerkMag-meanFreq()  \\\n",
      "0            -0.934724  ...                            -0.074323   \n",
      "1            -0.943068  ...                             0.158075   \n",
      "2            -0.938692  ...                             0.414503   \n",
      "3            -0.938692  ...                             0.404573   \n",
      "4            -0.942469  ...                             0.087753   \n",
      "\n",
      "   553 fBodyBodyGyroJerkMag-skewness()  554 fBodyBodyGyroJerkMag-kurtosis()  \\\n",
      "0                            -0.298676                            -0.710304   \n",
      "1                            -0.595051                            -0.861499   \n",
      "2                            -0.390748                            -0.760104   \n",
      "3                            -0.117290                            -0.482845   \n",
      "4                            -0.351471                            -0.699205   \n",
      "\n",
      "   555 angle(tBodyAccMean,gravity)  556 angle(tBodyAccJerkMean),gravityMean)  \\\n",
      "0                        -0.112754                                  0.030400   \n",
      "1                         0.053477                                 -0.007435   \n",
      "2                        -0.118559                                  0.177899   \n",
      "3                        -0.036788                                 -0.012892   \n",
      "4                         0.123320                                  0.122542   \n",
      "\n",
      "   557 angle(tBodyGyroMean,gravityMean)  \\\n",
      "0                             -0.464761   \n",
      "1                             -0.732626   \n",
      "2                              0.100699   \n",
      "3                              0.640011   \n",
      "4                              0.693578   \n",
      "\n",
      "   558 angle(tBodyGyroJerkMean,gravityMean)  559 angle(X,gravityMean)  \\\n",
      "0                                 -0.018446                 -0.841247   \n",
      "1                                  0.703511                 -0.844788   \n",
      "2                                  0.808529                 -0.848933   \n",
      "3                                 -0.485366                 -0.848649   \n",
      "4                                 -0.615971                 -0.847865   \n",
      "\n",
      "   560 angle(Y,gravityMean)  561 angle(Z,gravityMean)  \n",
      "0                  0.179941                 -0.058627  \n",
      "1                  0.180289                 -0.054317  \n",
      "2                  0.180637                 -0.049118  \n",
      "3                  0.181935                 -0.047663  \n",
      "4                  0.185151                 -0.043892  \n",
      "\n",
      "[5 rows x 561 columns]\n",
      "   cod_label\n",
      "0          5\n",
      "1          5\n",
      "2          5\n",
      "3          5\n",
      "4          5\n",
      "   subject_id\n",
      "0           2\n",
      "1           2\n",
      "2           2\n",
      "3           2\n",
      "4           2\n",
      "   1 tBodyAcc-mean()-X  2 tBodyAcc-mean()-Y  3 tBodyAcc-mean()-Z  \\\n",
      "0             0.257178            -0.023285            -0.014654   \n",
      "1             0.286027            -0.013163            -0.119083   \n",
      "2             0.275485            -0.026050            -0.118152   \n",
      "3             0.270298            -0.032614            -0.117520   \n",
      "4             0.274833            -0.027848            -0.129527   \n",
      "\n",
      "   4 tBodyAcc-std()-X  5 tBodyAcc-std()-Y  6 tBodyAcc-std()-Z  \\\n",
      "0           -0.938404           -0.920091           -0.667683   \n",
      "1           -0.975415           -0.967458           -0.944958   \n",
      "2           -0.993819           -0.969926           -0.962748   \n",
      "3           -0.994743           -0.973268           -0.967091   \n",
      "4           -0.993852           -0.967445           -0.978295   \n",
      "\n",
      "   7 tBodyAcc-mad()-X  8 tBodyAcc-mad()-Y  9 tBodyAcc-mad()-Z  \\\n",
      "0           -0.952501           -0.925249           -0.674302   \n",
      "1           -0.986799           -0.968401           -0.945823   \n",
      "2           -0.994403           -0.970735           -0.963483   \n",
      "3           -0.995274           -0.974471           -0.968897   \n",
      "4           -0.994111           -0.965953           -0.977346   \n",
      "\n",
      "   10 tBodyAcc-max()-X  ...  552 fBodyBodyGyroJerkMag-meanFreq()  \\\n",
      "0            -0.894088  ...                             0.071645   \n",
      "1            -0.894088  ...                            -0.401189   \n",
      "2            -0.939260  ...                             0.062891   \n",
      "3            -0.938610  ...                             0.116695   \n",
      "4            -0.938610  ...                            -0.121711   \n",
      "\n",
      "   553 fBodyBodyGyroJerkMag-skewness()  554 fBodyBodyGyroJerkMag-kurtosis()  \\\n",
      "0                            -0.330370                            -0.705974   \n",
      "1                            -0.121845                            -0.594944   \n",
      "2                            -0.190422                            -0.640736   \n",
      "3                            -0.344418                            -0.736124   \n",
      "4                            -0.534685                            -0.846595   \n",
      "\n",
      "   555 angle(tBodyAccMean,gravity)  556 angle(tBodyAccJerkMean),gravityMean)  \\\n",
      "0                         0.006462                                  0.162920   \n",
      "1                        -0.083495                                  0.017500   \n",
      "2                        -0.034956                                  0.202302   \n",
      "3                        -0.017067                                  0.154438   \n",
      "4                        -0.002223                                 -0.040046   \n",
      "\n",
      "   557 angle(tBodyGyroMean,gravityMean)  \\\n",
      "0                             -0.825886   \n",
      "1                             -0.434375   \n",
      "2                              0.064103   \n",
      "3                              0.340134   \n",
      "4                              0.736715   \n",
      "\n",
      "   558 angle(tBodyGyroJerkMean,gravityMean)  559 angle(X,gravityMean)  \\\n",
      "0                                  0.271151                 -0.720009   \n",
      "1                                  0.920593                 -0.698091   \n",
      "2                                  0.145068                 -0.702771   \n",
      "3                                  0.296407                 -0.698954   \n",
      "4                                 -0.118545                 -0.692245   \n",
      "\n",
      "   560 angle(Y,gravityMean)  561 angle(Z,gravityMean)  \n",
      "0                  0.276801                 -0.057978  \n",
      "1                  0.281343                 -0.083898  \n",
      "2                  0.280083                 -0.079346  \n",
      "3                  0.284114                 -0.077108  \n",
      "4                  0.290722                 -0.073857  \n",
      "\n",
      "[5 rows x 561 columns]\n",
      "   cod_label\n",
      "0          5\n",
      "1          5\n",
      "2          5\n",
      "3          5\n",
      "4          5\n"
     ]
    },
    {
     "name": "stderr",
     "output_type": "stream",
     "text": [
      "/tmp/ipykernel_25335/3591160637.py:22: FutureWarning: The 'delim_whitespace' keyword in pd.read_csv is deprecated and will be removed in a future version. Use ``sep='\\s+'`` instead\n",
      "  X_test = pd.read_csv(filename_xtest, delim_whitespace=True, header=None, names=features.tolist())\n"
     ]
    }
   ],
   "execution_count": 7
  },
  {
   "cell_type": "markdown",
   "metadata": {},
   "source": [
    "## Árvore de decisão\n",
    "\n",
    "Rode uma árvore de decisão com todas as variáveis, utilizando o ```ccp_alpha=0.001```. Avalie a acurácia nas bases de treinamento e teste. Avalie o tempo de processamento."
   ]
  },
  {
   "metadata": {
    "ExecuteTime": {
     "end_time": "2025-03-17T19:02:45.033728Z",
     "start_time": "2025-03-17T19:02:41.786783Z"
    }
   },
   "cell_type": "code",
   "source": [
    "from sklearn.model_selection import train_test_split\n",
    "from sklearn.tree import DecisionTreeClassifier\n",
    "from sklearn.metrics import accuracy_score\n",
    "\n",
    "# Caminho para y_train e y_test\n",
    "filename_xtrain = \"~/Desktop/UCI HAR Dataset/train/X_train.txt\"\n",
    "filename_ytrain = \"~/Desktop/UCI HAR Dataset/train/y_train.txt\"\n",
    "\n",
    "# Carregar os labels\n",
    "X_train = pd.read_csv(filename_xtrain, delim_whitespace=True, header=None, names=features.tolist())\n",
    "y_train = pd.read_csv(filename_ytrain, header=None, names=['cod_label'])\n",
    "\n",
    "# Instanciar e treinar o modelo\n",
    "clf = DecisionTreeClassifier(min_samples_leaf=20)\n",
    "clf.fit(X_train, y_train)\n",
    "\n",
    "# Avaliar o modelo\n",
    "train_accuracy = accuracy_score(y_train, clf.predict(X_train))\n",
    "test_accuracy = accuracy_score(y_train, clf.predict(X_train))\n",
    "\n",
    "print(\"Acuracia - treino:\", train_accuracy)\n"
   ],
   "outputs": [
    {
     "name": "stderr",
     "output_type": "stream",
     "text": [
      "/tmp/ipykernel_25335/3026601081.py:10: FutureWarning: The 'delim_whitespace' keyword in pd.read_csv is deprecated and will be removed in a future version. Use ``sep='\\s+'`` instead\n",
      "  X_train = pd.read_csv(filename_xtrain, delim_whitespace=True, header=None, names=features.tolist())\n"
     ]
    },
    {
     "name": "stdout",
     "output_type": "stream",
     "text": [
      "Acuracia - treino: 0.9579706202393906\n"
     ]
    }
   ],
   "execution_count": 8
  },
  {
   "cell_type": "markdown",
   "metadata": {},
   "source": [
    "## Árvore com PCA\n",
    "\n",
    "Faça uma análise de componemtes principais das variáveis originais. Utilize apenas uma componente. Faça uma árvore de decisão com esta componente como variável explicativa.\n",
    "\n",
    "- Avalie a acurácia nas bases de treinamento e teste\n",
    "- Avalie o tempo de processamento"
   ]
  },
  {
   "cell_type": "code",
   "metadata": {
    "ExecuteTime": {
     "end_time": "2025-03-17T20:12:08.300400Z",
     "start_time": "2025-03-17T20:12:08.237026Z"
    }
   },
   "source": [
    "%%time\n",
    "prcomp = PCA(n_components=1).fit(X_train)\n",
    "\n",
    "pc_treino = prcomp.transform(X_train)\n",
    "pc_valida = prcomp.transform(X_train)\n",
    "pc_teste  = prcomp.transform(X_test)\n",
    "\n",
    "pc_treino.shape"
   ],
   "outputs": [
    {
     "name": "stdout",
     "output_type": "stream",
     "text": [
      "CPU times: user 814 ms, sys: 1.78 ms, total: 816 ms\n",
      "Wall time: 59.8 ms\n"
     ]
    },
    {
     "data": {
      "text/plain": [
       "(7352, 1)"
      ]
     },
     "execution_count": 53,
     "metadata": {},
     "output_type": "execute_result"
    }
   ],
   "execution_count": 53
  },
  {
   "metadata": {
    "ExecuteTime": {
     "end_time": "2025-03-17T20:30:19.321531Z",
     "start_time": "2025-03-17T20:26:26.613188Z"
    }
   },
   "cell_type": "code",
   "source": [
    "%%time\n",
    "\n",
    "clf = DecisionTreeClassifier(random_state=1234).fit(X_train, y_train)\n",
    "caminho = DecisionTreeClassifier(random_state=2360873, min_samples_leaf=20).cost_complexity_pruning_path(X_train, y_train)\n",
    "ccp_alphas, impurities = caminho.ccp_alphas, caminho.impurities\n",
    "\n",
    "ccp_alphas = np.unique(ccp_alphas[ccp_alphas>=0])\n",
    "\n",
    "clfs = []\n",
    "for ccp_alpha in ccp_alphas:\n",
    "    clf = DecisionTreeClassifier(random_state=2360873, ccp_alpha=ccp_alpha).fit(X_train, y_train)\n",
    "    clfs.append(clf)"
   ],
   "outputs": [
    {
     "name": "stdout",
     "output_type": "stream",
     "text": [
      "CPU times: user 3min 52s, sys: 1.12 ms, total: 3min 52s\n",
      "Wall time: 3min 52s\n"
     ]
    }
   ],
   "execution_count": 56
  },
  {
   "metadata": {
    "ExecuteTime": {
     "end_time": "2025-03-17T21:21:01.776203Z",
     "start_time": "2025-03-17T21:21:01.015031Z"
    }
   },
   "cell_type": "code",
   "source": [
    "import matplotlib.pyplot as plt\n",
    "train_scores = [clf.score(X_train, y_train) for clf in clfs]\n",
    "valid_scores = [clf.score(X_train, y_train) for clf in clfs]\n",
    "\n",
    "fig, ax = plt.subplots()\n",
    "ax.set_xlabel(\"alpha\")\n",
    "ax.set_ylabel(\"Acurácia\")\n",
    "ax.set_title(\"Acurácia x alpha do conjunto de dados de treino e validação\")\n",
    "ax.plot(ccp_alphas, train_scores, marker='o', label=\"treino\", drawstyle=\"steps-post\")\n",
    "ax.plot(ccp_alphas, valid_scores, marker='o', label=\"validação\", drawstyle=\"steps-post\")\n",
    "ax.legend()\n",
    "plt.show()"
   ],
   "outputs": [
    {
     "data": {
      "text/plain": [
       "<Figure size 640x480 with 1 Axes>"
      ],
      "image/png": "[encoded data removed]"
     },
     "metadata": {},
     "output_type": "display_data"
    }
   ],
   "execution_count": 58
  },
  {
   "metadata": {
    "ExecuteTime": {
     "end_time": "2025-03-17T21:21:13.485374Z",
     "start_time": "2025-03-17T21:21:13.301590Z"
    }
   },
   "cell_type": "code",
   "source": [
    "%%time\n",
    "prcomp = PCA(n_components=1).fit(X_train)\n",
    "\n",
    "pc_treino = prcomp.transform(X_train)\n",
    "pc_valida = prcomp.transform(X_train)\n",
    "pc_teste  = prcomp.transform(X_test)\n",
    "\n",
    "pc_treino.shape"
   ],
   "outputs": [
    {
     "name": "stdout",
     "output_type": "stream",
     "text": [
      "CPU times: user 2.38 s, sys: 2.96 ms, total: 2.38 s\n",
      "Wall time: 178 ms\n"
     ]
    },
    {
     "data": {
      "text/plain": [
       "(7352, 1)"
      ]
     },
     "execution_count": 59,
     "metadata": {},
     "output_type": "execute_result"
    }
   ],
   "execution_count": 59
  },
  {
   "metadata": {},
   "cell_type": "markdown",
   "source": [
    "## Testando o número de componentes\n",
    "\n",
    "Com base no código acima, teste a árvore de classificação com pelo menos as seguintes possibilidades de quantidades de componentes: ```[1, 2, 5, 10, 50]```. Avalie para cada uma delas:\n",
    "\n",
    "- Acurácia nas bases de treino e teste\n",
    "- Tempo de processamento"
   ]
  },
  {
   "cell_type": "code",
   "metadata": {
    "ExecuteTime": {
     "end_time": "2025-03-17T22:45:31.736188Z",
     "start_time": "2025-03-17T22:45:30.813389Z"
    }
   },
   "source": [
    "import pandas as pd\n",
    "import numpy as np\n",
    "from sklearn.tree import DecisionTreeClassifier\n",
    "from sklearn.decomposition import PCA\n",
    "from sklearn.preprocessing import StandardScaler\n",
    "from sklearn.metrics import accuracy_score\n",
    "import time\n",
    "\n",
    "# Padronizar as variáveis explicativas\n",
    "scaler = StandardScaler()\n",
    "X_train_scaled = scaler.fit_transform(X_train)\n",
    "X_test_scaled = scaler.transform(X_test)\n",
    "\n",
    "# Lista de componentes principais e inicialização de resultados\n",
    "n_components = [1, 2, 5, 10, 50]\n",
    "results = {\"n_components\": [], \"train_accuracy\": [], \"test_accuracy\": [], \"time_pca\": [], \"time_tree\": []}\n",
    "\n",
    "for n in n_components:\n",
    "    # Medir o tempo de aplicação do PCA\n",
    "    start_pca = time.time()\n",
    "    pca = PCA(n_components=n).fit(X_train_scaled)\n",
    "    X_train_pca = pca.transform(X_train_scaled)\n",
    "    X_test_pca = pca.transform(X_test_scaled)\n",
    "    time_pca = time.time() - start_pca\n",
    "\n",
    "    # Medir o tempo de treinamento da árvore de decisão\n",
    "    start_tree = time.time()\n",
    "    clf = DecisionTreeClassifier(random_state=1234, ccp_alpha=0.001)\n",
    "    clf.fit(X_train_pca, y_train)\n",
    "    time_tree = time.time() - start_tree\n",
    "\n",
    "    # Avaliar a acurácia\n",
    "    train_accuracy = accuracy_score(y_train, clf.predict(X_train_pca))\n",
    "    test_accuracy = accuracy_score(y_test, clf.predict(X_test_pca))\n",
    "\n",
    "    # Salvar os resultados\n",
    "    results[\"n_components\"].append(n)\n",
    "    results[\"train_accuracy\"].append(train_accuracy)\n",
    "    results[\"test_accuracy\"].append(test_accuracy)\n",
    "    results[\"time_pca\"].append(time_pca)\n",
    "    results[\"time_tree\"].append(time_tree)\n",
    "\n",
    "# Exibir os resultados em um DataFrame\n",
    "results_df = pd.DataFrame(results)\n",
    "print(results_df)\n"
   ],
   "outputs": [
    {
     "name": "stdout",
     "output_type": "stream",
     "text": [
      "   n_components  train_accuracy  test_accuracy  time_pca  time_tree\n",
      "0             1        0.477149       0.431625  0.069452   0.044810\n",
      "1             2        0.590180       0.546318  0.054413   0.036121\n",
      "2             5        0.832699       0.770614  0.049273   0.046005\n",
      "3            10        0.858678       0.767221  0.040839   0.086426\n",
      "4            50        0.888194       0.775365  0.039074   0.394551\n"
     ]
    }
   ],
   "execution_count": 64
  },
  {
   "cell_type": "markdown",
   "metadata": {},
   "source": [
    "## Conclua\n",
    "\n",
    "- O que aconteceu com a acurácia?\n",
    "- O que aconteceu com o tempo de processamento?"
   ]
  },
  {
   "cell_type": "code",
   "execution_count": null,
   "metadata": {},
   "outputs": [],
   "source": [
    "# questao 1\n",
    "\n",
    "#o modelo de acuracia acima teve uma melhora de 47% do modelo treino\n",
    "#ja no modelo test teve uma acuracia ainda um pouco melhor de 43%\n"
   ]
  },
  {
   "metadata": {},
   "cell_type": "code",
   "outputs": [],
   "execution_count": null,
   "source": [
    "# questao 2\n",
    "\n",
    "# em relacao ao tempo teve uma demora no de treino\n",
    "# teve uma demora de quase 3 minutos"
   ]
  },
  {
   "metadata": {},
   "cell_type": "code",
   "outputs": [],
   "execution_count": null,
   "source": ""
  }
 ],
 "metadata": {
  "kernelspec": {
   "display_name": "Python 3 (ipykernel)",
   "language": "python",
   "name": "python3"
  },
  "language_info": {
   "codemirror_mode": {
    "name": "ipython",
    "version": 3
   },
   "file_extension": ".py",
   "mimetype": "text/x-python",
   "name": "python",
   "nbconvert_exporter": "python",
   "pygments_lexer": "ipython3",
   "version": "3.12.7"
  },
  "toc": {
   "base_numbering": 1,
   "nav_menu": {},
   "number_sections": true,
   "sideBar": true,
   "skip_h1_title": true,
   "title_cell": "Índice",
   "title_sidebar": "Conteúdo",
   "toc_cell": false,
   "toc_position": {},
   "toc_section_display": true,
   "toc_window_display": false
  },
  "varInspector": {
   "cols": {
    "lenName": 16,
    "lenType": 16,
    "lenVar": 40
   },
   "kernels_config": {
    "python": {
     "delete_cmd_postfix": "",
     "delete_cmd_prefix": "del ",
     "library": "var_list.py",
     "varRefreshCmd": "print(var_dic_list())"
    },
    "r": {
     "delete_cmd_postfix": ") ",
     "delete_cmd_prefix": "rm(",
     "library": "var_list.r",
     "varRefreshCmd": "cat(var_dic_list()) "
    }
   },
   "types_to_exclude": [
    "module",
    "function",
    "builtin_function_or_method",
    "instance",
    "_Feature"
   ],
   "window_display": false
  }
 },
 "nbformat": 4,
 "nbformat_minor": 4
}
